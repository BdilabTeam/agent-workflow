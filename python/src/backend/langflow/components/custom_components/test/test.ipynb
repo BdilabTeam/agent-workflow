{
 "cells": [
  {
   "metadata": {},
   "cell_type": "code",
   "outputs": [],
   "execution_count": null,
   "source": "# sk-bOn1n68bDyIFWf8046R1YoCXg9brXL_K4Xr7RrprYxM",
   "id": "bc702a4fce44a23c"
  },
  {
   "metadata": {
    "ExecuteTime": {
     "end_time": "2024-07-30T03:55:37.577150Z",
     "start_time": "2024-07-30T03:55:33.348558Z"
    }
   },
   "cell_type": "code",
   "source": [
    "import requests\n",
    "from typing import Optional\n",
    "\n",
    "BASE_API_URL = \"http://127.0.0.1:7860/api/v1/process\"\n",
    "FLOW_ID = \"6b644180-3bdf-443f-829a-0935beb61c85\"\n",
    "# You can tweak the flow by adding a tweaks dictionary\n",
    "# e.g {\"OpenAI-XXXXX\": {\"model_name\": \"gpt-4\"}}\n",
    "TWEAKS = {\n",
    "  \"WorkflowStart-y3b6m\": {},\n",
    "  \"WorkflowEnd-o0C2k\": {},\n",
    "  \"WorkflowLLM-Y197H\": {}\n",
    "}\n",
    "\n",
    "def run_flow(inputs: dict, flow_id: str, tweaks: Optional[dict] = None, api_key: Optional[str] = None) -> dict:\n",
    "    \"\"\"\n",
    "    Run a flow with a given message and optional tweaks.\n",
    "\n",
    "    :param message: The message to send to the flow\n",
    "    :param flow_id: The ID of the flow to run\n",
    "    :param tweaks: Optional tweaks to customize the flow\n",
    "    :return: The JSON response from the flow\n",
    "    \"\"\"\n",
    "    api_url = f\"{BASE_API_URL}/{flow_id}\"\n",
    "\n",
    "    payload = {\"inputs\": inputs}\n",
    "    headers = None\n",
    "    if tweaks:\n",
    "        payload[\"tweaks\"] = tweaks\n",
    "    if api_key:\n",
    "        headers = {\"x-api-key\": api_key}\n",
    "    response = requests.post(api_url, json=payload, headers=headers)\n",
    "    return response.json()\n",
    "\n",
    "# Setup any tweaks you want to apply to the flow\n",
    "inputs = {\"input\": \"message\"}\n",
    "api_key = \"sk-bOn1n68bDyIFWf8046R1YoCXg9brXL_K4Xr7RrprYxM\"\n",
    "print(run_flow(inputs, flow_id=FLOW_ID, tweaks=TWEAKS, api_key=api_key))"
   ],
   "id": "initial_id",
   "outputs": [
    {
     "name": "stdout",
     "output_type": "stream",
     "text": [
      "{'result': {'node_data': {'node_id': 'EndID', 'node_type': 'End', 'node_name': 'EndName', 'node_status': 'SUCCESS', 'error_info': '', 'input': '{\"ref_llm_output\": \"为什么26个字母只剩下25个了？因为Q被拴住了，它总是QWQ（哭泣）。\"}', 'output': '{\"ref_llm_output\": \"为什么26个字母只剩下25个了？因为Q被拴住了，它总是QWQ（哭泣）。\"}', 'node_exe_cost': '0.46s', 'raw_output': '', 'extra': '', 'token_and_cost': {'input_tokens': '33 Tokens', 'input_cost': '$0.0', 'output_tokens': '33 Tokens', 'output_cost': '$0.0', 'total_tokens': '66 Tokens', 'total_cost': '$0.0'}}, 'all_nodes_data': [{'node_id': 'StartID', 'node_type': 'Start', 'node_name': 'StartName', 'node_status': 'SUCCESS', 'error_info': '', 'input': '{\"event\": \"一句话讲一个笑话\"}', 'output': '{\"event\": \"一句话讲一个笑话\"}', 'node_exe_cost': '0.315s', 'raw_output': '', 'extra': '', 'token_and_cost': {'input_tokens': '9 Tokens', 'input_cost': '$0.0', 'output_tokens': '9 Tokens', 'output_cost': '$0.0', 'total_tokens': '18 Tokens', 'total_cost': '$0.0'}}, {'node_id': 'LLMID', 'node_type': 'LLM', 'node_name': 'LLMName', 'node_status': 'SUCCESS', 'error_info': '', 'input': '{\"placeholder\": \"一句话讲一个笑话\"}', 'output': '{\"llm_output\": \"为什么26个字母只剩下25个了？因为Q被拴住了，它总是QWQ（哭泣）。\"}', 'node_exe_cost': '2.848s', 'raw_output': '为什么26个字母只剩下25个了？因为Q被拴住了，它总是QWQ（哭泣）。', 'extra': '', 'token_and_cost': {'input_tokens': '9 Tokens', 'input_cost': '$0.0', 'output_tokens': '32 Tokens', 'output_cost': '$0.0', 'total_tokens': '41 Tokens', 'total_cost': '$0.0'}}, {'node_id': 'EndID', 'node_type': 'End', 'node_name': 'EndName', 'node_status': 'SUCCESS', 'error_info': '', 'input': '{\"ref_llm_output\": \"为什么26个字母只剩下25个了？因为Q被拴住了，它总是QWQ（哭泣）。\"}', 'output': '{\"ref_llm_output\": \"为什么26个字母只剩下25个了？因为Q被拴住了，它总是QWQ（哭泣）。\"}', 'node_exe_cost': '0.46s', 'raw_output': '', 'extra': '', 'token_and_cost': {'input_tokens': '33 Tokens', 'input_cost': '$0.0', 'output_tokens': '33 Tokens', 'output_cost': '$0.0', 'total_tokens': '66 Tokens', 'total_cost': '$0.0'}}]}, 'status': None, 'task': {'id': '2942264841776', 'href': 'api/v1/task/2942264841776'}, 'session_id': 'ZUSXPI:787d00dace19ae6f1da2610161b827f6ea0d2038a757cfe0f36592008ff540ff', 'backend': 'anyio'}\n"
     ]
    }
   ],
   "execution_count": 2
  },
  {
   "metadata": {},
   "cell_type": "code",
   "outputs": [],
   "execution_count": null,
   "source": "",
   "id": "501e98ac1a6b3f22"
  }
 ],
 "metadata": {
  "kernelspec": {
   "display_name": "Python 3",
   "language": "python",
   "name": "python3"
  },
  "language_info": {
   "codemirror_mode": {
    "name": "ipython",
    "version": 2
   },
   "file_extension": ".py",
   "mimetype": "text/x-python",
   "name": "python",
   "nbconvert_exporter": "python",
   "pygments_lexer": "ipython2",
   "version": "2.7.6"
  }
 },
 "nbformat": 4,
 "nbformat_minor": 5
}
