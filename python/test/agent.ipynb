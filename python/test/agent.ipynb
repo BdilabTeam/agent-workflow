{
 "cells": [
  {
   "cell_type": "code",
   "execution_count": 4,
   "metadata": {},
   "outputs": [],
   "source": [
    "from langchain.tools import StructuredTool\n",
    "from langchain.agents import AgentExecutor, AgentType, initialize_agent, types, create_tool_calling_agent, \\\n",
    "    ZeroShotAgent, create_openai_functions_agent, create_openai_tools_agent, BaseSingleActionAgent, create_structured_chat_agent, create_react_agent,  Agent, \\\n",
    "    ConversationalAgent, OpenAIFunctionsAgent, StructuredChatAgent\n",
    "from langchain_openai import ChatOpenAI\n",
    "from langchain.prompts import PromptTemplate, ChatPromptTemplate, SystemMessagePromptTemplate, MessagesPlaceholder, HumanMessagePromptTemplate\n",
    "from langchain.memory import ConversationBufferMemory\n",
    "from langchain.chains import LLMChain\n"
   ]
  },
  {
   "cell_type": "code",
   "execution_count": 2,
   "metadata": {},
   "outputs": [],
   "source": [
    "import json\n",
    "from langchain.pydantic_v1 import BaseModel, Field\n",
    "from langchain.tools import BaseTool, StructuredTool, tool\n",
    "from langchain_core.tools import ToolException\n",
    "\n",
    "class GetIpInfoInput(BaseModel):\n",
    "    ip: str = Field(description=\"查询的IP地址\")\n",
    "\n",
    "def ip_info(ip: str):\n",
    "    return json.dumps(\n",
    "        {\n",
    "            \"msg\": \"操作成功\",\n",
    "            \"code\": 200,\n",
    "            \"data\": {\n",
    "                \"id\": None,\n",
    "                \"ip\": \"115.236.153.174\",\n",
    "                \"minip\": None,\n",
    "                \"maxip\": None,\n",
    "                \"riskTag\": None,\n",
    "                \"getTime\": None,\n",
    "                \"getStartTime\": None,\n",
    "                \"getEndTime\": None,\n",
    "                \"riskLevel\": None,\n",
    "                \"riskScore\": None,\n",
    "                \"continent\": None,\n",
    "                \"countryCode\": None,\n",
    "                \"country\": \"中国\",\n",
    "                \"province\": \"浙江省\",\n",
    "                \"city\": None,\n",
    "                \"district\": None,\n",
    "                \"bdLon\": None,\n",
    "                \"bdLat\": None,\n",
    "                \"wgsLon\": None,\n",
    "                \"wgsLat\": None,\n",
    "                \"radius\": None,\n",
    "                \"isp\": \"中国电信\",\n",
    "                \"owner\": None,\n",
    "                \"scene\": None,\n",
    "                \"insertTime\": None,\n",
    "                \"updateTime\": None,\n",
    "                \"adcode\": None,\n",
    "                \"timezone\": None,\n",
    "                \"accuracy\": None,\n",
    "                \"source\": \"数据中心\",\n",
    "                \"asnumber\": \"58461\",\n",
    "                \"areacode\": None,\n",
    "                \"zipcode\": None,\n",
    "                \"lngwgs\": None,\n",
    "                \"latwgs\": None\n",
    "            }\n",
    "        }\n",
    "    )\n",
    "\n",
    "def _handle_error(error: ToolException) -> str:\n",
    "    return (\n",
    "        \"The following errors occurred during tool execution:\"\n",
    "        + error.args[0]\n",
    "        + \"Please try another tool.\"\n",
    "    )\n",
    "\n",
    "get_ip_info = StructuredTool.from_function(\n",
    "    func=ip_info,\n",
    "    name=\"get_ip_information\",\n",
    "    description=\"获取IP的基本信息接口，专门设计用来查询特定IP地址相关属性的服务。通过这个接口，用户可以获得一个IP地址的多种信息，包括但不限于地理位置、所属的自治系统（ASN）、运营商信息等。\",\n",
    "    args_schema=GetIpInfoInput,\n",
    "    # return_direct=True,\n",
    "    handle_tool_error=_handle_error,\n",
    ")\n",
    "tools = [get_ip_info]"
   ]
  },
  {
   "cell_type": "markdown",
   "metadata": {},
   "source": [
    "#### initialize_agent"
   ]
  },
  {
   "cell_type": "code",
   "execution_count": 6,
   "metadata": {},
   "outputs": [
    {
     "name": "stderr",
     "output_type": "stream",
     "text": [
      "/Users/treasures_y/Miniconda3/envs/langflow/lib/python3.10/site-packages/langchain_core/_api/deprecation.py:119: LangChainDeprecationWarning: The function `initialize_agent` was deprecated in LangChain 0.1.0 and will be removed in 0.3.0. Use Use new agent constructor methods like create_react_agent, create_json_agent, create_structured_chat_agent, etc. instead.\n",
      "  warn_deprecated(\n"
     ]
    },
    {
     "name": "stdout",
     "output_type": "stream",
     "text": [
      "\n",
      "\n",
      "\u001b[1m> Entering new AgentExecutor chain...\u001b[0m\n",
      "\u001b[32;1m\u001b[1;3m苹果是一种常见的水果，属于蔷薇科苹果属植物。苹果果实多为圆形或椭圆形，表面光滑，果皮颜色有红、黄、绿等多种颜色。苹果味甜或酸，口感脆嫩多汁，是人们喜爱的水果之一。\n",
      "\n",
      "苹果富含维生素C、纤维素、钾等营养成分，有助于增强免疫力、促进消化、降低胆固醇等作用。苹果还含有丰富的抗氧化物质，有助于延缓衰老、保护心脏健康等。\n",
      "\n",
      "苹果可以生吃、做成果汁、果酱、沙拉等多种食品，是一种营养丰富、口感美味的水果。在全球范围内，苹果是一种广泛栽培和消费的水果，有着悠久的历史和文化意义。\u001b[0m\n",
      "\n",
      "\u001b[1m> Finished chain.\u001b[0m\n"
     ]
    },
    {
     "data": {
      "text/plain": [
       "{'input': '介绍苹果',\n",
       " 'history': [HumanMessage(content='介绍苹果'),\n",
       "  AIMessage(content='苹果是一种常见的水果，属于蔷薇科苹果属植物。苹果果实多为圆形或椭圆形，表面光滑，果皮颜色有红、黄、绿等多种颜色。苹果味甜或酸，口感脆嫩多汁，是人们喜爱的水果之一。\\n\\n苹果富含维生素C、纤维素、钾等营养成分，有助于增强免疫力、促进消化、降低胆固醇等作用。苹果还含有丰富的抗氧化物质，有助于延缓衰老、保护心脏健康等。\\n\\n苹果可以生吃、做成果汁、果酱、沙拉等多种食品，是一种营养丰富、口感美味的水果。在全球范围内，苹果是一种广泛栽培和消费的水果，有着悠久的历史和文化意义。')],\n",
       " 'output': '苹果是一种常见的水果，属于蔷薇科苹果属植物。苹果果实多为圆形或椭圆形，表面光滑，果皮颜色有红、黄、绿等多种颜色。苹果味甜或酸，口感脆嫩多汁，是人们喜爱的水果之一。\\n\\n苹果富含维生素C、纤维素、钾等营养成分，有助于增强免疫力、促进消化、降低胆固醇等作用。苹果还含有丰富的抗氧化物质，有助于延缓衰老、保护心脏健康等。\\n\\n苹果可以生吃、做成果汁、果酱、沙拉等多种食品，是一种营养丰富、口感美味的水果。在全球范围内，苹果是一种广泛栽培和消费的水果，有着悠久的历史和文化意义。'}"
      ]
     },
     "execution_count": 6,
     "metadata": {},
     "output_type": "execute_result"
    }
   ],
   "source": [
    "tools = [get_ip_info]\n",
    "llm = ChatOpenAI(\n",
    "    model=\"gpt-3.5-turbo-0125\",\n",
    "    base_url=\"https://api.chatanywhere.com.cn\",\n",
    "    api_key=\"sk-Ms5F2wAkilaaZYo0HpumWR7qBLkOIsXflNQeAHSrNtmUYjzk\",\n",
    "    temperature=0.5,\n",
    ")\n",
    "# Add memory\n",
    "memory = ConversationBufferMemory(human_prefix=\"agent\", return_messages=True)\n",
    "agent_executor = initialize_agent(\n",
    "        tools=tools,\n",
    "        llm=llm,\n",
    "        memory=memory,\n",
    "        agent=AgentType.OPENAI_FUNCTIONS,\n",
    "        return_intermediate_steps=False,\n",
    "        handle_parsing_errors=True,\n",
    "        max_iterations=5,\n",
    "        verbose=True\n",
    ")\n"
   ]
  },
  {
   "cell_type": "code",
   "execution_count": null,
   "metadata": {},
   "outputs": [],
   "source": [
    "agent_executor.invoke({\"input\": \"我的姓名叫dcj\"})"
   ]
  },
  {
   "cell_type": "code",
   "execution_count": 7,
   "metadata": {},
   "outputs": [
    {
     "name": "stdout",
     "output_type": "stream",
     "text": [
      "\n",
      "\n",
      "\u001b[1m> Entering new AgentExecutor chain...\u001b[0m\n",
      "\u001b[32;1m\u001b[1;3m西瓜是一种甜美多汁的水果，通常在夏季成熟。它的外皮呈绿色或条纹状，内部是红色或粉红色的果肉，含有许多黑色的种子。西瓜的果肉口感清爽，具有丰富的水分和甜度，是夏季炎热天气中的一种理想水果。西瓜富含维生素C、维生素A、钾等营养物质，有助于保持身体健康。在许多地方，西瓜也被用来制作果汁、冰淇淋、沙拉等各种美食。\u001b[0m\n",
      "\n",
      "\u001b[1m> Finished chain.\u001b[0m\n"
     ]
    },
    {
     "data": {
      "text/plain": [
       "{'input': '介绍西瓜',\n",
       " 'history': [HumanMessage(content='介绍苹果'),\n",
       "  AIMessage(content='苹果是一种常见的水果，属于蔷薇科苹果属植物。苹果果实多为圆形或椭圆形，表面光滑，果皮颜色有红、黄、绿等多种颜色。苹果味甜或酸，口感脆嫩多汁，是人们喜爱的水果之一。\\n\\n苹果富含维生素C、纤维素、钾等营养成分，有助于增强免疫力、促进消化、降低胆固醇等作用。苹果还含有丰富的抗氧化物质，有助于延缓衰老、保护心脏健康等。\\n\\n苹果可以生吃、做成果汁、果酱、沙拉等多种食品，是一种营养丰富、口感美味的水果。在全球范围内，苹果是一种广泛栽培和消费的水果，有着悠久的历史和文化意义。'),\n",
       "  HumanMessage(content='介绍西瓜'),\n",
       "  AIMessage(content='西瓜是一种甜美多汁的水果，通常在夏季成熟。它的外皮呈绿色或条纹状，内部是红色或粉红色的果肉，含有许多黑色的种子。西瓜的果肉口感清爽，具有丰富的水分和甜度，是夏季炎热天气中的一种理想水果。西瓜富含维生素C、维生素A、钾等营养物质，有助于保持身体健康。在许多地方，西瓜也被用来制作果汁、冰淇淋、沙拉等各种美食。')],\n",
       " 'output': '西瓜是一种甜美多汁的水果，通常在夏季成熟。它的外皮呈绿色或条纹状，内部是红色或粉红色的果肉，含有许多黑色的种子。西瓜的果肉口感清爽，具有丰富的水分和甜度，是夏季炎热天气中的一种理想水果。西瓜富含维生素C、维生素A、钾等营养物质，有助于保持身体健康。在许多地方，西瓜也被用来制作果汁、冰淇淋、沙拉等各种美食。'}"
      ]
     },
     "execution_count": 7,
     "metadata": {},
     "output_type": "execute_result"
    }
   ],
   "source": [
    "agent_executor.invoke({\"input\": \"我叫什么名字？\"})"
   ]
  },
  {
   "cell_type": "markdown",
   "metadata": {},
   "source": [
    "#### create_tool_calling_agent"
   ]
  },
  {
   "cell_type": "code",
   "execution_count": 3,
   "metadata": {},
   "outputs": [],
   "source": [
    "from langchain.agents import create_tool_calling_agent\n",
    "from langchain_openai import ChatOpenAI\n",
    "from langchain.prompts import PromptTemplate, ChatPromptTemplate, SystemMessagePromptTemplate, MessagesPlaceholder, HumanMessagePromptTemplate\n",
    "from langchain.memory import ConversationBufferMemory"
   ]
  },
  {
   "cell_type": "code",
   "execution_count": 4,
   "metadata": {},
   "outputs": [],
   "source": []
  },
  {
   "cell_type": "code",
   "execution_count": 5,
   "metadata": {},
   "outputs": [
    {
     "ename": "NameError",
     "evalue": "name 'AgentExecutor' is not defined",
     "output_type": "error",
     "traceback": [
      "\u001b[0;31m---------------------------------------------------------------------------\u001b[0m",
      "\u001b[0;31mNameError\u001b[0m                                 Traceback (most recent call last)",
      "Cell \u001b[0;32mIn[5], line 24\u001b[0m\n\u001b[1;32m     22\u001b[0m \u001b[38;5;66;03m# Add memory\u001b[39;00m\n\u001b[1;32m     23\u001b[0m memory \u001b[38;5;241m=\u001b[39m ConversationBufferMemory(human_prefix\u001b[38;5;241m=\u001b[39m\u001b[38;5;124m\"\u001b[39m\u001b[38;5;124magent\u001b[39m\u001b[38;5;124m\"\u001b[39m, return_messages\u001b[38;5;241m=\u001b[39m\u001b[38;5;28;01mTrue\u001b[39;00m)\n\u001b[0;32m---> 24\u001b[0m agent_executor \u001b[38;5;241m=\u001b[39m \u001b[43mAgentExecutor\u001b[49m(agent\u001b[38;5;241m=\u001b[39magent, tools\u001b[38;5;241m=\u001b[39mtools, memory\u001b[38;5;241m=\u001b[39mmemory, verbose\u001b[38;5;241m=\u001b[39m\u001b[38;5;28;01mTrue\u001b[39;00m)\n",
      "\u001b[0;31mNameError\u001b[0m: name 'AgentExecutor' is not defined"
     ]
    }
   ],
   "source": [
    "llm = ChatOpenAI(\n",
    "    model=\"gpt-3.5-turbo-0125\",\n",
    "    base_url=\"https://api.chatanywhere.com.cn\",\n",
    "    api_key=\"sk-Ms5F2wAkilaaZYo0HpumWR7qBLkOIsXflNQeAHSrNtmUYjzk\",\n",
    "    temperature=0.5,\n",
    ")\n",
    "\n",
    "prompt = ChatPromptTemplate.from_messages(\n",
    "    [\n",
    "        SystemMessagePromptTemplate(prompt=PromptTemplate(input_variables=[], template=\"你是一位聊天机器人\")), \n",
    "        MessagesPlaceholder(variable_name='history', optional=True), \n",
    "        HumanMessagePromptTemplate(prompt=PromptTemplate(input_variables=['input'], template='{input}')), \n",
    "        MessagesPlaceholder(variable_name='agent_scratchpad')\n",
    "    ]\n",
    ")\n",
    "agent= create_tool_calling_agent(\n",
    "    llm=llm,\n",
    "    tools=tools,\n",
    "    prompt=prompt\n",
    ")\n",
    "\n",
    "# Add memory\n",
    "memory = ConversationBufferMemory(human_prefix=\"agent\", return_messages=True)\n",
    "agent_executor = AgentExecutor(agent=agent, tools=tools, memory=memory, verbose=True)"
   ]
  },
  {
   "cell_type": "code",
   "execution_count": null,
   "metadata": {},
   "outputs": [
    {
     "name": "stdout",
     "output_type": "stream",
     "text": [
      "\n",
      "\n",
      "\u001b[1m> Entering new AgentExecutor chain...\u001b[0m\n",
      "\u001b[32;1m\u001b[1;3m你好，dcj！有什么可以帮助你的吗？\u001b[0m\n",
      "\n",
      "\u001b[1m> Finished chain.\u001b[0m\n"
     ]
    },
    {
     "data": {
      "text/plain": [
       "{'input': '我的姓名叫dcj',\n",
       " 'history': [HumanMessage(content='我的姓名叫dcj'),\n",
       "  AIMessage(content='你好，dcj！有什么可以帮助你的吗？')],\n",
       " 'output': '你好，dcj！有什么可以帮助你的吗？'}"
      ]
     },
     "execution_count": 14,
     "metadata": {},
     "output_type": "execute_result"
    }
   ],
   "source": [
    "agent_executor.invoke({\"input\": \"我的姓名叫dcj\"})"
   ]
  },
  {
   "cell_type": "code",
   "execution_count": null,
   "metadata": {},
   "outputs": [
    {
     "name": "stdout",
     "output_type": "stream",
     "text": [
      "\n",
      "\n",
      "\u001b[1m> Entering new AgentExecutor chain...\u001b[0m\n",
      "\u001b[32;1m\u001b[1;3m你的名字是dcj。有什么其他问题我可以帮助你解决的吗？\u001b[0m\n",
      "\n",
      "\u001b[1m> Finished chain.\u001b[0m\n"
     ]
    },
    {
     "data": {
      "text/plain": [
       "{'input': '我叫什么名字？',\n",
       " 'history': [HumanMessage(content='我的姓名叫dcj'),\n",
       "  AIMessage(content='你好，dcj！有什么可以帮助你的吗？'),\n",
       "  HumanMessage(content='我叫什么名字？'),\n",
       "  AIMessage(content='你的名字是dcj。有什么其他问题我可以帮助你解决的吗？')],\n",
       " 'output': '你的名字是dcj。有什么其他问题我可以帮助你解决的吗？'}"
      ]
     },
     "execution_count": 15,
     "metadata": {},
     "output_type": "execute_result"
    }
   ],
   "source": [
    "agent_executor.invoke({\"input\": \"我叫什么名字？\"})"
   ]
  },
  {
   "cell_type": "markdown",
   "metadata": {},
   "source": [
    "#### create_openai_functions_agent"
   ]
  },
  {
   "cell_type": "code",
   "execution_count": null,
   "metadata": {},
   "outputs": [],
   "source": [
    "from langchain.agents import create_openai_tools_agent, AgentExecutor\n",
    "from langchain_openai import ChatOpenAI\n",
    "from langchain.prompts import PromptTemplate, ChatPromptTemplate, SystemMessagePromptTemplate, MessagesPlaceholder, HumanMessagePromptTemplate\n",
    "from langchain.memory import ConversationBufferMemory"
   ]
  },
  {
   "cell_type": "code",
   "execution_count": null,
   "metadata": {},
   "outputs": [],
   "source": [
    "llm = ChatOpenAI(\n",
    "    model=\"gpt-3.5-turbo-0125\",\n",
    "    base_url=\"https://api.chatanywhere.com.cn\",\n",
    "    api_key=\"sk-Ms5F2wAkilaaZYo0HpumWR7qBLkOIsXflNQeAHSrNtmUYjzk\",\n",
    "    temperature=0.5,\n",
    ")\n",
    "\n",
    "prompt = ChatPromptTemplate.from_messages(\n",
    "    [\n",
    "        SystemMessagePromptTemplate(prompt=PromptTemplate(input_variables=[], template=\"你是一位聊天机器人\")), \n",
    "        MessagesPlaceholder(variable_name='history', optional=True), \n",
    "        HumanMessagePromptTemplate(prompt=PromptTemplate(input_variables=['input'], template='{input}')), \n",
    "        MessagesPlaceholder(variable_name='agent_scratchpad')\n",
    "    ]\n",
    ")\n",
    "\n",
    "# extra_messages =     [\n",
    "#         SystemMessagePromptTemplate(prompt=PromptTemplate(input_variables=[], template=\"你是一位聊天机器人\")), \n",
    "#         MessagesPlaceholder(variable_name='history', optional=True), \n",
    "#         HumanMessagePromptTemplate(prompt=PromptTemplate(input_variables=['input'], template='{input}')), \n",
    "#         MessagesPlaceholder(variable_name='agent_scratchpad')\n",
    "# ]\n",
    "# prompt = OpenAIFunctionsAgent.create_prompt(extra_prompt_messages=extra_messages)\n",
    "agent= create_openai_tools_agent(\n",
    "    llm=llm,\n",
    "    tools=tools,\n",
    "    prompt=prompt\n",
    ")\n",
    "\n",
    "# Add memory\n",
    "memory = ConversationBufferMemory(human_prefix=\"agent\", return_messages=True)\n",
    "agent_executor = AgentExecutor(agent=agent, tools=tools, memory=memory, verbose=True)"
   ]
  },
  {
   "cell_type": "code",
   "execution_count": null,
   "metadata": {},
   "outputs": [
    {
     "name": "stdout",
     "output_type": "stream",
     "text": [
      "\n",
      "\n",
      "\u001b[1m> Entering new AgentExecutor chain...\u001b[0m\n",
      "\u001b[32;1m\u001b[1;3m你好，dcj！请问有什么问题或者需要帮助的吗？\u001b[0m\n",
      "\n",
      "\u001b[1m> Finished chain.\u001b[0m\n"
     ]
    },
    {
     "data": {
      "text/plain": [
       "{'input': '我的姓名叫dcj',\n",
       " 'history': [HumanMessage(content='我的姓名叫dcj'),\n",
       "  AIMessage(content='你好，dcj！有什么可以帮助你的吗？'),\n",
       "  HumanMessage(content='我的姓名叫dcj'),\n",
       "  AIMessage(content='你好，dcj！请问有什么问题或者需要帮助的吗？')],\n",
       " 'output': '你好，dcj！请问有什么问题或者需要帮助的吗？'}"
      ]
     },
     "execution_count": 32,
     "metadata": {},
     "output_type": "execute_result"
    }
   ],
   "source": [
    "agent_executor.invoke({\"input\": \"我的姓名叫dcj\"})"
   ]
  },
  {
   "cell_type": "code",
   "execution_count": null,
   "metadata": {},
   "outputs": [
    {
     "name": "stdout",
     "output_type": "stream",
     "text": [
      "\n",
      "\n",
      "\u001b[1m> Entering new AgentExecutor chain...\u001b[0m\n",
      "\u001b[32;1m\u001b[1;3m你的名字是dcj。有什么其他问题需要帮忙解决的吗？\u001b[0m\n",
      "\n",
      "\u001b[1m> Finished chain.\u001b[0m\n"
     ]
    },
    {
     "data": {
      "text/plain": [
       "{'input': '我叫什么名字？',\n",
       " 'history': [HumanMessage(content='我的姓名叫dcj'),\n",
       "  AIMessage(content='你好，dcj！有什么可以帮助你的吗？'),\n",
       "  HumanMessage(content='我叫什么名字？'),\n",
       "  AIMessage(content='你的名字是dcj。有什么其他问题需要帮忙解决的吗？')],\n",
       " 'output': '你的名字是dcj。有什么其他问题需要帮忙解决的吗？'}"
      ]
     },
     "execution_count": 23,
     "metadata": {},
     "output_type": "execute_result"
    }
   ],
   "source": [
    "agent_executor.invoke({\"input\": \"我叫什么名字？\"})"
   ]
  },
  {
   "cell_type": "markdown",
   "metadata": {},
   "source": [
    "## AgentType"
   ]
  },
  {
   "cell_type": "code",
   "execution_count": 6,
   "metadata": {},
   "outputs": [],
   "source": [
    "from langchain.agents import (\n",
    "    AgentExecutor, OpenAIMultiFunctionsAgent,\n",
    ")\n",
    "from langchain_openai import ChatOpenAI\n",
    "from langchain.prompts import PromptTemplate, ChatPromptTemplate, SystemMessagePromptTemplate, MessagesPlaceholder, HumanMessagePromptTemplate\n",
    "from langchain.chains import LLMChain\n",
    "from langchain.memory import ConversationBufferMemory"
   ]
  },
  {
   "cell_type": "code",
   "execution_count": null,
   "metadata": {},
   "outputs": [],
   "source": [
    "import json\n",
    "from langchain.pydantic_v1 import BaseModel, Field\n",
    "from langchain.tools import BaseTool, StructuredTool, tool\n",
    "from langchain_core.tools import ToolException\n",
    "\n",
    "class GetIpInfoInput(BaseModel):\n",
    "    ip: str = Field(description=\"查询的IP地址\")\n",
    "\n",
    "def ip_info(ip: str):\n",
    "    return json.dumps(\n",
    "        {\n",
    "            \"msg\": \"操作成功\",\n",
    "            \"code\": 200,\n",
    "            \"data\": {\n",
    "                \"id\": None,\n",
    "                \"ip\": \"115.236.153.174\",\n",
    "                \"minip\": None,\n",
    "                \"maxip\": None,\n",
    "                \"riskTag\": None,\n",
    "                \"getTime\": None,\n",
    "                \"getStartTime\": None,\n",
    "                \"getEndTime\": None,\n",
    "                \"riskLevel\": None,\n",
    "                \"riskScore\": None,\n",
    "                \"continent\": None,\n",
    "                \"countryCode\": None,\n",
    "                \"country\": \"中国\",\n",
    "                \"province\": \"浙江省\",\n",
    "                \"city\": None,\n",
    "                \"district\": None,\n",
    "                \"bdLon\": None,\n",
    "                \"bdLat\": None,\n",
    "                \"wgsLon\": None,\n",
    "                \"wgsLat\": None,\n",
    "                \"radius\": None,\n",
    "                \"isp\": \"中国电信\",\n",
    "                \"owner\": None,\n",
    "                \"scene\": None,\n",
    "                \"insertTime\": None,\n",
    "                \"updateTime\": None,\n",
    "                \"adcode\": None,\n",
    "                \"timezone\": None,\n",
    "                \"accuracy\": None,\n",
    "                \"source\": \"数据中心\",\n",
    "                \"asnumber\": \"58461\",\n",
    "                \"areacode\": None,\n",
    "                \"zipcode\": None,\n",
    "                \"lngwgs\": None,\n",
    "                \"latwgs\": None\n",
    "            }\n",
    "        }\n",
    "    )\n",
    "\n",
    "def _handle_error(error: ToolException) -> str:\n",
    "    return (\n",
    "        \"The following errors occurred during tool execution:\"\n",
    "        + error.args[0]\n",
    "        + \"Please try another tool.\"\n",
    "    )\n",
    "\n",
    "get_ip_info = StructuredTool.from_function(\n",
    "    func=ip_info,\n",
    "    name=\"get_ip_information\",\n",
    "    description=\"获取IP的基本信息接口，专门设计用来查询特定IP地址相关属性的服务。通过这个接口，用户可以获得一个IP地址的多种信息，包括但不限于地理位置、所属的自治系统（ASN）、运营商信息等。\",\n",
    "    args_schema=GetIpInfoInput,\n",
    "    # return_direct=True,\n",
    "    handle_tool_error=_handle_error,\n",
    ")\n",
    "tools = [get_ip_info]"
   ]
  },
  {
   "cell_type": "markdown",
   "metadata": {},
   "source": [
    "#### OpenAIMultiFunctionsAgent"
   ]
  },
  {
   "cell_type": "code",
   "execution_count": 9,
   "metadata": {},
   "outputs": [],
   "source": [
    "llm = ChatOpenAI(\n",
    "    model=\"gpt-3.5-turbo-0125\",\n",
    "    base_url=\"https://api.chatanywhere.com.cn\",\n",
    "    api_key=\"sk-Ms5F2wAkilaaZYo0HpumWR7qBLkOIsXflNQeAHSrNtmUYjzk\",\n",
    "    temperature=0.5,\n",
    ")\n",
    "\n",
    "prompt = ChatPromptTemplate.from_messages(\n",
    "    [\n",
    "        SystemMessagePromptTemplate(prompt=PromptTemplate(input_variables=[], template=\"你是一位聊天机器人\")), \n",
    "        MessagesPlaceholder(variable_name='history', optional=True), \n",
    "        HumanMessagePromptTemplate(prompt=PromptTemplate(input_variables=['input'], template='{input}')), \n",
    "        MessagesPlaceholder(variable_name='agent_scratchpad')\n",
    "    ]\n",
    ")\n",
    "\n",
    "agent = OpenAIMultiFunctionsAgent(llm=llm, tools=tools, prompt=prompt)\n",
    "\n",
    "# Add memory\n",
    "memory = ConversationBufferMemory(human_prefix=\"agent\", return_messages=True)\n",
    "agent_executor = AgentExecutor(agent=agent, tools=tools, memory=memory, verbose=True)\n",
    "agent_executor.invoke(input={\"input\": \"查询119.18.10.4 ip\"})\n"
   ]
  },
  {
   "cell_type": "markdown",
   "metadata": {},
   "source": [
    "#### OpenAIFunctionsAgent"
   ]
  },
  {
   "cell_type": "code",
   "execution_count": 12,
   "metadata": {},
   "outputs": [
    {
     "name": "stderr",
     "output_type": "stream",
     "text": [
      "/Users/treasures_y/Miniconda3/envs/langflow/lib/python3.10/site-packages/langchain_core/_api/deprecation.py:119: LangChainDeprecationWarning: The class `OpenAIFunctionsAgent` was deprecated in LangChain 0.1.0 and will be removed in 0.3.0. Use create_openai_functions_agent instead.\n",
      "  warn_deprecated(\n"
     ]
    },
    {
     "name": "stdout",
     "output_type": "stream",
     "text": [
      "\n",
      "\n",
      "\u001b[1m> Entering new AgentExecutor chain...\u001b[0m\n",
      "\u001b[32;1m\u001b[1;3m\n",
      "Invoking: `get_ip_information` with `{'ip': '119.18.10.4'}`\n",
      "\n",
      "\n",
      "\u001b[0m\u001b[36;1m\u001b[1;3m{\"msg\": \"\\u64cd\\u4f5c\\u6210\\u529f\", \"code\": 200, \"data\": {\"id\": null, \"ip\": \"115.236.153.174\", \"minip\": null, \"maxip\": null, \"riskTag\": null, \"getTime\": null, \"getStartTime\": null, \"getEndTime\": null, \"riskLevel\": null, \"riskScore\": null, \"continent\": null, \"countryCode\": null, \"country\": \"\\u4e2d\\u56fd\", \"province\": \"\\u6d59\\u6c5f\\u7701\", \"city\": null, \"district\": null, \"bdLon\": null, \"bdLat\": null, \"wgsLon\": null, \"wgsLat\": null, \"radius\": null, \"isp\": \"\\u4e2d\\u56fd\\u7535\\u4fe1\", \"owner\": null, \"scene\": null, \"insertTime\": null, \"updateTime\": null, \"adcode\": null, \"timezone\": null, \"accuracy\": null, \"source\": \"\\u6570\\u636e\\u4e2d\\u5fc3\", \"asnumber\": \"58461\", \"areacode\": null, \"zipcode\": null, \"lngwgs\": null, \"latwgs\": null}}\u001b[0m\u001b[32;1m\u001b[1;3m根据查询结果，IP地址 119.18.10.4 的基本信息如下：\n",
      "- 国家：中国\n",
      "- 省份：浙江省\n",
      "- 运营商：中国电信\n",
      "- 自治系统编号（ASN）：58461\n",
      "\n",
      "如果您需要更多信息，请告诉我！\u001b[0m\n",
      "\n",
      "\u001b[1m> Finished chain.\u001b[0m\n"
     ]
    },
    {
     "data": {
      "text/plain": [
       "{'input': '查询119.18.10.4 ip',\n",
       " 'history': [HumanMessage(content='查询119.18.10.4 ip'),\n",
       "  AIMessage(content='根据查询结果，IP地址 119.18.10.4 的基本信息如下：\\n- 国家：中国\\n- 省份：浙江省\\n- 运营商：中国电信\\n- 自治系统编号（ASN）：58461\\n\\n如果您需要更多信息，请告诉我！')],\n",
       " 'output': '根据查询结果，IP地址 119.18.10.4 的基本信息如下：\\n- 国家：中国\\n- 省份：浙江省\\n- 运营商：中国电信\\n- 自治系统编号（ASN）：58461\\n\\n如果您需要更多信息，请告诉我！'}"
      ]
     },
     "execution_count": 12,
     "metadata": {},
     "output_type": "execute_result"
    }
   ],
   "source": [
    "from langchain.agents import OpenAIFunctionsAgent\n",
    "\n",
    "llm = ChatOpenAI(\n",
    "    model=\"gpt-3.5-turbo-0125\",\n",
    "    base_url=\"https://api.chatanywhere.com.cn\",\n",
    "    api_key=\"sk-Ms5F2wAkilaaZYo0HpumWR7qBLkOIsXflNQeAHSrNtmUYjzk\",\n",
    "    temperature=0.5,\n",
    ")\n",
    "\n",
    "prompt = ChatPromptTemplate.from_messages(\n",
    "    [\n",
    "        SystemMessagePromptTemplate(prompt=PromptTemplate(input_variables=[], template=\"你是一位聊天机器人\")), \n",
    "        MessagesPlaceholder(variable_name='history', optional=True), \n",
    "        HumanMessagePromptTemplate(prompt=PromptTemplate(input_variables=['input'], template='{input}')), \n",
    "        MessagesPlaceholder(variable_name='agent_scratchpad')\n",
    "    ]\n",
    ")\n",
    "\n",
    "agent = OpenAIFunctionsAgent(llm=llm, tools=tools, prompt=prompt)\n",
    "\n",
    "# Add memory\n",
    "memory = ConversationBufferMemory(human_prefix=\"agent\", return_messages=True)\n",
    "agent_executor = AgentExecutor(agent=agent, tools=tools, memory=memory, verbose=True)\n",
    "agent_executor.invoke(input={\"input\": \"查询119.18.10.4 ip\"})\n"
   ]
  },
  {
   "cell_type": "markdown",
   "metadata": {},
   "source": [
    "#### create_openai_functions_agent"
   ]
  },
  {
   "cell_type": "code",
   "execution_count": 13,
   "metadata": {},
   "outputs": [
    {
     "name": "stdout",
     "output_type": "stream",
     "text": [
      "\n",
      "\n",
      "\u001b[1m> Entering new AgentExecutor chain...\u001b[0m\n",
      "\u001b[32;1m\u001b[1;3m\n",
      "Invoking: `get_ip_information` with `{'ip': '119.18.10.4'}`\n",
      "\n",
      "\n",
      "\u001b[0m\u001b[36;1m\u001b[1;3m{\"msg\": \"\\u64cd\\u4f5c\\u6210\\u529f\", \"code\": 200, \"data\": {\"id\": null, \"ip\": \"115.236.153.174\", \"minip\": null, \"maxip\": null, \"riskTag\": null, \"getTime\": null, \"getStartTime\": null, \"getEndTime\": null, \"riskLevel\": null, \"riskScore\": null, \"continent\": null, \"countryCode\": null, \"country\": \"\\u4e2d\\u56fd\", \"province\": \"\\u6d59\\u6c5f\\u7701\", \"city\": null, \"district\": null, \"bdLon\": null, \"bdLat\": null, \"wgsLon\": null, \"wgsLat\": null, \"radius\": null, \"isp\": \"\\u4e2d\\u56fd\\u7535\\u4fe1\", \"owner\": null, \"scene\": null, \"insertTime\": null, \"updateTime\": null, \"adcode\": null, \"timezone\": null, \"accuracy\": null, \"source\": \"\\u6570\\u636e\\u4e2d\\u5fc3\", \"asnumber\": \"58461\", \"areacode\": null, \"zipcode\": null, \"lngwgs\": null, \"latwgs\": null}}\u001b[0m\u001b[32;1m\u001b[1;3m根据查询，IP地址 119.18.10.4 的基本信息如下：\n",
      "- 国家：中国\n",
      "- 省份：浙江省\n",
      "- 运营商：中国电信\n",
      "- 自治系统（ASN）：58461\n",
      "\n",
      "如有其他需要了解的信息，请告诉我。\u001b[0m\n",
      "\n",
      "\u001b[1m> Finished chain.\u001b[0m\n"
     ]
    },
    {
     "data": {
      "text/plain": [
       "{'input': '查询119.18.10.4 ip',\n",
       " 'history': [HumanMessage(content='查询119.18.10.4 ip'),\n",
       "  AIMessage(content='根据查询，IP地址 119.18.10.4 的基本信息如下：\\n- 国家：中国\\n- 省份：浙江省\\n- 运营商：中国电信\\n- 自治系统（ASN）：58461\\n\\n如有其他需要了解的信息，请告诉我。')],\n",
       " 'output': '根据查询，IP地址 119.18.10.4 的基本信息如下：\\n- 国家：中国\\n- 省份：浙江省\\n- 运营商：中国电信\\n- 自治系统（ASN）：58461\\n\\n如有其他需要了解的信息，请告诉我。'}"
      ]
     },
     "execution_count": 13,
     "metadata": {},
     "output_type": "execute_result"
    }
   ],
   "source": [
    "from langchain.agents import create_openai_functions_agent\n",
    "\n",
    "llm = ChatOpenAI(\n",
    "    model=\"gpt-3.5-turbo-0125\",\n",
    "    base_url=\"https://api.chatanywhere.com.cn\",\n",
    "    api_key=\"sk-Ms5F2wAkilaaZYo0HpumWR7qBLkOIsXflNQeAHSrNtmUYjzk\",\n",
    "    temperature=0.5,\n",
    ")\n",
    "\n",
    "prompt = ChatPromptTemplate.from_messages(\n",
    "    [\n",
    "        SystemMessagePromptTemplate(prompt=PromptTemplate(input_variables=[], template=\"你是一位聊天机器人\")), \n",
    "        MessagesPlaceholder(variable_name='history', optional=True), \n",
    "        HumanMessagePromptTemplate(prompt=PromptTemplate(input_variables=['input'], template='{input}')), \n",
    "        MessagesPlaceholder(variable_name='agent_scratchpad')\n",
    "    ]\n",
    ")\n",
    "\n",
    "agent = create_openai_functions_agent(llm=llm, tools=tools, prompt=prompt)\n",
    "\n",
    "# Add memory\n",
    "memory = ConversationBufferMemory(human_prefix=\"agent\", return_messages=True)\n",
    "agent_executor = AgentExecutor(agent=agent, tools=tools, memory=memory, verbose=True)\n",
    "agent_executor.invoke(input={\"input\": \"查询119.18.10.4 ip\"})\n"
   ]
  },
  {
   "cell_type": "code",
   "execution_count": 22,
   "metadata": {},
   "outputs": [
    {
     "name": "stdout",
     "output_type": "stream",
     "text": [
      "{'result': {'output': '查询到IP地址1.1.1.1的详情如下：\\n- 地理位置：德国纽伦堡\\n- 所属运营商：DigitalOcean, LLC\\n- 所属大洲：欧洲\\n- 所属国家：德国\\n- 省份：巴伐利亚邦\\n- 城市：纽伦堡\\n- 时区：UTC+1\\n- 精度：城市级别\\n- 邮编：90429\\n- 经度：11.064260\\n- 纬度：49.451525\\n- 风险评级：65\\n- 威胁标签：Tool, DoS, CVE-2018-19629, Telnet, SMTP, CVE-2017-6639, WebLogic T3, HTTP, SIP, Code Execution, RDP, Cisco Prime Data Center Network Manager, D-Link, FTP, Nmap, SSH, Info Disclosure, Hyland Perceptive Content Server\\n- 威胁类型：Scanner, Exploit, IDC, Attacker, Bruteforcer\\n- 威胁来源：华为乾坤\\n- 发现时间：2024-05-09 22:34:19\\n- 更新时间：2024-05-22 11:05:29\\n- 威胁详情：包括恶意工具、DoS攻击、Telnet、SMTP、WebLogic T3漏洞、HTTP、远程桌面协议（RDP）、Cisco Prime数据中心网络管理器、D-Link、FTP、Nmap、SSH、信息泄露等。'}, 'status': None, 'task': {'id': '5891735072', 'href': 'api/v1/task/5891735072'}, 'session_id': '2JJ9JU:d5c5e457b251aea067d05a6025e48d668c48ccf21c249580e1e1f75e7b007738', 'backend': 'anyio'}\n"
     ]
    }
   ],
   "source": [
    "import requests\n",
    "from typing import Optional\n",
    "\n",
    "BASE_API_URL = \"http://127.0.0.1:7860/api/v1/process\"\n",
    "FLOW_ID = \"9a901515-92c5-4dac-becd-772dc9637404\"\n",
    "# You can tweak the flow by adding a tweaks dictionary\n",
    "# e.g {\"OpenAI-XXXXX\": {\"model_name\": \"gpt-4\"}}\n",
    "TWEAKS = {\n",
    "  \"SingleAgent-iA4Xy\": {},\n",
    "  \"AgentTool-bDCIn\": {},\n",
    "  \"AgentLLM-NIonp\": {},\n",
    "  \"AgentWorkflow-AQqct\": {},\n",
    "  \"AgentKnowledge-kT1ak\": {}\n",
    "}\n",
    "\n",
    "def run_flow(inputs: dict, flow_id: str, tweaks: Optional[dict] = None, api_key: Optional[str] = None) -> dict:\n",
    "    \"\"\"\n",
    "    Run a flow with a given message and optional tweaks.\n",
    "\n",
    "    :param message: The message to send to the flow\n",
    "    :param flow_id: The ID of the flow to run\n",
    "    :param tweaks: Optional tweaks to customize the flow\n",
    "    :return: The JSON response from the flow\n",
    "    \"\"\"\n",
    "    api_url = f\"{BASE_API_URL}/{flow_id}\"\n",
    "\n",
    "    payload = {\"inputs\": inputs}\n",
    "    headers = None\n",
    "    if tweaks:\n",
    "        payload[\"tweaks\"] = tweaks\n",
    "    if api_key:\n",
    "        headers = {\"x-api-key\": api_key}\n",
    "    response = requests.post(api_url, json=payload, headers=headers)\n",
    "    return response.json()\n",
    "\n",
    "# Setup any tweaks you want to apply to the flow\n",
    "inputs = {\"input\": \"查询ip1.1.1.1详情\"}\n",
    "api_key = \"sk-ral5pIAy5C5lhb9hJuZ1YSdt_3HwA5zfO8j2JxVJPMg\"\n",
    "print(run_flow(inputs, flow_id=FLOW_ID, tweaks=TWEAKS, api_key=api_key))"
   ]
  },
  {
   "cell_type": "markdown",
   "metadata": {},
   "source": [
    "#### create_openai_tools_agent"
   ]
  },
  {
   "cell_type": "code",
   "execution_count": null,
   "metadata": {},
   "outputs": [],
   "source": [
    "from langchain.agents import create_openai_tools_agent\n",
    "\n",
    "llm = ChatOpenAI(\n",
    "    model=\"gpt-3.5-turbo-0125\",\n",
    "    base_url=\"https://api.chatanywhere.com.cn\",\n",
    "    api_key=\"sk-Ms5F2wAkilaaZYo0HpumWR7qBLkOIsXflNQeAHSrNtmUYjzk\",\n",
    "    temperature=0.5,\n",
    ")\n",
    "\n",
    "prompt = ChatPromptTemplate.from_messages(\n",
    "    [\n",
    "        SystemMessagePromptTemplate(prompt=PromptTemplate(input_variables=[], template=\"你是一位聊天机器人\")), \n",
    "        MessagesPlaceholder(variable_name='history', optional=True), \n",
    "        HumanMessagePromptTemplate(prompt=PromptTemplate(input_variables=['input'], template='{input}')), \n",
    "        MessagesPlaceholder(variable_name='agent_scratchpad')\n",
    "    ]\n",
    ")\n",
    "\n",
    "agent = create_openai_tools_agent(llm=llm, tools=tools, prompt=prompt)\n",
    "\n",
    "# Add memory\n",
    "memory = ConversationBufferMemory(human_prefix=\"agent\", return_messages=True)\n",
    "agent_executor = AgentExecutor(agent=agent, tools=tools, memory=memory, verbose=True)\n",
    "agent_executor.invoke(input={\"input\": \"查询119.18.10.4 ip\"})\n"
   ]
  },
  {
   "cell_type": "markdown",
   "metadata": {},
   "source": [
    "#### create_tool_calling_agent"
   ]
  },
  {
   "cell_type": "code",
   "execution_count": 3,
   "metadata": {},
   "outputs": [
    {
     "ename": "NameError",
     "evalue": "name 'create_openai_tools_agent' is not defined",
     "output_type": "error",
     "traceback": [
      "\u001b[0;31m---------------------------------------------------------------------------\u001b[0m",
      "\u001b[0;31mNameError\u001b[0m                                 Traceback (most recent call last)",
      "Cell \u001b[0;32mIn[3], line 19\u001b[0m\n\u001b[1;32m      3\u001b[0m llm \u001b[38;5;241m=\u001b[39m ChatOpenAI(\n\u001b[1;32m      4\u001b[0m     model\u001b[38;5;241m=\u001b[39m\u001b[38;5;124m\"\u001b[39m\u001b[38;5;124mgpt-3.5-turbo-0125\u001b[39m\u001b[38;5;124m\"\u001b[39m,\n\u001b[1;32m      5\u001b[0m     base_url\u001b[38;5;241m=\u001b[39m\u001b[38;5;124m\"\u001b[39m\u001b[38;5;124mhttps://api.chatanywhere.com.cn\u001b[39m\u001b[38;5;124m\"\u001b[39m,\n\u001b[1;32m      6\u001b[0m     api_key\u001b[38;5;241m=\u001b[39m\u001b[38;5;124m\"\u001b[39m\u001b[38;5;124msk-Ms5F2wAkilaaZYo0HpumWR7qBLkOIsXflNQeAHSrNtmUYjzk\u001b[39m\u001b[38;5;124m\"\u001b[39m,\n\u001b[1;32m      7\u001b[0m     temperature\u001b[38;5;241m=\u001b[39m\u001b[38;5;241m0.5\u001b[39m,\n\u001b[1;32m      8\u001b[0m )\n\u001b[1;32m     10\u001b[0m prompt \u001b[38;5;241m=\u001b[39m ChatPromptTemplate\u001b[38;5;241m.\u001b[39mfrom_messages(\n\u001b[1;32m     11\u001b[0m     [\n\u001b[1;32m     12\u001b[0m         SystemMessagePromptTemplate(prompt\u001b[38;5;241m=\u001b[39mPromptTemplate(input_variables\u001b[38;5;241m=\u001b[39m[], template\u001b[38;5;241m=\u001b[39m\u001b[38;5;124m\"\u001b[39m\u001b[38;5;124m你是一位聊天机器人\u001b[39m\u001b[38;5;124m\"\u001b[39m)), \n\u001b[0;32m   (...)\u001b[0m\n\u001b[1;32m     16\u001b[0m     ]\n\u001b[1;32m     17\u001b[0m )\n\u001b[0;32m---> 19\u001b[0m agent \u001b[38;5;241m=\u001b[39m \u001b[43mcreate_openai_tools_agent\u001b[49m(llm\u001b[38;5;241m=\u001b[39mllm, tools\u001b[38;5;241m=\u001b[39mtools, prompt\u001b[38;5;241m=\u001b[39mprompt)\n\u001b[1;32m     21\u001b[0m \u001b[38;5;66;03m# Add memory\u001b[39;00m\n\u001b[1;32m     22\u001b[0m memory \u001b[38;5;241m=\u001b[39m ConversationBufferMemory(human_prefix\u001b[38;5;241m=\u001b[39m\u001b[38;5;124m\"\u001b[39m\u001b[38;5;124magent\u001b[39m\u001b[38;5;124m\"\u001b[39m, return_messages\u001b[38;5;241m=\u001b[39m\u001b[38;5;28;01mTrue\u001b[39;00m)\n",
      "\u001b[0;31mNameError\u001b[0m: name 'create_openai_tools_agent' is not defined"
     ]
    }
   ],
   "source": [
    "from langchain.agents import create_tool_calling_agent\n",
    "\n",
    "llm = ChatOpenAI(\n",
    "    model=\"gpt-3.5-turbo-0125\",\n",
    "    base_url=\"https://api.chatanywhere.com.cn\",\n",
    "    api_key=\"sk-Ms5F2wAkilaaZYo0HpumWR7qBLkOIsXflNQeAHSrNtmUYjzk\",\n",
    "    temperature=0.5,\n",
    ")\n",
    "\n",
    "prompt = ChatPromptTemplate.from_messages(\n",
    "    [\n",
    "        SystemMessagePromptTemplate(prompt=PromptTemplate(input_variables=[], template=\"你是一位聊天机器人\")), \n",
    "        MessagesPlaceholder(variable_name='history', optional=True), \n",
    "        HumanMessagePromptTemplate(prompt=PromptTemplate(input_variables=['input'], template='{input}')), \n",
    "        MessagesPlaceholder(variable_name='agent_scratchpad')\n",
    "    ]\n",
    ")\n",
    "\n",
    "agent = create_openai_tools_agent(llm=llm, tools=tools, prompt=prompt)\n",
    "\n",
    "# Add memory\n",
    "memory = ConversationBufferMemory(human_prefix=\"agent\", return_messages=True)\n",
    "agent_executor = AgentExecutor(agent=agent, tools=tools, memory=memory, verbose=True)\n",
    "agent_executor.invoke(input={\"input\": \"查询119.18.10.4 ip\"})"
   ]
  },
  {
   "cell_type": "markdown",
   "metadata": {},
   "source": [
    "#### create_react_agent"
   ]
  },
  {
   "cell_type": "code",
   "execution_count": 6,
   "metadata": {},
   "outputs": [
    {
     "name": "stdout",
     "output_type": "stream",
     "text": [
      "\n",
      "\n",
      "\u001b[1m> Entering new AgentExecutor chain...\u001b[0m\n"
     ]
    },
    {
     "name": "stderr",
     "output_type": "stream",
     "text": [
      "Error in StdOutCallbackHandler.on_agent_action callback: AttributeError(\"'str' object has no attribute 'log'\")\n"
     ]
    },
    {
     "ename": "AttributeError",
     "evalue": "'str' object has no attribute 'tool'",
     "output_type": "error",
     "traceback": [
      "\u001b[0;31m---------------------------------------------------------------------------\u001b[0m",
      "\u001b[0;31mAttributeError\u001b[0m                            Traceback (most recent call last)",
      "Cell \u001b[0;32mIn[6], line 58\u001b[0m\n\u001b[1;32m     56\u001b[0m memory \u001b[38;5;241m=\u001b[39m ConversationBufferMemory(human_prefix\u001b[38;5;241m=\u001b[39m\u001b[38;5;124m\"\u001b[39m\u001b[38;5;124magent\u001b[39m\u001b[38;5;124m\"\u001b[39m, return_messages\u001b[38;5;241m=\u001b[39m\u001b[38;5;28;01mTrue\u001b[39;00m)\n\u001b[1;32m     57\u001b[0m agent_executor \u001b[38;5;241m=\u001b[39m AgentExecutor(agent\u001b[38;5;241m=\u001b[39magent, tools\u001b[38;5;241m=\u001b[39mtools, memory\u001b[38;5;241m=\u001b[39mmemory, verbose\u001b[38;5;241m=\u001b[39m\u001b[38;5;28;01mTrue\u001b[39;00m, handle_parsing_errors\u001b[38;5;241m=\u001b[39m\u001b[38;5;124m\"\u001b[39m\u001b[38;5;124m工具解析错误，请根据你自身知识回答问题\u001b[39m\u001b[38;5;124m\"\u001b[39m)\n\u001b[0;32m---> 58\u001b[0m \u001b[43magent_executor\u001b[49m\u001b[38;5;241;43m.\u001b[39;49m\u001b[43minvoke\u001b[49m\u001b[43m(\u001b[49m\u001b[38;5;28;43minput\u001b[39;49m\u001b[38;5;241;43m=\u001b[39;49m\u001b[43m{\u001b[49m\u001b[38;5;124;43m\"\u001b[39;49m\u001b[38;5;124;43minput\u001b[39;49m\u001b[38;5;124;43m\"\u001b[39;49m\u001b[43m:\u001b[49m\u001b[43m \u001b[49m\u001b[38;5;124;43m\"\u001b[39;49m\u001b[38;5;124;43m介绍苹果\u001b[39;49m\u001b[38;5;124;43m\"\u001b[39;49m\u001b[43m}\u001b[49m\u001b[43m)\u001b[49m\n",
      "File \u001b[0;32m~/Miniconda3/envs/langflow/lib/python3.10/site-packages/langchain/chains/base.py:163\u001b[0m, in \u001b[0;36mChain.invoke\u001b[0;34m(self, input, config, **kwargs)\u001b[0m\n\u001b[1;32m    161\u001b[0m \u001b[38;5;28;01mexcept\u001b[39;00m \u001b[38;5;167;01mBaseException\u001b[39;00m \u001b[38;5;28;01mas\u001b[39;00m e:\n\u001b[1;32m    162\u001b[0m     run_manager\u001b[38;5;241m.\u001b[39mon_chain_error(e)\n\u001b[0;32m--> 163\u001b[0m     \u001b[38;5;28;01mraise\u001b[39;00m e\n\u001b[1;32m    164\u001b[0m run_manager\u001b[38;5;241m.\u001b[39mon_chain_end(outputs)\n\u001b[1;32m    166\u001b[0m \u001b[38;5;28;01mif\u001b[39;00m include_run_info:\n",
      "File \u001b[0;32m~/Miniconda3/envs/langflow/lib/python3.10/site-packages/langchain/chains/base.py:153\u001b[0m, in \u001b[0;36mChain.invoke\u001b[0;34m(self, input, config, **kwargs)\u001b[0m\n\u001b[1;32m    150\u001b[0m \u001b[38;5;28;01mtry\u001b[39;00m:\n\u001b[1;32m    151\u001b[0m     \u001b[38;5;28mself\u001b[39m\u001b[38;5;241m.\u001b[39m_validate_inputs(inputs)\n\u001b[1;32m    152\u001b[0m     outputs \u001b[38;5;241m=\u001b[39m (\n\u001b[0;32m--> 153\u001b[0m         \u001b[38;5;28;43mself\u001b[39;49m\u001b[38;5;241;43m.\u001b[39;49m\u001b[43m_call\u001b[49m\u001b[43m(\u001b[49m\u001b[43minputs\u001b[49m\u001b[43m,\u001b[49m\u001b[43m \u001b[49m\u001b[43mrun_manager\u001b[49m\u001b[38;5;241;43m=\u001b[39;49m\u001b[43mrun_manager\u001b[49m\u001b[43m)\u001b[49m\n\u001b[1;32m    154\u001b[0m         \u001b[38;5;28;01mif\u001b[39;00m new_arg_supported\n\u001b[1;32m    155\u001b[0m         \u001b[38;5;28;01melse\u001b[39;00m \u001b[38;5;28mself\u001b[39m\u001b[38;5;241m.\u001b[39m_call(inputs)\n\u001b[1;32m    156\u001b[0m     )\n\u001b[1;32m    158\u001b[0m     final_outputs: Dict[\u001b[38;5;28mstr\u001b[39m, Any] \u001b[38;5;241m=\u001b[39m \u001b[38;5;28mself\u001b[39m\u001b[38;5;241m.\u001b[39mprep_outputs(\n\u001b[1;32m    159\u001b[0m         inputs, outputs, return_only_outputs\n\u001b[1;32m    160\u001b[0m     )\n\u001b[1;32m    161\u001b[0m \u001b[38;5;28;01mexcept\u001b[39;00m \u001b[38;5;167;01mBaseException\u001b[39;00m \u001b[38;5;28;01mas\u001b[39;00m e:\n",
      "File \u001b[0;32m~/Miniconda3/envs/langflow/lib/python3.10/site-packages/langchain/agents/agent.py:1432\u001b[0m, in \u001b[0;36mAgentExecutor._call\u001b[0;34m(self, inputs, run_manager)\u001b[0m\n\u001b[1;32m   1430\u001b[0m \u001b[38;5;66;03m# We now enter the agent loop (until it returns something).\u001b[39;00m\n\u001b[1;32m   1431\u001b[0m \u001b[38;5;28;01mwhile\u001b[39;00m \u001b[38;5;28mself\u001b[39m\u001b[38;5;241m.\u001b[39m_should_continue(iterations, time_elapsed):\n\u001b[0;32m-> 1432\u001b[0m     next_step_output \u001b[38;5;241m=\u001b[39m \u001b[38;5;28;43mself\u001b[39;49m\u001b[38;5;241;43m.\u001b[39;49m\u001b[43m_take_next_step\u001b[49m\u001b[43m(\u001b[49m\n\u001b[1;32m   1433\u001b[0m \u001b[43m        \u001b[49m\u001b[43mname_to_tool_map\u001b[49m\u001b[43m,\u001b[49m\n\u001b[1;32m   1434\u001b[0m \u001b[43m        \u001b[49m\u001b[43mcolor_mapping\u001b[49m\u001b[43m,\u001b[49m\n\u001b[1;32m   1435\u001b[0m \u001b[43m        \u001b[49m\u001b[43minputs\u001b[49m\u001b[43m,\u001b[49m\n\u001b[1;32m   1436\u001b[0m \u001b[43m        \u001b[49m\u001b[43mintermediate_steps\u001b[49m\u001b[43m,\u001b[49m\n\u001b[1;32m   1437\u001b[0m \u001b[43m        \u001b[49m\u001b[43mrun_manager\u001b[49m\u001b[38;5;241;43m=\u001b[39;49m\u001b[43mrun_manager\u001b[49m\u001b[43m,\u001b[49m\n\u001b[1;32m   1438\u001b[0m \u001b[43m    \u001b[49m\u001b[43m)\u001b[49m\n\u001b[1;32m   1439\u001b[0m     \u001b[38;5;28;01mif\u001b[39;00m \u001b[38;5;28misinstance\u001b[39m(next_step_output, AgentFinish):\n\u001b[1;32m   1440\u001b[0m         \u001b[38;5;28;01mreturn\u001b[39;00m \u001b[38;5;28mself\u001b[39m\u001b[38;5;241m.\u001b[39m_return(\n\u001b[1;32m   1441\u001b[0m             next_step_output, intermediate_steps, run_manager\u001b[38;5;241m=\u001b[39mrun_manager\n\u001b[1;32m   1442\u001b[0m         )\n",
      "File \u001b[0;32m~/Miniconda3/envs/langflow/lib/python3.10/site-packages/langchain/agents/agent.py:1138\u001b[0m, in \u001b[0;36mAgentExecutor._take_next_step\u001b[0;34m(self, name_to_tool_map, color_mapping, inputs, intermediate_steps, run_manager)\u001b[0m\n\u001b[1;32m   1129\u001b[0m \u001b[38;5;28;01mdef\u001b[39;00m \u001b[38;5;21m_take_next_step\u001b[39m(\n\u001b[1;32m   1130\u001b[0m     \u001b[38;5;28mself\u001b[39m,\n\u001b[1;32m   1131\u001b[0m     name_to_tool_map: Dict[\u001b[38;5;28mstr\u001b[39m, BaseTool],\n\u001b[0;32m   (...)\u001b[0m\n\u001b[1;32m   1135\u001b[0m     run_manager: Optional[CallbackManagerForChainRun] \u001b[38;5;241m=\u001b[39m \u001b[38;5;28;01mNone\u001b[39;00m,\n\u001b[1;32m   1136\u001b[0m ) \u001b[38;5;241m-\u001b[39m\u001b[38;5;241m>\u001b[39m Union[AgentFinish, List[Tuple[AgentAction, \u001b[38;5;28mstr\u001b[39m]]]:\n\u001b[1;32m   1137\u001b[0m     \u001b[38;5;28;01mreturn\u001b[39;00m \u001b[38;5;28mself\u001b[39m\u001b[38;5;241m.\u001b[39m_consume_next_step(\n\u001b[0;32m-> 1138\u001b[0m         [\n\u001b[1;32m   1139\u001b[0m             a\n\u001b[1;32m   1140\u001b[0m             \u001b[38;5;28;01mfor\u001b[39;00m a \u001b[38;5;129;01min\u001b[39;00m \u001b[38;5;28mself\u001b[39m\u001b[38;5;241m.\u001b[39m_iter_next_step(\n\u001b[1;32m   1141\u001b[0m                 name_to_tool_map,\n\u001b[1;32m   1142\u001b[0m                 color_mapping,\n\u001b[1;32m   1143\u001b[0m                 inputs,\n\u001b[1;32m   1144\u001b[0m                 intermediate_steps,\n\u001b[1;32m   1145\u001b[0m                 run_manager,\n\u001b[1;32m   1146\u001b[0m             )\n\u001b[1;32m   1147\u001b[0m         ]\n\u001b[1;32m   1148\u001b[0m     )\n",
      "File \u001b[0;32m~/Miniconda3/envs/langflow/lib/python3.10/site-packages/langchain/agents/agent.py:1138\u001b[0m, in \u001b[0;36m<listcomp>\u001b[0;34m(.0)\u001b[0m\n\u001b[1;32m   1129\u001b[0m \u001b[38;5;28;01mdef\u001b[39;00m \u001b[38;5;21m_take_next_step\u001b[39m(\n\u001b[1;32m   1130\u001b[0m     \u001b[38;5;28mself\u001b[39m,\n\u001b[1;32m   1131\u001b[0m     name_to_tool_map: Dict[\u001b[38;5;28mstr\u001b[39m, BaseTool],\n\u001b[0;32m   (...)\u001b[0m\n\u001b[1;32m   1135\u001b[0m     run_manager: Optional[CallbackManagerForChainRun] \u001b[38;5;241m=\u001b[39m \u001b[38;5;28;01mNone\u001b[39;00m,\n\u001b[1;32m   1136\u001b[0m ) \u001b[38;5;241m-\u001b[39m\u001b[38;5;241m>\u001b[39m Union[AgentFinish, List[Tuple[AgentAction, \u001b[38;5;28mstr\u001b[39m]]]:\n\u001b[1;32m   1137\u001b[0m     \u001b[38;5;28;01mreturn\u001b[39;00m \u001b[38;5;28mself\u001b[39m\u001b[38;5;241m.\u001b[39m_consume_next_step(\n\u001b[0;32m-> 1138\u001b[0m         [\n\u001b[1;32m   1139\u001b[0m             a\n\u001b[1;32m   1140\u001b[0m             \u001b[38;5;28;01mfor\u001b[39;00m a \u001b[38;5;129;01min\u001b[39;00m \u001b[38;5;28mself\u001b[39m\u001b[38;5;241m.\u001b[39m_iter_next_step(\n\u001b[1;32m   1141\u001b[0m                 name_to_tool_map,\n\u001b[1;32m   1142\u001b[0m                 color_mapping,\n\u001b[1;32m   1143\u001b[0m                 inputs,\n\u001b[1;32m   1144\u001b[0m                 intermediate_steps,\n\u001b[1;32m   1145\u001b[0m                 run_manager,\n\u001b[1;32m   1146\u001b[0m             )\n\u001b[1;32m   1147\u001b[0m         ]\n\u001b[1;32m   1148\u001b[0m     )\n",
      "File \u001b[0;32m~/Miniconda3/envs/langflow/lib/python3.10/site-packages/langchain/agents/agent.py:1223\u001b[0m, in \u001b[0;36mAgentExecutor._iter_next_step\u001b[0;34m(self, name_to_tool_map, color_mapping, inputs, intermediate_steps, run_manager)\u001b[0m\n\u001b[1;32m   1221\u001b[0m     \u001b[38;5;28;01myield\u001b[39;00m agent_action\n\u001b[1;32m   1222\u001b[0m \u001b[38;5;28;01mfor\u001b[39;00m agent_action \u001b[38;5;129;01min\u001b[39;00m actions:\n\u001b[0;32m-> 1223\u001b[0m     \u001b[38;5;28;01myield\u001b[39;00m \u001b[38;5;28;43mself\u001b[39;49m\u001b[38;5;241;43m.\u001b[39;49m\u001b[43m_perform_agent_action\u001b[49m\u001b[43m(\u001b[49m\n\u001b[1;32m   1224\u001b[0m \u001b[43m        \u001b[49m\u001b[43mname_to_tool_map\u001b[49m\u001b[43m,\u001b[49m\u001b[43m \u001b[49m\u001b[43mcolor_mapping\u001b[49m\u001b[43m,\u001b[49m\u001b[43m \u001b[49m\u001b[43magent_action\u001b[49m\u001b[43m,\u001b[49m\u001b[43m \u001b[49m\u001b[43mrun_manager\u001b[49m\n\u001b[1;32m   1225\u001b[0m \u001b[43m    \u001b[49m\u001b[43m)\u001b[49m\n",
      "File \u001b[0;32m~/Miniconda3/envs/langflow/lib/python3.10/site-packages/langchain/agents/agent.py:1237\u001b[0m, in \u001b[0;36mAgentExecutor._perform_agent_action\u001b[0;34m(self, name_to_tool_map, color_mapping, agent_action, run_manager)\u001b[0m\n\u001b[1;32m   1235\u001b[0m     run_manager\u001b[38;5;241m.\u001b[39mon_agent_action(agent_action, color\u001b[38;5;241m=\u001b[39m\u001b[38;5;124m\"\u001b[39m\u001b[38;5;124mgreen\u001b[39m\u001b[38;5;124m\"\u001b[39m)\n\u001b[1;32m   1236\u001b[0m \u001b[38;5;66;03m# Otherwise we lookup the tool\u001b[39;00m\n\u001b[0;32m-> 1237\u001b[0m \u001b[38;5;28;01mif\u001b[39;00m \u001b[43magent_action\u001b[49m\u001b[38;5;241;43m.\u001b[39;49m\u001b[43mtool\u001b[49m \u001b[38;5;129;01min\u001b[39;00m name_to_tool_map:\n\u001b[1;32m   1238\u001b[0m     tool \u001b[38;5;241m=\u001b[39m name_to_tool_map[agent_action\u001b[38;5;241m.\u001b[39mtool]\n\u001b[1;32m   1239\u001b[0m     return_direct \u001b[38;5;241m=\u001b[39m tool\u001b[38;5;241m.\u001b[39mreturn_direct\n",
      "\u001b[0;31mAttributeError\u001b[0m: 'str' object has no attribute 'tool'"
     ]
    }
   ],
   "source": [
    "from langchain.agents import create_react_agent, AgentExecutor, AgentOutputParser\n",
    "from langchain_core.agents import AgentAction, AgentFinish\n",
    "from langchain_openai import ChatOpenAI\n",
    "from langchain.prompts import PromptTemplate, ChatPromptTemplate, SystemMessagePromptTemplate, MessagesPlaceholder, HumanMessagePromptTemplate\n",
    "from langchain.memory import ConversationBufferMemory\n",
    "from langchain import hub\n",
    "\n",
    "llm = ChatOpenAI(\n",
    "    model=\"gpt-3.5-turbo-0125\",\n",
    "    base_url=\"https://api.chatanywhere.com.cn\",\n",
    "    api_key=\"sk-Ms5F2wAkilaaZYo0HpumWR7qBLkOIsXflNQeAHSrNtmUYjzk\",\n",
    "    temperature=0.5,\n",
    ")\n",
    "\n",
    "template = \"\"\"\n",
    "Answer the following questions as best you can. You have access to the following tools:\n",
    "\n",
    "{tools}\n",
    "\n",
    "Use the following format:\n",
    "\n",
    "Question: the input question you must answer\n",
    "Thought: you should always think about what to do\n",
    "Action: the action to take, should be one of [{tool_names}]\n",
    "Action Input: the input to the action\n",
    "Observation: the result of the action\n",
    "... (this Thought/Action/Action Input/Observation can repeat N times)\n",
    "Thought: I now know the final answer\n",
    "Final Answer: the final answer to the original input question\n",
    "\n",
    "Begin!\n",
    "\n",
    "Question: {input}\n",
    "Thought:{agent_scratchpad}\n",
    "\n",
    "请以中文回答\n",
    "\"\"\"\n",
    "\n",
    "input_variables = ['agent_scratchpad', 'input', 'tool_names', 'tools']\n",
    "\n",
    "prompt_template = PromptTemplate(input_variables=input_variables, template=template)\n",
    "\n",
    "\n",
    "# prompt = hub.pull(\"hwchase17/react\")\n",
    "\n",
    "# class OutputParser(AgentOutputParser):\n",
    "#     def parse(self, text: str) -> AgentAction | AgentFinish:\n",
    "#         return text\n",
    "\n",
    "agent = create_react_agent(llm=llm, tools=tools, prompt=prompt_template)\n",
    "\n",
    "# Add memory\n",
    "memory = ConversationBufferMemory(human_prefix=\"agent\", return_messages=True)\n",
    "agent_executor = AgentExecutor(agent=agent, tools=tools, memory=memory, verbose=True, handle_parsing_errors=\"工具解析错误，请根据你自身知识回答问题\")\n",
    "agent_executor.invoke(input={\"input\": \"介绍苹果\"})"
   ]
  },
  {
   "cell_type": "markdown",
   "metadata": {},
   "source": [
    "# Prompt"
   ]
  },
  {
   "cell_type": "code",
   "execution_count": null,
   "metadata": {},
   "outputs": [
    {
     "name": "stdout",
     "output_type": "stream",
     "text": [
      "input_variables=['agent_scratchpad', 'input', 'tool_names', 'tools'] metadata={'lc_hub_owner': 'hwchase17', 'lc_hub_repo': 'react', 'lc_hub_commit_hash': 'd15fe3c426f1c4b3f37c9198853e4a86e20c425ca7f4752ec0c9b0e97ca7ea4d'} template='Answer the following questions as best you can. You have access to the following tools:\\n\\n{tools}\\n\\nUse the following format:\\n\\nQuestion: the input question you must answer\\nThought: you should always think about what to do\\nAction: the action to take, should be one of [{tool_names}]\\nAction Input: the input to the action\\nObservation: the result of the action\\n... (this Thought/Action/Action Input/Observation can repeat N times)\\nThought: I now know the final answer\\nFinal Answer: the final answer to the original input question\\n\\nBegin!\\n\\nQuestion: {input}\\nThought:{agent_scratchpad}'\n"
     ]
    }
   ],
   "source": [
    "from langchain import hub\n",
    "prompt = hub.pull(\"hwchase17/react\")\n",
    "print(prompt)\n",
    "# prompt.pretty_print()"
   ]
  },
  {
   "cell_type": "code",
   "execution_count": null,
   "metadata": {},
   "outputs": [],
   "source": []
  }
 ],
 "metadata": {
  "kernelspec": {
   "display_name": "langflow",
   "language": "python",
   "name": "python3"
  },
  "language_info": {
   "codemirror_mode": {
    "name": "ipython",
    "version": 3
   },
   "file_extension": ".py",
   "mimetype": "text/x-python",
   "name": "python",
   "nbconvert_exporter": "python",
   "pygments_lexer": "ipython3",
   "version": "3.10.14"
  }
 },
 "nbformat": 4,
 "nbformat_minor": 2
}
