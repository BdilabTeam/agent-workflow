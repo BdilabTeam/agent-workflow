{
 "cells": [
  {
   "cell_type": "markdown",
   "metadata": {},
   "source": [
    "### 工作流节点测试"
   ]
  },
  {
   "cell_type": "markdown",
   "metadata": {},
   "source": [
    "#### workflow-node1"
   ]
  },
  {
   "cell_type": "code",
   "execution_count": 9,
   "metadata": {},
   "outputs": [
    {
     "name": "stdout",
     "output_type": "stream",
     "text": [
      "{'result': {'2': 'output-2'}, 'status': None, 'task': {'id': '6064230688', 'href': 'api/v1/task/6064230688'}, 'session_id': 'OMPP0S:960b00ccd00dc8135df12dbf49436cac23e177515cb50d1c88136e0add9b4094', 'backend': 'anyio'}\n"
     ]
    }
   ],
   "source": [
    "import requests\n",
    "from typing import Optional\n",
    "\n",
    "BASE_API_URL = \"http://127.0.0.1:7860/api/v1/process\"\n",
    "FLOW_ID = \"66c612ca-061f-4b1d-b761-629bfb0464b0\"\n",
    "# You can tweak the flow by adding a tweaks dictionary\n",
    "# e.g {\"OpenAI-XXXXX\": {\"model_name\": \"gpt-4\"}}\n",
    "TWEAKS = {\n",
    "  \"Start-zmfaz\": {\n",
    "    \"start_node_schema\": {\n",
    "        \"input_schema\": {\n",
    "            \"inputParameters\": [\n",
    "                {\n",
    "                    \"name\": \"update_input\",\n",
    "                    \"input\": {\n",
    "                        \"type\": \"string\",\n",
    "                        \"value\": {\n",
    "                            \"type\": \"literal\",\n",
    "                            \"content\": \"hello world\"\n",
    "                        }\n",
    "                    }\n",
    "                }\n",
    "            ]\n",
    "        },\n",
    "        \"output_schema\": \"test\",\n",
    "        \"node_id\": \"111111\"\n",
    "    },\n",
    "\n",
    "  },\n",
    "  # \"Start-zmfaz\": {\"input\": 1},\n",
    "  \"Tool-UXFAK\": {},\n",
    "  \"Knowledge-n3M51\": {},\n",
    "  \"LLM-S9mUg\": {},\n",
    "  \"End-6fZzz\": {}\n",
    "}\n",
    "\n",
    "def run_flow(inputs: dict, flow_id: str, tweaks: Optional[dict] = None) -> dict:\n",
    "    \"\"\"\n",
    "    Run a flow with a given message and optional tweaks.\n",
    "\n",
    "    :param message: The message to send to the flow\n",
    "    :param flow_id: The ID of the flow to run\n",
    "    :param tweaks: Optional tweaks to customize the flow\n",
    "    :return: The JSON response from the flow\n",
    "    \"\"\"\n",
    "    api_url = f\"{BASE_API_URL}/{flow_id}\"\n",
    "\n",
    "    payload = {\"inputs\": inputs}\n",
    "    headers = None\n",
    "    if tweaks:\n",
    "        payload[\"tweaks\"] = tweaks\n",
    "    response = requests.post(api_url, json=payload, headers=headers)\n",
    "    return response.json()\n",
    "\n",
    "# Setup any tweaks you want to apply to the flow\n",
    "inputs = {\"input\": \"message\"}\n",
    "\n",
    "print(run_flow(inputs, flow_id=FLOW_ID, tweaks=TWEAKS))"
   ]
  },
  {
   "cell_type": "markdown",
   "metadata": {},
   "source": [
    "#### workflow-node2"
   ]
  },
  {
   "cell_type": "code",
   "execution_count": 6,
   "metadata": {},
   "outputs": [
    {
     "name": "stdout",
     "output_type": "stream",
     "text": [
      "{'result': {'2': {'k2': 'k2'}, 'prenode_inputs': [{'3': {'k3-1': 'v3-1'}, 'prenode_inputs': [{'5': {'k5': 'v5'}, 'prenode_inputs': [{'111111': {'k1': 'v1', 'k2': 'v2'}, 'input_test': {'input_schema': {'inputParameters': [{'name': 'update_input', 'input': {'type': 'string', 'value': {'type': 'literal', 'content': 'hello world'}}}]}, 'output_schema': 'test', 'node_id': '111111'}}]}, {'4': {'k4': 'v4'}, 'prenode_inputs': [{'111111': {'k1': 'v1', 'k2': 'v2'}, 'input_test': {'input_schema': {'inputParameters': [{'name': 'update_input', 'input': {'type': 'string', 'value': {'type': 'literal', 'content': 'hello world'}}}]}, 'output_schema': 'test', 'node_id': '111111'}}]}]}, {'3': {'k3-1': 'v3-1'}, 'prenode_inputs': [{'5': {'k5': 'v5'}, 'prenode_inputs': [{'111111': {'k1': 'v1', 'k2': 'v2'}, 'input_test': {'input_schema': {'inputParameters': [{'name': 'update_input', 'input': {'type': 'string', 'value': {'type': 'literal', 'content': 'hello world'}}}]}, 'output_schema': 'test', 'node_id': '111111'}}]}]}]}, 'status': None, 'task': {'id': '5953784784', 'href': 'api/v1/task/5953784784'}, 'session_id': 'SHMCFE:c430d0951a8aced12d646b29c835085408d517bf4de9e2e2b6275156180be5ad', 'backend': 'anyio'}\n"
     ]
    }
   ],
   "source": [
    "import requests\n",
    "from typing import Optional\n",
    "\n",
    "BASE_API_URL = \"http://127.0.0.1:7860/api/v1/process\"\n",
    "FLOW_ID = \"fe9d42b4-4707-40fa-ae2a-1aa9ee8816a6\"\n",
    "# You can tweak the flow by adding a tweaks dictionary\n",
    "# e.g {\"OpenAI-XXXXX\": {\"model_name\": \"gpt-4\"}}\n",
    "TWEAKS = {\n",
    "  \"Start-YpUCK\": {\n",
    "    \"start_node_schema\": {\n",
    "        \"input_schema\": {\n",
    "            \"inputParameters\": [\n",
    "                {\n",
    "                    \"name\": \"update_input\",\n",
    "                    \"input\": {\n",
    "                        \"type\": \"string\",\n",
    "                        \"value\": {\n",
    "                            \"type\": \"literal\",\n",
    "                            \"content\": \"hello world\"\n",
    "                        }\n",
    "                    }\n",
    "                }\n",
    "            ]\n",
    "        },\n",
    "        \"output_schema\": \"test\",\n",
    "        \"node_id\": \"111111\"\n",
    "    },\n",
    "  },\n",
    "  \"Tool-ZhX71\": {},\n",
    "  \"Knowledge-XQzAc\": {},\n",
    "  \"LLM-wBKkn\": {},\n",
    "  \"LLM-Z9uGH\": {},\n",
    "  \"End-xgbUa\": {}\n",
    "}\n",
    "\n",
    "def run_flow(inputs: dict, flow_id: str, tweaks: Optional[dict] = None) -> dict:\n",
    "    \"\"\"\n",
    "    Run a flow with a given message and optional tweaks.\n",
    "\n",
    "    :param message: The message to send to the flow\n",
    "    :param flow_id: The ID of the flow to run\n",
    "    :param tweaks: Optional tweaks to customize the flow\n",
    "    :return: The JSON response from the flow\n",
    "    \"\"\"\n",
    "    api_url = f\"{BASE_API_URL}/{flow_id}\"\n",
    "\n",
    "    payload = {\"inputs\": inputs}\n",
    "    headers = None\n",
    "    if tweaks:\n",
    "        payload[\"tweaks\"] = tweaks\n",
    "    payload[\"clear_cache\"] = \n",
    "    response = requests.post(api_url, json=payload, headers=headers)\n",
    "    return response.json()\n",
    "\n",
    "# Setup any tweaks you want to apply to the flow\n",
    "inputs = {\"input\": \"message\"}\n",
    "\n",
    "print(run_flow(inputs, flow_id=FLOW_ID, tweaks=TWEAKS))"
   ]
  },
  {
   "cell_type": "markdown",
   "metadata": {},
   "source": [
    "#### workflow-3"
   ]
  },
  {
   "cell_type": "code",
   "execution_count": 2,
   "metadata": {},
   "outputs": [
    {
     "name": "stdout",
     "output_type": "stream",
     "text": [
      "{'result': {'2': {'k2': 'k2'}, 'prenode_inputs': [{'3': {'k3-1': 'v3-1'}, 'prenode_inputs': [{'4': {'k4': 'v4'}, 'prenode_inputs': [{'None': {'k1': 'v1', 'k2': 'v2'}}]}]}, {'3': {'k3-1': 'v3-1'}, 'prenode_inputs': [{'4': {'k4': 'v4'}, 'prenode_inputs': [{'None': {'k1': 'v1', 'k2': 'v2'}}]}, {'5': {'k5': 'v5'}, 'prenode_inputs': [{'None': {'k1': 'v1', 'k2': 'v2'}}]}]}]}, 'status': None, 'task': {'id': '5791883376', 'href': 'api/v1/task/5791883376'}, 'session_id': 'LT4SXB:941a19c909338f5545911d071e07b270eb4fd041b3e707e093574c1e1c0505e3', 'backend': 'anyio'}\n"
     ]
    }
   ],
   "source": [
    "import requests\n",
    "from typing import Optional\n",
    "\n",
    "BASE_API_URL = \"http://127.0.0.1:7860/api/v1/process\"\n",
    "FLOW_ID = \"4ba5579b-ea31-49b9-a59d-f61117db0202\"\n",
    "# You can tweak the flow by adding a tweaks dictionary\n",
    "# e.g {\"OpenAI-XXXXX\": {\"model_name\": \"gpt-4\"}}\n",
    "TWEAKS = {\n",
    "  \"Start-508OQ\": {\n",
    "    \"start_node_schema\": {\n",
    "        \"input_schema\": {\n",
    "            \"inputParameters\": [\n",
    "                {\n",
    "                    \"name\": \"update_input\",\n",
    "                    \"input\": {\n",
    "                        \"type\": \"string\",\n",
    "                        \"value\": {\n",
    "                            \"type\": \"literal\",\n",
    "                            \"content\": \"hello world\"\n",
    "                        }\n",
    "                    }\n",
    "                }\n",
    "            ]\n",
    "        },\n",
    "        \"output_schema\": \"test\",\n",
    "        \"node_id\": \"111111\"\n",
    "    },\n",
    "  },\n",
    "  \"Tool-8Ghbp\": {},\n",
    "  \"Knowledge-AnxQk\": {},\n",
    "  \"LLM-gXrcy\": {},\n",
    "  \"LLM-7StvN\": {},\n",
    "  \"End-atwEJ\": {}\n",
    "}\n",
    "\n",
    "def run_flow(inputs: dict, flow_id: str, tweaks: Optional[dict] = None) -> dict:\n",
    "    \"\"\"\n",
    "    Run a flow with a given message and optional tweaks.\n",
    "\n",
    "    :param message: The message to send to the flow\n",
    "    :param flow_id: The ID of the flow to run\n",
    "    :param tweaks: Optional tweaks to customize the flow\n",
    "    :return: The JSON response from the flow\n",
    "    \"\"\"\n",
    "    api_url = f\"{BASE_API_URL}/{flow_id}\"\n",
    "\n",
    "    payload = {\"inputs\": inputs}\n",
    "    headers = None\n",
    "    if tweaks:\n",
    "        payload[\"tweaks\"] = tweaks\n",
    "    response = requests.post(api_url, json=payload, headers=headers)\n",
    "    return response.json()\n",
    "\n",
    "# Setup any tweaks you want to apply to the flow\n",
    "inputs = {\"input\": \"message\"}\n",
    "\n",
    "print(run_flow(inputs, flow_id=FLOW_ID, tweaks=TWEAKS))"
   ]
  },
  {
   "cell_type": "markdown",
   "metadata": {},
   "source": [
    "#### workflow stream"
   ]
  },
  {
   "cell_type": "code",
   "execution_count": 2,
   "metadata": {},
   "outputs": [
    {
     "name": "stdout",
     "output_type": "stream",
     "text": [
      "{'result': {'prenode_inputs': [{'prenode_inputs': [{'prenode_inputs': [{'1': {'start-key': 'start-value'}}], '5': {'tool-key': 'tool-value'}}, {'4': {'knowledge-key': 'knowledge-value'}, 'prenode_inputs': [{'1': {'start-key': 'start-value'}}]}], '3': {'llm-key': 'llm-value'}}, {'1': {'start-key': 'start-value'}}, {'prenode_inputs': [{'1': {'start-key': 'start-value'}}], '5': {'tool-key': 'tool-value'}}, {'4': {'knowledge-key': 'knowledge-value'}, 'prenode_inputs': [{'1': {'start-key': 'start-value'}}]}], '2': {'end-key': 'end-value'}}, 'status': None, 'task': {'id': '6062734560', 'href': 'api/v1/task/6062734560'}, 'session_id': 'K18M4M:5ccec877acb8bcb53d3dacb1674fbd99cb687db4c4610cea504734122a458ff3', 'backend': 'anyio'}\n"
     ]
    }
   ],
   "source": [
    "import requests\n",
    "from typing import Optional\n",
    "\n",
    "BASE_API_URL = \"http://127.0.0.1:7860/api/v1/process\"\n",
    "FLOW_ID = \"31a7edf2-14ec-455c-b5bb-dac019004ce2\"\n",
    "# You can tweak the flow by adding a tweaks dictionary\n",
    "# e.g {\"OpenAI-XXXXX\": {\"model_name\": \"gpt-4\"}}\n",
    "TWEAKS = {\n",
    "  \"Start-vDtSl\": {},\n",
    "  \"Tool-Ishps\": {},\n",
    "  \"LLM-4QqDG\": {},\n",
    "  \"End-s9uAt\": {},\n",
    "  \"Knowledge-jm8pV\": {}\n",
    "}\n",
    "\n",
    "def run_flow(inputs: dict, flow_id: str, tweaks: Optional[dict] = None) -> dict:\n",
    "    \"\"\"\n",
    "    Run a flow with a given message and optional tweaks.\n",
    "\n",
    "    :param message: The message to send to the flow\n",
    "    :param flow_id: The ID of the flow to run\n",
    "    :param tweaks: Optional tweaks to customize the flow\n",
    "    :return: The JSON response from the flow\n",
    "    \"\"\"\n",
    "    api_url = f\"{BASE_API_URL}/{flow_id}\"\n",
    "\n",
    "    payload = {\"inputs\": inputs}\n",
    "    headers = None\n",
    "    if tweaks:\n",
    "        payload[\"tweaks\"] = tweaks\n",
    "    response = requests.post(api_url, json=payload, headers=headers)\n",
    "    return response.json()\n",
    "\n",
    "# Setup any tweaks you want to apply to the flow\n",
    "inputs = {\"input\": \"message\"}\n",
    "\n",
    "print(run_flow(inputs, flow_id=FLOW_ID, tweaks=TWEAKS))"
   ]
  },
  {
   "cell_type": "markdown",
   "metadata": {},
   "source": [
    "#### find value from dict"
   ]
  },
  {
   "cell_type": "code",
   "execution_count": 11,
   "metadata": {},
   "outputs": [
    {
     "name": "stdout",
     "output_type": "stream",
     "text": [
      "4\n"
     ]
    }
   ],
   "source": [
    "def find_key(d, target_key):\n",
    "    if isinstance(d, dict):\n",
    "        for key, value in d.items():\n",
    "            if key == target_key:\n",
    "                return value\n",
    "            if isinstance(value, dict):\n",
    "                result = find_key(value, target_key)\n",
    "                if result is not None:\n",
    "                    return result\n",
    "            elif isinstance(value, list):\n",
    "                for item in value:\n",
    "                    result = find_key(item, target_key)\n",
    "                    if result is not None:\n",
    "                        return result\n",
    "    return None\n",
    "\n",
    "# 示例字典\n",
    "data = {\n",
    "    'result': {\n",
    "        '2': [\n",
    "            {\n",
    "                '3': [\n",
    "                    {'4': '4'},\n",
    "                    {'5': 'prenode_inputs'}\n",
    "                ]\n",
    "            },\n",
    "            {\n",
    "                '3': [\n",
    "                    {'4': '4'}\n",
    "                ]\n",
    "            }\n",
    "        ]\n",
    "    },\n",
    "    'status': None,\n",
    "    'task': {\n",
    "        'id': '6075706688',\n",
    "        'href': 'api/v1/task/6075706688'\n",
    "    },\n",
    "    'session_id': 'OFCP5C:56c37a1ee206f974b1d56de28e2e4f12aa33d1ad02e09036b853a0105212c7be',\n",
    "    'backend': 'anyio'\n",
    "}\n",
    "\n",
    "# 查找key为'task'的value\n",
    "value = find_key(data, '4')\n",
    "print(value)"
   ]
  },
  {
   "cell_type": "code",
   "execution_count": 13,
   "metadata": {},
   "outputs": [
    {
     "name": "stdout",
     "output_type": "stream",
     "text": [
      "prenode_inputs: [{'StartID': {'start-key': 'start-value'}}]\n",
      "StartID: {'start-key': 'start-value'}\n",
      "ToolID: {'tool-key': 'tool-value'}\n"
     ]
    },
    {
     "data": {
      "text/plain": [
       "{'StartID': {'start-key': 'start-value'}, 'ToolID': {'tool-key': 'tool-value'}}"
      ]
     },
     "execution_count": 13,
     "metadata": {},
     "output_type": "execute_result"
    }
   ],
   "source": [
    "\n",
    "prenode_inputs = [\n",
    "    {\n",
    "        \"prenode_inputs\": [\n",
    "            {\n",
    "                \"StartID\": {\n",
    "                    \"start-key\": \"start-value\"\n",
    "                }\n",
    "            }\n",
    "        ],\n",
    "        \"ToolID\": {\n",
    "            \"tool-key\": \"tool-value\"\n",
    "        }\n",
    "    }\n",
    "]\n",
    "\n",
    "all_nodes_res = {\n",
    "    \n",
    "}\n",
    "\n",
    "def get_nodes_result(prenode_inputs):\n",
    "    for prenode_input in prenode_inputs:\n",
    "        for k, v in prenode_input.items():\n",
    "            print(f\"{k}: {v}\")\n",
    "            if k == \"prenode_inputs\":\n",
    "                get_nodes_result(v)\n",
    "            if k != \"prenode_inputs\":\n",
    "                all_nodes_res.update({k: v})\n",
    "\n",
    "get_nodes_result(prenode_inputs=prenode_inputs)\n",
    "all_nodes_res\n",
    "        "
   ]
  },
  {
   "cell_type": "markdown",
   "metadata": {},
   "source": [
    "#### 输出数据结构"
   ]
  },
  {
   "cell_type": "code",
   "execution_count": 33,
   "metadata": {},
   "outputs": [],
   "source": [
    "import time\n",
    "import json\n",
    "\n",
    "from pydantic import BaseModel\n",
    "from pydantic.fields import Field\n",
    "from typing import Literal, List, Union, Optional, Any\n",
    "\n",
    "class TokenAndCost(BaseModel):\n",
    "    input_tokens: str = Field(description=\"输入tokens\")\n",
    "    input_cost: str = Field(default=\"$0.0\", description=\"输入tokens计费金额\")\n",
    "    output_tokens: str = Field(description=\"输出tokens\")\n",
    "    output_cost: str = Field(default=\"$0.0\", description=\"输初tokens计费金额\")\n",
    "    total_tokens: str = Field(description=\"总tokens\")\n",
    "    total_cost: str = Field(default=\"$0.0\", description=\"总计tokens计费金额\")\n",
    "\n",
    "class NodeData(BaseModel):\n",
    "    node_id: str = Field(description=\"节点ID\")\n",
    "    node_type: str = Field(description=\"节点类型\")\n",
    "    node_name: str = Field(default=\"\", description=\"节点名称\")\n",
    "    node_status: Literal[\"RUNNING\", \"FAILED\", \"SUCCESS\"] = Field(default=\"RUNNING\", description=\"节点状态\")\n",
    "    error_info: Optional[str] = Field(description=\"节点状态为：FAILED时，需提供错误信息\")\n",
    "    input: str = Field(description=\"节点解析后的输入\")\n",
    "    output: str = Field(description=\"节点解析后的输出\")\n",
    "    node_exe_cost: str = Field(description=\"节点运行时间\")\n",
    "    raw_output: str = Field(description=\"节点原始输出\")\n",
    "    extra: Optional[str]\n",
    "    token_and_cost: TokenAndCost = Field(description=\"tokens与计费\")\n",
    "    \n",
    "class EndNodeResponse(BaseModel):\n",
    "    node_data: NodeData = Field(description=\"当前节点输出数据\")\n",
    "    all_nodes_data: List[NodeData] = Field(description=\"所有节点输出\")"
   ]
  },
  {
   "cell_type": "code",
   "execution_count": 34,
   "metadata": {},
   "outputs": [],
   "source": [
    "# prenode_inputs = [\n",
    "#     {\n",
    "#         \"prenode_inputs\": [\n",
    "#             {\n",
    "#                 \"node_data\": {\n",
    "#                     \"node_id\": \"ToolID\",\n",
    "#                     \"node_type\": \"Tool\",\n",
    "#                     \"node_name\": \"\",\n",
    "#                     \"node_status\": \"SUCCESS\",\n",
    "#                     \"error_info\": \"\",\n",
    "#                     \"input\": \"{\\\"input_key\\\": \\\"input_value\\\"}\",\n",
    "#                     \"output\": \"{\\\"output_key1\\\": \\\"Tool node raw output\\\", \\\"output_key2\\\": \\\"Tool node raw output\\\"}\",\n",
    "#                     \"node_exe_cost\": \"0.81s\",\n",
    "#                     \"raw_output\": \"Tool node raw output\",\n",
    "#                     \"extra\": \"\",\n",
    "#                     \"token_and_cost\": {\n",
    "#                         \"input_tokens\": \"128 Tokens\",\n",
    "#                         \"input_cost\": \"$0.0\",\n",
    "#                         \"output_tokens\": \"73 Tokens\",\n",
    "#                         \"output_cost\": \"$0.0\",\n",
    "#                         \"total_tokens\": \"201 Tokens\",\n",
    "#                         \"total_cost\": \"$0.0\"\n",
    "#                     }\n",
    "#                 },\n",
    "#             },\n",
    "#             {\n",
    "#                 \"node_data\": {\n",
    "#                     \"node_id\": \"KnowledgeID\",\n",
    "#                     \"node_type\": \"Knowledge\",\n",
    "#                     \"node_name\": \"\",\n",
    "#                     \"node_status\": \"SUCCESS\",\n",
    "#                     \"error_info\": \"\",\n",
    "#                     \"input\": \"{\\\"input_key\\\": \\\"input_value\\\"}\",\n",
    "#                     \"output\": \"{\\\"output_key1\\\": \\\"Knowledge node raw output\\\", \\\"output_key2\\\": \\\"Knowledge node raw output\\\"}\",\n",
    "#                     \"node_exe_cost\": \"0.81s\",\n",
    "#                     \"raw_output\": \"Knowledge node raw output\",\n",
    "#                     \"extra\": \"\",\n",
    "#                     \"token_and_cost\": {\n",
    "#                         \"input_tokens\": \"128 Tokens\",\n",
    "#                         \"input_cost\": \"$0.0\",\n",
    "#                         \"output_tokens\": \"73 Tokens\",\n",
    "#                         \"output_cost\": \"$0.0\",\n",
    "#                         \"total_tokens\": \"201 Tokens\",\n",
    "#                         \"total_cost\": \"$0.0\"\n",
    "#                     }\n",
    "#                 },\n",
    "#             },\n",
    "#             {\n",
    "#                 \"node_data\": {\n",
    "#                     \"node_id\": \"KnowledgeID\",\n",
    "#                     \"node_type\": \"Knowledge\",\n",
    "#                     \"node_name\": \"\",\n",
    "#                     \"node_status\": \"SUCCESS\",\n",
    "#                     \"error_info\": \"\",\n",
    "#                     \"input\": \"{\\\"input_key\\\": \\\"input_value\\\"}\",\n",
    "#                     \"output\": \"{\\\"output_key1\\\": \\\"Knowledge node raw output\\\", \\\"output_key2\\\": \\\"Knowledge node raw output\\\"}\",\n",
    "#                     \"node_exe_cost\": \"0.81s\",\n",
    "#                     \"raw_output\": \"Knowledge node raw output\",\n",
    "#                     \"extra\": \"\",\n",
    "#                     \"token_and_cost\": {\n",
    "#                         \"input_tokens\": \"128 Tokens\",\n",
    "#                         \"input_cost\": \"$0.0\",\n",
    "#                         \"output_tokens\": \"73 Tokens\",\n",
    "#                         \"output_cost\": \"$0.0\",\n",
    "#                         \"total_tokens\": \"201 Tokens\",\n",
    "#                         \"total_cost\": \"$0.0\"\n",
    "#                     }\n",
    "#                 },\n",
    "#             },\n",
    "#         ],\n",
    "#         \"node_data\": {\n",
    "#             \"node_id\": \"EndID\",\n",
    "#             \"node_type\": \"End\",\n",
    "#             \"node_name\": \"\",\n",
    "#             \"node_status\": \"SUCCESS\",\n",
    "#             \"error_info\": \"\",\n",
    "#             \"input\": \"{\\\"input_key\\\": \\\"input_value\\\"}\",\n",
    "#             \"output\": \"{\\\"end_key1\\\": \\\"End node raw output\\\", \\\"end_key2\\\": \\\"End node raw output\\\"}\",\n",
    "#             \"node_exe_cost\": \"0.8s\",\n",
    "#             \"raw_output\": \"End node raw output\",\n",
    "#             \"extra\": \"\",\n",
    "#             \"token_and_cost\": {\n",
    "#                 \"input_tokens\": \"128 Tokens\",\n",
    "#                 \"input_cost\": \"$0.0\",\n",
    "#                 \"output_tokens\": \"73 Tokens\",\n",
    "#                 \"output_cost\": \"$0.0\",\n",
    "#                 \"total_tokens\": \"201 Tokens\",\n",
    "#                 \"total_cost\": \"$0.0\"\n",
    "#             }\n",
    "#         }\n",
    "#     }\n",
    "# ]\n",
    "\n",
    "# end_node_schema = {\"node_id\": \"EndID\"}"
   ]
  },
  {
   "cell_type": "code",
   "execution_count": 35,
   "metadata": {},
   "outputs": [],
   "source": [
    "{\n",
    "    \"prenode_inputs\": [\n",
    "        {\n",
    "            \"node_data\": {\n",
    "                \"node_id\": \"ToolID\",\n",
    "                \"node_type\": \"Tool\",\n",
    "                \"node_name\": \"\",\n",
    "                \"node_status\": \"SUCCESS\",\n",
    "                \"error_info\": \"\",\n",
    "                \"input\": \"{\\\"input_key\\\": \\\"input_value\\\"}\",\n",
    "                \"output\": \"{\\\"output_key1\\\": \\\"Tool node raw output\\\", \\\"output_key2\\\": \\\"Tool node raw output\\\"}\",\n",
    "                \"node_exe_cost\": \"0.81s\",\n",
    "                \"raw_output\": \"Tool node raw output\",\n",
    "                \"extra\": \"\",\n",
    "                \"token_and_cost\": {\n",
    "                    \"input_tokens\": \"128 Tokens\",\n",
    "                    \"input_cost\": \"$0.0\",\n",
    "                    \"output_tokens\": \"73 Tokens\",\n",
    "                    \"output_cost\": \"$0.0\",\n",
    "                    \"total_tokens\": \"201 Tokens\",\n",
    "                    \"total_cost\": \"$0.0\"\n",
    "                }\n",
    "            },\n",
    "            \"prenode_inputs\": [\n",
    "                {\n",
    "                    \"node_data\": {\n",
    "                        \"node_id\": \"StartID\",\n",
    "                        \"node_type\": \"Start\",\n",
    "                        \"node_name\": \"\",\n",
    "                        \"node_status\": \"SUCCESS\",\n",
    "                        \"error_info\": \"\",\n",
    "                        \"input\": \"{\\\"input_key\\\": \\\"input_value\\\"}\",\n",
    "                        \"output\": \"{\\\"output_key1\\\": \\\"Start node raw output\\\", \\\"output_key2\\\": \\\"Start node raw output\\\"}\",\n",
    "                        \"node_exe_cost\": \"0.81s\",\n",
    "                        \"raw_output\": \"Start node raw output\",\n",
    "                        \"extra\": \"\",\n",
    "                        \"token_and_cost\": {\n",
    "                            \"input_tokens\": \"128 Tokens\",\n",
    "                            \"input_cost\": \"$0.0\",\n",
    "                            \"output_tokens\": \"73 Tokens\",\n",
    "                            \"output_cost\": \"$0.0\",\n",
    "                            \"total_tokens\": \"201 Tokens\",\n",
    "                            \"total_cost\": \"$0.0\"\n",
    "                        }\n",
    "                    }\n",
    "                }\n",
    "            ]\n",
    "        },\n",
    "        {\n",
    "            \"node_data\": {\n",
    "                \"node_id\": \"KnowledgeID\",\n",
    "                \"node_type\": \"Knowledge\",\n",
    "                \"node_name\": \"\",\n",
    "                \"node_status\": \"SUCCESS\",\n",
    "                \"error_info\": \"\",\n",
    "                \"input\": \"{\\\"input_key\\\": \\\"input_value\\\"}\",\n",
    "                \"output\": \"{\\\"output_key1\\\": \\\"Knowledge node raw output\\\", \\\"output_key2\\\": \\\"Knowledge node raw output\\\"}\",\n",
    "                \"node_exe_cost\": \"0.81s\",\n",
    "                \"raw_output\": \"Knowledge node raw output\",\n",
    "                \"extra\": \"\",\n",
    "                \"token_and_cost\": {\n",
    "                    \"input_tokens\": \"128 Tokens\",\n",
    "                    \"input_cost\": \"$0.0\",\n",
    "                    \"output_tokens\": \"73 Tokens\",\n",
    "                    \"output_cost\": \"$0.0\",\n",
    "                    \"total_tokens\": \"201 Tokens\",\n",
    "                    \"total_cost\": \"$0.0\"\n",
    "                }\n",
    "            }\n",
    "        }\n",
    "    ],\n",
    "    \"node_data\": {\n",
    "        \"node_id\": \"EndID\",\n",
    "        \"node_type\": \"End\",\n",
    "        \"node_name\": \"\",\n",
    "        \"node_status\": \"SUCCESS\",\n",
    "        \"error_info\": \"\",\n",
    "        \"input\": \"{\\\"input_key\\\": \\\"input_value\\\"}\",\n",
    "        \"output\": \"{\\\"end_key1\\\": \\\"End node raw output\\\", \\\"end_key2\\\": \\\"End node raw output\\\"}\",\n",
    "        \"node_exe_cost\": \"0.8s\",\n",
    "        \"raw_output\": \"End node raw output\",\n",
    "        \"extra\": \"\",\n",
    "        \"token_and_cost\": {\n",
    "            \"input_tokens\": \"128 Tokens\",\n",
    "            \"input_cost\": \"$0.0\",\n",
    "            \"output_tokens\": \"73 Tokens\",\n",
    "            \"output_cost\": \"$0.0\",\n",
    "            \"total_tokens\": \"201 Tokens\",\n",
    "            \"total_cost\": \"$0.0\"\n",
    "        }\n",
    "    }\n",
    "}\n",
    "\n",
    "end_node_schema = {\"node_id\": \"EndID\"}"
   ]
  },
  {
   "cell_type": "code",
   "execution_count": 40,
   "metadata": {},
   "outputs": [
    {
     "name": "stdout",
     "output_type": "stream",
     "text": [
      "{'node_data': {'node_id': 'EndID', 'node_type': 'End', 'node_name': '', 'node_status': 'SUCCESS', 'error_info': '', 'input': '{\"input_key\": \"input_value\"}', 'output': '{\"end_key1\": \"End node raw output\", \"end_key2\": \"End node raw output\"}', 'node_exe_cost': '0.8s', 'raw_output': 'End node raw output', 'extra': '', 'token_and_cost': {'input_tokens': '128 Tokens', 'input_cost': '$0.0', 'output_tokens': '73 Tokens', 'output_cost': '$0.0', 'total_tokens': '201 Tokens', 'total_cost': '$0.0'}}, 'all_nodes_data': [{'node_id': 'ToolID', 'node_type': 'Tool', 'node_name': '', 'node_status': 'SUCCESS', 'error_info': '', 'input': '{\"input_key\": \"input_value\"}', 'output': '{\"output_key1\": \"Tool node raw output\", \"output_key2\": \"Tool node raw output\"}', 'node_exe_cost': '0.81s', 'raw_output': 'Tool node raw output', 'extra': '', 'token_and_cost': {'input_tokens': '128 Tokens', 'input_cost': '$0.0', 'output_tokens': '73 Tokens', 'output_cost': '$0.0', 'total_tokens': '201 Tokens', 'total_cost': '$0.0'}}, {'node_id': 'KnowledgeID', 'node_type': 'Knowledge', 'node_name': '', 'node_status': 'SUCCESS', 'error_info': '', 'input': '{\"input_key\": \"input_value\"}', 'output': '{\"output_key1\": \"Knowledge node raw output\", \"output_key2\": \"Knowledge node raw output\"}', 'node_exe_cost': '0.81s', 'raw_output': 'Knowledge node raw output', 'extra': '', 'token_and_cost': {'input_tokens': '128 Tokens', 'input_cost': '$0.0', 'output_tokens': '73 Tokens', 'output_cost': '$0.0', 'total_tokens': '201 Tokens', 'total_cost': '$0.0'}}, {'node_id': 'EndID', 'node_type': 'End', 'node_name': '', 'node_status': 'SUCCESS', 'error_info': '', 'input': '{\"input_key\": \"input_value\"}', 'output': '{\"end_key1\": \"End node raw output\", \"end_key2\": \"End node raw output\"}', 'node_exe_cost': '0.8s', 'raw_output': 'End node raw output', 'extra': '', 'token_and_cost': {'input_tokens': '128 Tokens', 'input_cost': '$0.0', 'output_tokens': '73 Tokens', 'output_cost': '$0.0', 'total_tokens': '201 Tokens', 'total_cost': '$0.0'}}]}\n"
     ]
    },
    {
     "data": {
      "text/plain": [
       "{'k1': 'v1',\n",
       " 'node_data': {'node_id': 'EndID',\n",
       "  'node_type': 'End',\n",
       "  'node_name': '',\n",
       "  'node_status': 'SUCCESS',\n",
       "  'error_info': '',\n",
       "  'input': '{\"input_key\": \"input_value\"}',\n",
       "  'output': '{\"end_key1\": \"End node raw output\", \"end_key2\": \"End node raw output\"}',\n",
       "  'node_exe_cost': '0.8s',\n",
       "  'raw_output': 'End node raw output',\n",
       "  'extra': '',\n",
       "  'token_and_cost': {'input_tokens': '128 Tokens',\n",
       "   'input_cost': '$0.0',\n",
       "   'output_tokens': '73 Tokens',\n",
       "   'output_cost': '$0.0',\n",
       "   'total_tokens': '201 Tokens',\n",
       "   'total_cost': '$0.0'}},\n",
       " 'all_nodes_data': [{'node_id': 'ToolID',\n",
       "   'node_type': 'Tool',\n",
       "   'node_name': '',\n",
       "   'node_status': 'SUCCESS',\n",
       "   'error_info': '',\n",
       "   'input': '{\"input_key\": \"input_value\"}',\n",
       "   'output': '{\"output_key1\": \"Tool node raw output\", \"output_key2\": \"Tool node raw output\"}',\n",
       "   'node_exe_cost': '0.81s',\n",
       "   'raw_output': 'Tool node raw output',\n",
       "   'extra': '',\n",
       "   'token_and_cost': {'input_tokens': '128 Tokens',\n",
       "    'input_cost': '$0.0',\n",
       "    'output_tokens': '73 Tokens',\n",
       "    'output_cost': '$0.0',\n",
       "    'total_tokens': '201 Tokens',\n",
       "    'total_cost': '$0.0'}},\n",
       "  {'node_id': 'KnowledgeID',\n",
       "   'node_type': 'Knowledge',\n",
       "   'node_name': '',\n",
       "   'node_status': 'SUCCESS',\n",
       "   'error_info': '',\n",
       "   'input': '{\"input_key\": \"input_value\"}',\n",
       "   'output': '{\"output_key1\": \"Knowledge node raw output\", \"output_key2\": \"Knowledge node raw output\"}',\n",
       "   'node_exe_cost': '0.81s',\n",
       "   'raw_output': 'Knowledge node raw output',\n",
       "   'extra': '',\n",
       "   'token_and_cost': {'input_tokens': '128 Tokens',\n",
       "    'input_cost': '$0.0',\n",
       "    'output_tokens': '73 Tokens',\n",
       "    'output_cost': '$0.0',\n",
       "    'total_tokens': '201 Tokens',\n",
       "    'total_cost': '$0.0'}},\n",
       "  {'node_id': 'EndID',\n",
       "   'node_type': 'End',\n",
       "   'node_name': '',\n",
       "   'node_status': 'SUCCESS',\n",
       "   'error_info': '',\n",
       "   'input': '{\"input_key\": \"input_value\"}',\n",
       "   'output': '{\"end_key1\": \"End node raw output\", \"end_key2\": \"End node raw output\"}',\n",
       "   'node_exe_cost': '0.8s',\n",
       "   'raw_output': 'End node raw output',\n",
       "   'extra': '',\n",
       "   'token_and_cost': {'input_tokens': '128 Tokens',\n",
       "    'input_cost': '$0.0',\n",
       "    'output_tokens': '73 Tokens',\n",
       "    'output_cost': '$0.0',\n",
       "    'total_tokens': '201 Tokens',\n",
       "    'total_cost': '$0.0'}}]}"
      ]
     },
     "execution_count": 40,
     "metadata": {},
     "output_type": "execute_result"
    }
   ],
   "source": [
    "\n",
    "def end(prenode_inputs, end_node_schema):\n",
    "    error_info = \"\"\n",
    "    extra = \"\"\n",
    "    node_name = \"\"\n",
    "    node_id = end_node_schema.get(\"node_id\")\n",
    "    parsed_input_json = \"\"\n",
    "    parsed_output_json = \"\"\n",
    "    raw_output = \"\"\n",
    "    all_nodes_data = []\n",
    "    \n",
    "    start_time = time.time()\n",
    "    time.sleep(0.8)\n",
    "    try:\n",
    "        # TODO 处理节点输入\n",
    "        parsed_input = {\"input_key\": \"input_value\"}\n",
    "        parsed_input_json = json.dumps(parsed_input)\n",
    "        # TODO 实际业务逻辑\n",
    "        raw_output = \"End node raw output\"\n",
    "        # TODO 处理节点输出\n",
    "        parsed_output = {\n",
    "            \"end_key1\": raw_output,\n",
    "            \"end_key2\": raw_output\n",
    "        }\n",
    "        parsed_output_json = json.dumps(parsed_output)\n",
    "        \n",
    "        # 获取所有节点输出，key为节点ID，value为节点原始输出\n",
    "        node_ids = []\n",
    "        def get_nodes_result(prenode_inputs):\n",
    "            for prenode_input in prenode_inputs:\n",
    "                for k, v in prenode_input.items():\n",
    "                    if k == \"prenode_inputs\":\n",
    "                        get_nodes_result(v)\n",
    "                    if k != \"prenode_inputs\":\n",
    "                        if v.get(\"node_id\") not in node_ids:\n",
    "                            node_ids.append(v.get(\"node_id\"))\n",
    "                            all_nodes_data.append(NodeData(**v))\n",
    "\n",
    "        get_nodes_result(prenode_inputs=prenode_inputs)\n",
    "        \n",
    "        # 模拟异常\n",
    "        # raise ValueError(\"End节点发生异常\")\n",
    "        \n",
    "        node_status = \"SUCCESS\"\n",
    "    except Exception as e:\n",
    "        node_status = \"FAILED\"\n",
    "        error_info = e\n",
    "\n",
    "    end_time = time.time()\n",
    "    node_exe_cost = f\"{round((end_time - start_time), 2)}s\"\n",
    "    \n",
    "    # TODO \n",
    "    token_and_cost = TokenAndCost(\n",
    "        input_tokens=\"128 Tokens\",\n",
    "        output_tokens=\"73 Tokens\",\n",
    "        total_tokens=\"201 Tokens\"\n",
    "    )\n",
    "    \n",
    "    node_data =  NodeData(\n",
    "        node_id=node_id,\n",
    "        node_type=\"End\",\n",
    "        node_name=node_name,\n",
    "        node_status=node_status,\n",
    "        error_info=error_info,\n",
    "        input=parsed_input_json,\n",
    "        output=parsed_output_json,\n",
    "        node_exe_cost=node_exe_cost,\n",
    "        raw_output=raw_output,\n",
    "        extra=extra,\n",
    "        token_and_cost=token_and_cost\n",
    "    )\n",
    "    \n",
    "    \n",
    "    return EndNodeResponse(\n",
    "        node_data=node_data,\n",
    "        all_nodes_data=all_nodes_data\n",
    "    ).model_dump()\n",
    "\n",
    "# end_output_json = end(prenode_inputs=prenode_inputs, end_node_schema=end_node_schema)\n",
    "# print(f\"end_output_json: {end_output_json}\")\n",
    "\n",
    "# end_output_dict = json.loads(end_output_json)\n",
    "\n",
    "end_output_dict = end(prenode_inputs=prenode_inputs, end_node_schema=end_node_schema)\n",
    "print(end_output_dict)\n",
    "d = {\"k1\": \"v1\"}\n",
    "d.update(end_output_dict)\n",
    "d"
   ]
  },
  {
   "cell_type": "markdown",
   "metadata": {},
   "source": [
    "#### Input解析"
   ]
  },
  {
   "cell_type": "code",
   "execution_count": 43,
   "metadata": {},
   "outputs": [
    {
     "name": "stderr",
     "output_type": "stream",
     "text": [
      "/Users/treasures_y/Miniconda3/envs/langflow/lib/python3.10/site-packages/pydantic/_internal/_config.py:334: UserWarning: Valid config keys have changed in V2:\n",
      "* 'orm_mode' has been renamed to 'from_attributes'\n",
      "  warnings.warn(message, UserWarning)\n",
      "/Users/treasures_y/Miniconda3/envs/langflow/lib/python3.10/site-packages/pydantic/_internal/_fields.py:200: UserWarning: Field name \"schema\" in \"Schema\" shadows an attribute in parent \"BaseModel\"\n",
      "  warnings.warn(\n",
      "/Users/treasures_y/Miniconda3/envs/langflow/lib/python3.10/site-packages/pydantic/_internal/_fields.py:200: UserWarning: Field name \"schema\" in \"Input\" shadows an attribute in parent \"BaseModel\"\n",
      "  warnings.warn(\n",
      "/Users/treasures_y/Miniconda3/envs/langflow/lib/python3.10/site-packages/pydantic/_internal/_config.py:334: UserWarning: Valid config keys have changed in V2:\n",
      "* 'allow_population_by_field_name' has been renamed to 'populate_by_name'\n",
      "* 'orm_mode' has been renamed to 'from_attributes'\n",
      "  warnings.warn(message, UserWarning)\n",
      "/Users/treasures_y/Miniconda3/envs/langflow/lib/python3.10/site-packages/pydantic/_internal/_fields.py:200: UserWarning: Field name \"schema\" in \"Output\" shadows an attribute in parent \"BaseModel\"\n",
      "  warnings.warn(\n"
     ]
    }
   ],
   "source": [
    "from pydantic import BaseModel, Field\n",
    "from pydantic.fields import Field\n",
    "from typing import Literal, List, Union, Optional, Any\n",
    "import ast\n",
    "\n",
    "class RefContent(BaseModel):\n",
    "    source_id: str = Field(description=\"源节点ID\")\n",
    "    name: str = Field(description=\"引用字段名\", examples=[\"ouput1\", \"output1.param1\"])\n",
    "\n",
    "class Value(BaseModel):\n",
    "    type: Literal[\"ref\", \"literal\"] = Field(description=\"当前值类型，ref表示引用前置节点输出；literal表示用户输入\")\n",
    "    # java转-使用Any、python转-str\n",
    "    content: Union[str, Any, RefContent] = Field(description=\"当前值内容\", examples=[\"用户输入\", '{\"source\": \"block-output\", \"blockID\": \"100001\", \"name\": \"p10.p101\"}'])\n",
    "\n",
    "class Schema(BaseModel):\n",
    "    type: Optional[str] = Field(description=\"当前schema的类型\", examples=[\"string\", \"integer\", \"number\", \"boolean\", \"list\", \"object\"])\n",
    "    name: Optional[str] = Field(default=None, description=\"当前schema的名称\")\n",
    "    schema: Optional[Union['Schema', List['Schema']]] = Field(default=None, description=\"嵌套schema。例如当前type为object，object的schema也需要定义，需要嵌套定义schema\", examples=['[{\"name\": \"param1\"}, {\"name\": \"param2\"}]'])\n",
    "    # required: bool = False\n",
    "\n",
    "    class Config:\n",
    "        # This is required for self-referencing models\n",
    "        orm_mode = True\n",
    "        # allow_population_by_field_name = True\n",
    "        \n",
    "class Input(BaseModel):\n",
    "    type: Optional[str]   # Literal[\"String\", \"Integer\"]\n",
    "    schema: Optional[Union[Schema, List[Schema]]] = Field(default=None, description=\"当前类型schema。例如当前type为object，object的schema也需要定义，需要嵌套定义schema\", examples=['[{\"name\": \"param1\"}, {\"name\": \"param2\"}]'])\n",
    "    value: Value\n",
    "    \n",
    "    class Config:\n",
    "        orm_mode = True\n",
    "\n",
    "class InputParameter(BaseModel):\n",
    "    name: str\n",
    "    input: Input\n",
    "\n",
    "class Inputs(BaseModel):\n",
    "    \"\"\"输入schema\"\"\"\n",
    "    inputParameters: List[InputParameter]\n",
    "    \n",
    "class Output(BaseModel):\n",
    "    type: str = Field(description=\"字段类型\", examples=[\"string\", \"integer\", \"number\", \"boolean\"])\n",
    "    name: str = Field(description=\"字段名称\")\n",
    "    schema: Optional[Union[Schema, List[Schema]]] = Field(default=None, description=\"当前类型schema。例如当前type为object，object的schema也需要定义，需要嵌套定义schema\", examples=['[{\"name\": \"param1\"}, {\"name\": \"param2\"}]'])\n",
    "    # required: bool = False\n",
    "\n",
    "    class Config:\n",
    "        orm_mode = True\n",
    "        allow_population_by_field_name = True\n",
    "\n",
    "class Outputs(BaseModel):\n",
    "    \"\"\"输出schema\"\"\"\n",
    "    outputs: List[Output]\n",
    "    \n",
    "class StartNode(BaseModel):\n",
    "    \"\"\"开始节点schema\"\"\"\n",
    "    flow_id: str = Field(description=\"流ID，用于关联中间结果\")\n",
    "    node_id: str = Field(description=\"节点ID\")\n",
    "    input_schema: Inputs = Field(description=\"结束节点输入数据结构\")\n",
    "    # output_schema: Outputs = Field(description=\"结束节点输出数据结构\")"
   ]
  },
  {
   "cell_type": "code",
   "execution_count": 44,
   "metadata": {},
   "outputs": [
    {
     "data": {
      "text/plain": [
       "StartNode(flow_id='0366bbcd-9ec3-4a67-bb67-7d7324ecfc2d', node_id='StartID', input_schema=Inputs(inputParameters=[InputParameter(name='user_input', input=Input(type='string', schema=None, value=Value(type='literal', content='start_content')))]))"
      ]
     },
     "execution_count": 44,
     "metadata": {},
     "output_type": "execute_result"
    }
   ],
   "source": [
    "start_inputs = {\n",
    "    \"flow_id\": \"0366bbcd-9ec3-4a67-bb67-7d7324ecfc2d\",\n",
    "    \"node_id\": \"StartID\",\n",
    "    \"input_schema\": {\n",
    "        \"inputParameters\": [\n",
    "            {\n",
    "                \"name\": \"user_input\",\n",
    "                \"input\": {\n",
    "                    \"type\": \"string\",\n",
    "                    \"schema\": None,\n",
    "                    \"value\": {\n",
    "                        \"type\": \"literal\",\n",
    "                        \"content\": \"start_content\"\n",
    "                    }\n",
    "                }\n",
    "            }\n",
    "        ]\n",
    "    }\n",
    "}\n",
    "\n",
    "start_node_schema = StartNode(**start_inputs)\n",
    "start_node_schema\n"
   ]
  },
  {
   "cell_type": "code",
   "execution_count": 45,
   "metadata": {},
   "outputs": [
    {
     "name": "stdout",
     "output_type": "stream",
     "text": [
      "True\n"
     ]
    }
   ],
   "source": [
    "def is_string(s):\n",
    "    try:\n",
    "        return isinstance(s, str)\n",
    "    except (ValueError, SyntaxError):\n",
    "        return False\n",
    "\n",
    "s = \"['1', '2']\"\n",
    "print(is_string(s))  # 输出: True"
   ]
  },
  {
   "cell_type": "code",
   "execution_count": 46,
   "metadata": {},
   "outputs": [
    {
     "name": "stdout",
     "output_type": "stream",
     "text": [
      "True\n"
     ]
    }
   ],
   "source": [
    "def is_list_string(s):\n",
    "    try:\n",
    "        parsed = ast.literal_eval(s)\n",
    "        return isinstance(parsed, list)\n",
    "    except (ValueError, SyntaxError):\n",
    "        return False\n",
    "\n",
    "s = \"['1', '2']\"\n",
    "print(is_list_string(s))  # 输出: True"
   ]
  },
  {
   "cell_type": "code",
   "execution_count": 47,
   "metadata": {},
   "outputs": [
    {
     "name": "stdout",
     "output_type": "stream",
     "text": [
      "True\n",
      "False\n",
      "False\n"
     ]
    }
   ],
   "source": [
    "def is_int_string(s):\n",
    "    try:\n",
    "        int(s)\n",
    "        return True\n",
    "    except ValueError:\n",
    "        return False\n",
    "\n",
    "s = \"1\"\n",
    "print(is_int_string(s))  # 输出: True\n",
    "\n",
    "s = \"['1', '2']\"\n",
    "print(is_int_string(s))  # 输出: False\n",
    "\n",
    "s = \"abc\"\n",
    "print(is_int_string(s))  # 输出: False"
   ]
  },
  {
   "cell_type": "code",
   "execution_count": 48,
   "metadata": {},
   "outputs": [
    {
     "name": "stdout",
     "output_type": "stream",
     "text": [
      "True\n",
      "False\n"
     ]
    }
   ],
   "source": [
    "def is_float_string(s):\n",
    "    try:\n",
    "        float(s)\n",
    "        return True\n",
    "    except ValueError:\n",
    "        return False\n",
    "    \n",
    "s = \"1.00\"\n",
    "print(is_float_string(s))\n",
    "\n",
    "s = \"{'k': 'v'}\"\n",
    "print(is_float_string(s))"
   ]
  },
  {
   "cell_type": "code",
   "execution_count": 49,
   "metadata": {},
   "outputs": [
    {
     "name": "stdout",
     "output_type": "stream",
     "text": [
      "True\n",
      "False\n",
      "False\n"
     ]
    }
   ],
   "source": [
    "def is_dict_string(s):\n",
    "    try:\n",
    "        parsed = ast.literal_eval(s)\n",
    "        return isinstance(parsed, dict)\n",
    "    except (ValueError, SyntaxError):\n",
    "        return False\n",
    "    \n",
    "s = \"{'key': 'value'}\"\n",
    "print(is_dict_string(s))  # 输出: True\n",
    "\n",
    "s = \"['1', '2']\"\n",
    "print(is_dict_string(s))  # 输出: False\n",
    "\n",
    "s = \"123\"\n",
    "print(is_dict_string(s))  # 输出: False"
   ]
  },
  {
   "cell_type": "code",
   "execution_count": 50,
   "metadata": {},
   "outputs": [
    {
     "name": "stdout",
     "output_type": "stream",
     "text": [
      "True\n",
      "False\n",
      "False\n",
      "True\n",
      "False\n"
     ]
    }
   ],
   "source": [
    "def is_list_of_dicts_string(s):\n",
    "    try:\n",
    "        parsed = ast.literal_eval(s)\n",
    "        if isinstance(parsed, list) and all(isinstance(item, dict) for item in parsed):\n",
    "            return True\n",
    "        return False\n",
    "    except (ValueError, SyntaxError):\n",
    "        return False\n",
    "\n",
    "s1 = \"[{'key': 'value'}]\"\n",
    "print(is_list_of_dicts_string(s1))  # 输出: True\n",
    "\n",
    "s2 = \"{'key': 'value'}\"\n",
    "print(is_list_of_dicts_string(s2))  # 输出: False\n",
    "\n",
    "s3 = \"[1, 2, 3]\"\n",
    "print(is_list_of_dicts_string(s3))  # 输出: False\n",
    "\n",
    "s4 = \"[{'key': 'value'}, {'key2': 'value2'}]\"\n",
    "print(is_list_of_dicts_string(s4))  # 输出: True\n",
    "\n",
    "s5 = \"[{'key': 'value'}, 'not a dict']\"\n",
    "print(is_list_of_dicts_string(s5))  # 输出: False"
   ]
  },
  {
   "cell_type": "code",
   "execution_count": 51,
   "metadata": {},
   "outputs": [
    {
     "name": "stdout",
     "output_type": "stream",
     "text": [
      "False\n",
      "False\n",
      "False\n",
      "False\n",
      "False\n",
      "True\n"
     ]
    }
   ],
   "source": [
    "def is_list_of_strs_string(s):\n",
    "    try:\n",
    "        parsed = ast.literal_eval(s)\n",
    "        if isinstance(parsed, list) and all(isinstance(item, str) for item in parsed):\n",
    "            return True\n",
    "        return False\n",
    "    except (ValueError, SyntaxError):\n",
    "        return False\n",
    "\n",
    "s1 = \"[{'key': 'value'}]\"\n",
    "print(is_list_of_strs_string(s1))  # 输出: False\n",
    "\n",
    "s2 = \"{'key': 'value'}\"\n",
    "print(is_list_of_strs_string(s2))  # 输出: False\n",
    "\n",
    "s3 = \"[1, 2, 3]\"\n",
    "print(is_list_of_strs_string(s3))  # 输出: False\n",
    "\n",
    "s4 = \"[{'key': 'value'}, {'key2': 'value2'}]\"\n",
    "print(is_list_of_strs_string(s4))  # 输出: False\n",
    "\n",
    "s5 = \"[{'key': 'value'}, 'not a dict']\"\n",
    "print(is_list_of_strs_string(s5))  # 输出: False\n",
    "\n",
    "s6 = \"['e1', 'e2']\" \n",
    "print(is_list_of_strs_string(s6))  # 输出: True"
   ]
  },
  {
   "cell_type": "code",
   "execution_count": 52,
   "metadata": {},
   "outputs": [
    {
     "name": "stdout",
     "output_type": "stream",
     "text": [
      "False\n",
      "False\n",
      "True\n",
      "False\n",
      "False\n",
      "False\n"
     ]
    }
   ],
   "source": [
    "def is_list_of_integers_string(s):\n",
    "    try:\n",
    "        parsed = ast.literal_eval(s)\n",
    "        if isinstance(parsed, list) and all(isinstance(item, int) for item in parsed):\n",
    "            return True\n",
    "        return False\n",
    "    except (ValueError, SyntaxError):\n",
    "        return False\n",
    "\n",
    "s1 = \"[{'key': 'value'}]\"\n",
    "print(is_list_of_integers_string(s1))  # 输出: False\n",
    "\n",
    "s2 = \"{'key': 'value'}\"\n",
    "print(is_list_of_integers_string(s2))  # 输出: False\n",
    "\n",
    "s3 = \"[1, 2, 3]\"\n",
    "print(is_list_of_integers_string(s3))  # 输出: False\n",
    "\n",
    "s4 = \"[{'key': 'value'}, {'key2': 'value2'}]\"\n",
    "print(is_list_of_integers_string(s4))  # 输出: False\n",
    "\n",
    "s5 = \"[{'key': 'value'}, 'not a dict']\"\n",
    "print(is_list_of_integers_string(s5))  # 输出: False\n",
    "\n",
    "s6 = \"['e1', 'e2']\" \n",
    "print(is_list_of_integers_string(s6))  # 输出: True"
   ]
  },
  {
   "cell_type": "code",
   "execution_count": 53,
   "metadata": {},
   "outputs": [
    {
     "name": "stdout",
     "output_type": "stream",
     "text": [
      "False\n",
      "False\n",
      "False\n",
      "False\n",
      "False\n",
      "False\n"
     ]
    }
   ],
   "source": [
    "def is_list_of_floats_string(s):\n",
    "    try:\n",
    "        parsed = ast.literal_eval(s)\n",
    "        # if isinstance(parsed, list) and all(isinstance(item, float) for item in parsed):\n",
    "        if isinstance(parsed, list) and all(isinstance(item, float) for item in parsed):\n",
    "            return True\n",
    "        return False\n",
    "    except (ValueError, SyntaxError):\n",
    "        return False\n",
    "\n",
    "s1 = \"[{'key': 'value'}]\"\n",
    "print(is_list_of_floats_string(s1))  # 输出: False\n",
    "\n",
    "s2 = \"{'key': 'value'}\"\n",
    "print(is_list_of_floats_string(s2))  # 输出: False\n",
    "\n",
    "s3 = \"[1, 2, 3]\"\n",
    "print(is_list_of_floats_string(s3))  # 输出: False\n",
    "\n",
    "s4 = \"[{'key': 'value'}, {'key2': 'value2'}]\"\n",
    "print(is_list_of_floats_string(s4))  # 输出: False\n",
    "\n",
    "s5 = \"[{'key': 'value'}, 'not a dict']\"\n",
    "print(is_list_of_floats_string(s5))  # 输出: False\n",
    "\n",
    "s6 = \"['e1', 'e2']\" \n",
    "print(is_list_of_floats_string(s6))  # 输出: True"
   ]
  },
  {
   "cell_type": "code",
   "execution_count": 1,
   "metadata": {},
   "outputs": [
    {
     "name": "stdout",
     "output_type": "stream",
     "text": [
      "True\n",
      "False\n",
      "True\n",
      "False\n",
      "Invalid boolean string: notabool\n"
     ]
    }
   ],
   "source": [
    "def parse_str_bool(value):\n",
    "    if isinstance(value, str):\n",
    "        value_lower = value.strip().lower()\n",
    "        if value_lower in (\"true\", \"1\", \"yes\", \"on\"):\n",
    "            return True\n",
    "        elif value_lower in (\"false\", \"0\", \"no\", \"off\"):\n",
    "            return False\n",
    "    raise ValueError(f\"Invalid boolean string: {value}\")\n",
    "\n",
    "# 示例字符串\n",
    "str_true = \"true\"\n",
    "str_false = \"false\"\n",
    "str_yes = \"yes\"\n",
    "str_no = \"no\"\n",
    "str_invalid = \"notabool\"\n",
    "\n",
    "# 解析字符串\n",
    "print(parse_str_bool(str_true))   # True\n",
    "print(parse_str_bool(str_false))  # False\n",
    "print(parse_str_bool(str_yes))    # True\n",
    "print(parse_str_bool(str_no))     # False\n",
    "\n",
    "# 处理无效字符串\n",
    "try:\n",
    "    print(parse_str_bool(str_invalid))\n",
    "except ValueError as e:\n",
    "    print(e)  # Invalid boolean string: notabool\n"
   ]
  },
  {
   "cell_type": "code",
   "execution_count": 54,
   "metadata": {},
   "outputs": [],
   "source": [
    "def to_python_dtype(dtype):\n",
    "    dtype_map = {\n",
    "        \"string\": str,\n",
    "        \"integer\": int,\n",
    "        \"number\": float,\n",
    "        \"list\": list,\n",
    "        \"object\": dict,\n",
    "    }\n",
    "    return dtype_map.get(dtype, None)\n",
    "\n",
    "def to_validate_func(dtype):\n",
    "    dtype_map = {\n",
    "        \"string\": str,\n",
    "        \"integer\": int,\n",
    "        \"number\": float,\n",
    "        \"list\": list,\n",
    "        \"object\": dict,\n",
    "    }\n",
    "    return dtype_map.get(dtype, None)"
   ]
  },
  {
   "cell_type": "code",
   "execution_count": 55,
   "metadata": {},
   "outputs": [],
   "source": [
    "def validate_dtype(dtype, content):\n",
    "    type_validate_func_map = {\n",
    "        \"string\": is_string,\n",
    "        \"integer\": is_int_string,\n",
    "        \"number\": is_float_string,\n",
    "        \"list\": is_list_string,\n",
    "        \"object\": is_dict_string,\n",
    "    }\n",
    "    if not (type_validate_func := type_validate_func_map.get(dtype, None)):\n",
    "        raise ValueError(f\"Unsupported data type {dtype}. Only the following data types are supported: {list(type_validate_func_map.keys())}\")\n",
    "    \n",
    "    return type_validate_func(content)\n"
   ]
  },
  {
   "cell_type": "code",
   "execution_count": 56,
   "metadata": {},
   "outputs": [
    {
     "name": "stdout",
     "output_type": "stream",
     "text": [
      "name='user_input' input=Input(type='string', schema=None, value=Value(type='literal', content='start_content'))\n"
     ]
    },
    {
     "data": {
      "text/plain": [
       "{'user_input': 'start_content'}"
      ]
     },
     "execution_count": 56,
     "metadata": {},
     "output_type": "execute_result"
    }
   ],
   "source": [
    "from typing import Union\n",
    "\n",
    "input_schema = start_node_schema.input_schema\n",
    "\n",
    "def format_input_schemas_to_dict(input_schema: Union[Inputs]):\n",
    "    input_param_schemas = input_schema.inputParameters\n",
    "\n",
    "    input_param_dict = {}\n",
    "    for input_param_schema in input_param_schemas:\n",
    "        print(input_param_schema)\n",
    "        key = input_param_schema.name\n",
    "        dtype = input_param_schema.input.type\n",
    "        content = input_param_schema.input.value.content\n",
    "        value_source_type = input_param_schema.input.value.type\n",
    "        \n",
    "        # TODO 什么场景需要校验类型与字符串表示的值是否匹配？\n",
    "        if value_source_type == \"literal\":\n",
    "            if validate_dtype(dtype=dtype, content=content):    # 校验实际类型与字符串表示是否匹配\n",
    "                if dtype == \"string\":\n",
    "                    value = content\n",
    "                else:\n",
    "                    value = ast.literal_eval(content)   # 检验通过即可将字符串表示值解析为实际类型\n",
    "            else:\n",
    "                raise TypeError(f\"字段: '{key}' 数据类型校验失败\")\n",
    "        elif value_source_type == \"ref\":\n",
    "            # TODO 获取引用值\n",
    "            value = \"\"\n",
    "            # TODO 是否需要判断引用值与定义的数据类型一致？\n",
    "        else:\n",
    "                raise ValueError(\"参数值来源类型字段必须是以下之一:['literal'、'ref']\")\n",
    "\n",
    "        input_param_dict.update({key: value})\n",
    "    \n",
    "    return input_param_dict\n",
    "        \n",
    "    \n",
    "format_input_schemas_to_dict(input_schema)"
   ]
  },
  {
   "cell_type": "markdown",
   "metadata": {},
   "source": [
    "#### 输入解析-解析ref类型值"
   ]
  },
  {
   "cell_type": "code",
   "execution_count": 64,
   "metadata": {},
   "outputs": [],
   "source": [
    "from pydantic import Field, BaseModel"
   ]
  },
  {
   "cell_type": "code",
   "execution_count": 86,
   "metadata": {},
   "outputs": [],
   "source": [
    "class TokenAndCost(BaseModel):\n",
    "    input_tokens: str = Field(description=\"输入tokens\")\n",
    "    input_cost: str = Field(default=\"$0.0\", description=\"输入tokens计费金额\")\n",
    "    output_tokens: str = Field(description=\"输出tokens\")\n",
    "    output_cost: str = Field(default=\"$0.0\", description=\"输初tokens计费金额\")\n",
    "    total_tokens: str = Field(description=\"总tokens\")\n",
    "    total_cost: str = Field(default=\"$0.0\", description=\"总计tokens计费金额\")\n",
    "\n",
    "class NodeData(BaseModel):\n",
    "    node_id: str = Field(description=\"节点ID\")\n",
    "    node_type: str = Field(description=\"节点类型\")\n",
    "    node_name: str = Field(default=\"\", description=\"节点名称\")\n",
    "    node_status: Literal[\"RUNNING\", \"FAILED\", \"SUCCESS\"] = Field(default=\"RUNNING\", description=\"节点状态\")\n",
    "    error_info: Optional[str] = Field(default=\"\", description=\"节点状态为：FAILED时，需提供错误信息\")\n",
    "    input: str = Field(description=\"节点解析后的输入\")\n",
    "    output: str = Field(description=\"节点解析后的输出\")\n",
    "    node_exe_cost: str = Field(default=\"0s\", description=\"节点运行时间\")\n",
    "    raw_output: str = Field(description=\"节点原始输出\")\n",
    "    extra: Optional[str] = Field(default=\"\", description=\"额外信息\")\n",
    "    token_and_cost: TokenAndCost = Field(description=\"tokens与计费\")\n",
    "\n",
    "    \n",
    "all_nodes_data =  [\n",
    "    {\n",
    "        \"node_id\": \"StartID\",\n",
    "        \"node_type\": \"Start\",\n",
    "        \"node_name\": \"\",\n",
    "        \"node_status\": \"SUCCESS\",\n",
    "        \"error_info\": \"\",\n",
    "        \"input\": \"{\\\"input_key\\\": \\\"input_value\\\"}\",\n",
    "        \"output\": \"{\\\"output_key1\\\": \\\"Start node raw output\\\", \\\"output_key2\\\": \\\"Start node raw output\\\"}\",\n",
    "        \"node_exe_cost\": \"0.81s\",\n",
    "        \"raw_output\": \"Start node raw output\",\n",
    "        \"extra\": \"\",\n",
    "        \"token_and_cost\": {\n",
    "            \"input_tokens\": \"128 Tokens\",\n",
    "            \"input_cost\": \"$0.0\",\n",
    "            \"output_tokens\": \"73 Tokens\",\n",
    "            \"output_cost\": \"$0.0\",\n",
    "            \"total_tokens\": \"201 Tokens\",\n",
    "            \"total_cost\": \"$0.0\"\n",
    "        }\n",
    "    },\n",
    "    {\n",
    "        \"node_id\": \"ToolID\",\n",
    "        \"node_type\": \"Tool\",\n",
    "        \"node_name\": \"\",\n",
    "        \"node_status\": \"SUCCESS\",\n",
    "        \"error_info\": \"\",\n",
    "        \"input\": \"{\\\"input_key\\\": \\\"input_value\\\"}\",\n",
    "        \"output\": \"{\\\"output_key1\\\": \\\"Tool node raw output\\\", \\\"output_key2\\\": \\\"Tool node raw output\\\"}\",\n",
    "        \"node_exe_cost\": \"0.81s\",\n",
    "        \"raw_output\": \"Tool node raw output\",\n",
    "        \"extra\": \"\",\n",
    "        \"token_and_cost\": {\n",
    "            \"input_tokens\": \"128 Tokens\",\n",
    "            \"input_cost\": \"$0.0\",\n",
    "            \"output_tokens\": \"73 Tokens\",\n",
    "            \"output_cost\": \"$0.0\",\n",
    "            \"total_tokens\": \"201 Tokens\",\n",
    "            \"total_cost\": \"$0.0\"\n",
    "        }\n",
    "    },\n",
    "    {\n",
    "        \"node_id\": \"KnowledgeID\",\n",
    "        \"node_type\": \"Knowledge\",\n",
    "        \"node_name\": \"\",\n",
    "        \"node_status\": \"SUCCESS\",\n",
    "        \"error_info\": \"\",\n",
    "        \"input\": \"{\\\"input_key\\\": \\\"input_value\\\"}\",\n",
    "        \"output\": \"{\\\"output_key1\\\": \\\"Knowledge node raw output\\\", \\\"output_key2\\\": \\\"Knowledge node raw output\\\"}\",\n",
    "        \"node_exe_cost\": \"0.81s\",\n",
    "        \"raw_output\": \"Knowledge node raw output\",\n",
    "        \"extra\": \"\",\n",
    "        \"token_and_cost\": {\n",
    "            \"input_tokens\": \"128 Tokens\",\n",
    "            \"input_cost\": \"$0.0\",\n",
    "            \"output_tokens\": \"73 Tokens\",\n",
    "            \"output_cost\": \"$0.0\",\n",
    "            \"total_tokens\": \"201 Tokens\",\n",
    "            \"total_cost\": \"$0.0\"\n",
    "        }\n",
    "    },\n",
    "    {\n",
    "        \"node_id\": \"LLMID\",\n",
    "        \"node_type\": \"LLM\",\n",
    "        \"node_name\": \"\",\n",
    "        \"node_status\": \"SUCCESS\",\n",
    "        \"error_info\": \"\",\n",
    "        \"input\": \"{\\\"input_key\\\": \\\"input_value\\\"}\",\n",
    "        \"output\": \"{\\\"output_key1\\\": \\\"LLM node raw output\\\", \\\"output_key2\\\": \\\"LLM node raw output\\\"}\",\n",
    "        \"node_exe_cost\": \"0.81s\",\n",
    "        \"raw_output\": \"LLM node raw output\",\n",
    "        \"extra\": \"\",\n",
    "        \"token_and_cost\": {\n",
    "            \"input_tokens\": \"128 Tokens\",\n",
    "            \"input_cost\": \"$0.0\",\n",
    "            \"output_tokens\": \"73 Tokens\",\n",
    "            \"output_cost\": \"$0.0\",\n",
    "            \"total_tokens\": \"201 Tokens\",\n",
    "            \"total_cost\": \"$0.0\"\n",
    "        }\n",
    "    },\n",
    "    {\n",
    "        \"node_id\": \"EndID\",\n",
    "        \"node_type\": \"End\",\n",
    "        \"node_name\": \"\",\n",
    "        \"node_status\": \"SUCCESS\",\n",
    "        \"error_info\": \"\",\n",
    "        \"input\": \"{\\\"input_key\\\": \\\"input_value\\\"}\",\n",
    "        \"output\": \"{\\\"end_key1\\\": \\\"End node raw output\\\", \\\"end_key2\\\": {\\\"p\\\": \\\"End node raw output\\\"}}\",\n",
    "        \"node_exe_cost\": \"0.81s\",\n",
    "        \"raw_output\": \"End node raw output\",\n",
    "        \"extra\": \"\",\n",
    "        \"token_and_cost\": {\n",
    "            \"input_tokens\": \"128 Tokens\",\n",
    "            \"input_cost\": \"$0.0\",\n",
    "            \"output_tokens\": \"73 Tokens\",\n",
    "            \"output_cost\": \"$0.0\",\n",
    "            \"total_tokens\": \"201 Tokens\",\n",
    "            \"total_cost\": \"$0.0\"\n",
    "        }\n",
    "    }\n",
    "]\n"
   ]
  },
  {
   "cell_type": "markdown",
   "metadata": {},
   "source": [
    "字典如下：\n",
    "{\n",
    "    \"key1\": {\n",
    "        \"key2\":{\n",
    "            \"key3\": 1\n",
    "        }\n",
    "    }\n",
    "}\n",
    "我需要根据\"key1.key2\"获取key2对应的value"
   ]
  },
  {
   "cell_type": "code",
   "execution_count": 87,
   "metadata": {},
   "outputs": [],
   "source": [
    "def get_value_by_key_path(output_dict, key_path):\n",
    "    keys = key_path.split('.')  # 将键路径按照 '.' 分割成键列表\n",
    "    value = output_dict\n",
    "    for key in keys:\n",
    "        if isinstance(value, dict):\n",
    "            value = value.get(key)  # 获取当前键对应的值\n",
    "        else:\n",
    "            return None  # 如果当前值不是字典，则返回 None\n",
    "    return value"
   ]
  },
  {
   "cell_type": "code",
   "execution_count": 89,
   "metadata": {},
   "outputs": [
    {
     "name": "stdout",
     "output_type": "stream",
     "text": [
      "{'p': 'End node raw output'}\n"
     ]
    }
   ],
   "source": [
    "source_id = \"EndID\"\n",
    "name = \"end_key2\"\n",
    "for node_data in all_nodes_data:\n",
    "    node_data = NodeData(**node_data)\n",
    "    if node_data.node_id == source_id:\n",
    "        source_output_dict = json.loads(node_data.output)\n",
    "        if not (value := get_value_by_key_path(source_output_dict, name)):\n",
    "            raise ValueError(f\"从源节点 '{source_id}' 获取关键字 '{name}' 的值为空\")\n",
    "        print(value)\n",
    "        \n",
    "    "
   ]
  },
  {
   "cell_type": "markdown",
   "metadata": {},
   "source": [
    "#### 输出解析"
   ]
  },
  {
   "cell_type": "code",
   "execution_count": 67,
   "metadata": {},
   "outputs": [],
   "source": [
    "def format_output_schemas_to_dict(output_schema: Union[Outputs], raw_output) -> dict:\n",
    "    output_param_schemas = output_schema.outputs\n",
    "    output_dict = {}\n",
    "    for output_param_schema in output_param_schemas:\n",
    "        if not (key := output_param_schema.name):\n",
    "            raise ValueError(\"输出参数schema的参数名称字段（name）不能为空\")\n",
    "        # TODO 根据参数类型适配不用输出解析器\n",
    "        dtype = output_param_schema.type\n",
    "        \n",
    "        if validate_dtype(dtype=dtype, content=raw_output):    # 校验实际类型与字符串表示是否匹配\n",
    "            if dtype == \"string\":\n",
    "                value = raw_output\n",
    "            else:\n",
    "                value = ast.literal_eval(raw_output)   # 检验通过即可将字符串表示值解析为实际类型\n",
    "        else:\n",
    "            raise TypeError(f\"输出解析失败, 节点原始输出 '{raw_output}' 无法转换为字段: '{key}' 期望的数据类型 '{dtype}'\")\n",
    "    \n",
    "        output_dict.update({key: value})\n",
    "    return output_dict\n",
    "        \n",
    "    "
   ]
  },
  {
   "cell_type": "code",
   "execution_count": 68,
   "metadata": {},
   "outputs": [
    {
     "data": {
      "text/plain": [
       "{'output_name': '\\n\\n请保护环境，珍惜资源，让我们共同努力，为我们的地球创造一个更美好的未来。感谢您的关注和支持。'}"
      ]
     },
     "execution_count": 68,
     "metadata": {},
     "output_type": "execute_result"
    }
   ],
   "source": [
    "raw_output = '\\n\\n请保护环境，珍惜资源，让我们共同努力，为我们的地球创造一个更美好的未来。感谢您的关注和支持。'\n",
    "output_schema_dict = {\n",
    "    \"outputs\": [\n",
    "        {\n",
    "            \"name\": \"output_name\",\n",
    "            \"type\": \"string\",\n",
    "            \"schema\": None\n",
    "        }\n",
    "    ]\n",
    "}\n",
    "output_schema = Outputs(**output_schema_dict)\n",
    "output_dict = format_output_schemas_to_dict(output_schema=output_schema, raw_output=raw_output)\n",
    "output_dict"
   ]
  },
  {
   "cell_type": "markdown",
   "metadata": {},
   "source": [
    "#### 测试"
   ]
  },
  {
   "cell_type": "code",
   "execution_count": 69,
   "metadata": {},
   "outputs": [],
   "source": [
    "import time\n",
    "import json\n",
    "\n",
    "from pydantic import BaseModel\n",
    "from pydantic.fields import Field\n",
    "from typing import Literal, List, Union, Optional, Any\n",
    "\n",
    "class TokenAndCost(BaseModel):\n",
    "    input_tokens: str = Field(description=\"输入tokens\")\n",
    "    input_cost: str = Field(default=\"$0.0\", description=\"输入tokens计费金额\")\n",
    "    output_tokens: str = Field(description=\"输出tokens\")\n",
    "    output_cost: str = Field(default=\"$0.0\", description=\"输初tokens计费金额\")\n",
    "    total_tokens: str = Field(description=\"总tokens\")\n",
    "    total_cost: str = Field(default=\"$0.0\", description=\"总计tokens计费金额\")\n",
    "\n",
    "class NodeData(BaseModel):\n",
    "    node_id: str = Field(description=\"节点ID\")\n",
    "    node_type: str = Field(description=\"节点类型\")\n",
    "    node_name: str = Field(default=\"\", description=\"节点名称\")\n",
    "    node_status: Literal[\"RUNNING\", \"FAILED\", \"SUCCESS\"] = Field(default=\"RUNNING\", description=\"节点状态\")\n",
    "    error_info: Optional[str] = Field(description=\"节点状态为：FAILED时，需提供错误信息\")\n",
    "    input: str = Field(description=\"节点解析后的输入\")\n",
    "    output: str = Field(description=\"节点解析后的输出\")\n",
    "    node_exe_cost: str = Field(description=\"节点运行时间\")\n",
    "    raw_output: str = Field(description=\"节点原始输出\")\n",
    "    extra: Optional[str]\n",
    "    token_and_cost: TokenAndCost = Field(description=\"tokens与计费\")\n",
    "    \n",
    "class EndNodeResponse(BaseModel):\n",
    "    node_data: NodeData = Field(description=\"当前节点输出数据\")\n",
    "    all_nodes_data: List[NodeData] = Field(description=\"所有节点输出\")"
   ]
  },
  {
   "cell_type": "code",
   "execution_count": 70,
   "metadata": {},
   "outputs": [],
   "source": [
    "prenode_inputs = [\n",
    "    {\n",
    "        \"prenode_inputs\": [\n",
    "            {\n",
    "                \"node_data\": {\n",
    "                    \"node_id\": \"ToolID\",\n",
    "                    \"node_type\": \"Tool\",\n",
    "                    \"node_name\": \"\",\n",
    "                    \"node_status\": \"SUCCESS\",\n",
    "                    \"error_info\": \"\",\n",
    "                    \"input\": \"{\\\"input_key\\\": \\\"input_value\\\"}\",\n",
    "                    \"output\": \"{\\\"output_key1\\\": \\\"Tool node raw output\\\", \\\"output_key2\\\": \\\"Tool node raw output\\\"}\",\n",
    "                    \"node_exe_cost\": \"0.81s\",\n",
    "                    \"raw_output\": \"Tool node raw output\",\n",
    "                    \"extra\": \"\",\n",
    "                    \"token_and_cost\": {\n",
    "                        \"input_tokens\": \"128 Tokens\",\n",
    "                        \"input_cost\": \"$0.0\",\n",
    "                        \"output_tokens\": \"73 Tokens\",\n",
    "                        \"output_cost\": \"$0.0\",\n",
    "                        \"total_tokens\": \"201 Tokens\",\n",
    "                        \"total_cost\": \"$0.0\"\n",
    "                    }\n",
    "                },\n",
    "            },\n",
    "            {\n",
    "                \"node_data\": {\n",
    "                    \"node_id\": \"KnowledgeID\",\n",
    "                    \"node_type\": \"Knowledge\",\n",
    "                    \"node_name\": \"\",\n",
    "                    \"node_status\": \"SUCCESS\",\n",
    "                    \"error_info\": \"\",\n",
    "                    \"input\": \"{\\\"input_key\\\": \\\"input_value\\\"}\",\n",
    "                    \"output\": \"{\\\"output_key1\\\": \\\"Knowledge node raw output\\\", \\\"output_key2\\\": \\\"Knowledge node raw output\\\"}\",\n",
    "                    \"node_exe_cost\": \"0.81s\",\n",
    "                    \"raw_output\": \"Knowledge node raw output\",\n",
    "                    \"extra\": \"\",\n",
    "                    \"token_and_cost\": {\n",
    "                        \"input_tokens\": \"128 Tokens\",\n",
    "                        \"input_cost\": \"$0.0\",\n",
    "                        \"output_tokens\": \"73 Tokens\",\n",
    "                        \"output_cost\": \"$0.0\",\n",
    "                        \"total_tokens\": \"201 Tokens\",\n",
    "                        \"total_cost\": \"$0.0\"\n",
    "                    }\n",
    "                },\n",
    "            },\n",
    "            {\n",
    "                \"node_data\": {\n",
    "                    \"node_id\": \"KnowledgeID\",\n",
    "                    \"node_type\": \"Knowledge\",\n",
    "                    \"node_name\": \"\",\n",
    "                    \"node_status\": \"SUCCESS\",\n",
    "                    \"error_info\": \"\",\n",
    "                    \"input\": \"{\\\"input_key\\\": \\\"input_value\\\"}\",\n",
    "                    \"output\": \"{\\\"output_key1\\\": \\\"Knowledge node raw output\\\", \\\"output_key2\\\": \\\"Knowledge node raw output\\\"}\",\n",
    "                    \"node_exe_cost\": \"0.81s\",\n",
    "                    \"raw_output\": \"Knowledge node raw output\",\n",
    "                    \"extra\": \"\",\n",
    "                    \"token_and_cost\": {\n",
    "                        \"input_tokens\": \"128 Tokens\",\n",
    "                        \"input_cost\": \"$0.0\",\n",
    "                        \"output_tokens\": \"73 Tokens\",\n",
    "                        \"output_cost\": \"$0.0\",\n",
    "                        \"total_tokens\": \"201 Tokens\",\n",
    "                        \"total_cost\": \"$0.0\"\n",
    "                    }\n",
    "                },\n",
    "            },\n",
    "        ],\n",
    "        \"node_data\": {\n",
    "            \"node_id\": \"EndID\",\n",
    "            \"node_type\": \"End\",\n",
    "            \"node_name\": \"\",\n",
    "            \"node_status\": \"SUCCESS\",\n",
    "            \"error_info\": \"\",\n",
    "            \"input\": \"{\\\"input_key\\\": \\\"input_value\\\"}\",\n",
    "            \"output\": \"{\\\"end_key1\\\": \\\"End node raw output\\\", \\\"end_key2\\\": \\\"End node raw output\\\"}\",\n",
    "            \"node_exe_cost\": \"0.8s\",\n",
    "            \"raw_output\": \"End node raw output\",\n",
    "            \"extra\": \"\",\n",
    "            \"token_and_cost\": {\n",
    "                \"input_tokens\": \"128 Tokens\",\n",
    "                \"input_cost\": \"$0.0\",\n",
    "                \"output_tokens\": \"73 Tokens\",\n",
    "                \"output_cost\": \"$0.0\",\n",
    "                \"total_tokens\": \"201 Tokens\",\n",
    "                \"total_cost\": \"$0.0\"\n",
    "            }\n",
    "        }\n",
    "    }\n",
    "]"
   ]
  },
  {
   "cell_type": "code",
   "execution_count": 71,
   "metadata": {},
   "outputs": [
    {
     "data": {
      "text/plain": [
       "[NodeData(node_id='ToolID', node_type='Tool', node_name='', node_status='SUCCESS', error_info='', input='{\"input_key\": \"input_value\"}', output='{\"output_key1\": \"Tool node raw output\", \"output_key2\": \"Tool node raw output\"}', node_exe_cost='0.81s', raw_output='Tool node raw output', extra='', token_and_cost=TokenAndCost(input_tokens='128 Tokens', input_cost='$0.0', output_tokens='73 Tokens', output_cost='$0.0', total_tokens='201 Tokens', total_cost='$0.0')),\n",
       " NodeData(node_id='KnowledgeID', node_type='Knowledge', node_name='', node_status='SUCCESS', error_info='', input='{\"input_key\": \"input_value\"}', output='{\"output_key1\": \"Knowledge node raw output\", \"output_key2\": \"Knowledge node raw output\"}', node_exe_cost='0.81s', raw_output='Knowledge node raw output', extra='', token_and_cost=TokenAndCost(input_tokens='128 Tokens', input_cost='$0.0', output_tokens='73 Tokens', output_cost='$0.0', total_tokens='201 Tokens', total_cost='$0.0')),\n",
       " NodeData(node_id='EndID', node_type='End', node_name='', node_status='SUCCESS', error_info='', input='{\"input_key\": \"input_value\"}', output='{\"end_key1\": \"End node raw output\", \"end_key2\": \"End node raw output\"}', node_exe_cost='0.8s', raw_output='End node raw output', extra='', token_and_cost=TokenAndCost(input_tokens='128 Tokens', input_cost='$0.0', output_tokens='73 Tokens', output_cost='$0.0', total_tokens='201 Tokens', total_cost='$0.0'))]"
      ]
     },
     "execution_count": 71,
     "metadata": {},
     "output_type": "execute_result"
    }
   ],
   "source": [
    "def format_prenodes_data(prenode_inputs):\n",
    "    all_nodes_data = []\n",
    "    # 获取所有节点输出，key为节点ID，value为节点原始输出\n",
    "    node_ids = []\n",
    "    def get_nodes_result(prenode_inputs):\n",
    "        for prenode_input in prenode_inputs:\n",
    "            for k, v in prenode_input.items():\n",
    "                if k == \"prenode_inputs\":\n",
    "                    get_nodes_result(v)\n",
    "                if k != \"prenode_inputs\":\n",
    "                    if v.get(\"node_id\") not in node_ids:\n",
    "                        node_ids.append(v.get(\"node_id\"))\n",
    "                        all_nodes_data.append(NodeData(**v))\n",
    "\n",
    "    get_nodes_result(prenode_inputs=prenode_inputs)\n",
    "    return all_nodes_data\n",
    "\n",
    "all_nodes_data = format_prenodes_data(prenode_inputs)\n",
    "all_nodes_data"
   ]
  },
  {
   "cell_type": "code",
   "execution_count": 72,
   "metadata": {},
   "outputs": [
    {
     "data": {
      "text/plain": [
       "{'user_input': 'start_content'}"
      ]
     },
     "execution_count": 72,
     "metadata": {},
     "output_type": "execute_result"
    }
   ],
   "source": [
    "def format_input_schemas_to_dict(input_schema: Union[Inputs], prenode_results: List[NodeData] = None):\n",
    "    input_param_schemas = input_schema.inputParameters\n",
    "\n",
    "    input_param_dict = {}\n",
    "    for input_param_schema in input_param_schemas:\n",
    "        key = input_param_schema.name\n",
    "        dtype = input_param_schema.input.type\n",
    "        content = input_param_schema.input.value.content\n",
    "        value_source_type = input_param_schema.input.value.type\n",
    "        \n",
    "        # TODO 什么场景需要校验类型与字符串表示的值是否匹配？\n",
    "        if value_source_type == \"literal\":\n",
    "            if validate_dtype(dtype=dtype, content=content):    # 校验实际类型与字符串表示是否匹配\n",
    "                if dtype == \"string\":\n",
    "                    value = content\n",
    "                else:\n",
    "                    value = ast.literal_eval(content)   # 检验通过即可将字符串表示值解析为实际类型\n",
    "            else:\n",
    "                raise TypeError(f\"字段: '{key}' 数据类型校验失败\")\n",
    "        elif value_source_type == \"ref\":\n",
    "            value = \"\"\n",
    "            if ref_source_id := input_param_schema.input.value.content.source_id:\n",
    "                # TODO 获取引用值、判断引用值与定义的数据类型一致？\n",
    "                \n",
    "                pass\n",
    "            else:\n",
    "                raise ValueError(f\"字段: '{key}' 缺少源ID\")\n",
    "        else:\n",
    "                raise ValueError(\"参数值来源类型字段必须是以下之一:['literal'、'ref']\")\n",
    "\n",
    "        input_param_dict.update({key: value})\n",
    "    \n",
    "    return input_param_dict\n",
    "\n",
    "\n",
    "start_inputs = {\n",
    "    \"flow_id\": \"0366bbcd-9ec3-4a67-bb67-7d7324ecfc2d\",\n",
    "    \"node_id\": \"StartID\",\n",
    "    \"input_schema\": {\n",
    "        \"inputParameters\": [\n",
    "            {\n",
    "                \"name\": \"user_input\",\n",
    "                \"input\": {\n",
    "                    \"type\": \"string\",\n",
    "                    \"schema\": None,\n",
    "                    \"value\": {\n",
    "                        \"type\": \"literal\",\n",
    "                        \"content\": \"start_content\"\n",
    "                    }\n",
    "                }\n",
    "            }\n",
    "        ]\n",
    "    }\n",
    "}\n",
    "\n",
    "start_node_schema = StartNode(**start_inputs)\n",
    "\n",
    "\n",
    "parsed_input_dict = format_input_schemas_to_dict(\n",
    "    input_schema=start_node_schema.input_schema,\n",
    "    prenode_results=all_nodes_data\n",
    ")\n",
    "\n",
    "parsed_input_dict"
   ]
  },
  {
   "cell_type": "code",
   "execution_count": 73,
   "metadata": {},
   "outputs": [
    {
     "data": {
      "text/plain": [
       "'{\"user_input\": \"start_content\"}'"
      ]
     },
     "execution_count": 73,
     "metadata": {},
     "output_type": "execute_result"
    }
   ],
   "source": [
    "parsed_input_json = json.dumps(parsed_input_dict)\n",
    "parsed_input_json"
   ]
  },
  {
   "cell_type": "markdown",
   "metadata": {},
   "source": [
    "#### 参数填充提示词模版"
   ]
  },
  {
   "cell_type": "code",
   "execution_count": 8,
   "metadata": {},
   "outputs": [],
   "source": [
    "import re\n",
    "from langchain_core.prompts import ChatPromptTemplate\n",
    "from langchain_openai import ChatOpenAI\n",
    "from string import Formatter\n",
    "from typing import Dict, Any\n",
    "\n",
    "from chevron import render"
   ]
  },
  {
   "cell_type": "code",
   "execution_count": 3,
   "metadata": {},
   "outputs": [],
   "source": [
    "# 此方式存在缺陷\n",
    "# from langchain.prompts import PromptTemplate\n",
    "\n",
    "# input_parmas_dict = {\"key1\": \"银渐层\", \"key3\": \"谢谢\"}\n",
    "# template = \"这是一只{key1}, 请善待大自然, {key2}, {{key3}}\"\n",
    "# prompt = PromptTemplate.from_template(template)\n",
    "# formatted_prompt = prompt.format(**input_parmas_dict)\n",
    "# formatted_prompt"
   ]
  },
  {
   "cell_type": "code",
   "execution_count": 4,
   "metadata": {},
   "outputs": [],
   "source": [
    "def format_placeholder_to_str(template):\n",
    "    pattern = r'\\{([^{}]+)\\}'\n",
    "    matched_keys = re.findall(pattern=pattern, string=template)\n",
    "    placeholder = {}\n",
    "    if matched_keys:\n",
    "        for k in matched_keys:\n",
    "            placeholder.update({k: f\"{k}\"})\n",
    "    formatted_prompt = template.format(**placeholder)\n",
    "    return formatted_prompt\n",
    "\n",
    "def safe_format_prompt(template: str, params_dict: Dict[str, Any]):\n",
    "    class SafeFormatter(Formatter):\n",
    "        def get_value(self, key, args, kwargs):\n",
    "            if isinstance(key, str):\n",
    "                return kwargs.get(key, f'{{{key}}}')\n",
    "            else:\n",
    "                return Formatter.get_value(key, args, kwargs)\n",
    "\n",
    "    formatter = SafeFormatter()\n",
    "    formatted_prompt = formatter.format(template, **params_dict)\n",
    "    return format_placeholder_to_str(formatted_prompt)\n"
   ]
  },
  {
   "cell_type": "code",
   "execution_count": 9,
   "metadata": {},
   "outputs": [
    {
     "data": {
      "text/plain": [
       "'这是一只银渐层, 请善待大自然, , key3'"
      ]
     },
     "execution_count": 9,
     "metadata": {},
     "output_type": "execute_result"
    }
   ],
   "source": [
    "import re\n",
    "from chevron import render\n",
    "from typing import Union, List, Dict, Any\n",
    "\n",
    "def format_placeholder_to_str(template):\n",
    "    pattern = r'\\{([^{}]+)\\}'\n",
    "    matched_keys = re.findall(pattern=pattern, string=template)\n",
    "    placeholder = {}\n",
    "    if matched_keys:\n",
    "        for k in matched_keys:\n",
    "            placeholder.update({k: f\"{k}\"})\n",
    "    formatted_prompt = template.format(**placeholder)\n",
    "    return formatted_prompt\n",
    "\n",
    "def safe_format_prompt(template: str, params_dict: Dict[str, Any]):\n",
    "    formatted_prompt = render(template=template, data=params_dict)    \n",
    "    return format_placeholder_to_str(formatted_prompt)\n",
    "\n",
    "parsed_input_dict = {\"key1\": \"银渐层\", \"key3\": \"谢谢\"}\n",
    "prompt_template = \"这是一只{{key1}}, 请善待大自然, {{key2}}, {key3}\"\n",
    "\n",
    "prompt = safe_format_prompt(prompt_template, parsed_input_dict,)\n",
    "prompt"
   ]
  },
  {
   "cell_type": "code",
   "execution_count": 15,
   "metadata": {},
   "outputs": [
    {
     "name": "stdout",
     "output_type": "stream",
     "text": [
      "这是一只银渐层, 请善待大自然, {{key2}}, {key3}\n"
     ]
    }
   ],
   "source": [
    "import re\n",
    "from typing import Dict\n",
    "\n",
    "def safe_format_prompt(template: str, params_dict: Dict[str, Any]) -> str:\n",
    "    # 定义一个自定义函数来处理未匹配上的占位符保持原样\n",
    "    class SafeFormatter:\n",
    "        def __init__(self, params):\n",
    "            self.params = params\n",
    "\n",
    "        def format(self, template):\n",
    "            def replace(match):\n",
    "                key = match.group(1)\n",
    "                return self.params.get(key, match.group(0))\n",
    "\n",
    "            pattern = re.compile(r'{{\\s*(\\w+)\\s*}}')\n",
    "            return pattern.sub(replace, template)\n",
    "\n",
    "    formatter = SafeFormatter(params_dict)\n",
    "    return formatter.format(template)\n",
    "\n",
    "# 示例\n",
    "parsed_input_dict = {\"key1\": \"银渐层\", \"key3\": \"谢谢\"}\n",
    "prompt_template = \"这是一只{{key1}}, 请善待大自然, {{key2}}, {key3}\"\n",
    "\n",
    "formatted_prompt = safe_format_prompt(prompt_template, parsed_input_dict)\n",
    "print(formatted_prompt)"
   ]
  },
  {
   "cell_type": "markdown",
   "metadata": {},
   "source": [
    "#### 工具调用节点测试"
   ]
  },
  {
   "cell_type": "code",
   "execution_count": null,
   "metadata": {},
   "outputs": [
    {
     "data": {
      "text/plain": [
       "['http:///admin-api/plugins/tool/external/call/1',\n",
       " 'http:///admin-api/plugins/tool/external/call/2']"
      ]
     },
     "execution_count": 32,
     "metadata": {},
     "output_type": "execute_result"
    }
   ],
   "source": [
    "TOOL_CALL_URL_FORMAT = \"{0}://{1}/admin-api/plugins/tool/external/call/{2}\"\n",
    "protocol = \"http\"\n",
    "host = \"\"\n",
    "tool_ids = [\"1\", \"2\"]\n",
    "tenant_id = 1\n",
    "\n",
    "tool_call_urls = []\n",
    "for tool_id in tool_ids:\n",
    "    tool_call_url = TOOL_CALL_URL_FORMAT.format(\n",
    "        protocol, host, tool_id\n",
    "    )\n",
    "    tool_call_urls.append(tool_call_url)\n",
    "tool_call_urls"
   ]
  },
  {
   "cell_type": "markdown",
   "metadata": {},
   "source": [
    "#### 使用tiktoken计算tokens"
   ]
  },
  {
   "cell_type": "code",
   "execution_count": null,
   "metadata": {},
   "outputs": [
    {
     "ename": "ValueError",
     "evalue": "Unknown encoding /Users/treasures_y/Desktop/langflow/v2/langflow-0.6.19/src/backend/langflow/components/custom_components/utils/ec7223a39ce59f226a68acc30dc1af2788490e15. Plugins found: ['tiktoken_ext.openai_public']",
     "output_type": "error",
     "traceback": [
      "\u001b[0;31m---------------------------------------------------------------------------\u001b[0m",
      "\u001b[0;31mValueError\u001b[0m                                Traceback (most recent call last)",
      "Cell \u001b[0;32mIn[33], line 12\u001b[0m\n\u001b[1;32m      9\u001b[0m     token_count \u001b[38;5;241m=\u001b[39m \u001b[38;5;28mlen\u001b[39m(tokens)\n\u001b[1;32m     10\u001b[0m     \u001b[38;5;28;01mreturn\u001b[39;00m token_count\n\u001b[0;32m---> 12\u001b[0m \u001b[43mcompute_tokens\u001b[49m\u001b[43m(\u001b[49m\u001b[38;5;124;43m\"\u001b[39;49m\u001b[38;5;124;43m你好\u001b[39;49m\u001b[38;5;124;43m\"\u001b[39;49m\u001b[43m)\u001b[49m\n",
      "Cell \u001b[0;32mIn[33], line 5\u001b[0m, in \u001b[0;36mcompute_tokens\u001b[0;34m(text)\u001b[0m\n\u001b[1;32m      3\u001b[0m \u001b[38;5;28;01mdef\u001b[39;00m \u001b[38;5;21mcompute_tokens\u001b[39m(text) \u001b[38;5;241m-\u001b[39m\u001b[38;5;241m>\u001b[39m \u001b[38;5;28mint\u001b[39m:\n\u001b[1;32m      4\u001b[0m     \u001b[38;5;66;03m# 加载 GPT-3 的 tokenizer\u001b[39;00m\n\u001b[0;32m----> 5\u001b[0m     enc \u001b[38;5;241m=\u001b[39m \u001b[43mtiktoken\u001b[49m\u001b[38;5;241;43m.\u001b[39;49m\u001b[43mget_encoding\u001b[49m\u001b[43m(\u001b[49m\u001b[38;5;124;43m\"\u001b[39;49m\u001b[38;5;124;43m/Users/treasures_y/Desktop/langflow/v2/langflow-0.6.19/src/backend/langflow/components/custom_components/utils/ec7223a39ce59f226a68acc30dc1af2788490e15\u001b[39;49m\u001b[38;5;124;43m\"\u001b[39;49m\u001b[43m)\u001b[49m\n\u001b[1;32m      6\u001b[0m     \u001b[38;5;66;03m# 使用 tokenizer 进行 token 化\u001b[39;00m\n\u001b[1;32m      7\u001b[0m     tokens \u001b[38;5;241m=\u001b[39m enc\u001b[38;5;241m.\u001b[39mencode(text)\n",
      "File \u001b[0;32m~/Miniconda3/envs/langflow/lib/python3.10/site-packages/tiktoken/registry.py:68\u001b[0m, in \u001b[0;36mget_encoding\u001b[0;34m(encoding_name)\u001b[0m\n\u001b[1;32m     65\u001b[0m     \u001b[38;5;28;01massert\u001b[39;00m ENCODING_CONSTRUCTORS \u001b[38;5;129;01mis\u001b[39;00m \u001b[38;5;129;01mnot\u001b[39;00m \u001b[38;5;28;01mNone\u001b[39;00m\n\u001b[1;32m     67\u001b[0m \u001b[38;5;28;01mif\u001b[39;00m encoding_name \u001b[38;5;129;01mnot\u001b[39;00m \u001b[38;5;129;01min\u001b[39;00m ENCODING_CONSTRUCTORS:\n\u001b[0;32m---> 68\u001b[0m     \u001b[38;5;28;01mraise\u001b[39;00m \u001b[38;5;167;01mValueError\u001b[39;00m(\n\u001b[1;32m     69\u001b[0m         \u001b[38;5;124mf\u001b[39m\u001b[38;5;124m\"\u001b[39m\u001b[38;5;124mUnknown encoding \u001b[39m\u001b[38;5;132;01m{\u001b[39;00mencoding_name\u001b[38;5;132;01m}\u001b[39;00m\u001b[38;5;124m. Plugins found: \u001b[39m\u001b[38;5;132;01m{\u001b[39;00m_available_plugin_modules()\u001b[38;5;132;01m}\u001b[39;00m\u001b[38;5;124m\"\u001b[39m\n\u001b[1;32m     70\u001b[0m     )\n\u001b[1;32m     72\u001b[0m constructor \u001b[38;5;241m=\u001b[39m ENCODING_CONSTRUCTORS[encoding_name]\n\u001b[1;32m     73\u001b[0m enc \u001b[38;5;241m=\u001b[39m Encoding(\u001b[38;5;241m*\u001b[39m\u001b[38;5;241m*\u001b[39mconstructor())\n",
      "\u001b[0;31mValueError\u001b[0m: Unknown encoding /Users/treasures_y/Desktop/langflow/v2/langflow-0.6.19/src/backend/langflow/components/custom_components/utils/ec7223a39ce59f226a68acc30dc1af2788490e15. Plugins found: ['tiktoken_ext.openai_public']"
     ]
    }
   ],
   "source": [
    "import tiktoken\n",
    "\n",
    "def compute_tokens(text) -> int:\n",
    "    # 加载 GPT-3 的 tokenizer\n",
    "    enc = tiktoken.get_encoding(\"/Users/treasures_y/Desktop/langflow/v2/langflow-0.6.19/src/backend/langflow/components/custom_components/utils/ec7223a39ce59f226a68acc30dc1af2788490e15\")\n",
    "    # 使用 tokenizer 进行 token 化\n",
    "    tokens = enc.encode(text)\n",
    "    # 计算 token 数量\n",
    "    token_count = len(tokens)\n",
    "    return token_count\n",
    "\n",
    "compute_tokens(\"你好\")\n"
   ]
  },
  {
   "cell_type": "markdown",
   "metadata": {},
   "source": [
    "#### 使用transformers库计算tokens"
   ]
  },
  {
   "cell_type": "code",
   "execution_count": null,
   "metadata": {},
   "outputs": [
    {
     "name": "stdout",
     "output_type": "stream",
     "text": [
      "Token 数量: 21\n"
     ]
    }
   ],
   "source": [
    "from transformers import PreTrainedTokenizerFast\n",
    "\n",
    "# 指定本地文件路径\n",
    "tokenizer_path = \"/Users/treasures_y/Desktop/langflow/v2/langflow-0.6.19/src/backend/langflow/components/custom_components/tokenizer\"  # 替换为实际文件路径\n",
    "\n",
    "# 加载 tokenizer\n",
    "tokenizer = PreTrainedTokenizerFast(\n",
    "    tokenizer_file=f\"{tokenizer_path}/qwen1.5-14b-chat-tokenizer.json\",\n",
    "    vocab_file=f\"{tokenizer_path}/qwen1.5-14b-chat-vocab.json\",\n",
    "    merges_file=f\"{tokenizer_path}/qwen1.5-14b-chat-merges.txt\",\n",
    "    tokenizer_config_file=f\"{tokenizer_path}/qwen1.5-14b-chat-tokenizer-config.json\"\n",
    ")\n",
    "\n",
    "# 示例文本\n",
    "text = \"这是一只银渐层, 请善待大自然, {key2}, {{key3}}\"\n",
    "\n",
    "# 进行 token 化\n",
    "tokens = tokenizer.encode(text)\n",
    "\n",
    "# 计算 token 数量\n",
    "token_count = len(tokens)\n",
    "print(\"Token 数量:\", token_count)"
   ]
  },
  {
   "cell_type": "code",
   "execution_count": null,
   "metadata": {},
   "outputs": [
    {
     "data": {
      "text/plain": [
       "'{\"msg\":\"操作成功\",\"code\":200,\"data\":{\"msg\":\"查询成功\",\"code\":200,\"data\":[{\"15.197.130.221\":{\"baseInfo\":{\"ipLocation\":{\"continent\":\"北美洲\",\"owner\":\"亚马逊\",\"country\":\"美国\",\"adcode\":\"\",\"city\":\"\",\"timezone\":\"UTC-6\",\"isp\":\"亚马逊\",\"accuracy\":\"国家\",\"source\":\"数据挖掘\",\"asnumber\":\"16509\",\"areacode\":\"US\",\"zipcode\":\"\",\"lngwgs\":\"-101.407912\",\"province\":\"\",\"district\":\"\",\"latwgs\":\"39.765054\",\"radius\":\"\",\"networkType\":\"任播地址\"}},\"original\":[{\"discoverTime\":\"2023-10-22 22:00:17\",\"updateTime\":\"2024-05-22 00:43:10\",\"tag\":\"垃圾邮件,恶意软件,僵尸网络-其他协议-DDoS.Linux.Mirai-上线包-3\",\"source\":\"恒安嘉新\",\"sourceOriginalData\":\"{\\\\\"code\\\\\":200,\\\\\"msg\\\\\":\\\\\"success\\\\\",\\\\\"data\\\\\":{\\\\\"whois\\\\\":{\\\\\"domain\\\\\":\\\\\"\\\\\",\\\\\"mail\\\\\":\\\\\"\\\\\",\\\\\"phone\\\\\":\\\\\"\\\\\",\\\\\"create_time\\\\\":\\\\\"\\\\\",\\\\\"dead_time\\\\\":\\\\\"\\\\\",\\\\\"update_time\\\\\":\\\\\"\\\\\",\\\\\"result\\\\\":0},\\\\\"beian\\\\\":{\\\\\"beian_num\\\\\":\\\\\"\\\\\",\\\\\"result\\\\\":0},\\\\\"threat\\\\\":{\\\\\"threaten_type\\\\\":\\\\\"僵尸木马主控端IP\\\\\",\\\\\"first_discover_date\\\\\":\\\\\"2023-10-22 22:00:17\\\\\",\\\\\"last_discover_date\\\\\":\\\\\"2024-05-22 00:43:10\\\\\",\\\\\"insert_time\\\\\":\\\\\"2024-05-24 09:19:11\\\\\",\\\\\"campaign\\\\\":\\\\\"\\\\\",\\\\\"malicious_family\\\\\":\\\\\"\\\\\",\\\\\"tags\\\\\":\\\\\"垃圾邮件,恶意软件,僵尸网络-其他协议-DDoS.Linux.Mirai-上线包-3\\\\\",\\\\\"confidence_status\\\\\":\\\\\"medium\\\\\",\\\\\"in_out\\\\\":\\\\\"in\\\\\",\\\\\"malicious_status_eversec\\\\\":\\\\\"medium\\\\\",\\\\\"discover_date\\\\\":\\\\\"2024-05-22 00:43:10\\\\\",\\\\\"result\\\\\":1},\\\\\"result\\\\\":1,\\\\\"query\\\\\":\\\\\"15.197.130.221\\\\\"}}\"},{\"discoverTime\":\"2024-01-28 12:30:30\",\"updateTime\":\"2024-04-02 14:45:43\",\"tag\":\"known attacker\",\"source\":\"信通院\",\"sourceOriginalData\":\"{\\\\\"status\\\\\":200,\\\\\"msg\\\\\":\\\\\"成功\\\\\",\\\\\"consumeTime\\\\\":\\\\\"1.1s\\\\\",\\\\\"data\\\\\":[{\\\\\"id\\\\\":\\\\\"349e7b1f06426bc4e37c582ba98262f9\\\\\",\\\\\"value\\\\\":\\\\\"15.197.130.221\\\\\",\\\\\"threatLevel\\\\\":2,\\\\\"groupId\\\\\":\\\\\"\\\\\",\\\\\"groupName\\\\\":\\\\\"\\\\\",\\\\\"useEnable\\\\\":1,\\\\\"expiryEnable\\\\\":1,\\\\\"expiryTime\\\\\":\\\\\"2026-01-28 12:30:30\\\\\",\\\\\"dataTag\\\\\":\\\\\"known attacker\\\\\",\\\\\"totalCount\\\\\":0,\\\\\"afterDayCount\\\\\":0,\\\\\"createTime\\\\\":\\\\\"2024-01-28 12:30:30\\\\\",\\\\\"foundTime\\\\\":\\\\\"2024-01-28 12:30:30\\\\\",\\\\\"type\\\\\":\\\\\"IP\\\\\",\\\\\"typeCode\\\\\":1,\\\\\"address\\\\\":\\\\\"\\\\\",\\\\\"source\\\\\":\\\\\"系统内置\\\\\",\\\\\"sourceCode\\\\\":0,\\\\\"updateTime\\\\\":\\\\\"2024-04-02 14:45:43\\\\\",\\\\\"riskTag\\\\\":\\\\\"known attacker\\\\\",\\\\\"md5_32\\\\\":\\\\\"349e7b1f06426bc4e37c582ba98262f9\\\\\",\\\\\"md5_16\\\\\":\\\\\"06426bc4e37c582b\\\\\"}],\\\\\"total\\\\\":1,\\\\\"keyTotal\\\\\":0,\\\\\"realTotal\\\\\":1}\"}],\"ioc\":[]}},{\"95.45.50.93\":{\"baseInfo\":{\"ipLocation\":{\"continent\":\"欧洲\",\"owner\":\"Eircom Limited\",\"country\":\"爱尔兰\",\"adcode\":\"\",\"city\":\"都柏林\",\"timezone\":\"UTC+1\",\"isp\":\"Eircom Limited\",\"accuracy\":\"城市\",\"source\":\"数据挖掘\",\"asnumber\":\"5466\",\"areacode\":\"IE\",\"zipcode\":\"D01\",\"lngwgs\":\"-6.260246\",\"province\":\"都柏林郡\",\"district\":\"\",\"latwgs\":\"53.349764\",\"radius\":\"\"}},\"original\":[{\"discoverTime\":\"2023-11-14 10:08:08\",\"updateTime\":\"2023-11-14 10:08:08\",\"tag\":\"远控木马,网络扫描,常规网络扫描\",\"source\":\"腾讯\",\"sourceOriginalData\":\"{\\\\\"compromise\\\\\":{\\\\\"data\\\\\":{\\\\\"ips\\\\\":{\\\\\"95.45.50.93\\\\\":{\\\\\"result\\\\\":\\\\\"suspicious\\\\\",\\\\\"groups\\\\\":[],\\\\\"tags\\\\\":[\\\\\"远控木马\\\\\"],\\\\\"threat_level\\\\\":4,\\\\\"threat_type\\\\\":[\\\\\"远控木马\\\\\"],\\\\\"ttps\\\\\":[]}},\\\\\"domains\\\\\":{}},\\\\\"return_code\\\\\":0,\\\\\"return_msg\\\\\":\\\\\"success\\\\\",\\\\\"ver\\\\\":\\\\\"2.0\\\\\"},\\\\\"ipIngress\\\\\":{\\\\\"groups\\\\\":[],\\\\\"result\\\\\":\\\\\"gray\\\\\",\\\\\"return_code\\\\\":0,\\\\\"return_msg\\\\\":\\\\\"success\\\\\",\\\\\"status\\\\\":\\\\\"\\\\\",\\\\\"tags\\\\\":[\\\\\"常规网络扫描\\\\\"],\\\\\"threat_level\\\\\":4,\\\\\"threat_type\\\\\":[\\\\\"网络扫描\\\\\"],\\\\\"ttps\\\\\":[],\\\\\"ver\\\\\":\\\\\"2.0\\\\\"},\\\\\"reputation\\\\\":{\\\\\"basic\\\\\":{\\\\\"carrier\\\\\":\\\\\"Eircom Limited\\\\\",\\\\\"asn\\\\\":\\\\\"5466\\\\\",\\\\\"isp\\\\\":\\\\\"Eircom Limited\\\\\",\\\\\"location\\\\\":{\\\\\"country\\\\\":\\\\\"爱尔兰\\\\\",\\\\\"province\\\\\":\\\\\"都柏林郡\\\\\",\\\\\"city\\\\\":\\\\\"都柏林\\\\\",\\\\\"lng\\\\\":\\\\\"-6.260246\\\\\",\\\\\"lat\\\\\":\\\\\"53.349764\\\\\",\\\\\"country_code\\\\\":\\\\\"\\\\\"}},\\\\\"confidence\\\\\":0,\\\\\"context\\\\\":{\\\\\"articles\\\\\":[],\\\\\"historical_domain\\\\\":[],\\\\\"black_md5_contain_ip\\\\\":[],\\\\\"black_md5_download_from_ip\\\\\":[],\\\\\"black_md5_visit_ip\\\\\":[],\\\\\"black_url_of_ip\\\\\":[]},\\\\\"first_seen\\\\\":\\\\\"2023-11-14 10:08:08\\\\\",\\\\\"groups\\\\\":[],\\\\\"intelligences\\\\\":[{\\\\\"Source\\\\\":\\\\\"Tencent Labs\\\\\",\\\\\"Stamp\\\\\":\\\\\"远控木马\\\\\",\\\\\"Time\\\\\":\\\\\"2023-11-14 10:08:08\\\\\"}],\\\\\"last_seen\\\\\":\\\\\"2023-11-14 10:08:08\\\\\",\\\\\"port\\\\\":\\\\\"\\\\\",\\\\\"profile\\\\\":[\\\\\"IDC-IP\\\\\"],\\\\\"result\\\\\":\\\\\"suspicious\\\\\",\\\\\"return_code\\\\\":0,\\\\\"return_msg\\\\\":\\\\\"success\\\\\",\\\\\"tags\\\\\":[\\\\\"远控木马\\\\\"],\\\\\"threat_class\\\\\":0,\\\\\"threat_level\\\\\":4,\\\\\"threat_type\\\\\":[\\\\\"远控木马\\\\\"],\\\\\"ttps\\\\\":[],\\\\\"url_type\\\\\":0,\\\\\"ver\\\\\":\\\\\"2.0\\\\\"}}\"}],\"ioc\":[]}},{\"164.92.160.135\":{\"baseInfo\":{\"ipLocation\":{\"continent\":\"欧洲\",\"owner\":\"DigitalOcean, LLC\",\"country\":\"德国\",\"adcode\":\"\",\"city\":\"纽伦堡\",\"timezone\":\"UTC+1\",\"isp\":\"DigitalOcean, LLC\",\"accuracy\":\"城市\",\"source\":\"数据挖掘\",\"asnumber\":\"14061\",\"areacode\":\"DE\",\"zipcode\":\"90429\",\"lngwgs\":\"11.064260\",\"province\":\"巴伐利亚邦\",\"district\":\"\",\"latwgs\":\"49.451525\",\"radius\":\"\"}},\"original\":[{\"discoverTime\":\"2024-05-10 05:16:37\",\"updateTime\":\"2024-05-22 05:15:27\",\"tag\":\"恶意软件,漏洞利用,扫描器\",\"source\":\"恒安嘉新\",\"sourceOriginalData\":\"{\\\\\"code\\\\\":200,\\\\\"msg\\\\\":\\\\\"success\\\\\",\\\\\"data\\\\\":{\\\\\"whois\\\\\":{\\\\\"domain\\\\\":\\\\\"\\\\\",\\\\\"mail\\\\\":\\\\\"\\\\\",\\\\\"phone\\\\\":\\\\\"\\\\\",\\\\\"create_time\\\\\":\\\\\"\\\\\",\\\\\"dead_time\\\\\":\\\\\"\\\\\",\\\\\"update_time\\\\\":\\\\\"\\\\\",\\\\\"result\\\\\":0},\\\\\"beian\\\\\":{\\\\\"beian_num\\\\\":\\\\\"\\\\\",\\\\\"result\\\\\":0},\\\\\"threat\\\\\":{\\\\\"threaten_type\\\\\":\\\\\"\\\\\",\\\\\"first_discover_date\\\\\":\\\\\"2024-05-10 05:16:37\\\\\",\\\\\"last_discover_date\\\\\":\\\\\"2024-05-22 05:15:27\\\\\",\\\\\"insert_time\\\\\":\\\\\"2024-05-24 09:19:11\\\\\",\\\\\"campaign\\\\\":\\\\\"\\\\\",\\\\\"malicious_family\\\\\":\\\\\"\\\\\",\\\\\"tags\\\\\":\\\\\"恶意软件,漏洞利用,扫描器\\\\\",\\\\\"confidence_status\\\\\":\\\\\"medium\\\\\",\\\\\"in_out\\\\\":\\\\\"in\\\\\",\\\\\"malicious_status_eversec\\\\\":\\\\\"medium\\\\\",\\\\\"discover_date\\\\\":\\\\\"2024-05-22 05:15:27\\\\\",\\\\\"result\\\\\":1},\\\\\"result\\\\\":1,\\\\\"query\\\\\":\\\\\"164.92.160.135\\\\\"}}\"},{\"tag\":\"网络蜜罐,WebLogic漏洞利用,Nginx蜜罐攻击,致远OA蜜罐攻击,常规蜜罐攻击,漏洞利用\",\"source\":\"腾讯\",\"sourceOriginalData\":\"{\\\\\"compromise\\\\\":{\\\\\"data\\\\\":{\\\\\"ips\\\\\":{\\\\\"164.92.160.135\\\\\":{\\\\\"result\\\\\":\\\\\"\\\\\",\\\\\"groups\\\\\":[],\\\\\"tags\\\\\":[],\\\\\"threat_level\\\\\":0,\\\\\"threat_type\\\\\":[],\\\\\"ttps\\\\\":[]}},\\\\\"domains\\\\\":{}},\\\\\"return_code\\\\\":0,\\\\\"return_msg\\\\\":\\\\\"success\\\\\",\\\\\"ver\\\\\":\\\\\"2.0\\\\\"},\\\\\"ipIngress\\\\\":{\\\\\"groups\\\\\":[],\\\\\"result\\\\\":\\\\\"black\\\\\",\\\\\"return_code\\\\\":0,\\\\\"return_msg\\\\\":\\\\\"success\\\\\",\\\\\"status\\\\\":\\\\\"inactive\\\\\",\\\\\"tags\\\\\":[\\\\\"Nginx蜜罐攻击\\\\\",\\\\\"WebLogic漏洞利用\\\\\",\\\\\"常规蜜罐攻击\\\\\",\\\\\"致远OA蜜罐攻击\\\\\"],\\\\\"threat_level\\\\\":3,\\\\\"threat_type\\\\\":[\\\\\"漏洞利用\\\\\",\\\\\"网络蜜罐\\\\\"],\\\\\"ttps\\\\\":[],\\\\\"ver\\\\\":\\\\\"2.0\\\\\"}}\"}],\"ioc\":[]}}],\"global\":{\"content-length\":\"60\",\"gw-timestamp\":\"1716619681988\",\"x-forwarded-for\":\"172.22.102.61\",\"body\":{\"ipList\":[\"15.197.130.221\",\"95.45.50.93\",\"164.92.160.135\"]},\"url\":{},\"pragma\":\"no-cache\",\"accept\":\"text/html,application/json,application/xhtml+xml,application/xml;q=0.9,*/*;q=0.8\",\"x-real-ip\":\"172.22.102.61\",\"gw-client-id\":\"LLM-Agent\",\"toJson\":{},\"toMD5\":{},\"host\":\"172.22.102.61:8990\",\"gw-sign\":\"725b44f47219d61e7f1f301a77b0d537\",\"header\":{\"host\":\"172.22.102.61:8990\",\"x-real-ip\":\"172.22.102.61\",\"x-forwarded-for\":\"172.22.102.61\",\"connection\":\"close\",\"content-length\":\"60\",\"gw-client-id\":\"LLM-Agent\",\"gw-timestamp\":\"1716619681988\",\"accept\":\"text/html,application/json,application/xhtml+xml,application/xml;q=0.9,*/*;q=0.8\",\"user-agent\":\"Mozilla/5.0 (Windows NT 10.0; Win64; x64) AppleWebKit/537.36 (KHTML, like Gecko) Chrome/75.0.3770.142 Safari/537.36 Hutool\",\"gw-sign\":\"725b44f47219d61e7f1f301a77b0d537\",\"accept-encoding\":\"gzip, deflate\",\"content-type\":\"application/json;charset=UTF-8\",\"cache-control\":\"no-cache\",\"pragma\":\"no-cache\"},\"connection\":\"close\",\"content-type\":\"application/json;charset=UTF-8\",\"cache-control\":\"no-cache\",\"accept-encoding\":\"gzip, deflate\",\"ipList\":[\"15.197.130.221\",\"95.45.50.93\",\"164.92.160.135\"],\"user-agent\":\"Mozilla/5.0 (Windows NT 10.0; Win64; x64) AppleWebKit/537.36 (KHTML, like Gecko) Chrome/75.0.3770.142 Safari/537.36 Hutool\"}}}'"
      ]
     },
     "execution_count": 8,
     "metadata": {},
     "output_type": "execute_result"
    }
   ],
   "source": [
    "def get_value_by_key_path(output_dict, key_path):\n",
    "    \"\"\"根据给定的键路径获取字典中的值\"\"\"\n",
    "    keys = key_path.split('.')  # 将键路径按照 '.' 分割成键列表\n",
    "    value = output_dict\n",
    "    for key in keys:\n",
    "        if isinstance(value, dict):\n",
    "            value = value.get(key)  # 获取当前键对应的值\n",
    "        else:\n",
    "            return None  # 如果当前值不是字典，则返回 None\n",
    "    return value\n",
    "\n",
    "output = {\n",
    "    \"code\": 0,\n",
    "    \"data\": \"{\\\"msg\\\":\\\"操作成功\\\",\\\"code\\\":200,\\\"data\\\":{\\\"msg\\\":\\\"查询成功\\\",\\\"code\\\":200,\\\"data\\\":[{\\\"15.197.130.221\\\":{\\\"baseInfo\\\":{\\\"ipLocation\\\":{\\\"continent\\\":\\\"北美洲\\\",\\\"owner\\\":\\\"亚马逊\\\",\\\"country\\\":\\\"美国\\\",\\\"adcode\\\":\\\"\\\",\\\"city\\\":\\\"\\\",\\\"timezone\\\":\\\"UTC-6\\\",\\\"isp\\\":\\\"亚马逊\\\",\\\"accuracy\\\":\\\"国家\\\",\\\"source\\\":\\\"数据挖掘\\\",\\\"asnumber\\\":\\\"16509\\\",\\\"areacode\\\":\\\"US\\\",\\\"zipcode\\\":\\\"\\\",\\\"lngwgs\\\":\\\"-101.407912\\\",\\\"province\\\":\\\"\\\",\\\"district\\\":\\\"\\\",\\\"latwgs\\\":\\\"39.765054\\\",\\\"radius\\\":\\\"\\\",\\\"networkType\\\":\\\"任播地址\\\"}},\\\"original\\\":[{\\\"discoverTime\\\":\\\"2023-10-22 22:00:17\\\",\\\"updateTime\\\":\\\"2024-05-22 00:43:10\\\",\\\"tag\\\":\\\"垃圾邮件,恶意软件,僵尸网络-其他协议-DDoS.Linux.Mirai-上线包-3\\\",\\\"source\\\":\\\"恒安嘉新\\\",\\\"sourceOriginalData\\\":\\\"{\\\\\\\"code\\\\\\\":200,\\\\\\\"msg\\\\\\\":\\\\\\\"success\\\\\\\",\\\\\\\"data\\\\\\\":{\\\\\\\"whois\\\\\\\":{\\\\\\\"domain\\\\\\\":\\\\\\\"\\\\\\\",\\\\\\\"mail\\\\\\\":\\\\\\\"\\\\\\\",\\\\\\\"phone\\\\\\\":\\\\\\\"\\\\\\\",\\\\\\\"create_time\\\\\\\":\\\\\\\"\\\\\\\",\\\\\\\"dead_time\\\\\\\":\\\\\\\"\\\\\\\",\\\\\\\"update_time\\\\\\\":\\\\\\\"\\\\\\\",\\\\\\\"result\\\\\\\":0},\\\\\\\"beian\\\\\\\":{\\\\\\\"beian_num\\\\\\\":\\\\\\\"\\\\\\\",\\\\\\\"result\\\\\\\":0},\\\\\\\"threat\\\\\\\":{\\\\\\\"threaten_type\\\\\\\":\\\\\\\"僵尸木马主控端IP\\\\\\\",\\\\\\\"first_discover_date\\\\\\\":\\\\\\\"2023-10-22 22:00:17\\\\\\\",\\\\\\\"last_discover_date\\\\\\\":\\\\\\\"2024-05-22 00:43:10\\\\\\\",\\\\\\\"insert_time\\\\\\\":\\\\\\\"2024-05-24 09:19:11\\\\\\\",\\\\\\\"campaign\\\\\\\":\\\\\\\"\\\\\\\",\\\\\\\"malicious_family\\\\\\\":\\\\\\\"\\\\\\\",\\\\\\\"tags\\\\\\\":\\\\\\\"垃圾邮件,恶意软件,僵尸网络-其他协议-DDoS.Linux.Mirai-上线包-3\\\\\\\",\\\\\\\"confidence_status\\\\\\\":\\\\\\\"medium\\\\\\\",\\\\\\\"in_out\\\\\\\":\\\\\\\"in\\\\\\\",\\\\\\\"malicious_status_eversec\\\\\\\":\\\\\\\"medium\\\\\\\",\\\\\\\"discover_date\\\\\\\":\\\\\\\"2024-05-22 00:43:10\\\\\\\",\\\\\\\"result\\\\\\\":1},\\\\\\\"result\\\\\\\":1,\\\\\\\"query\\\\\\\":\\\\\\\"15.197.130.221\\\\\\\"}}\\\"},{\\\"discoverTime\\\":\\\"2024-01-28 12:30:30\\\",\\\"updateTime\\\":\\\"2024-04-02 14:45:43\\\",\\\"tag\\\":\\\"known attacker\\\",\\\"source\\\":\\\"信通院\\\",\\\"sourceOriginalData\\\":\\\"{\\\\\\\"status\\\\\\\":200,\\\\\\\"msg\\\\\\\":\\\\\\\"成功\\\\\\\",\\\\\\\"consumeTime\\\\\\\":\\\\\\\"1.1s\\\\\\\",\\\\\\\"data\\\\\\\":[{\\\\\\\"id\\\\\\\":\\\\\\\"349e7b1f06426bc4e37c582ba98262f9\\\\\\\",\\\\\\\"value\\\\\\\":\\\\\\\"15.197.130.221\\\\\\\",\\\\\\\"threatLevel\\\\\\\":2,\\\\\\\"groupId\\\\\\\":\\\\\\\"\\\\\\\",\\\\\\\"groupName\\\\\\\":\\\\\\\"\\\\\\\",\\\\\\\"useEnable\\\\\\\":1,\\\\\\\"expiryEnable\\\\\\\":1,\\\\\\\"expiryTime\\\\\\\":\\\\\\\"2026-01-28 12:30:30\\\\\\\",\\\\\\\"dataTag\\\\\\\":\\\\\\\"known attacker\\\\\\\",\\\\\\\"totalCount\\\\\\\":0,\\\\\\\"afterDayCount\\\\\\\":0,\\\\\\\"createTime\\\\\\\":\\\\\\\"2024-01-28 12:30:30\\\\\\\",\\\\\\\"foundTime\\\\\\\":\\\\\\\"2024-01-28 12:30:30\\\\\\\",\\\\\\\"type\\\\\\\":\\\\\\\"IP\\\\\\\",\\\\\\\"typeCode\\\\\\\":1,\\\\\\\"address\\\\\\\":\\\\\\\"\\\\\\\",\\\\\\\"source\\\\\\\":\\\\\\\"系统内置\\\\\\\",\\\\\\\"sourceCode\\\\\\\":0,\\\\\\\"updateTime\\\\\\\":\\\\\\\"2024-04-02 14:45:43\\\\\\\",\\\\\\\"riskTag\\\\\\\":\\\\\\\"known attacker\\\\\\\",\\\\\\\"md5_32\\\\\\\":\\\\\\\"349e7b1f06426bc4e37c582ba98262f9\\\\\\\",\\\\\\\"md5_16\\\\\\\":\\\\\\\"06426bc4e37c582b\\\\\\\"}],\\\\\\\"total\\\\\\\":1,\\\\\\\"keyTotal\\\\\\\":0,\\\\\\\"realTotal\\\\\\\":1}\\\"}],\\\"ioc\\\":[]}},{\\\"95.45.50.93\\\":{\\\"baseInfo\\\":{\\\"ipLocation\\\":{\\\"continent\\\":\\\"欧洲\\\",\\\"owner\\\":\\\"Eircom Limited\\\",\\\"country\\\":\\\"爱尔兰\\\",\\\"adcode\\\":\\\"\\\",\\\"city\\\":\\\"都柏林\\\",\\\"timezone\\\":\\\"UTC+1\\\",\\\"isp\\\":\\\"Eircom Limited\\\",\\\"accuracy\\\":\\\"城市\\\",\\\"source\\\":\\\"数据挖掘\\\",\\\"asnumber\\\":\\\"5466\\\",\\\"areacode\\\":\\\"IE\\\",\\\"zipcode\\\":\\\"D01\\\",\\\"lngwgs\\\":\\\"-6.260246\\\",\\\"province\\\":\\\"都柏林郡\\\",\\\"district\\\":\\\"\\\",\\\"latwgs\\\":\\\"53.349764\\\",\\\"radius\\\":\\\"\\\"}},\\\"original\\\":[{\\\"discoverTime\\\":\\\"2023-11-14 10:08:08\\\",\\\"updateTime\\\":\\\"2023-11-14 10:08:08\\\",\\\"tag\\\":\\\"远控木马,网络扫描,常规网络扫描\\\",\\\"source\\\":\\\"腾讯\\\",\\\"sourceOriginalData\\\":\\\"{\\\\\\\"compromise\\\\\\\":{\\\\\\\"data\\\\\\\":{\\\\\\\"ips\\\\\\\":{\\\\\\\"95.45.50.93\\\\\\\":{\\\\\\\"result\\\\\\\":\\\\\\\"suspicious\\\\\\\",\\\\\\\"groups\\\\\\\":[],\\\\\\\"tags\\\\\\\":[\\\\\\\"远控木马\\\\\\\"],\\\\\\\"threat_level\\\\\\\":4,\\\\\\\"threat_type\\\\\\\":[\\\\\\\"远控木马\\\\\\\"],\\\\\\\"ttps\\\\\\\":[]}},\\\\\\\"domains\\\\\\\":{}},\\\\\\\"return_code\\\\\\\":0,\\\\\\\"return_msg\\\\\\\":\\\\\\\"success\\\\\\\",\\\\\\\"ver\\\\\\\":\\\\\\\"2.0\\\\\\\"},\\\\\\\"ipIngress\\\\\\\":{\\\\\\\"groups\\\\\\\":[],\\\\\\\"result\\\\\\\":\\\\\\\"gray\\\\\\\",\\\\\\\"return_code\\\\\\\":0,\\\\\\\"return_msg\\\\\\\":\\\\\\\"success\\\\\\\",\\\\\\\"status\\\\\\\":\\\\\\\"\\\\\\\",\\\\\\\"tags\\\\\\\":[\\\\\\\"常规网络扫描\\\\\\\"],\\\\\\\"threat_level\\\\\\\":4,\\\\\\\"threat_type\\\\\\\":[\\\\\\\"网络扫描\\\\\\\"],\\\\\\\"ttps\\\\\\\":[],\\\\\\\"ver\\\\\\\":\\\\\\\"2.0\\\\\\\"},\\\\\\\"reputation\\\\\\\":{\\\\\\\"basic\\\\\\\":{\\\\\\\"carrier\\\\\\\":\\\\\\\"Eircom Limited\\\\\\\",\\\\\\\"asn\\\\\\\":\\\\\\\"5466\\\\\\\",\\\\\\\"isp\\\\\\\":\\\\\\\"Eircom Limited\\\\\\\",\\\\\\\"location\\\\\\\":{\\\\\\\"country\\\\\\\":\\\\\\\"爱尔兰\\\\\\\",\\\\\\\"province\\\\\\\":\\\\\\\"都柏林郡\\\\\\\",\\\\\\\"city\\\\\\\":\\\\\\\"都柏林\\\\\\\",\\\\\\\"lng\\\\\\\":\\\\\\\"-6.260246\\\\\\\",\\\\\\\"lat\\\\\\\":\\\\\\\"53.349764\\\\\\\",\\\\\\\"country_code\\\\\\\":\\\\\\\"\\\\\\\"}},\\\\\\\"confidence\\\\\\\":0,\\\\\\\"context\\\\\\\":{\\\\\\\"articles\\\\\\\":[],\\\\\\\"historical_domain\\\\\\\":[],\\\\\\\"black_md5_contain_ip\\\\\\\":[],\\\\\\\"black_md5_download_from_ip\\\\\\\":[],\\\\\\\"black_md5_visit_ip\\\\\\\":[],\\\\\\\"black_url_of_ip\\\\\\\":[]},\\\\\\\"first_seen\\\\\\\":\\\\\\\"2023-11-14 10:08:08\\\\\\\",\\\\\\\"groups\\\\\\\":[],\\\\\\\"intelligences\\\\\\\":[{\\\\\\\"Source\\\\\\\":\\\\\\\"Tencent Labs\\\\\\\",\\\\\\\"Stamp\\\\\\\":\\\\\\\"远控木马\\\\\\\",\\\\\\\"Time\\\\\\\":\\\\\\\"2023-11-14 10:08:08\\\\\\\"}],\\\\\\\"last_seen\\\\\\\":\\\\\\\"2023-11-14 10:08:08\\\\\\\",\\\\\\\"port\\\\\\\":\\\\\\\"\\\\\\\",\\\\\\\"profile\\\\\\\":[\\\\\\\"IDC-IP\\\\\\\"],\\\\\\\"result\\\\\\\":\\\\\\\"suspicious\\\\\\\",\\\\\\\"return_code\\\\\\\":0,\\\\\\\"return_msg\\\\\\\":\\\\\\\"success\\\\\\\",\\\\\\\"tags\\\\\\\":[\\\\\\\"远控木马\\\\\\\"],\\\\\\\"threat_class\\\\\\\":0,\\\\\\\"threat_level\\\\\\\":4,\\\\\\\"threat_type\\\\\\\":[\\\\\\\"远控木马\\\\\\\"],\\\\\\\"ttps\\\\\\\":[],\\\\\\\"url_type\\\\\\\":0,\\\\\\\"ver\\\\\\\":\\\\\\\"2.0\\\\\\\"}}\\\"}],\\\"ioc\\\":[]}},{\\\"164.92.160.135\\\":{\\\"baseInfo\\\":{\\\"ipLocation\\\":{\\\"continent\\\":\\\"欧洲\\\",\\\"owner\\\":\\\"DigitalOcean, LLC\\\",\\\"country\\\":\\\"德国\\\",\\\"adcode\\\":\\\"\\\",\\\"city\\\":\\\"纽伦堡\\\",\\\"timezone\\\":\\\"UTC+1\\\",\\\"isp\\\":\\\"DigitalOcean, LLC\\\",\\\"accuracy\\\":\\\"城市\\\",\\\"source\\\":\\\"数据挖掘\\\",\\\"asnumber\\\":\\\"14061\\\",\\\"areacode\\\":\\\"DE\\\",\\\"zipcode\\\":\\\"90429\\\",\\\"lngwgs\\\":\\\"11.064260\\\",\\\"province\\\":\\\"巴伐利亚邦\\\",\\\"district\\\":\\\"\\\",\\\"latwgs\\\":\\\"49.451525\\\",\\\"radius\\\":\\\"\\\"}},\\\"original\\\":[{\\\"discoverTime\\\":\\\"2024-05-10 05:16:37\\\",\\\"updateTime\\\":\\\"2024-05-22 05:15:27\\\",\\\"tag\\\":\\\"恶意软件,漏洞利用,扫描器\\\",\\\"source\\\":\\\"恒安嘉新\\\",\\\"sourceOriginalData\\\":\\\"{\\\\\\\"code\\\\\\\":200,\\\\\\\"msg\\\\\\\":\\\\\\\"success\\\\\\\",\\\\\\\"data\\\\\\\":{\\\\\\\"whois\\\\\\\":{\\\\\\\"domain\\\\\\\":\\\\\\\"\\\\\\\",\\\\\\\"mail\\\\\\\":\\\\\\\"\\\\\\\",\\\\\\\"phone\\\\\\\":\\\\\\\"\\\\\\\",\\\\\\\"create_time\\\\\\\":\\\\\\\"\\\\\\\",\\\\\\\"dead_time\\\\\\\":\\\\\\\"\\\\\\\",\\\\\\\"update_time\\\\\\\":\\\\\\\"\\\\\\\",\\\\\\\"result\\\\\\\":0},\\\\\\\"beian\\\\\\\":{\\\\\\\"beian_num\\\\\\\":\\\\\\\"\\\\\\\",\\\\\\\"result\\\\\\\":0},\\\\\\\"threat\\\\\\\":{\\\\\\\"threaten_type\\\\\\\":\\\\\\\"\\\\\\\",\\\\\\\"first_discover_date\\\\\\\":\\\\\\\"2024-05-10 05:16:37\\\\\\\",\\\\\\\"last_discover_date\\\\\\\":\\\\\\\"2024-05-22 05:15:27\\\\\\\",\\\\\\\"insert_time\\\\\\\":\\\\\\\"2024-05-24 09:19:11\\\\\\\",\\\\\\\"campaign\\\\\\\":\\\\\\\"\\\\\\\",\\\\\\\"malicious_family\\\\\\\":\\\\\\\"\\\\\\\",\\\\\\\"tags\\\\\\\":\\\\\\\"恶意软件,漏洞利用,扫描器\\\\\\\",\\\\\\\"confidence_status\\\\\\\":\\\\\\\"medium\\\\\\\",\\\\\\\"in_out\\\\\\\":\\\\\\\"in\\\\\\\",\\\\\\\"malicious_status_eversec\\\\\\\":\\\\\\\"medium\\\\\\\",\\\\\\\"discover_date\\\\\\\":\\\\\\\"2024-05-22 05:15:27\\\\\\\",\\\\\\\"result\\\\\\\":1},\\\\\\\"result\\\\\\\":1,\\\\\\\"query\\\\\\\":\\\\\\\"164.92.160.135\\\\\\\"}}\\\"},{\\\"tag\\\":\\\"网络蜜罐,WebLogic漏洞利用,Nginx蜜罐攻击,致远OA蜜罐攻击,常规蜜罐攻击,漏洞利用\\\",\\\"source\\\":\\\"腾讯\\\",\\\"sourceOriginalData\\\":\\\"{\\\\\\\"compromise\\\\\\\":{\\\\\\\"data\\\\\\\":{\\\\\\\"ips\\\\\\\":{\\\\\\\"164.92.160.135\\\\\\\":{\\\\\\\"result\\\\\\\":\\\\\\\"\\\\\\\",\\\\\\\"groups\\\\\\\":[],\\\\\\\"tags\\\\\\\":[],\\\\\\\"threat_level\\\\\\\":0,\\\\\\\"threat_type\\\\\\\":[],\\\\\\\"ttps\\\\\\\":[]}},\\\\\\\"domains\\\\\\\":{}},\\\\\\\"return_code\\\\\\\":0,\\\\\\\"return_msg\\\\\\\":\\\\\\\"success\\\\\\\",\\\\\\\"ver\\\\\\\":\\\\\\\"2.0\\\\\\\"},\\\\\\\"ipIngress\\\\\\\":{\\\\\\\"groups\\\\\\\":[],\\\\\\\"result\\\\\\\":\\\\\\\"black\\\\\\\",\\\\\\\"return_code\\\\\\\":0,\\\\\\\"return_msg\\\\\\\":\\\\\\\"success\\\\\\\",\\\\\\\"status\\\\\\\":\\\\\\\"inactive\\\\\\\",\\\\\\\"tags\\\\\\\":[\\\\\\\"Nginx蜜罐攻击\\\\\\\",\\\\\\\"WebLogic漏洞利用\\\\\\\",\\\\\\\"常规蜜罐攻击\\\\\\\",\\\\\\\"致远OA蜜罐攻击\\\\\\\"],\\\\\\\"threat_level\\\\\\\":3,\\\\\\\"threat_type\\\\\\\":[\\\\\\\"漏洞利用\\\\\\\",\\\\\\\"网络蜜罐\\\\\\\"],\\\\\\\"ttps\\\\\\\":[],\\\\\\\"ver\\\\\\\":\\\\\\\"2.0\\\\\\\"}}\\\"}],\\\"ioc\\\":[]}}],\\\"global\\\":{\\\"content-length\\\":\\\"60\\\",\\\"gw-timestamp\\\":\\\"1716619681988\\\",\\\"x-forwarded-for\\\":\\\"172.22.102.61\\\",\\\"body\\\":{\\\"ipList\\\":[\\\"15.197.130.221\\\",\\\"95.45.50.93\\\",\\\"164.92.160.135\\\"]},\\\"url\\\":{},\\\"pragma\\\":\\\"no-cache\\\",\\\"accept\\\":\\\"text/html,application/json,application/xhtml+xml,application/xml;q=0.9,*/*;q=0.8\\\",\\\"x-real-ip\\\":\\\"172.22.102.61\\\",\\\"gw-client-id\\\":\\\"LLM-Agent\\\",\\\"toJson\\\":{},\\\"toMD5\\\":{},\\\"host\\\":\\\"172.22.102.61:8990\\\",\\\"gw-sign\\\":\\\"725b44f47219d61e7f1f301a77b0d537\\\",\\\"header\\\":{\\\"host\\\":\\\"172.22.102.61:8990\\\",\\\"x-real-ip\\\":\\\"172.22.102.61\\\",\\\"x-forwarded-for\\\":\\\"172.22.102.61\\\",\\\"connection\\\":\\\"close\\\",\\\"content-length\\\":\\\"60\\\",\\\"gw-client-id\\\":\\\"LLM-Agent\\\",\\\"gw-timestamp\\\":\\\"1716619681988\\\",\\\"accept\\\":\\\"text/html,application/json,application/xhtml+xml,application/xml;q=0.9,*/*;q=0.8\\\",\\\"user-agent\\\":\\\"Mozilla/5.0 (Windows NT 10.0; Win64; x64) AppleWebKit/537.36 (KHTML, like Gecko) Chrome/75.0.3770.142 Safari/537.36 Hutool\\\",\\\"gw-sign\\\":\\\"725b44f47219d61e7f1f301a77b0d537\\\",\\\"accept-encoding\\\":\\\"gzip, deflate\\\",\\\"content-type\\\":\\\"application/json;charset=UTF-8\\\",\\\"cache-control\\\":\\\"no-cache\\\",\\\"pragma\\\":\\\"no-cache\\\"},\\\"connection\\\":\\\"close\\\",\\\"content-type\\\":\\\"application/json;charset=UTF-8\\\",\\\"cache-control\\\":\\\"no-cache\\\",\\\"accept-encoding\\\":\\\"gzip, deflate\\\",\\\"ipList\\\":[\\\"15.197.130.221\\\",\\\"95.45.50.93\\\",\\\"164.92.160.135\\\"],\\\"user-agent\\\":\\\"Mozilla/5.0 (Windows NT 10.0; Win64; x64) AppleWebKit/537.36 (KHTML, like Gecko) Chrome/75.0.3770.142 Safari/537.36 Hutool\\\"}}}\",\n",
    "    \"msg\": \"\"\n",
    "}\n",
    "value = get_value_by_key_path(output_dict=output, key_path=\"data\")\n",
    "value"
   ]
  },
  {
   "cell_type": "code",
   "execution_count": null,
   "metadata": {},
   "outputs": [
    {
     "name": "stdout",
     "output_type": "stream",
     "text": [
      "{\"name\": \"\\u94f6\\u6e10\\u5c42\"}\n"
     ]
    }
   ],
   "source": [
    "import json\n",
    "\n",
    "# 示例字典\n",
    "data = {\n",
    "    \"name\": \"银渐层\"\n",
    "}\n",
    "\n",
    "# 使用 json.dumps 并设置 ensure_ascii=False\n",
    "json_str = json.dumps(data, ensure_ascii=False)\n",
    "\n",
    "print(json_str)\n"
   ]
  },
  {
   "cell_type": "markdown",
   "metadata": {},
   "source": [
    "#### 工作流中间结果轮询接口"
   ]
  },
  {
   "cell_type": "code",
   "execution_count": null,
   "metadata": {},
   "outputs": [
    {
     "data": {
      "text/plain": [
       "'[{\"NodeName\": \"start-node\", \"NodeType\": \"Start\", \"errorInfo\": \"\", \"errorLevel\": \"\", \"extra\": \"\", \"input\": \"{\\\\\"event\\\\\":\\\\\"sql注入\\\\\",\\\\\"event_details\\\\\":\\\\\"sql注入\\\\\"}\", \"logVersion\": 1, \"nodeExeCost\": \"0.000s\", \"nodeId\": \"100001\", \"nodeStatus\": 3, \"output\": \"{\\\\\"event\\\\\":\\\\\"sql注入\\\\\",\\\\\"event_details\\\\\":\\\\\"sql注入\\\\\"}\", \"raw_output\": \"{\\\\\"event\\\\\":\\\\\"sql注入\\\\\",\\\\\"event_details\\\\\":\\\\\"sql注入\\\\\"}\"}]'"
      ]
     },
     "execution_count": 5,
     "metadata": {},
     "output_type": "execute_result"
    }
   ],
   "source": [
    "node_results = [\n",
    "    {\n",
    "        \"NodeName\": \"start-node\",\n",
    "        \"NodeType\": \"Start\",\n",
    "        \"errorInfo\": \"\",\n",
    "        \"errorLevel\": \"\",\n",
    "        \"extra\": \"\",\n",
    "        \"input\": \"{\\\"event\\\":\\\"sql注入\\\",\\\"event_details\\\":\\\"sql注入\\\"}\",\n",
    "        \"logVersion\": 1,\n",
    "        \"nodeExeCost\": \"0.000s\",\n",
    "        \"nodeId\": \"100001\",\n",
    "        \"nodeStatus\": 3,\n",
    "        \"output\": \"{\\\"event\\\":\\\"sql注入\\\",\\\"event_details\\\":\\\"sql注入\\\"}\",\n",
    "        \"raw_output\": \"{\\\"event\\\":\\\"sql注入\\\",\\\"event_details\\\":\\\"sql注入\\\"}\"\n",
    "    }\n",
    "]\n",
    "\n",
    "import json\n",
    "\n",
    "node_results_json = json.dumps(node_results, ensure_ascii=False)\n",
    "node_results_json"
   ]
  },
  {
   "cell_type": "markdown",
   "metadata": {},
   "source": [
    "#### 判断是否为空"
   ]
  },
  {
   "cell_type": "code",
   "execution_count": 22,
   "metadata": {},
   "outputs": [
    {
     "name": "stdout",
     "output_type": "stream",
     "text": [
      "0\n",
      "空str\n",
      "空字典\n"
     ]
    }
   ],
   "source": [
    "\n",
    "if not 0:\n",
    "    print(0)\n",
    "    \n",
    "if not \"\":\n",
    "    print(\"空str\")\n",
    "\n",
    "if not {}:\n",
    "    print(\"空字典\")\n",
    "    \n",
    "if {} is None:\n",
    "    print(\"空字典\")"
   ]
  },
  {
   "cell_type": "code",
   "execution_count": 30,
   "metadata": {},
   "outputs": [
    {
     "data": {
      "text/plain": [
       "'查询苹果公司历史'"
      ]
     },
     "execution_count": 30,
     "metadata": {},
     "output_type": "execute_result"
    }
   ],
   "source": [
    "d = {\"query\": \"查询苹果公司历史\"}\n",
    "\n",
    "def get_query_value(params_dict):\n",
    "    if \"query\" in params_dict:\n",
    "        return params_dict[\"query\"]\n",
    "    elif \"Query\" in params_dict:\n",
    "        return params_dict[\"Query\"]\n",
    "    else:\n",
    "        raise KeyError(\"The dictionary does not contain 'query' or 'Query' key.\")\n",
    "\n",
    "get_query_value(d)"
   ]
  },
  {
   "cell_type": "markdown",
   "metadata": {},
   "source": [
    "#### 知识节点获取top_n"
   ]
  },
  {
   "cell_type": "code",
   "execution_count": 8,
   "metadata": {},
   "outputs": [
    {
     "name": "stdout",
     "output_type": "stream",
     "text": [
      "query='介绍sql注入' retrieval_results=[RetrievalResult(tenant_id=1, knowledge_id='10', source='doc', content='str1', similarity_score=0.95), RetrievalResult(tenant_id=1, knowledge_id='20', source='doc', content='str2', similarity_score=0.75), RetrievalResult(tenant_id=1, knowledge_id='20', source='data', content='str3', similarity_score=0.85)]\n"
     ]
    },
    {
     "data": {
      "text/plain": [
       "[RetrievalResult(tenant_id=1, knowledge_id='10', source='doc', content='str1', similarity_score=0.95),\n",
       " RetrievalResult(tenant_id=1, knowledge_id='20', source='data', content='str3', similarity_score=0.85)]"
      ]
     },
     "execution_count": 8,
     "metadata": {},
     "output_type": "execute_result"
    }
   ],
   "source": [
    "from pydantic import BaseModel, Field, ConfigDict, field_validator\n",
    "from typing import Literal, List, Union, Optional, Any\n",
    "\n",
    "class RetrievalResult(BaseModel):\n",
    "    tenant_id: Union[int, str] = Field(description=\"租户ID\")\n",
    "    knowledge_id: Union[int, str] = Field(description=\"知识库ID\")\n",
    "    source: Literal[\"data\", \"doc\"] = Field(description=\"内容来源\")\n",
    "    content: str = Field(description=\"检索内容\")\n",
    "    similarity_score: float = Field(description=\"相似度分数\", ge=0.01, le=0.99)\n",
    "\n",
    "class KnowledgeCallResponse(BaseModel):\n",
    "    query: str = Field(\"查询问题\")\n",
    "    retrieval_results: List[RetrievalResult] = Field(description=\"检索结果列表\")\n",
    "o1 = {\n",
    "    \"query\": \"介绍sql注入\",\n",
    "\t\"retrieval_results\": [\n",
    "\t\t{\n",
    "\t\t\t\"tenant_id\": 1, # 租户ID，integer\n",
    "\t\t\t\"knowledge_id\": \"10\", # 知识库ID，str\n",
    "\t\t\t\"source\": \"doc\", # 检索来源，doc:文档检索，str\n",
    "\t\t\t\"content\": \"str1\", # 检索结果内容\n",
    "\t\t\t\"similarity_score\": 0.95 # 相似度分数，float\n",
    "\t\t},\n",
    "  \t\t{\n",
    "\t\t\t\"tenant_id\": 1, # 租户ID，integer\n",
    "\t\t\t\"knowledge_id\": \"20\", # 知识库ID，str\n",
    "\t\t\t\"source\": \"doc\", # 检索来源，data:数据检索，str\n",
    "\t\t\t\"content\": \"str2\", # 检索结果内容\n",
    "\t\t\t\"similarity_score\": 0.75 # 相似度分数，float \n",
    "\t\t},\n",
    "\t\t{\n",
    "\t\t\t\"tenant_id\": 1, # 租户ID，integer\n",
    "\t\t\t\"knowledge_id\": \"20\", # 知识库ID，str\n",
    "\t\t\t\"source\": \"data\", # 检索来源，data:数据检索，str\n",
    "\t\t\t\"content\": \"str3\", # 检索结果内容\n",
    "\t\t\t\"similarity_score\": 0.85 # 相似度分数，float \n",
    "\t\t}\n",
    "\t]\n",
    "}\n",
    "o1 = KnowledgeCallResponse(**o1)\n",
    "print(o1)\n",
    "\n",
    "def get_top_n_retrieval_results(retrieval_results: List[RetrievalResult], n: int) -> List[RetrievalResult]:\n",
    "    # 根据 similarity_score 对结果进行排序\n",
    "    sorted_results = sorted(retrieval_results, key=lambda x: x.similarity_score, reverse=True)\n",
    "    # 取前 n 个结果\n",
    "    top_n_results = sorted_results[:n]\n",
    "    return top_n_results\n",
    "\n",
    "retrieval_results = get_top_n_retrieval_results(o1.retrieval_results, 2)\n",
    "retrieval_results"
   ]
  },
  {
   "cell_type": "code",
   "execution_count": 9,
   "metadata": {},
   "outputs": [
    {
     "data": {
      "text/plain": [
       "[]"
      ]
     },
     "execution_count": 9,
     "metadata": {},
     "output_type": "execute_result"
    }
   ],
   "source": [
    "retrieval_results = get_top_n_retrieval_results([], 2)\n",
    "retrieval_results"
   ]
  },
  {
   "cell_type": "code",
   "execution_count": 29,
   "metadata": {},
   "outputs": [],
   "source": [
    "import re\n",
    "import pystache\n",
    "import chevron\n",
    "from jinja2 import Template\n",
    "def format_placeholder_to_str(template):\n",
    "    \"\"\"占位符转换为字符串key, 例如{key} -> key\"\"\"\n",
    "    pattern = r'\\{([^{{}}]+)\\}'\n",
    "    matched_keys = re.findall(pattern=pattern, string=template)\n",
    "    print(matched_keys)\n",
    "    placeholder = {}\n",
    "    if matched_keys:\n",
    "        for k in matched_keys:\n",
    "            placeholder.update({k: f\"{k}\"})\n",
    "    formatted_prompt = template.format(**placeholder)\n",
    "    return formatted_prompt\n",
    "\n",
    "def safe_format_prompt(template: str, params_dict: Dict[str, Any]):\n",
    "    \"\"\"格式化字符串时忽略缺失的占位符\"\"\"\n",
    "    # class SafeFormatter(Formatter):\n",
    "    #     def get_value(self, key, args, kwargs):\n",
    "    #         if isinstance(key, str):\n",
    "    #             return kwargs.get(key, f'{{{key}}}')\n",
    "    #         else:\n",
    "    #             return Formatter.get_value(key, args, kwargs)\n",
    "\n",
    "    # formatter = SafeFormatter()\n",
    "    # formatted_prompt = formatter.format(template, **params_dict)\n",
    "    # formatted_prompt = render(template=template, data=params_dict)\n",
    "    # formatted_prompt = chevron.render(template=template, data=params_dict)\n",
    "    \n",
    "    jinja_template = Template(template)\n",
    "    formatted_template = jinja_template.render(params_dict)\n",
    "    return format_placeholder_to_str(formatted_template)\n",
    "    return formatted_template "
   ]
  },
  {
   "cell_type": "code",
   "execution_count": 30,
   "metadata": {},
   "outputs": [
    {
     "name": "stdout",
     "output_type": "stream",
     "text": [
      "['\"continent\":\"欧洲\",\"owner\":\"Eircom Limited\",\"country\":\"爱尔兰\",\"adcode\":\"\",\"city\":\"都柏林\",\"timezone\":\"UTC+1\",\"isp\":\"Eircom Limited\",\"accuracy\":\"城市\",\"source\":\"数据挖掘\",\"asnumber\":\"5466\",\"areacode\":\"IE\",\"zipcode\":\"D01\",\"lngwgs\":\"-6.260246\",\"province\":\"都柏林郡\",\"district\":\"\",\"latwgs\":\"53.349764\",\"radius\":\"\"', '\\\\\"count\\\\\":2004,\\\\\"firstSeen\\\\\":\\\\\"2023-05-25 21:23:41\\\\\",\\\\\"isValid\\\\\":true,\\\\\"lastSeen\\\\\":\\\\\"2023-08-23 12:36:41\\\\\",\\\\\"sources\\\\\":[\\\\\"OSINT\\\\\"],\\\\\"tags\\\\\":[\\\\\"Trojan\\\\\",\\\\\"Qakbot\\\\\"],\\\\\"threatType\\\\\":\\\\\"CnC\\\\\"', '\\\\\"city\\\\\":\\\\\"都柏林\\\\\",\\\\\"country\\\\\":\\\\\"爱尔兰\\\\\",\\\\\"operator\\\\\":\\\\\"Eircom Limited\\\\\",\\\\\"province\\\\\":\\\\\"都柏林郡\\\\\"', '\\\\\"city\\\\\":\\\\\"Dublin\\\\\",\\\\\"country\\\\\":\\\\\"Ireland\\\\\",\\\\\"operator\\\\\":\\\\\"Eircom Limited\\\\\",\\\\\"province\\\\\":\\\\\"Dublin\\\\\"', '\"continent\":\"欧洲\",\"owner\":\"DigitalOcean, LLC\",\"country\":\"德国\",\"adcode\":\"\",\"city\":\"纽伦堡\",\"timezone\":\"UTC+1\",\"isp\":\"DigitalOcean, LLC\",\"accuracy\":\"城市\",\"source\":\"数据挖掘\",\"asnumber\":\"14061\",\"areacode\":\"DE\",\"zipcode\":\"90429\",\"lngwgs\":\"11.064260\",\"province\":\"巴伐利亚邦\",\"district\":\"\",\"latwgs\":\"49.451525\",\"radius\":\"\"', '\\\\\"count\\\\\":658,\\\\\"firstSeen\\\\\":\\\\\"2024-05-09 23:51:06\\\\\",\\\\\"isValid\\\\\":true,\\\\\"lastSeen\\\\\":\\\\\"2024-05-20 13:39:46\\\\\",\\\\\"sources\\\\\":[\\\\\"OSINT\\\\\",\\\\\"Internal\\\\\"],\\\\\"tags\\\\\":[\\\\\"Tool\\\\\",\\\\\"Nmap\\\\\"],\\\\\"threatType\\\\\":\\\\\"Attacker\\\\\"', '\\\\\"count\\\\\":13,\\\\\"firstSeen\\\\\":\\\\\"2024-05-11 09:57:17\\\\\",\\\\\"isValid\\\\\":true,\\\\\"lastSeen\\\\\":\\\\\"2024-05-22 11:05:29\\\\\",\\\\\"sources\\\\\":[\\\\\"HoneyPot\\\\\",\\\\\"OSINT\\\\\"],\\\\\"tags\\\\\":[\\\\\"HTTP\\\\\",\\\\\"FTP\\\\\",\\\\\"Telnet\\\\\",\\\\\"SMTP\\\\\"],\\\\\"threatType\\\\\":\\\\\"Bruteforcer\\\\\"', '\\\\\"count\\\\\":189,\\\\\"firstSeen\\\\\":\\\\\"2024-05-10 00:33:48\\\\\",\\\\\"isValid\\\\\":true,\\\\\"lastSeen\\\\\":\\\\\"2024-05-20 12:37:43\\\\\",\\\\\"sources\\\\\":[\\\\\"Internal\\\\\"],\\\\\"tags\\\\\":[\\\\\"DoS\\\\\",\\\\\"D-Link\\\\\",\\\\\"Code Execution\\\\\",\\\\\"CVE-2018-19629\\\\\",\\\\\"Cisco Prime Data Center Network Manager\\\\\",\\\\\"Hyland Perceptive Content Server\\\\\",\\\\\"CVE-2017-6639\\\\\"],\\\\\"threatType\\\\\":\\\\\"Exploit\\\\\"', '\\\\\"count\\\\\":169,\\\\\"firstSeen\\\\\":\\\\\"2024-05-09 22:34:19\\\\\",\\\\\"isValid\\\\\":true,\\\\\"lastSeen\\\\\":\\\\\"2024-05-20 13:26:49\\\\\",\\\\\"sources\\\\\":[\\\\\"HoneyPot\\\\\"],\\\\\"tags\\\\\":[\\\\\"HTTP\\\\\",\\\\\"WebLogic T3\\\\\"],\\\\\"threatType\\\\\":\\\\\"Scanner\\\\\"', '\\\\\"city\\\\\":\\\\\"纽伦堡\\\\\",\\\\\"country\\\\\":\\\\\"德国\\\\\",\\\\\"operator\\\\\":\\\\\"DigitalOcean, LLC\\\\\",\\\\\"province\\\\\":\\\\\"巴伐利亚邦\\\\\"', '\\\\\"city\\\\\":\\\\\"Nuremberg\\\\\",\\\\\"country\\\\\":\\\\\"Germany\\\\\",\\\\\"operator\\\\\":\\\\\"DigitalOcean, LLC\\\\\",\\\\\"province\\\\\":\\\\\"Bayern\\\\\"', '\"continent\":\"北美洲\",\"owner\":\"亚马逊\",\"country\":\"美国\",\"adcode\":\"\",\"city\":\"\",\"timezone\":\"UTC-6\",\"isp\":\"亚马逊\",\"accuracy\":\"国家\",\"source\":\"数据挖掘\",\"asnumber\":\"16509\",\"areacode\":\"US\",\"zipcode\":\"\",\"lngwgs\":\"-101.407912\",\"province\":\"\",\"district\":\"\",\"latwgs\":\"39.765054\",\"radius\":\"\",\"networkType\":\"任播地址\"', '\"ipList\":[\"15.197.130.221\",\"95.45.50.93\",\"164.92.160.135\"]', '\"host\":\"172.22.102.61:8990\",\"x-real-ip\":\"172.22.102.61\",\"x-forwarded-for\":\"172.22.102.61\",\"connection\":\"close\",\"content-length\":\"60\",\"gw-client-id\":\"LLM-Agent\",\"gw-timestamp\":\"1716915406777\",\"accept\":\"text/html,application/json,application/xhtml+xml,application/xml;q=0.9,*/*;q=0.8\",\"user-agent\":\"Mozilla/5.0 (Windows NT 10.0; Win64; x64) AppleWebKit/537.36 (KHTML, like Gecko) Chrome/75.0.3770.142 Safari/537.36 Hutool\",\"gw-sign\":\"4c3d4bf5f82aa554ed01e5d54877cd17\",\"accept-encoding\":\"gzip, deflate\",\"content-type\":\"application/json;charset=UTF-8\",\"cache-control\":\"no-cache\",\"pragma\":\"no-cache\"']\n"
     ]
    },
    {
     "ename": "KeyError",
     "evalue": "'\"msg\"'",
     "output_type": "error",
     "traceback": [
      "\u001b[0;31m---------------------------------------------------------------------------\u001b[0m",
      "\u001b[0;31mKeyError\u001b[0m                                  Traceback (most recent call last)",
      "Cell \u001b[0;32mIn[30], line 6\u001b[0m\n\u001b[1;32m      4\u001b[0m input_dict\n\u001b[1;32m      5\u001b[0m template \u001b[38;5;241m=\u001b[39m \u001b[38;5;124m\"\u001b[39m\u001b[38;5;124m分析ip详情: \u001b[39m\u001b[38;5;124m{{\u001b[39m\u001b[38;5;124mip_info}}\u001b[39m\u001b[38;5;124m\"\u001b[39m\n\u001b[0;32m----> 6\u001b[0m formatted_prompt \u001b[38;5;241m=\u001b[39m \u001b[43msafe_format_prompt\u001b[49m\u001b[43m(\u001b[49m\u001b[43mtemplate\u001b[49m\u001b[38;5;241;43m=\u001b[39;49m\u001b[43mtemplate\u001b[49m\u001b[43m,\u001b[49m\u001b[43m \u001b[49m\u001b[43mparams_dict\u001b[49m\u001b[38;5;241;43m=\u001b[39;49m\u001b[43minput_dict\u001b[49m\u001b[43m)\u001b[49m\n\u001b[1;32m      7\u001b[0m formatted_prompt\n",
      "Cell \u001b[0;32mIn[29], line 33\u001b[0m, in \u001b[0;36msafe_format_prompt\u001b[0;34m(template, params_dict)\u001b[0m\n\u001b[1;32m     31\u001b[0m jinja_template \u001b[38;5;241m=\u001b[39m Template(template)\n\u001b[1;32m     32\u001b[0m formatted_template \u001b[38;5;241m=\u001b[39m jinja_template\u001b[38;5;241m.\u001b[39mrender(params_dict)\n\u001b[0;32m---> 33\u001b[0m \u001b[38;5;28;01mreturn\u001b[39;00m \u001b[43mformat_placeholder_to_str\u001b[49m\u001b[43m(\u001b[49m\u001b[43mformatted_template\u001b[49m\u001b[43m)\u001b[49m\n\u001b[1;32m     34\u001b[0m \u001b[38;5;28;01mreturn\u001b[39;00m formatted_template\n",
      "Cell \u001b[0;32mIn[29], line 14\u001b[0m, in \u001b[0;36mformat_placeholder_to_str\u001b[0;34m(template)\u001b[0m\n\u001b[1;32m     12\u001b[0m     \u001b[38;5;28;01mfor\u001b[39;00m k \u001b[38;5;129;01min\u001b[39;00m matched_keys:\n\u001b[1;32m     13\u001b[0m         placeholder\u001b[38;5;241m.\u001b[39mupdate({k: \u001b[38;5;124mf\u001b[39m\u001b[38;5;124m\"\u001b[39m\u001b[38;5;132;01m{\u001b[39;00mk\u001b[38;5;132;01m}\u001b[39;00m\u001b[38;5;124m\"\u001b[39m})\n\u001b[0;32m---> 14\u001b[0m formatted_prompt \u001b[38;5;241m=\u001b[39m \u001b[43mtemplate\u001b[49m\u001b[38;5;241;43m.\u001b[39;49m\u001b[43mformat\u001b[49m\u001b[43m(\u001b[49m\u001b[38;5;241;43m*\u001b[39;49m\u001b[38;5;241;43m*\u001b[39;49m\u001b[43mplaceholder\u001b[49m\u001b[43m)\u001b[49m\n\u001b[1;32m     15\u001b[0m \u001b[38;5;28;01mreturn\u001b[39;00m formatted_prompt\n",
      "\u001b[0;31mKeyError\u001b[0m: '\"msg\"'"
     ]
    }
   ],
   "source": [
    "s = \"{\\\"ip_info\\\": \\\"{\\\\\\\"msg\\\\\\\":\\\\\\\"操作成功\\\\\\\",\\\\\\\"code\\\\\\\":200,\\\\\\\"data\\\\\\\":{\\\\\\\"msg\\\\\\\":\\\\\\\"查询成功\\\\\\\",\\\\\\\"code\\\\\\\":200,\\\\\\\"data\\\\\\\":[{\\\\\\\"95.45.50.93\\\\\\\":{\\\\\\\"baseInfo\\\\\\\":{\\\\\\\"ipLocation\\\\\\\":{\\\\\\\"continent\\\\\\\":\\\\\\\"欧洲\\\\\\\",\\\\\\\"owner\\\\\\\":\\\\\\\"Eircom Limited\\\\\\\",\\\\\\\"country\\\\\\\":\\\\\\\"爱尔兰\\\\\\\",\\\\\\\"adcode\\\\\\\":\\\\\\\"\\\\\\\",\\\\\\\"city\\\\\\\":\\\\\\\"都柏林\\\\\\\",\\\\\\\"timezone\\\\\\\":\\\\\\\"UTC+1\\\\\\\",\\\\\\\"isp\\\\\\\":\\\\\\\"Eircom Limited\\\\\\\",\\\\\\\"accuracy\\\\\\\":\\\\\\\"城市\\\\\\\",\\\\\\\"source\\\\\\\":\\\\\\\"数据挖掘\\\\\\\",\\\\\\\"asnumber\\\\\\\":\\\\\\\"5466\\\\\\\",\\\\\\\"areacode\\\\\\\":\\\\\\\"IE\\\\\\\",\\\\\\\"zipcode\\\\\\\":\\\\\\\"D01\\\\\\\",\\\\\\\"lngwgs\\\\\\\":\\\\\\\"-6.260246\\\\\\\",\\\\\\\"province\\\\\\\":\\\\\\\"都柏林郡\\\\\\\",\\\\\\\"district\\\\\\\":\\\\\\\"\\\\\\\",\\\\\\\"latwgs\\\\\\\":\\\\\\\"53.349764\\\\\\\",\\\\\\\"radius\\\\\\\":\\\\\\\"\\\\\\\"}},\\\\\\\"original\\\\\\\":[{\\\\\\\"discoverTime\\\\\\\":\\\\\\\"2023-05-25 21:23:41\\\\\\\",\\\\\\\"updateTime\\\\\\\":\\\\\\\"2023-08-23 12:36:41\\\\\\\",\\\\\\\"tag\\\\\\\":\\\\\\\"Trojan,Qakbot\\\\\\\",\\\\\\\"source\\\\\\\":\\\\\\\"华为乾坤\\\\\\\",\\\\\\\"sourceOriginalData\\\\\\\":\\\\\\\"{\\\\\\\\\\\\\\\"confidence\\\\\\\\\\\\\\\":52,\\\\\\\\\\\\\\\"context\\\\\\\\\\\\\\\":{\\\\\\\\\\\\\\\"attackGroup\\\\\\\\\\\\\\\":[],\\\\\\\\\\\\\\\"histThreats\\\\\\\\\\\\\\\":[{\\\\\\\\\\\\\\\"count\\\\\\\\\\\\\\\":2004,\\\\\\\\\\\\\\\"firstSeen\\\\\\\\\\\\\\\":\\\\\\\\\\\\\\\"2023-05-25 21:23:41\\\\\\\\\\\\\\\",\\\\\\\\\\\\\\\"isValid\\\\\\\\\\\\\\\":true,\\\\\\\\\\\\\\\"lastSeen\\\\\\\\\\\\\\\":\\\\\\\\\\\\\\\"2023-08-23 12:36:41\\\\\\\\\\\\\\\",\\\\\\\\\\\\\\\"sources\\\\\\\\\\\\\\\":[\\\\\\\\\\\\\\\"OSINT\\\\\\\\\\\\\\\"],\\\\\\\\\\\\\\\"tags\\\\\\\\\\\\\\\":[\\\\\\\\\\\\\\\"Trojan\\\\\\\\\\\\\\\",\\\\\\\\\\\\\\\"Qakbot\\\\\\\\\\\\\\\"],\\\\\\\\\\\\\\\"threatType\\\\\\\\\\\\\\\":\\\\\\\\\\\\\\\"CnC\\\\\\\\\\\\\\\"}],\\\\\\\\\\\\\\\"ref\\\\\\\\\\\\\\\":[]},\\\\\\\\\\\\\\\"curDomains\\\\\\\\\\\\\\\":[],\\\\\\\\\\\\\\\"genTime\\\\\\\\\\\\\\\":\\\\\\\\\\\\\\\"2024-05-28 01:31:57\\\\\\\\\\\\\\\",\\\\\\\\\\\\\\\"geoCn\\\\\\\\\\\\\\\":{\\\\\\\\\\\\\\\"city\\\\\\\\\\\\\\\":\\\\\\\\\\\\\\\"都柏林\\\\\\\\\\\\\\\",\\\\\\\\\\\\\\\"country\\\\\\\\\\\\\\\":\\\\\\\\\\\\\\\"爱尔兰\\\\\\\\\\\\\\\",\\\\\\\\\\\\\\\"operator\\\\\\\\\\\\\\\":\\\\\\\\\\\\\\\"Eircom Limited\\\\\\\\\\\\\\\",\\\\\\\\\\\\\\\"province\\\\\\\\\\\\\\\":\\\\\\\\\\\\\\\"都柏林郡\\\\\\\\\\\\\\\"},\\\\\\\\\\\\\\\"geoEn\\\\\\\\\\\\\\\":{\\\\\\\\\\\\\\\"city\\\\\\\\\\\\\\\":\\\\\\\\\\\\\\\"Dublin\\\\\\\\\\\\\\\",\\\\\\\\\\\\\\\"country\\\\\\\\\\\\\\\":\\\\\\\\\\\\\\\"Ireland\\\\\\\\\\\\\\\",\\\\\\\\\\\\\\\"operator\\\\\\\\\\\\\\\":\\\\\\\\\\\\\\\"Eircom Limited\\\\\\\\\\\\\\\",\\\\\\\\\\\\\\\"province\\\\\\\\\\\\\\\":\\\\\\\\\\\\\\\"Dublin\\\\\\\\\\\\\\\"},\\\\\\\\\\\\\\\"hit\\\\\\\\\\\\\\\":true,\\\\\\\\\\\\\\\"info\\\\\\\\\\\\\\\":[],\\\\\\\\\\\\\\\"key\\\\\\\\\\\\\\\":\\\\\\\\\\\\\\\"95.45.50.93\\\\\\\\\\\\\\\",\\\\\\\\\\\\\\\"result\\\\\\\\\\\\\\\":\\\\\\\\\\\\\\\"Suspicious\\\\\\\\\\\\\\\",\\\\\\\\\\\\\\\"risk\\\\\\\\\\\\\\\":90,\\\\\\\\\\\\\\\"tags\\\\\\\\\\\\\\\":[\\\\\\\\\\\\\\\"Trojan\\\\\\\\\\\\\\\",\\\\\\\\\\\\\\\"Qakbot\\\\\\\\\\\\\\\"],\\\\\\\\\\\\\\\"threats\\\\\\\\\\\\\\\":[\\\\\\\\\\\\\\\"IDC\\\\\\\\\\\\\\\",\\\\\\\\\\\\\\\"CnC\\\\\\\\\\\\\\\"],\\\\\\\\\\\\\\\"type\\\\\\\\\\\\\\\":1}\\\\\\\"}],\\\\\\\"ioc\\\\\\\":[]}},{\\\\\\\"164.92.160.135\\\\\\\":{\\\\\\\"baseInfo\\\\\\\":{\\\\\\\"ipLocation\\\\\\\":{\\\\\\\"continent\\\\\\\":\\\\\\\"欧洲\\\\\\\",\\\\\\\"owner\\\\\\\":\\\\\\\"DigitalOcean, LLC\\\\\\\",\\\\\\\"country\\\\\\\":\\\\\\\"德国\\\\\\\",\\\\\\\"adcode\\\\\\\":\\\\\\\"\\\\\\\",\\\\\\\"city\\\\\\\":\\\\\\\"纽伦堡\\\\\\\",\\\\\\\"timezone\\\\\\\":\\\\\\\"UTC+1\\\\\\\",\\\\\\\"isp\\\\\\\":\\\\\\\"DigitalOcean, LLC\\\\\\\",\\\\\\\"accuracy\\\\\\\":\\\\\\\"城市\\\\\\\",\\\\\\\"source\\\\\\\":\\\\\\\"数据挖掘\\\\\\\",\\\\\\\"asnumber\\\\\\\":\\\\\\\"14061\\\\\\\",\\\\\\\"areacode\\\\\\\":\\\\\\\"DE\\\\\\\",\\\\\\\"zipcode\\\\\\\":\\\\\\\"90429\\\\\\\",\\\\\\\"lngwgs\\\\\\\":\\\\\\\"11.064260\\\\\\\",\\\\\\\"province\\\\\\\":\\\\\\\"巴伐利亚邦\\\\\\\",\\\\\\\"district\\\\\\\":\\\\\\\"\\\\\\\",\\\\\\\"latwgs\\\\\\\":\\\\\\\"49.451525\\\\\\\",\\\\\\\"radius\\\\\\\":\\\\\\\"\\\\\\\"}},\\\\\\\"original\\\\\\\":[{\\\\\\\"discoverTime\\\\\\\":\\\\\\\"2024-05-09 22:34:19\\\\\\\",\\\\\\\"updateTime\\\\\\\":\\\\\\\"2024-05-22 11:05:29\\\\\\\",\\\\\\\"tag\\\\\\\":\\\\\\\"Tool,DoS,CVE-2018-19629,Telnet,SMTP,CVE-2017-6639,WebLogic T3,HTTP,SIP,Code Execution,RDP,Cisco Prime Data Center Network Manager,D-Link,FTP,Nmap,SSH,Info Disclosure,Hyland Perceptive Content Server\\\\\\\",\\\\\\\"source\\\\\\\":\\\\\\\"华为乾坤\\\\\\\",\\\\\\\"sourceOriginalData\\\\\\\":\\\\\\\"{\\\\\\\\\\\\\\\"confidence\\\\\\\\\\\\\\\":95,\\\\\\\\\\\\\\\"context\\\\\\\\\\\\\\\":{\\\\\\\\\\\\\\\"attackGroup\\\\\\\\\\\\\\\":[],\\\\\\\\\\\\\\\"histThreats\\\\\\\\\\\\\\\":[{\\\\\\\\\\\\\\\"count\\\\\\\\\\\\\\\":658,\\\\\\\\\\\\\\\"firstSeen\\\\\\\\\\\\\\\":\\\\\\\\\\\\\\\"2024-05-09 23:51:06\\\\\\\\\\\\\\\",\\\\\\\\\\\\\\\"isValid\\\\\\\\\\\\\\\":true,\\\\\\\\\\\\\\\"lastSeen\\\\\\\\\\\\\\\":\\\\\\\\\\\\\\\"2024-05-20 13:39:46\\\\\\\\\\\\\\\",\\\\\\\\\\\\\\\"sources\\\\\\\\\\\\\\\":[\\\\\\\\\\\\\\\"OSINT\\\\\\\\\\\\\\\",\\\\\\\\\\\\\\\"Internal\\\\\\\\\\\\\\\"],\\\\\\\\\\\\\\\"tags\\\\\\\\\\\\\\\":[\\\\\\\\\\\\\\\"Tool\\\\\\\\\\\\\\\",\\\\\\\\\\\\\\\"Nmap\\\\\\\\\\\\\\\"],\\\\\\\\\\\\\\\"threatType\\\\\\\\\\\\\\\":\\\\\\\\\\\\\\\"Attacker\\\\\\\\\\\\\\\"},{\\\\\\\\\\\\\\\"count\\\\\\\\\\\\\\\":13,\\\\\\\\\\\\\\\"firstSeen\\\\\\\\\\\\\\\":\\\\\\\\\\\\\\\"2024-05-11 09:57:17\\\\\\\\\\\\\\\",\\\\\\\\\\\\\\\"isValid\\\\\\\\\\\\\\\":true,\\\\\\\\\\\\\\\"lastSeen\\\\\\\\\\\\\\\":\\\\\\\\\\\\\\\"2024-05-22 11:05:29\\\\\\\\\\\\\\\",\\\\\\\\\\\\\\\"sources\\\\\\\\\\\\\\\":[\\\\\\\\\\\\\\\"HoneyPot\\\\\\\\\\\\\\\",\\\\\\\\\\\\\\\"OSINT\\\\\\\\\\\\\\\"],\\\\\\\\\\\\\\\"tags\\\\\\\\\\\\\\\":[\\\\\\\\\\\\\\\"HTTP\\\\\\\\\\\\\\\",\\\\\\\\\\\\\\\"FTP\\\\\\\\\\\\\\\",\\\\\\\\\\\\\\\"Telnet\\\\\\\\\\\\\\\",\\\\\\\\\\\\\\\"SMTP\\\\\\\\\\\\\\\"],\\\\\\\\\\\\\\\"threatType\\\\\\\\\\\\\\\":\\\\\\\\\\\\\\\"Bruteforcer\\\\\\\\\\\\\\\"},{\\\\\\\\\\\\\\\"count\\\\\\\\\\\\\\\":189,\\\\\\\\\\\\\\\"firstSeen\\\\\\\\\\\\\\\":\\\\\\\\\\\\\\\"2024-05-10 00:33:48\\\\\\\\\\\\\\\",\\\\\\\\\\\\\\\"isValid\\\\\\\\\\\\\\\":true,\\\\\\\\\\\\\\\"lastSeen\\\\\\\\\\\\\\\":\\\\\\\\\\\\\\\"2024-05-20 12:37:43\\\\\\\\\\\\\\\",\\\\\\\\\\\\\\\"sources\\\\\\\\\\\\\\\":[\\\\\\\\\\\\\\\"Internal\\\\\\\\\\\\\\\"],\\\\\\\\\\\\\\\"tags\\\\\\\\\\\\\\\":[\\\\\\\\\\\\\\\"DoS\\\\\\\\\\\\\\\",\\\\\\\\\\\\\\\"D-Link\\\\\\\\\\\\\\\",\\\\\\\\\\\\\\\"Code Execution\\\\\\\\\\\\\\\",\\\\\\\\\\\\\\\"CVE-2018-19629\\\\\\\\\\\\\\\",\\\\\\\\\\\\\\\"Cisco Prime Data Center Network Manager\\\\\\\\\\\\\\\",\\\\\\\\\\\\\\\"Hyland Perceptive Content Server\\\\\\\\\\\\\\\",\\\\\\\\\\\\\\\"CVE-2017-6639\\\\\\\\\\\\\\\"],\\\\\\\\\\\\\\\"threatType\\\\\\\\\\\\\\\":\\\\\\\\\\\\\\\"Exploit\\\\\\\\\\\\\\\"},{\\\\\\\\\\\\\\\"count\\\\\\\\\\\\\\\":169,\\\\\\\\\\\\\\\"firstSeen\\\\\\\\\\\\\\\":\\\\\\\\\\\\\\\"2024-05-09 22:34:19\\\\\\\\\\\\\\\",\\\\\\\\\\\\\\\"isValid\\\\\\\\\\\\\\\":true,\\\\\\\\\\\\\\\"lastSeen\\\\\\\\\\\\\\\":\\\\\\\\\\\\\\\"2024-05-20 13:26:49\\\\\\\\\\\\\\\",\\\\\\\\\\\\\\\"sources\\\\\\\\\\\\\\\":[\\\\\\\\\\\\\\\"HoneyPot\\\\\\\\\\\\\\\"],\\\\\\\\\\\\\\\"tags\\\\\\\\\\\\\\\":[\\\\\\\\\\\\\\\"HTTP\\\\\\\\\\\\\\\",\\\\\\\\\\\\\\\"WebLogic T3\\\\\\\\\\\\\\\"],\\\\\\\\\\\\\\\"threatType\\\\\\\\\\\\\\\":\\\\\\\\\\\\\\\"Scanner\\\\\\\\\\\\\\\"}],\\\\\\\\\\\\\\\"ref\\\\\\\\\\\\\\\":[]},\\\\\\\\\\\\\\\"curDomains\\\\\\\\\\\\\\\":[],\\\\\\\\\\\\\\\"genTime\\\\\\\\\\\\\\\":\\\\\\\\\\\\\\\"2024-05-28 01:30:16\\\\\\\\\\\\\\\",\\\\\\\\\\\\\\\"geoCn\\\\\\\\\\\\\\\":{\\\\\\\\\\\\\\\"city\\\\\\\\\\\\\\\":\\\\\\\\\\\\\\\"纽伦堡\\\\\\\\\\\\\\\",\\\\\\\\\\\\\\\"country\\\\\\\\\\\\\\\":\\\\\\\\\\\\\\\"德国\\\\\\\\\\\\\\\",\\\\\\\\\\\\\\\"operator\\\\\\\\\\\\\\\":\\\\\\\\\\\\\\\"DigitalOcean, LLC\\\\\\\\\\\\\\\",\\\\\\\\\\\\\\\"province\\\\\\\\\\\\\\\":\\\\\\\\\\\\\\\"巴伐利亚邦\\\\\\\\\\\\\\\"},\\\\\\\\\\\\\\\"geoEn\\\\\\\\\\\\\\\":{\\\\\\\\\\\\\\\"city\\\\\\\\\\\\\\\":\\\\\\\\\\\\\\\"Nuremberg\\\\\\\\\\\\\\\",\\\\\\\\\\\\\\\"country\\\\\\\\\\\\\\\":\\\\\\\\\\\\\\\"Germany\\\\\\\\\\\\\\\",\\\\\\\\\\\\\\\"operator\\\\\\\\\\\\\\\":\\\\\\\\\\\\\\\"DigitalOcean, LLC\\\\\\\\\\\\\\\",\\\\\\\\\\\\\\\"province\\\\\\\\\\\\\\\":\\\\\\\\\\\\\\\"Bayern\\\\\\\\\\\\\\\"},\\\\\\\\\\\\\\\"hit\\\\\\\\\\\\\\\":true,\\\\\\\\\\\\\\\"info\\\\\\\\\\\\\\\":[],\\\\\\\\\\\\\\\"key\\\\\\\\\\\\\\\":\\\\\\\\\\\\\\\"164.92.160.135\\\\\\\\\\\\\\\",\\\\\\\\\\\\\\\"result\\\\\\\\\\\\\\\":\\\\\\\\\\\\\\\"Malicious\\\\\\\\\\\\\\\",\\\\\\\\\\\\\\\"risk\\\\\\\\\\\\\\\":65,\\\\\\\\\\\\\\\"tags\\\\\\\\\\\\\\\":[\\\\\\\\\\\\\\\"Tool\\\\\\\\\\\\\\\",\\\\\\\\\\\\\\\"DoS\\\\\\\\\\\\\\\",\\\\\\\\\\\\\\\"CVE-2018-19629\\\\\\\\\\\\\\\",\\\\\\\\\\\\\\\"Telnet\\\\\\\\\\\\\\\",\\\\\\\\\\\\\\\"SMTP\\\\\\\\\\\\\\\",\\\\\\\\\\\\\\\"CVE-2017-6639\\\\\\\\\\\\\\\",\\\\\\\\\\\\\\\"WebLogic T3\\\\\\\\\\\\\\\",\\\\\\\\\\\\\\\"HTTP\\\\\\\\\\\\\\\",\\\\\\\\\\\\\\\"SIP\\\\\\\\\\\\\\\",\\\\\\\\\\\\\\\"Code Execution\\\\\\\\\\\\\\\",\\\\\\\\\\\\\\\"RDP\\\\\\\\\\\\\\\",\\\\\\\\\\\\\\\"Cisco Prime Data Center Network Manager\\\\\\\\\\\\\\\",\\\\\\\\\\\\\\\"D-Link\\\\\\\\\\\\\\\",\\\\\\\\\\\\\\\"FTP\\\\\\\\\\\\\\\",\\\\\\\\\\\\\\\"Nmap\\\\\\\\\\\\\\\",\\\\\\\\\\\\\\\"SSH\\\\\\\\\\\\\\\",\\\\\\\\\\\\\\\"Info Disclosure\\\\\\\\\\\\\\\",\\\\\\\\\\\\\\\"Hyland Perceptive Content Server\\\\\\\\\\\\\\\"],\\\\\\\\\\\\\\\"threats\\\\\\\\\\\\\\\":[\\\\\\\\\\\\\\\"Scanner\\\\\\\\\\\\\\\",\\\\\\\\\\\\\\\"Exploit\\\\\\\\\\\\\\\",\\\\\\\\\\\\\\\"IDC\\\\\\\\\\\\\\\",\\\\\\\\\\\\\\\"Attacker\\\\\\\\\\\\\\\",\\\\\\\\\\\\\\\"Bruteforcer\\\\\\\\\\\\\\\"],\\\\\\\\\\\\\\\"type\\\\\\\\\\\\\\\":1}\\\\\\\"}],\\\\\\\"ioc\\\\\\\":[]}},{\\\\\\\"15.197.130.221\\\\\\\":{\\\\\\\"baseInfo\\\\\\\":{\\\\\\\"ipLocation\\\\\\\":{\\\\\\\"continent\\\\\\\":\\\\\\\"北美洲\\\\\\\",\\\\\\\"owner\\\\\\\":\\\\\\\"亚马逊\\\\\\\",\\\\\\\"country\\\\\\\":\\\\\\\"美国\\\\\\\",\\\\\\\"adcode\\\\\\\":\\\\\\\"\\\\\\\",\\\\\\\"city\\\\\\\":\\\\\\\"\\\\\\\",\\\\\\\"timezone\\\\\\\":\\\\\\\"UTC-6\\\\\\\",\\\\\\\"isp\\\\\\\":\\\\\\\"亚马逊\\\\\\\",\\\\\\\"accuracy\\\\\\\":\\\\\\\"国家\\\\\\\",\\\\\\\"source\\\\\\\":\\\\\\\"数据挖掘\\\\\\\",\\\\\\\"asnumber\\\\\\\":\\\\\\\"16509\\\\\\\",\\\\\\\"areacode\\\\\\\":\\\\\\\"US\\\\\\\",\\\\\\\"zipcode\\\\\\\":\\\\\\\"\\\\\\\",\\\\\\\"lngwgs\\\\\\\":\\\\\\\"-101.407912\\\\\\\",\\\\\\\"province\\\\\\\":\\\\\\\"\\\\\\\",\\\\\\\"district\\\\\\\":\\\\\\\"\\\\\\\",\\\\\\\"latwgs\\\\\\\":\\\\\\\"39.765054\\\\\\\",\\\\\\\"radius\\\\\\\":\\\\\\\"\\\\\\\",\\\\\\\"networkType\\\\\\\":\\\\\\\"任播地址\\\\\\\"}},\\\\\\\"original\\\\\\\":[],\\\\\\\"ioc\\\\\\\":[]}}],\\\\\\\"global\\\\\\\":{\\\\\\\"content-length\\\\\\\":\\\\\\\"60\\\\\\\",\\\\\\\"gw-timestamp\\\\\\\":\\\\\\\"1716915406777\\\\\\\",\\\\\\\"x-forwarded-for\\\\\\\":\\\\\\\"172.22.102.61\\\\\\\",\\\\\\\"body\\\\\\\":{\\\\\\\"ipList\\\\\\\":[\\\\\\\"15.197.130.221\\\\\\\",\\\\\\\"95.45.50.93\\\\\\\",\\\\\\\"164.92.160.135\\\\\\\"]},\\\\\\\"url\\\\\\\":{},\\\\\\\"pragma\\\\\\\":\\\\\\\"no-cache\\\\\\\",\\\\\\\"accept\\\\\\\":\\\\\\\"text/html,application/json,application/xhtml+xml,application/xml;q=0.9,*/*;q=0.8\\\\\\\",\\\\\\\"x-real-ip\\\\\\\":\\\\\\\"172.22.102.61\\\\\\\",\\\\\\\"gw-client-id\\\\\\\":\\\\\\\"LLM-Agent\\\\\\\",\\\\\\\"toJson\\\\\\\":{},\\\\\\\"toMD5\\\\\\\":{},\\\\\\\"host\\\\\\\":\\\\\\\"172.22.102.61:8990\\\\\\\",\\\\\\\"gw-sign\\\\\\\":\\\\\\\"4c3d4bf5f82aa554ed01e5d54877cd17\\\\\\\",\\\\\\\"header\\\\\\\":{\\\\\\\"host\\\\\\\":\\\\\\\"172.22.102.61:8990\\\\\\\",\\\\\\\"x-real-ip\\\\\\\":\\\\\\\"172.22.102.61\\\\\\\",\\\\\\\"x-forwarded-for\\\\\\\":\\\\\\\"172.22.102.61\\\\\\\",\\\\\\\"connection\\\\\\\":\\\\\\\"close\\\\\\\",\\\\\\\"content-length\\\\\\\":\\\\\\\"60\\\\\\\",\\\\\\\"gw-client-id\\\\\\\":\\\\\\\"LLM-Agent\\\\\\\",\\\\\\\"gw-timestamp\\\\\\\":\\\\\\\"1716915406777\\\\\\\",\\\\\\\"accept\\\\\\\":\\\\\\\"text/html,application/json,application/xhtml+xml,application/xml;q=0.9,*/*;q=0.8\\\\\\\",\\\\\\\"user-agent\\\\\\\":\\\\\\\"Mozilla/5.0 (Windows NT 10.0; Win64; x64) AppleWebKit/537.36 (KHTML, like Gecko) Chrome/75.0.3770.142 Safari/537.36 Hutool\\\\\\\",\\\\\\\"gw-sign\\\\\\\":\\\\\\\"4c3d4bf5f82aa554ed01e5d54877cd17\\\\\\\",\\\\\\\"accept-encoding\\\\\\\":\\\\\\\"gzip, deflate\\\\\\\",\\\\\\\"content-type\\\\\\\":\\\\\\\"application/json;charset=UTF-8\\\\\\\",\\\\\\\"cache-control\\\\\\\":\\\\\\\"no-cache\\\\\\\",\\\\\\\"pragma\\\\\\\":\\\\\\\"no-cache\\\\\\\"},\\\\\\\"connection\\\\\\\":\\\\\\\"close\\\\\\\",\\\\\\\"content-type\\\\\\\":\\\\\\\"application/json;charset=UTF-8\\\\\\\",\\\\\\\"cache-control\\\\\\\":\\\\\\\"no-cache\\\\\\\",\\\\\\\"accept-encoding\\\\\\\":\\\\\\\"gzip, deflate\\\\\\\",\\\\\\\"ipList\\\\\\\":[\\\\\\\"15.197.130.221\\\\\\\",\\\\\\\"95.45.50.93\\\\\\\",\\\\\\\"164.92.160.135\\\\\\\"],\\\\\\\"user-agent\\\\\\\":\\\\\\\"Mozilla/5.0 (Windows NT 10.0; Win64; x64) AppleWebKit/537.36 (KHTML, like Gecko) Chrome/75.0.3770.142 Safari/537.36 Hutool\\\\\\\"}}}\\\"}\"\n",
    "import json\n",
    "input_dict = json.loads(s)\n",
    "input_dict\n",
    "template = \"分析ip详情: {{ip_info}}\"\n",
    "formatted_prompt = safe_format_prompt(template=template, params_dict=input_dict)\n",
    "formatted_prompt\n"
   ]
  },
  {
   "cell_type": "markdown",
   "metadata": {},
   "source": [
    "#### 工作流执行时间"
   ]
  },
  {
   "cell_type": "code",
   "execution_count": 31,
   "metadata": {},
   "outputs": [
    {
     "data": {
      "text/plain": [
       "0.46"
      ]
     },
     "execution_count": 31,
     "metadata": {},
     "output_type": "execute_result"
    }
   ],
   "source": [
    "def parse_time_string(time_str):\n",
    "    # 使用正则表达式匹配数值部分\n",
    "    match = re.match(r'(\\d+(\\.\\d+)?)s', time_str)\n",
    "    \n",
    "    if match:\n",
    "        # 提取匹配的数值部分并转换为浮点数\n",
    "        return float(match.group(1))\n",
    "    else:\n",
    "        raise ValueError(\"Invalid time format\")\n",
    "node_exec_time = \"0.46s\"\n",
    "\n",
    "node_exec_time = parse_time_string(node_exec_time)\n",
    "node_exec_time"
   ]
  },
  {
   "cell_type": "code",
   "execution_count": 34,
   "metadata": {},
   "outputs": [
    {
     "data": {
      "text/plain": [
       "10"
      ]
     },
     "execution_count": 34,
     "metadata": {},
     "output_type": "execute_result"
    }
   ],
   "source": [
    "def parse_token_string(token_str):\n",
    "    # 使用正则表达式匹配数值部分\n",
    "    match = re.match(r'(\\d+)\\s*Tokens?', token_str, re.IGNORECASE)\n",
    "    \n",
    "    if match:\n",
    "        # 提取匹配的数值部分并转换为整数\n",
    "        return int(match.group(1))\n",
    "    else:\n",
    "        raise ValueError(\"Invalid token format\")\n",
    "    \n",
    "tokens_str = \"10 Tokens\"\n",
    "\n",
    "tokens = parse_token_string(tokens_str)\n",
    "tokens"
   ]
  },
  {
   "cell_type": "code",
   "execution_count": 2,
   "metadata": {},
   "outputs": [
    {
     "data": {
      "text/plain": [
       "'#定义：网络中开放的与安全相关的端口，这些端口或极易被黑客利用，或能直接导致安全漏洞。-端口 列表 端口说明 21 ftp默认端口号，利用FTP服务因配置不当可能存在弱口令破解，或被木马利。处理建议：在不影响正常业务的情况下，建议关闭对外开放或者防止匿名登录。 22 ssh默认端口号，此端口开放容易被爆破，弱口令进入系统。处理建议：在不影响正常业务的情况下，建议限制登录方式或采取强密码策略。 23 Telnet默认端口号，利用Telnet服务，可搜索远程登录Unix服务，扫描操作系统类型。存在提升权限、拒绝服务等漏洞，可使远程服务器崩溃。处理建议：在不影响正常业务的情况下建议关闭或者增加访问策略。 25 利用25端口，可寻找SMTP服务器，转发垃圾邮件。被多数木马程序利用如WinSpy可监视计算机运行的所有窗口和模块。处理建议：在不影响正常业务的情况下，建议增加策略或者设置防火墙拦截异常访问。 135 Epmap服务，用于远程打开主机的telnet服务 ,易被入侵，也可获取更多关于远程主机的信息。处理建议：在不影响正常业务的情况下建议关闭或者增加访问策略。 139'"
      ]
     },
     "execution_count": 2,
     "metadata": {},
     "output_type": "execute_result"
    }
   ],
   "source": [
    "content = \"{\\\"metadata\\\":{\\\"titles_new\\\":\\\"#定义：网络中开放的与安全相关的端口，这些端口或极易被黑客利用，或能直接导致安全漏洞。\\\",\\\"filetype\\\":\\\"application/vnd.openxmlformats-officedocument.wordprocessingml.document\\\",\\\"emphasized_text_tags\\\":[\\\"b\\\",\\\"b\\\",\\\"b\\\"],\\\"filename\\\":\\\"b3512ea114464f6b915f720419c07050-安全专线常见定义_V1.1.docx\\\",\\\"raw_page_content\\\":\\\"端口 列表 端口说明 21 ftp默认端口号，利用FTP服务因配置不当可能存在弱口令破解，或被木马利。处理建议：在不影响正常业务的情况下，建议关闭对外开放或者防止匿名登录。 22 ssh默认端口号，此端口开放容易被爆破，弱口令进入系统。处理建议：在不影响正常业务的情况下，建议限制登录方式或采取强密码策略。 23 Telnet默认端口号，利用Telnet服务，可搜索远程登录Unix服务，扫描操作系统类型。存在提升权限、拒绝服务等漏洞，可使远程服务器崩溃。处理建议：在不影响正常业务的情况下建议关闭或者增加访问策略。 25 利用25端口，可寻找SMTP服务器，转发垃圾邮件。被多数木马程序利用如WinSpy可监视计算机运行的所有窗口和模块。处理建议：在不影响正常业务的情况下，建议增加策略或者设置防火墙拦截异常访问。 135 Epmap服务，用于远程打开主机的telnet服务 ,易被入侵，也可获取更多关于远程主机的信息。处理建议：在不影响正常业务的情况下建议关闭或者增加访问策略。 139\\\",\\\"emphasized_text_contents\\\":[\\\"端口\\\",\\\"列表\\\",\\\"端口说明\\\"],\\\"languages\\\":[\\\"zho\\\"],\\\"parent_id\\\":\\\"2bfd3946197847a53faa1f16bb325d02\\\",\\\"element_id\\\":\\\"db491a676d3d62261b261b0421e2166d\\\",\\\"text_as_html\\\":\\\"<table>\\\\n<thead>\\\\n<tr><th style=\\\\\\\"text-align: right;\\\\\\\">      端口\\\\n列表</th><th>端口说明                                                                                                                                                                                                              </th></tr>\\\\n</thead>\\\\n<tbody>\\\\n<tr><td style=\\\\\\\"text-align: right;\\\\\\\">   21</td><td>ftp默认端口号，利用FTP服务因配置不当可能存在弱口令破解，或被木马利。处理建议：在不影响正常业务的情况下，建议关闭对外开放或者防止匿名登录。                                                                            </td></tr>\\\\n<tr><td style=\\\\\\\"text-align: right;\\\\\\\">   22</td><td>ssh默认端口号，此端口开放容易被爆破，弱口令进入系统。处理建议：在不影响正常业务的情况下，建议限制登录方式或采取强密码策略。                                                                                           </td></tr>\\\\n<tr><td style=\\\\\\\"text-align: right;\\\\\\\">   23</td><td>Telnet默认端口号，利用Telnet服务，可搜索远程登录Unix服务，扫描操作系统类型。存在提升权限、拒绝服务等漏洞，可使远程服务器崩溃。处理建议：在不影响正常业务的情况下建议关闭或者增加访问策略。                            </td></tr>\\\\n<tr><td style=\\\\\\\"text-align: right;\\\\\\\">   25</td><td>利用25端口，可寻找SMTP服务器，转发垃圾邮件。被多数木马程序利用如WinSpy可监视计算机运行的所有窗口和模块。处理建议：在不影响正常业务的情况下，建议增加策略或者设置防火墙拦截异常访问。                                  </td></tr>\\\\n<tr><td style=\\\\\\\"text-align: right;\\\\\\\">  135</td><td>Epmap服务，用于远程打开主机的telnet服务 ,易被入侵，也可获取更多关于远程主机的信息。处理建议：在不影响正常业务的情况下建议关闭或者增加访问策略。                                                                       </td></tr>\\\\n<tr><td style=\\\\\\\"text-align: right;\\\\\\\">  139</td><td>netbios-ssn服务，此端口可以提供windows文件、打印机共享和SAMBA服务，可被黑客利用获取主机用户名密码。处理建议：在不影响正常业务的情况下，建议关闭或者增加安全策略。                                                     </td></tr>\\\\n<tr><td style=\\\\\\\"text-align: right;\\\\\\\">  161</td><td>Snmp弱口令导致public泄漏。处理建议：在不影响正常业务的情况下，建议限制登录方式或采取强密码策略。                                                                                                                      </td></tr>\\\\n<tr><td style=\\\\\\\"text-align: right;\\\\\\\">  445</td><td>Microsoft-DS，为共享开放，可能被震荡波病毒利用；在局域网中可访问各种共享文件夹或共享打印机，黑客可通过该端口共享内部硬盘，甚至会悄无声息中将硬盘格式化。处理建议：在不影响正常业务的情况下，建议关闭或者增加安全策略。</td></tr>\\\\n<tr><td style=\\\\\\\"text-align: right;\\\\\\\"> 1433</td><td>用于供SQL Server对外提供服务，可能存在弱口令、提权等漏洞，导致入侵服务器。处理建议：在不影响正常业务的情况下，建议增加安全访问策略。                                                                                  </td></tr>\\\\n<tr><td style=\\\\\\\"text-align: right;\\\\\\\"> 1434</td><td>用于向请求者返回SQL Server使用了哪个TCP/IP端口，可能存在弱口令、提权等漏洞，导致入侵服务器。处理建议：在不影响正常业务的情况下，建议增加安全访问策略。                                                                </td></tr>\\\\n<tr><td style=\\\\\\\"text-align: right;\\\\\\\"> 1521</td><td>Oracle 可能存在账户弱口令漏洞，以及服务器溢出漏洞。处理建议：在不影响正常业务的情况下，建议增加安全访问策略。                                                                                                         </td></tr>\\\\n<tr><td style=\\\\\\\"text-align: right;\\\\\\\"> 3306</td><td>MySQL存在任意密码登陆漏洞，详情参考： CVE-2012-2122；可能存在账户弱口令漏洞，容易被爆破。处理建议：在不影响正常业务的情况下，建议增加安全访问策略。                                                                   </td></tr>\\\\n<tr><td style=\\\\\\\"text-align: right;\\\\\\\"> 3389</td><td>WIN2003用&quot;远程桌面&quot;等连接工具来连接到远程的服务器，可能存在账户弱口令、或者 CVE-2019-0708 远程桌面漏洞复现等问题，容易被爆破。处理建议：在不影响正常业务的情况下，建议增加安全访问策略。                    </td></tr>\\\\n<tr><td style=\\\\\\\"text-align: right;\\\\\\\"> 5432</td><td>PostgreSQL默认端口号，可能存在远程代码执行（CVE-2019-1058）、权限提升（CVE-2016-0766）、安全限制绕过（CVE-2015-0244）等漏洞。处理建议：在不影响正常业务的情况下，建议增加安全访问策略。                               </td></tr>\\\\n<tr><td style=\\\\\\\"text-align: right;\\\\\\\"> 5984</td><td>CouchDB端口，可能存在 CouchDB未授权访问漏洞。处理建议：在不影响正常业务的情况下，建议增加安全访问策略。                                                                                                               </td></tr>\\\\n<tr><td style=\\\\\\\"text-align: right;\\\\\\\"> 6379</td><td>Redis 默认端口号，Redis可能导致未授权访问或通过SSH登录服务器，导致服务器权限被获取和数据删除、泄露或加密勒索事件。处理建议：在不影响正常业务的情况下，建议增加安全访问策略。                                          </td></tr>\\\\n<tr><td style=\\\\\\\"text-align: right;\\\\\\\"> 7001</td><td>Weblogic端口，Weblogic控制台存在账户弱口令漏洞，Weblogic反序列漏洞。处理建议：在不影响正常业务的情况下，建议增加安全访问策略。                                                                                        </td></tr>\\\\n<tr><td style=\\\\\\\"text-align: right;\\\\\\\"> 9001</td><td>Supervisord，可能存在Supervisord远程命令执行漏洞(CVE-2017-11610)。处理建议：在不影响正常业务的情况下，建议增加安全访问策略。                                                                                          </td></tr>\\\\n<tr><td style=\\\\\\\"text-align: right;\\\\\\\"> 9200</td><td>作为Http协议，主要用于外部通讯, 一般都是给ElasticSearch-Head等工具连接ElasticSearch使用的，可能存在ElasticSearch 远程代码执行漏洞（CVE-2015-1427）。处理建议：在不影响正常业务的情况下，建议增加安全访问策略。        </td></tr>\\\\n<tr><td style=\\\\\\\"text-align: right;\\\\\\\">11211</td><td>Memcached监听端口，可能存在 Memcached未授权访问漏洞。处理建议：在不影响正常业务的情况下，建议增加安全访问策略。                                                                                                       </td></tr>\\\\n<tr><td style=\\\\\\\"text-align: right;\\\\\\\">27017</td><td>Memcached监听端口，可能存在 Memcached未授权访问漏洞。处理建议：在不影响正常业务的情况下，建议增加安全访问策略。                                                                                                       </td></tr>\\\\n<tr><td style=\\\\\\\"text-align: right;\\\\\\\">50000</td><td>SAP Management Console服务端口，可能存在 运程命令执行漏洞。处理建议：在不影响正常业务的情况下，建议增加安全访问策略。                                                                                                 </td></tr>\\\\n</tbody>\\\\n</table>\\\",\\\"titles\\\":\\\"#定义：网络中开放的与安全相关的端口，这些端口或极易被黑客利用，或能直接导致安全漏洞。\\\",\\\"type\\\":\\\"Table\\\"},\\\"page_content\\\":\\\"#定义：网络中开放的与安全相关的端口，这些端口或极易被黑客利用，或能直接导致安全漏洞。-端口 列表 端口说明 21 ftp默认端口号，利用FTP服务因配置不当可能存在弱口令破解，或被木马利。处理建议：在不影响正常业务的情况下，建议关闭对外开放或者防止匿名登录。 22 ssh默认端口号，此端口开放容易被爆破，弱口令进入系统。处理建议：在不影响正常业务的情况下，建议限制登录方式或采取强密码策略。 23 Telnet默认端口号，利用Telnet服务，可搜索远程登录Unix服务，扫描操作系统类型。存在提升权限、拒绝服务等漏洞，可使远程服务器崩溃。处理建议：在不影响正常业务的情况下建议关闭或者增加访问策略。 25 利用25端口，可寻找SMTP服务器，转发垃圾邮件。被多数木马程序利用如WinSpy可监视计算机运行的所有窗口和模块。处理建议：在不影响正常业务的情况下，建议增加策略或者设置防火墙拦截异常访问。 135 Epmap服务，用于远程打开主机的telnet服务 ,易被入侵，也可获取更多关于远程主机的信息。处理建议：在不影响正常业务的情况下建议关闭或者增加访问策略。 139\\\"}\"\n",
    "\n",
    "import json\n",
    "\n",
    "content_dict = json.loads(content)\n",
    "page_content = content_dict.get(\"page_content\", \"\")\n",
    "page_content"
   ]
  },
  {
   "cell_type": "markdown",
   "metadata": {},
   "source": [
    "# langflow UI test"
   ]
  },
  {
   "cell_type": "markdown",
   "metadata": {},
   "source": [
    "#### 知识节点测试"
   ]
  },
  {
   "cell_type": "code",
   "execution_count": 2,
   "metadata": {},
   "outputs": [
    {
     "name": "stdout",
     "output_type": "stream",
     "text": [
      "{'result': {'node_data': {'node_id': 'EndID', 'node_type': 'End', 'node_name': '', 'node_status': 'SUCCESS', 'error_info': '', 'input': '{\"ref_knowledge_output\": \"\"}', 'output': '{\"ref_knowledge_output\": \"\"}', 'node_exe_cost': '0.518s', 'raw_output': '', 'extra': '', 'token_and_cost': {'input_tokens': '8 Tokens', 'input_cost': '$0.0', 'output_tokens': '8 Tokens', 'output_cost': '$0.0', 'total_tokens': '16 Tokens', 'total_cost': '$0.0'}}, 'all_nodes_data': [{'node_id': 'StartID', 'node_type': 'Start', 'node_name': '', 'node_status': 'SUCCESS', 'error_info': '', 'input': '{\"query\": \"分析安全事件\"}', 'output': '{\"query\": \"分析安全事件\"}', 'node_exe_cost': '0.481s', 'raw_output': '', 'extra': '', 'token_and_cost': {'input_tokens': '8 Tokens', 'input_cost': '$0.0', 'output_tokens': '8 Tokens', 'output_cost': '$0.0', 'total_tokens': '16 Tokens', 'total_cost': '$0.0'}}, {'node_id': 'KnowledgeID', 'node_type': 'Knowledge', 'node_name': '', 'node_status': 'SUCCESS', 'error_info': '', 'input': '{\"query\": \"分析安全事件\"}', 'output': '{\"output_list\": [{\"output\": \"\"}, {\"output\": \"#1 哪 些 隐 蕊 的 不 安 全 因-我 认 为 , 此 次 事 件 的 责 任 均 在\"}, {\"output\": \"#1 哪 些 隐 蕊 的 不 安 全 因-我 认 为 , 此 次 事 件 的 责 任 均 在\"}, {\"output\": \"#1 哪 些 隐 蕊 的 不 安 全 因-我 认 为 , 此 次 事 件 的 责 任 均 在\"}, {\"output\": \"#1 哪 些 隐 蕊 的 不 安 全 因-我 认 为 , 此 次 事 件 的 责 任 均 在\"}]}', 'node_exe_cost': '0.863s', 'raw_output': '', 'extra': '', 'token_and_cost': {'input_tokens': '8 Tokens', 'input_cost': '$0.0', 'output_tokens': '214 Tokens', 'output_cost': '$0.0', 'total_tokens': '222 Tokens', 'total_cost': '$0.0'}}, {'node_id': 'EndID', 'node_type': 'End', 'node_name': '', 'node_status': 'SUCCESS', 'error_info': '', 'input': '{\"ref_knowledge_output\": \"\"}', 'output': '{\"ref_knowledge_output\": \"\"}', 'node_exe_cost': '0.518s', 'raw_output': '', 'extra': '', 'token_and_cost': {'input_tokens': '8 Tokens', 'input_cost': '$0.0', 'output_tokens': '8 Tokens', 'output_cost': '$0.0', 'total_tokens': '16 Tokens', 'total_cost': '$0.0'}}]}, 'status': None, 'task': {'id': '13444778960', 'href': 'api/v1/task/13444778960'}, 'session_id': '305295:2a4ed0af615f71cdae77b9a28d308122011b480d350e5d5c46c82e7511453a89', 'backend': 'anyio'}\n"
     ]
    }
   ],
   "source": [
    "import requests\n",
    "from typing import Optional\n",
    "\n",
    "BASE_API_URL = \"http://127.0.0.1:7860/api/v1/process\"\n",
    "FLOW_ID = \"824d00af-2751-43d9-9856-9d024081ae17\"\n",
    "# You can tweak the flow by adding a tweaks dictionary\n",
    "# e.g {\"OpenAI-XXXXX\": {\"model_name\": \"gpt-4\"}}\n",
    "TWEAKS = {\n",
    "  \"WorkflowStart-lbW24\": {},\n",
    "  \"WorkflowKnowledge-AEFcP\": {},\n",
    "  \"WorkflowEnd-KAybt\": {}\n",
    "}\n",
    "\n",
    "def run_flow(inputs: dict, flow_id: str, tweaks: Optional[dict] = None, api_key: Optional[str] = None) -> dict:\n",
    "    \"\"\"\n",
    "    Run a flow with a given message and optional tweaks.\n",
    "\n",
    "    :param message: The message to send to the flow\n",
    "    :param flow_id: The ID of the flow to run\n",
    "    :param tweaks: Optional tweaks to customize the flow\n",
    "    :return: The JSON response from the flow\n",
    "    \"\"\"\n",
    "    api_url = f\"{BASE_API_URL}/{flow_id}\"\n",
    "\n",
    "    payload = {\"inputs\": inputs}\n",
    "    headers = None\n",
    "    if tweaks:\n",
    "        payload[\"tweaks\"] = tweaks\n",
    "    if api_key:\n",
    "        headers = {\"x-api-key\": api_key}\n",
    "    response = requests.post(api_url, json=payload, headers=headers)\n",
    "    return response.json()\n",
    "\n",
    "# Setup any tweaks you want to apply to the flow\n",
    "inputs = {\"input\": \"message\"}\n",
    "api_key = \"sk-ral5pIAy5C5lhb9hJuZ1YSdt_3HwA5zfO8j2JxVJPMg\"\n",
    "print(run_flow(inputs, flow_id=FLOW_ID, tweaks=TWEAKS, api_key=api_key))"
   ]
  },
  {
   "cell_type": "markdown",
   "metadata": {},
   "source": [
    "#### 工作流节点测试"
   ]
  },
  {
   "cell_type": "code",
   "execution_count": 3,
   "metadata": {},
   "outputs": [
    {
     "name": "stdout",
     "output_type": "stream",
     "text": [
      "{'result': {'node_data': {'node_id': 'EndID', 'node_type': 'End', 'node_name': '', 'node_status': 'SUCCESS', 'error_info': '', 'input': '{\"ref_llm_output\": \"这个JSON数据包含了三个IP地址的详细分析：\\\\n\\\\n1. **15.197.130.221**\\\\n   - 该IP位于北美洲，属于亚马逊（Amazon）所有，位于美国，具体城市和区域信息未提供。\\\\n   - 标签为\\\\\"known attacker\\\\\"，表示这是一个已知的攻击者，来自信通院的数据，威胁级别为2。\\\\n   - 该IP记录在系统内置的安全威胁数据库中，有效期至2026年1月28日。\\\\n\\\\n2. **164.92.160.135**\\\\n   - 位于欧洲，由DigitalOcean, LLC运营，位于德国纽伦堡，有多种威胁标签，如工具攻击、DoS、WebLogic漏洞利用等，可能涉及多类型恶意活动，风险较高。\\\\n   - 来自华为乾坤的数据，威胁类型包括扫描器、exploit等。\\\\n\\\\n3. **95.45.50.93**\\\\n   - 位于欧洲爱尔兰，由Eircom Limited提供服务，都柏林，有Trojan和Qakbot相关的威胁，被标记为可疑，腾讯检测到远控木马和网络扫描行为。\\\\n   \\\\n整体上，这些IP地址都被标记为有安全风险，可能是恶意活动的目标或来源。建议进行进一步的监控和安全措施，以保护系统安全。\", \"摆脱push的方案\": \"在工作中，领导者push（推动、催促）有时是必要的，因为他们可能希望确保任务按时完成或者看到更高的工作效率。然而，如果push行为变得过度或影响到了你的工作满意度和个人压力，以下是一些方法可以帮助你适度地处理并摆脱过度的push：\\\\n\\\\n1. **明确沟通**：首先，找个合适的时机，以尊重和开放的态度与领导沟通。解释你的感受，例如你可能觉得过度的压力影响了工作质量或者个人的创新空间。表明你理解他们的期望，但需要找到一个平衡点。\\\\n\\\\n2. **设定界限**：设定个人的工作节奏和优先级。告诉他们你的工作时间，以及你最高效的工作时段，这样他们能更好地理解何时是最佳的沟通和推动时间。\\\\n\\\\n3. **时间管理**：提升自己的时间管理能力，提前规划和设定目标，这样可以减少领导的催促。完成任务清单并定期更新进度，让他们看到你的主动性和责任感。\\\\n\\\\n4. **寻求支持**：如果可能，寻求团队内的支持，让其他同事分担一些工作，或者寻求同事的反馈，看看他们是否也有类似的感受。\\\\n\\\\n5. **反馈机制**：了解公司的反馈流程，如果push行为违反了公司政策，可以向上级或人力资源部门反映。\\\\n\\\\n6. **保持专业**：即使在压力下，也要保持专业，不要让情绪影响工作。保持冷静，用事实和数据支持你的观点。\\\\n\\\\n7. **寻求辅导**：如果push行为是由于领导的管理风格，可能需要寻求职业辅导，学习如何与这样的领导有效沟通和合作。\\\\n\\\\n记住，良好的工作关系是双向的，你需要表达自己的需求，同时也要尊重领导的视角。\"}', 'output': '{\"ref_llm_output\": \"这个JSON数据包含了三个IP地址的详细分析：\\\\n\\\\n1. **15.197.130.221**\\\\n   - 该IP位于北美洲，属于亚马逊（Amazon）所有，位于美国，具体城市和区域信息未提供。\\\\n   - 标签为\\\\\"known attacker\\\\\"，表示这是一个已知的攻击者，来自信通院的数据，威胁级别为2。\\\\n   - 该IP记录在系统内置的安全威胁数据库中，有效期至2026年1月28日。\\\\n\\\\n2. **164.92.160.135**\\\\n   - 位于欧洲，由DigitalOcean, LLC运营，位于德国纽伦堡，有多种威胁标签，如工具攻击、DoS、WebLogic漏洞利用等，可能涉及多类型恶意活动，风险较高。\\\\n   - 来自华为乾坤的数据，威胁类型包括扫描器、exploit等。\\\\n\\\\n3. **95.45.50.93**\\\\n   - 位于欧洲爱尔兰，由Eircom Limited提供服务，都柏林，有Trojan和Qakbot相关的威胁，被标记为可疑，腾讯检测到远控木马和网络扫描行为。\\\\n   \\\\n整体上，这些IP地址都被标记为有安全风险，可能是恶意活动的目标或来源。建议进行进一步的监控和安全措施，以保护系统安全。\", \"摆脱push的方案\": \"在工作中，领导者push（推动、催促）有时是必要的，因为他们可能希望确保任务按时完成或者看到更高的工作效率。然而，如果push行为变得过度或影响到了你的工作满意度和个人压力，以下是一些方法可以帮助你适度地处理并摆脱过度的push：\\\\n\\\\n1. **明确沟通**：首先，找个合适的时机，以尊重和开放的态度与领导沟通。解释你的感受，例如你可能觉得过度的压力影响了工作质量或者个人的创新空间。表明你理解他们的期望，但需要找到一个平衡点。\\\\n\\\\n2. **设定界限**：设定个人的工作节奏和优先级。告诉他们你的工作时间，以及你最高效的工作时段，这样他们能更好地理解何时是最佳的沟通和推动时间。\\\\n\\\\n3. **时间管理**：提升自己的时间管理能力，提前规划和设定目标，这样可以减少领导的催促。完成任务清单并定期更新进度，让他们看到你的主动性和责任感。\\\\n\\\\n4. **寻求支持**：如果可能，寻求团队内的支持，让其他同事分担一些工作，或者寻求同事的反馈，看看他们是否也有类似的感受。\\\\n\\\\n5. **反馈机制**：了解公司的反馈流程，如果push行为违反了公司政策，可以向上级或人力资源部门反映。\\\\n\\\\n6. **保持专业**：即使在压力下，也要保持专业，不要让情绪影响工作。保持冷静，用事实和数据支持你的观点。\\\\n\\\\n7. **寻求辅导**：如果push行为是由于领导的管理风格，可能需要寻求职业辅导，学习如何与这样的领导有效沟通和合作。\\\\n\\\\n记住，良好的工作关系是双向的，你需要表达自己的需求，同时也要尊重领导的视角。\"}', 'node_exe_cost': '0.778s', 'raw_output': '', 'extra': '', 'token_and_cost': {'input_tokens': '692 Tokens', 'input_cost': '$0.0', 'output_tokens': '692 Tokens', 'output_cost': '$0.0', 'total_tokens': '1384 Tokens', 'total_cost': '$0.0'}}, 'all_nodes_data': [{'node_id': 'StartID', 'node_type': 'Start', 'node_name': '', 'node_status': 'SUCCESS', 'error_info': '', 'input': '{\"event\": \"分析安全事件\"}', 'output': '{\"event\": \"分析安全事件\"}', 'node_exe_cost': '0.433s', 'raw_output': '', 'extra': '', 'token_and_cost': {'input_tokens': '8 Tokens', 'input_cost': '$0.0', 'output_tokens': '8 Tokens', 'output_cost': '$0.0', 'total_tokens': '16 Tokens', 'total_cost': '$0.0'}}, {'node_id': 'ToolID', 'node_type': 'Tool', 'node_name': '', 'node_status': 'SUCCESS', 'error_info': '', 'input': '{\"ipList\": [\"15.197.130.221\"]}', 'output': '{\"code\":0,\"data\":\"{\\\\\"msg\\\\\":\\\\\"操作成功\\\\\",\\\\\"code\\\\\":200,\\\\\"data\\\\\":{\\\\\"msg\\\\\":\\\\\"查询成功\\\\\",\\\\\"code\\\\\":200,\\\\\"data\\\\\":[{\\\\\"15.197.130.221\\\\\":{\\\\\"baseInfo\\\\\":{\\\\\"ipLocation\\\\\":{\\\\\"continent\\\\\":\\\\\"北美洲\\\\\",\\\\\"owner\\\\\":\\\\\"亚马逊\\\\\",\\\\\"country\\\\\":\\\\\"美国\\\\\",\\\\\"adcode\\\\\":\\\\\"\\\\\",\\\\\"city\\\\\":\\\\\"\\\\\",\\\\\"timezone\\\\\":\\\\\"UTC-6\\\\\",\\\\\"isp\\\\\":\\\\\"亚马逊\\\\\",\\\\\"accuracy\\\\\":\\\\\"国家\\\\\",\\\\\"source\\\\\":\\\\\"数据挖掘\\\\\",\\\\\"asnumber\\\\\":\\\\\"16509\\\\\",\\\\\"areacode\\\\\":\\\\\"US\\\\\",\\\\\"zipcode\\\\\":\\\\\"\\\\\",\\\\\"lngwgs\\\\\":\\\\\"-101.407912\\\\\",\\\\\"province\\\\\":\\\\\"\\\\\",\\\\\"district\\\\\":\\\\\"\\\\\",\\\\\"latwgs\\\\\":\\\\\"39.765054\\\\\",\\\\\"radius\\\\\":\\\\\"\\\\\",\\\\\"networkType\\\\\":\\\\\"任播地址\\\\\"}},\\\\\"original\\\\\":[{\\\\\"discoverTime\\\\\":\\\\\"2024-01-28 12:30:30\\\\\",\\\\\"updateTime\\\\\":\\\\\"2024-04-02 14:45:43\\\\\",\\\\\"tag\\\\\":\\\\\"known attacker\\\\\",\\\\\"source\\\\\":\\\\\"信通院\\\\\",\\\\\"sourceOriginalData\\\\\":\\\\\"{\\\\\\\\\\\\\"status\\\\\\\\\\\\\":200,\\\\\\\\\\\\\"msg\\\\\\\\\\\\\":\\\\\\\\\\\\\"成功\\\\\\\\\\\\\",\\\\\\\\\\\\\"consumeTime\\\\\\\\\\\\\":\\\\\\\\\\\\\"1.1s\\\\\\\\\\\\\",\\\\\\\\\\\\\"data\\\\\\\\\\\\\":[{\\\\\\\\\\\\\"id\\\\\\\\\\\\\":\\\\\\\\\\\\\"349e7b1f06426bc4e37c582ba98262f9\\\\\\\\\\\\\",\\\\\\\\\\\\\"value\\\\\\\\\\\\\":\\\\\\\\\\\\\"15.197.130.221\\\\\\\\\\\\\",\\\\\\\\\\\\\"threatLevel\\\\\\\\\\\\\":2,\\\\\\\\\\\\\"groupId\\\\\\\\\\\\\":\\\\\\\\\\\\\"\\\\\\\\\\\\\",\\\\\\\\\\\\\"groupName\\\\\\\\\\\\\":\\\\\\\\\\\\\"\\\\\\\\\\\\\",\\\\\\\\\\\\\"useEnable\\\\\\\\\\\\\":1,\\\\\\\\\\\\\"expiryEnable\\\\\\\\\\\\\":1,\\\\\\\\\\\\\"expiryTime\\\\\\\\\\\\\":\\\\\\\\\\\\\"2026-01-28 12:30:30\\\\\\\\\\\\\",\\\\\\\\\\\\\"dataTag\\\\\\\\\\\\\":\\\\\\\\\\\\\"known attacker\\\\\\\\\\\\\",\\\\\\\\\\\\\"totalCount\\\\\\\\\\\\\":0,\\\\\\\\\\\\\"afterDayCount\\\\\\\\\\\\\":0,\\\\\\\\\\\\\"createTime\\\\\\\\\\\\\":\\\\\\\\\\\\\"2024-01-28 12:30:30\\\\\\\\\\\\\",\\\\\\\\\\\\\"foundTime\\\\\\\\\\\\\":\\\\\\\\\\\\\"2024-01-28 12:30:30\\\\\\\\\\\\\",\\\\\\\\\\\\\"type\\\\\\\\\\\\\":\\\\\\\\\\\\\"IP\\\\\\\\\\\\\",\\\\\\\\\\\\\"typeCode\\\\\\\\\\\\\":1,\\\\\\\\\\\\\"address\\\\\\\\\\\\\":\\\\\\\\\\\\\"\\\\\\\\\\\\\",\\\\\\\\\\\\\"source\\\\\\\\\\\\\":\\\\\\\\\\\\\"系统内置\\\\\\\\\\\\\",\\\\\\\\\\\\\"sourceCode\\\\\\\\\\\\\":0,\\\\\\\\\\\\\"updateTime\\\\\\\\\\\\\":\\\\\\\\\\\\\"2024-04-02 14:45:43\\\\\\\\\\\\\",\\\\\\\\\\\\\"riskTag\\\\\\\\\\\\\":\\\\\\\\\\\\\"known attacker\\\\\\\\\\\\\",\\\\\\\\\\\\\"md5_32\\\\\\\\\\\\\":\\\\\\\\\\\\\"349e7b1f06426bc4e37c582ba98262f9\\\\\\\\\\\\\",\\\\\\\\\\\\\"md5_16\\\\\\\\\\\\\":\\\\\\\\\\\\\"06426bc4e37c582b\\\\\\\\\\\\\"}],\\\\\\\\\\\\\"total\\\\\\\\\\\\\":1,\\\\\\\\\\\\\"keyTotal\\\\\\\\\\\\\":0,\\\\\\\\\\\\\"realTotal\\\\\\\\\\\\\":1}\\\\\"}],\\\\\"ioc\\\\\":[]}},{\\\\\"164.92.160.135\\\\\":{\\\\\"baseInfo\\\\\":{\\\\\"ipLocation\\\\\":{\\\\\"continent\\\\\":\\\\\"欧洲\\\\\",\\\\\"owner\\\\\":\\\\\"DigitalOcean, LLC\\\\\",\\\\\"country\\\\\":\\\\\"德国\\\\\",\\\\\"adcode\\\\\":\\\\\"\\\\\",\\\\\"city\\\\\":\\\\\"纽伦堡\\\\\",\\\\\"timezone\\\\\":\\\\\"UTC+1\\\\\",\\\\\"isp\\\\\":\\\\\"DigitalOcean, LLC\\\\\",\\\\\"accuracy\\\\\":\\\\\"城市\\\\\",\\\\\"source\\\\\":\\\\\"数据挖掘\\\\\",\\\\\"asnumber\\\\\":\\\\\"14061\\\\\",\\\\\"areacode\\\\\":\\\\\"DE\\\\\",\\\\\"zipcode\\\\\":\\\\\"90429\\\\\",\\\\\"lngwgs\\\\\":\\\\\"11.064260\\\\\",\\\\\"province\\\\\":\\\\\"巴伐利亚邦\\\\\",\\\\\"district\\\\\":\\\\\"\\\\\",\\\\\"latwgs\\\\\":\\\\\"49.451525\\\\\",\\\\\"radius\\\\\":\\\\\"\\\\\"}},\\\\\"original\\\\\":[{\\\\\"discoverTime\\\\\":\\\\\"2024-05-09 22:34:19\\\\\",\\\\\"updateTime\\\\\":\\\\\"2024-05-22 11:05:29\\\\\",\\\\\"tag\\\\\":\\\\\"Tool,DoS,CVE-2018-19629,Telnet,SMTP,CVE-2017-6639,WebLogic T3,HTTP,SIP,Code Execution,RDP,Cisco Prime Data Center Network Manager,D-Link,FTP,Nmap,SSH,Info Disclosure,Hyland Perceptive Content Server\\\\\",\\\\\"source\\\\\":\\\\\"华为乾坤\\\\\",\\\\\"sourceOriginalData\\\\\":\\\\\"{\\\\\\\\\\\\\"confidence\\\\\\\\\\\\\":95,\\\\\\\\\\\\\"context\\\\\\\\\\\\\":{\\\\\\\\\\\\\"attackGroup\\\\\\\\\\\\\":[],\\\\\\\\\\\\\"histThreats\\\\\\\\\\\\\":[{\\\\\\\\\\\\\"count\\\\\\\\\\\\\":658,\\\\\\\\\\\\\"firstSeen\\\\\\\\\\\\\":\\\\\\\\\\\\\"2024-05-09 23:51:06\\\\\\\\\\\\\",\\\\\\\\\\\\\"isValid\\\\\\\\\\\\\":true,\\\\\\\\\\\\\"lastSeen\\\\\\\\\\\\\":\\\\\\\\\\\\\"2024-05-20 13:39:46\\\\\\\\\\\\\",\\\\\\\\\\\\\"sources\\\\\\\\\\\\\":[\\\\\\\\\\\\\"OSINT\\\\\\\\\\\\\",\\\\\\\\\\\\\"Internal\\\\\\\\\\\\\"],\\\\\\\\\\\\\"tags\\\\\\\\\\\\\":[\\\\\\\\\\\\\"Tool\\\\\\\\\\\\\",\\\\\\\\\\\\\"Nmap\\\\\\\\\\\\\"],\\\\\\\\\\\\\"threatType\\\\\\\\\\\\\":\\\\\\\\\\\\\"Attacker\\\\\\\\\\\\\"},{\\\\\\\\\\\\\"count\\\\\\\\\\\\\":13,\\\\\\\\\\\\\"firstSeen\\\\\\\\\\\\\":\\\\\\\\\\\\\"2024-05-11 09:57:17\\\\\\\\\\\\\",\\\\\\\\\\\\\"isValid\\\\\\\\\\\\\":true,\\\\\\\\\\\\\"lastSeen\\\\\\\\\\\\\":\\\\\\\\\\\\\"2024-05-22 11:05:29\\\\\\\\\\\\\",\\\\\\\\\\\\\"sources\\\\\\\\\\\\\":[\\\\\\\\\\\\\"HoneyPot\\\\\\\\\\\\\",\\\\\\\\\\\\\"OSINT\\\\\\\\\\\\\"],\\\\\\\\\\\\\"tags\\\\\\\\\\\\\":[\\\\\\\\\\\\\"HTTP\\\\\\\\\\\\\",\\\\\\\\\\\\\"FTP\\\\\\\\\\\\\",\\\\\\\\\\\\\"Telnet\\\\\\\\\\\\\",\\\\\\\\\\\\\"SMTP\\\\\\\\\\\\\"],\\\\\\\\\\\\\"threatType\\\\\\\\\\\\\":\\\\\\\\\\\\\"Bruteforcer\\\\\\\\\\\\\"},{\\\\\\\\\\\\\"count\\\\\\\\\\\\\":189,\\\\\\\\\\\\\"firstSeen\\\\\\\\\\\\\":\\\\\\\\\\\\\"2024-05-10 00:33:48\\\\\\\\\\\\\",\\\\\\\\\\\\\"isValid\\\\\\\\\\\\\":true,\\\\\\\\\\\\\"lastSeen\\\\\\\\\\\\\":\\\\\\\\\\\\\"2024-05-20 12:37:43\\\\\\\\\\\\\",\\\\\\\\\\\\\"sources\\\\\\\\\\\\\":[\\\\\\\\\\\\\"Internal\\\\\\\\\\\\\"],\\\\\\\\\\\\\"tags\\\\\\\\\\\\\":[\\\\\\\\\\\\\"DoS\\\\\\\\\\\\\",\\\\\\\\\\\\\"D-Link\\\\\\\\\\\\\",\\\\\\\\\\\\\"Code Execution\\\\\\\\\\\\\",\\\\\\\\\\\\\"CVE-2018-19629\\\\\\\\\\\\\",\\\\\\\\\\\\\"Cisco Prime Data Center Network Manager\\\\\\\\\\\\\",\\\\\\\\\\\\\"Hyland Perceptive Content Server\\\\\\\\\\\\\",\\\\\\\\\\\\\"CVE-2017-6639\\\\\\\\\\\\\"],\\\\\\\\\\\\\"threatType\\\\\\\\\\\\\":\\\\\\\\\\\\\"Exploit\\\\\\\\\\\\\"},{\\\\\\\\\\\\\"count\\\\\\\\\\\\\":169,\\\\\\\\\\\\\"firstSeen\\\\\\\\\\\\\":\\\\\\\\\\\\\"2024-05-09 22:34:19\\\\\\\\\\\\\",\\\\\\\\\\\\\"isValid\\\\\\\\\\\\\":true,\\\\\\\\\\\\\"lastSeen\\\\\\\\\\\\\":\\\\\\\\\\\\\"2024-05-20 13:26:49\\\\\\\\\\\\\",\\\\\\\\\\\\\"sources\\\\\\\\\\\\\":[\\\\\\\\\\\\\"HoneyPot\\\\\\\\\\\\\"],\\\\\\\\\\\\\"tags\\\\\\\\\\\\\":[\\\\\\\\\\\\\"HTTP\\\\\\\\\\\\\",\\\\\\\\\\\\\"WebLogic T3\\\\\\\\\\\\\"],\\\\\\\\\\\\\"threatType\\\\\\\\\\\\\":\\\\\\\\\\\\\"Scanner\\\\\\\\\\\\\"}],\\\\\\\\\\\\\"ref\\\\\\\\\\\\\":[]},\\\\\\\\\\\\\"curDomains\\\\\\\\\\\\\":[],\\\\\\\\\\\\\"genTime\\\\\\\\\\\\\":\\\\\\\\\\\\\"2024-05-30 01:21:03\\\\\\\\\\\\\",\\\\\\\\\\\\\"geoCn\\\\\\\\\\\\\":{\\\\\\\\\\\\\"city\\\\\\\\\\\\\":\\\\\\\\\\\\\"纽伦堡\\\\\\\\\\\\\",\\\\\\\\\\\\\"country\\\\\\\\\\\\\":\\\\\\\\\\\\\"德国\\\\\\\\\\\\\",\\\\\\\\\\\\\"operator\\\\\\\\\\\\\":\\\\\\\\\\\\\"DigitalOcean, LLC\\\\\\\\\\\\\",\\\\\\\\\\\\\"province\\\\\\\\\\\\\":\\\\\\\\\\\\\"巴伐利亚邦\\\\\\\\\\\\\"},\\\\\\\\\\\\\"geoEn\\\\\\\\\\\\\":{\\\\\\\\\\\\\"city\\\\\\\\\\\\\":\\\\\\\\\\\\\"Nuremberg\\\\\\\\\\\\\",\\\\\\\\\\\\\"country\\\\\\\\\\\\\":\\\\\\\\\\\\\"Germany\\\\\\\\\\\\\",\\\\\\\\\\\\\"operator\\\\\\\\\\\\\":\\\\\\\\\\\\\"DigitalOcean, LLC\\\\\\\\\\\\\",\\\\\\\\\\\\\"province\\\\\\\\\\\\\":\\\\\\\\\\\\\"Bayern\\\\\\\\\\\\\"},\\\\\\\\\\\\\"hit\\\\\\\\\\\\\":true,\\\\\\\\\\\\\"info\\\\\\\\\\\\\":[],\\\\\\\\\\\\\"key\\\\\\\\\\\\\":\\\\\\\\\\\\\"164.92.160.135\\\\\\\\\\\\\",\\\\\\\\\\\\\"result\\\\\\\\\\\\\":\\\\\\\\\\\\\"Malicious\\\\\\\\\\\\\",\\\\\\\\\\\\\"risk\\\\\\\\\\\\\":65,\\\\\\\\\\\\\"tags\\\\\\\\\\\\\":[\\\\\\\\\\\\\"Tool\\\\\\\\\\\\\",\\\\\\\\\\\\\"DoS\\\\\\\\\\\\\",\\\\\\\\\\\\\"CVE-2018-19629\\\\\\\\\\\\\",\\\\\\\\\\\\\"Telnet\\\\\\\\\\\\\",\\\\\\\\\\\\\"SMTP\\\\\\\\\\\\\",\\\\\\\\\\\\\"CVE-2017-6639\\\\\\\\\\\\\",\\\\\\\\\\\\\"WebLogic T3\\\\\\\\\\\\\",\\\\\\\\\\\\\"HTTP\\\\\\\\\\\\\",\\\\\\\\\\\\\"SIP\\\\\\\\\\\\\",\\\\\\\\\\\\\"Code Execution\\\\\\\\\\\\\",\\\\\\\\\\\\\"RDP\\\\\\\\\\\\\",\\\\\\\\\\\\\"Cisco Prime Data Center Network Manager\\\\\\\\\\\\\",\\\\\\\\\\\\\"D-Link\\\\\\\\\\\\\",\\\\\\\\\\\\\"FTP\\\\\\\\\\\\\",\\\\\\\\\\\\\"Nmap\\\\\\\\\\\\\",\\\\\\\\\\\\\"SSH\\\\\\\\\\\\\",\\\\\\\\\\\\\"Info Disclosure\\\\\\\\\\\\\",\\\\\\\\\\\\\"Hyland Perceptive Content Server\\\\\\\\\\\\\"],\\\\\\\\\\\\\"threats\\\\\\\\\\\\\":[\\\\\\\\\\\\\"Scanner\\\\\\\\\\\\\",\\\\\\\\\\\\\"Exploit\\\\\\\\\\\\\",\\\\\\\\\\\\\"IDC\\\\\\\\\\\\\",\\\\\\\\\\\\\"Attacker\\\\\\\\\\\\\",\\\\\\\\\\\\\"Bruteforcer\\\\\\\\\\\\\"],\\\\\\\\\\\\\"type\\\\\\\\\\\\\":1}\\\\\"},{\\\\\"tag\\\\\":\\\\\"网络蜜罐,WebLogic漏洞利用,Nginx蜜罐攻击,致远OA蜜罐攻击,常规蜜罐攻击,漏洞利用\\\\\",\\\\\"source\\\\\":\\\\\"腾讯\\\\\",\\\\\"sourceOriginalData\\\\\":\\\\\"{\\\\\\\\\\\\\"compromise\\\\\\\\\\\\\":{\\\\\\\\\\\\\"data\\\\\\\\\\\\\":{\\\\\\\\\\\\\"ips\\\\\\\\\\\\\":{\\\\\\\\\\\\\"164.92.160.135\\\\\\\\\\\\\":{\\\\\\\\\\\\\"result\\\\\\\\\\\\\":\\\\\\\\\\\\\"\\\\\\\\\\\\\",\\\\\\\\\\\\\"groups\\\\\\\\\\\\\":[],\\\\\\\\\\\\\"tags\\\\\\\\\\\\\":[],\\\\\\\\\\\\\"threat_level\\\\\\\\\\\\\":0,\\\\\\\\\\\\\"threat_type\\\\\\\\\\\\\":[],\\\\\\\\\\\\\"ttps\\\\\\\\\\\\\":[]}},\\\\\\\\\\\\\"domains\\\\\\\\\\\\\":{}},\\\\\\\\\\\\\"return_code\\\\\\\\\\\\\":0,\\\\\\\\\\\\\"return_msg\\\\\\\\\\\\\":\\\\\\\\\\\\\"success\\\\\\\\\\\\\",\\\\\\\\\\\\\"ver\\\\\\\\\\\\\":\\\\\\\\\\\\\"2.0\\\\\\\\\\\\\"},\\\\\\\\\\\\\"ipIngress\\\\\\\\\\\\\":{\\\\\\\\\\\\\"groups\\\\\\\\\\\\\":[],\\\\\\\\\\\\\"result\\\\\\\\\\\\\":\\\\\\\\\\\\\"black\\\\\\\\\\\\\",\\\\\\\\\\\\\"return_code\\\\\\\\\\\\\":0,\\\\\\\\\\\\\"return_msg\\\\\\\\\\\\\":\\\\\\\\\\\\\"success\\\\\\\\\\\\\",\\\\\\\\\\\\\"status\\\\\\\\\\\\\":\\\\\\\\\\\\\"inactive\\\\\\\\\\\\\",\\\\\\\\\\\\\"tags\\\\\\\\\\\\\":[\\\\\\\\\\\\\"Nginx蜜罐攻击\\\\\\\\\\\\\",\\\\\\\\\\\\\"WebLogic漏洞利用\\\\\\\\\\\\\",\\\\\\\\\\\\\"常规蜜罐攻击\\\\\\\\\\\\\",\\\\\\\\\\\\\"致远OA蜜罐攻击\\\\\\\\\\\\\"],\\\\\\\\\\\\\"threat_level\\\\\\\\\\\\\":3,\\\\\\\\\\\\\"threat_type\\\\\\\\\\\\\":[\\\\\\\\\\\\\"漏洞利用\\\\\\\\\\\\\",\\\\\\\\\\\\\"网络蜜罐\\\\\\\\\\\\\"],\\\\\\\\\\\\\"ttps\\\\\\\\\\\\\":[],\\\\\\\\\\\\\"ver\\\\\\\\\\\\\":\\\\\\\\\\\\\"2.0\\\\\\\\\\\\\"}}\\\\\"}],\\\\\"ioc\\\\\":[]}},{\\\\\"95.45.50.93\\\\\":{\\\\\"baseInfo\\\\\":{\\\\\"ipLocation\\\\\":{\\\\\"continent\\\\\":\\\\\"欧洲\\\\\",\\\\\"owner\\\\\":\\\\\"Eircom Limited\\\\\",\\\\\"country\\\\\":\\\\\"爱尔兰\\\\\",\\\\\"adcode\\\\\":\\\\\"\\\\\",\\\\\"city\\\\\":\\\\\"都柏林\\\\\",\\\\\"timezone\\\\\":\\\\\"UTC+1\\\\\",\\\\\"isp\\\\\":\\\\\"Eircom Limited\\\\\",\\\\\"accuracy\\\\\":\\\\\"城市\\\\\",\\\\\"source\\\\\":\\\\\"数据挖掘\\\\\",\\\\\"asnumber\\\\\":\\\\\"5466\\\\\",\\\\\"areacode\\\\\":\\\\\"IE\\\\\",\\\\\"zipcode\\\\\":\\\\\"D01\\\\\",\\\\\"lngwgs\\\\\":\\\\\"-6.260246\\\\\",\\\\\"province\\\\\":\\\\\"都柏林郡\\\\\",\\\\\"district\\\\\":\\\\\"\\\\\",\\\\\"latwgs\\\\\":\\\\\"53.349764\\\\\",\\\\\"radius\\\\\":\\\\\"\\\\\"}},\\\\\"original\\\\\":[{\\\\\"discoverTime\\\\\":\\\\\"2023-05-25 21:23:41\\\\\",\\\\\"updateTime\\\\\":\\\\\"2023-08-23 12:36:41\\\\\",\\\\\"tag\\\\\":\\\\\"Trojan,Qakbot\\\\\",\\\\\"source\\\\\":\\\\\"华为乾坤\\\\\",\\\\\"sourceOriginalData\\\\\":\\\\\"{\\\\\\\\\\\\\"confidence\\\\\\\\\\\\\":52,\\\\\\\\\\\\\"context\\\\\\\\\\\\\":{\\\\\\\\\\\\\"attackGroup\\\\\\\\\\\\\":[],\\\\\\\\\\\\\"histThreats\\\\\\\\\\\\\":[{\\\\\\\\\\\\\"count\\\\\\\\\\\\\":2004,\\\\\\\\\\\\\"firstSeen\\\\\\\\\\\\\":\\\\\\\\\\\\\"2023-05-25 21:23:41\\\\\\\\\\\\\",\\\\\\\\\\\\\"isValid\\\\\\\\\\\\\":true,\\\\\\\\\\\\\"lastSeen\\\\\\\\\\\\\":\\\\\\\\\\\\\"2023-08-23 12:36:41\\\\\\\\\\\\\",\\\\\\\\\\\\\"sources\\\\\\\\\\\\\":[\\\\\\\\\\\\\"OSINT\\\\\\\\\\\\\"],\\\\\\\\\\\\\"tags\\\\\\\\\\\\\":[\\\\\\\\\\\\\"Trojan\\\\\\\\\\\\\",\\\\\\\\\\\\\"Qakbot\\\\\\\\\\\\\"],\\\\\\\\\\\\\"threatType\\\\\\\\\\\\\":\\\\\\\\\\\\\"CnC\\\\\\\\\\\\\"}],\\\\\\\\\\\\\"ref\\\\\\\\\\\\\":[]},\\\\\\\\\\\\\"curDomains\\\\\\\\\\\\\":[],\\\\\\\\\\\\\"genTime\\\\\\\\\\\\\":\\\\\\\\\\\\\"2024-05-30 01:21:03\\\\\\\\\\\\\",\\\\\\\\\\\\\"geoCn\\\\\\\\\\\\\":{\\\\\\\\\\\\\"city\\\\\\\\\\\\\":\\\\\\\\\\\\\"都柏林\\\\\\\\\\\\\",\\\\\\\\\\\\\"country\\\\\\\\\\\\\":\\\\\\\\\\\\\"爱尔兰\\\\\\\\\\\\\",\\\\\\\\\\\\\"operator\\\\\\\\\\\\\":\\\\\\\\\\\\\"Eircom Limited\\\\\\\\\\\\\",\\\\\\\\\\\\\"province\\\\\\\\\\\\\":\\\\\\\\\\\\\"都柏林郡\\\\\\\\\\\\\"},\\\\\\\\\\\\\"geoEn\\\\\\\\\\\\\":{\\\\\\\\\\\\\"city\\\\\\\\\\\\\":\\\\\\\\\\\\\"Dublin\\\\\\\\\\\\\",\\\\\\\\\\\\\"country\\\\\\\\\\\\\":\\\\\\\\\\\\\"Ireland\\\\\\\\\\\\\",\\\\\\\\\\\\\"operator\\\\\\\\\\\\\":\\\\\\\\\\\\\"Eircom Limited\\\\\\\\\\\\\",\\\\\\\\\\\\\"province\\\\\\\\\\\\\":\\\\\\\\\\\\\"Dublin\\\\\\\\\\\\\"},\\\\\\\\\\\\\"hit\\\\\\\\\\\\\":true,\\\\\\\\\\\\\"info\\\\\\\\\\\\\":[],\\\\\\\\\\\\\"key\\\\\\\\\\\\\":\\\\\\\\\\\\\"95.45.50.93\\\\\\\\\\\\\",\\\\\\\\\\\\\"result\\\\\\\\\\\\\":\\\\\\\\\\\\\"Suspicious\\\\\\\\\\\\\",\\\\\\\\\\\\\"risk\\\\\\\\\\\\\":90,\\\\\\\\\\\\\"tags\\\\\\\\\\\\\":[\\\\\\\\\\\\\"Trojan\\\\\\\\\\\\\",\\\\\\\\\\\\\"Qakbot\\\\\\\\\\\\\"],\\\\\\\\\\\\\"threats\\\\\\\\\\\\\":[\\\\\\\\\\\\\"IDC\\\\\\\\\\\\\",\\\\\\\\\\\\\"CnC\\\\\\\\\\\\\"],\\\\\\\\\\\\\"type\\\\\\\\\\\\\":1}\\\\\"},{\\\\\"discoverTime\\\\\":\\\\\"2023-11-14 10:08:08\\\\\",\\\\\"updateTime\\\\\":\\\\\"2023-11-14 10:08:08\\\\\",\\\\\"tag\\\\\":\\\\\"远控木马,网络扫描,常规网络扫描\\\\\",\\\\\"source\\\\\":\\\\\"腾讯\\\\\",\\\\\"sourceOriginalData\\\\\":\\\\\"{\\\\\\\\\\\\\"compromise\\\\\\\\\\\\\":{\\\\\\\\\\\\\"data\\\\\\\\\\\\\":{\\\\\\\\\\\\\"ips\\\\\\\\\\\\\":{\\\\\\\\\\\\\"95.45.50.93\\\\\\\\\\\\\":{\\\\\\\\\\\\\"result\\\\\\\\\\\\\":\\\\\\\\\\\\\"suspicious\\\\\\\\\\\\\",\\\\\\\\\\\\\"groups\\\\\\\\\\\\\":[],\\\\\\\\\\\\\"tags\\\\\\\\\\\\\":[\\\\\\\\\\\\\"远控木马\\\\\\\\\\\\\"],\\\\\\\\\\\\\"threat_level\\\\\\\\\\\\\":4,\\\\\\\\\\\\\"threat_type\\\\\\\\\\\\\":[\\\\\\\\\\\\\"远控木马\\\\\\\\\\\\\"],\\\\\\\\\\\\\"ttps\\\\\\\\\\\\\":[]}},\\\\\\\\\\\\\"domains\\\\\\\\\\\\\":{}},\\\\\\\\\\\\\"return_code\\\\\\\\\\\\\":0,\\\\\\\\\\\\\"return_msg\\\\\\\\\\\\\":\\\\\\\\\\\\\"success\\\\\\\\\\\\\",\\\\\\\\\\\\\"ver\\\\\\\\\\\\\":\\\\\\\\\\\\\"2.0\\\\\\\\\\\\\"},\\\\\\\\\\\\\"ipIngress\\\\\\\\\\\\\":{\\\\\\\\\\\\\"groups\\\\\\\\\\\\\":[],\\\\\\\\\\\\\"result\\\\\\\\\\\\\":\\\\\\\\\\\\\"gray\\\\\\\\\\\\\",\\\\\\\\\\\\\"return_code\\\\\\\\\\\\\":0,\\\\\\\\\\\\\"return_msg\\\\\\\\\\\\\":\\\\\\\\\\\\\"success\\\\\\\\\\\\\",\\\\\\\\\\\\\"status\\\\\\\\\\\\\":\\\\\\\\\\\\\"\\\\\\\\\\\\\",\\\\\\\\\\\\\"tags\\\\\\\\\\\\\":[\\\\\\\\\\\\\"常规网络扫描\\\\\\\\\\\\\"],\\\\\\\\\\\\\"threat_level\\\\\\\\\\\\\":4,\\\\\\\\\\\\\"threat_type\\\\\\\\\\\\\":[\\\\\\\\\\\\\"网络扫描\\\\\\\\\\\\\"],\\\\\\\\\\\\\"ttps\\\\\\\\\\\\\":[],\\\\\\\\\\\\\"ver\\\\\\\\\\\\\":\\\\\\\\\\\\\"2.0\\\\\\\\\\\\\"},\\\\\\\\\\\\\"reputation\\\\\\\\\\\\\":{\\\\\\\\\\\\\"basic\\\\\\\\\\\\\":{\\\\\\\\\\\\\"carrier\\\\\\\\\\\\\":\\\\\\\\\\\\\"Eircom Limited\\\\\\\\\\\\\",\\\\\\\\\\\\\"asn\\\\\\\\\\\\\":\\\\\\\\\\\\\"5466\\\\\\\\\\\\\",\\\\\\\\\\\\\"isp\\\\\\\\\\\\\":\\\\\\\\\\\\\"Eircom Limited\\\\\\\\\\\\\",\\\\\\\\\\\\\"location\\\\\\\\\\\\\":{\\\\\\\\\\\\\"country\\\\\\\\\\\\\":\\\\\\\\\\\\\"爱尔兰\\\\\\\\\\\\\",\\\\\\\\\\\\\"province\\\\\\\\\\\\\":\\\\\\\\\\\\\"都柏林郡\\\\\\\\\\\\\",\\\\\\\\\\\\\"city\\\\\\\\\\\\\":\\\\\\\\\\\\\"都柏林\\\\\\\\\\\\\",\\\\\\\\\\\\\"lng\\\\\\\\\\\\\":\\\\\\\\\\\\\"-6.260246\\\\\\\\\\\\\",\\\\\\\\\\\\\"lat\\\\\\\\\\\\\":\\\\\\\\\\\\\"53.349764\\\\\\\\\\\\\",\\\\\\\\\\\\\"country_code\\\\\\\\\\\\\":\\\\\\\\\\\\\"\\\\\\\\\\\\\"}},\\\\\\\\\\\\\"confidence\\\\\\\\\\\\\":0,\\\\\\\\\\\\\"context\\\\\\\\\\\\\":{\\\\\\\\\\\\\"articles\\\\\\\\\\\\\":[],\\\\\\\\\\\\\"historical_domain\\\\\\\\\\\\\":[],\\\\\\\\\\\\\"black_md5_contain_ip\\\\\\\\\\\\\":[],\\\\\\\\\\\\\"black_md5_download_from_ip\\\\\\\\\\\\\":[],\\\\\\\\\\\\\"black_md5_visit_ip\\\\\\\\\\\\\":[],\\\\\\\\\\\\\"black_url_of_ip\\\\\\\\\\\\\":[]},\\\\\\\\\\\\\"first_seen\\\\\\\\\\\\\":\\\\\\\\\\\\\"2023-11-14 10:08:08\\\\\\\\\\\\\",\\\\\\\\\\\\\"groups\\\\\\\\\\\\\":[],\\\\\\\\\\\\\"intelligences\\\\\\\\\\\\\":[{\\\\\\\\\\\\\"Source\\\\\\\\\\\\\":\\\\\\\\\\\\\"Tencent Labs\\\\\\\\\\\\\",\\\\\\\\\\\\\"Stamp\\\\\\\\\\\\\":\\\\\\\\\\\\\"远控木马\\\\\\\\\\\\\",\\\\\\\\\\\\\"Time\\\\\\\\\\\\\":\\\\\\\\\\\\\"2023-11-14 10:08:08\\\\\\\\\\\\\"}],\\\\\\\\\\\\\"last_seen\\\\\\\\\\\\\":\\\\\\\\\\\\\"2023-11-14 10:08:08\\\\\\\\\\\\\",\\\\\\\\\\\\\"port\\\\\\\\\\\\\":\\\\\\\\\\\\\"\\\\\\\\\\\\\",\\\\\\\\\\\\\"profile\\\\\\\\\\\\\":[\\\\\\\\\\\\\"IDC-IP\\\\\\\\\\\\\"],\\\\\\\\\\\\\"result\\\\\\\\\\\\\":\\\\\\\\\\\\\"suspicious\\\\\\\\\\\\\",\\\\\\\\\\\\\"return_code\\\\\\\\\\\\\":0,\\\\\\\\\\\\\"return_msg\\\\\\\\\\\\\":\\\\\\\\\\\\\"success\\\\\\\\\\\\\",\\\\\\\\\\\\\"tags\\\\\\\\\\\\\":[\\\\\\\\\\\\\"远控木马\\\\\\\\\\\\\"],\\\\\\\\\\\\\"threat_class\\\\\\\\\\\\\":0,\\\\\\\\\\\\\"threat_level\\\\\\\\\\\\\":4,\\\\\\\\\\\\\"threat_type\\\\\\\\\\\\\":[\\\\\\\\\\\\\"远控木马\\\\\\\\\\\\\"],\\\\\\\\\\\\\"ttps\\\\\\\\\\\\\":[],\\\\\\\\\\\\\"url_type\\\\\\\\\\\\\":0,\\\\\\\\\\\\\"ver\\\\\\\\\\\\\":\\\\\\\\\\\\\"2.0\\\\\\\\\\\\\"}}\\\\\"}],\\\\\"ioc\\\\\":[]}}],\\\\\"global\\\\\":{\\\\\"content-length\\\\\":\\\\\"29\\\\\",\\\\\"gw-timestamp\\\\\":\\\\\"1717070302545\\\\\",\\\\\"x-forwarded-for\\\\\":\\\\\"172.22.102.61\\\\\",\\\\\"body\\\\\":{\\\\\"ipList\\\\\":[\\\\\"15.197.130.221\\\\\"]},\\\\\"url\\\\\":{},\\\\\"pragma\\\\\":\\\\\"no-cache\\\\\",\\\\\"accept\\\\\":\\\\\"text/html,application/json,application/xhtml+xml,application/xml;q=0.9,*/*;q=0.8\\\\\",\\\\\"x-real-ip\\\\\":\\\\\"172.22.102.61\\\\\",\\\\\"gw-client-id\\\\\":\\\\\"LLM-Agent\\\\\",\\\\\"toJson\\\\\":{},\\\\\"toMD5\\\\\":{},\\\\\"host\\\\\":\\\\\"172.22.102.61:8990\\\\\",\\\\\"gw-sign\\\\\":\\\\\"4c3fb20359d043826626e5cb2c04dcff\\\\\",\\\\\"header\\\\\":{\\\\\"host\\\\\":\\\\\"172.22.102.61:8990\\\\\",\\\\\"x-real-ip\\\\\":\\\\\"172.22.102.61\\\\\",\\\\\"x-forwarded-for\\\\\":\\\\\"172.22.102.61\\\\\",\\\\\"connection\\\\\":\\\\\"close\\\\\",\\\\\"content-length\\\\\":\\\\\"29\\\\\",\\\\\"gw-client-id\\\\\":\\\\\"LLM-Agent\\\\\",\\\\\"gw-timestamp\\\\\":\\\\\"1717070302545\\\\\",\\\\\"accept\\\\\":\\\\\"text/html,application/json,application/xhtml+xml,application/xml;q=0.9,*/*;q=0.8\\\\\",\\\\\"user-agent\\\\\":\\\\\"Mozilla/5.0 (Windows NT 10.0; Win64; x64) AppleWebKit/537.36 (KHTML, like Gecko) Chrome/75.0.3770.142 Safari/537.36 Hutool\\\\\",\\\\\"gw-sign\\\\\":\\\\\"4c3fb20359d043826626e5cb2c04dcff\\\\\",\\\\\"accept-encoding\\\\\":\\\\\"gzip, deflate\\\\\",\\\\\"content-type\\\\\":\\\\\"application/json;charset=UTF-8\\\\\",\\\\\"cache-control\\\\\":\\\\\"no-cache\\\\\",\\\\\"pragma\\\\\":\\\\\"no-cache\\\\\"},\\\\\"connection\\\\\":\\\\\"close\\\\\",\\\\\"content-type\\\\\":\\\\\"application/json;charset=UTF-8\\\\\",\\\\\"cache-control\\\\\":\\\\\"no-cache\\\\\",\\\\\"accept-encoding\\\\\":\\\\\"gzip, deflate\\\\\",\\\\\"ipList\\\\\":[\\\\\"15.197.130.221\\\\\"],\\\\\"user-agent\\\\\":\\\\\"Mozilla/5.0 (Windows NT 10.0; Win64; x64) AppleWebKit/537.36 (KHTML, like Gecko) Chrome/75.0.3770.142 Safari/537.36 Hutool\\\\\"}}}\",\"msg\":\"\"}', 'node_exe_cost': '2.563s', 'raw_output': '', 'extra': '', 'token_and_cost': {'input_tokens': '20 Tokens', 'input_cost': '$0.0', 'output_tokens': '4173 Tokens', 'output_cost': '$0.0', 'total_tokens': '4193 Tokens', 'total_cost': '$0.0'}}, {'node_id': 'ToolID2', 'node_type': 'Tool', 'node_name': '', 'node_status': 'SUCCESS', 'error_info': '', 'input': '{\"ipList\": [\"15.197.130.221\"]}', 'output': '{\"code\":0,\"data\":\"{\\\\\"msg\\\\\":\\\\\"操作成功\\\\\",\\\\\"code\\\\\":200,\\\\\"data\\\\\":{\\\\\"msg\\\\\":\\\\\"查询成功\\\\\",\\\\\"code\\\\\":200,\\\\\"data\\\\\":[{\\\\\"95.45.50.93\\\\\":{\\\\\"baseInfo\\\\\":{\\\\\"ipLocation\\\\\":{\\\\\"continent\\\\\":\\\\\"欧洲\\\\\",\\\\\"owner\\\\\":\\\\\"Eircom Limited\\\\\",\\\\\"country\\\\\":\\\\\"爱尔兰\\\\\",\\\\\"adcode\\\\\":\\\\\"\\\\\",\\\\\"city\\\\\":\\\\\"都柏林\\\\\",\\\\\"timezone\\\\\":\\\\\"UTC+1\\\\\",\\\\\"isp\\\\\":\\\\\"Eircom Limited\\\\\",\\\\\"accuracy\\\\\":\\\\\"城市\\\\\",\\\\\"source\\\\\":\\\\\"数据挖掘\\\\\",\\\\\"asnumber\\\\\":\\\\\"5466\\\\\",\\\\\"areacode\\\\\":\\\\\"IE\\\\\",\\\\\"zipcode\\\\\":\\\\\"D01\\\\\",\\\\\"lngwgs\\\\\":\\\\\"-6.260246\\\\\",\\\\\"province\\\\\":\\\\\"都柏林郡\\\\\",\\\\\"district\\\\\":\\\\\"\\\\\",\\\\\"latwgs\\\\\":\\\\\"53.349764\\\\\",\\\\\"radius\\\\\":\\\\\"\\\\\"}},\\\\\"original\\\\\":[{\\\\\"discoverTime\\\\\":\\\\\"2023-05-25 21:23:41\\\\\",\\\\\"updateTime\\\\\":\\\\\"2023-08-23 12:36:41\\\\\",\\\\\"tag\\\\\":\\\\\"Trojan,Qakbot\\\\\",\\\\\"source\\\\\":\\\\\"华为乾坤\\\\\",\\\\\"sourceOriginalData\\\\\":\\\\\"{\\\\\\\\\\\\\"confidence\\\\\\\\\\\\\":52,\\\\\\\\\\\\\"context\\\\\\\\\\\\\":{\\\\\\\\\\\\\"attackGroup\\\\\\\\\\\\\":[],\\\\\\\\\\\\\"histThreats\\\\\\\\\\\\\":[{\\\\\\\\\\\\\"count\\\\\\\\\\\\\":2004,\\\\\\\\\\\\\"firstSeen\\\\\\\\\\\\\":\\\\\\\\\\\\\"2023-05-25 21:23:41\\\\\\\\\\\\\",\\\\\\\\\\\\\"isValid\\\\\\\\\\\\\":true,\\\\\\\\\\\\\"lastSeen\\\\\\\\\\\\\":\\\\\\\\\\\\\"2023-08-23 12:36:41\\\\\\\\\\\\\",\\\\\\\\\\\\\"sources\\\\\\\\\\\\\":[\\\\\\\\\\\\\"OSINT\\\\\\\\\\\\\"],\\\\\\\\\\\\\"tags\\\\\\\\\\\\\":[\\\\\\\\\\\\\"Trojan\\\\\\\\\\\\\",\\\\\\\\\\\\\"Qakbot\\\\\\\\\\\\\"],\\\\\\\\\\\\\"threatType\\\\\\\\\\\\\":\\\\\\\\\\\\\"CnC\\\\\\\\\\\\\"}],\\\\\\\\\\\\\"ref\\\\\\\\\\\\\":[]},\\\\\\\\\\\\\"curDomains\\\\\\\\\\\\\":[],\\\\\\\\\\\\\"genTime\\\\\\\\\\\\\":\\\\\\\\\\\\\"2024-05-30 01:21:03\\\\\\\\\\\\\",\\\\\\\\\\\\\"geoCn\\\\\\\\\\\\\":{\\\\\\\\\\\\\"city\\\\\\\\\\\\\":\\\\\\\\\\\\\"都柏林\\\\\\\\\\\\\",\\\\\\\\\\\\\"country\\\\\\\\\\\\\":\\\\\\\\\\\\\"爱尔兰\\\\\\\\\\\\\",\\\\\\\\\\\\\"operator\\\\\\\\\\\\\":\\\\\\\\\\\\\"Eircom Limited\\\\\\\\\\\\\",\\\\\\\\\\\\\"province\\\\\\\\\\\\\":\\\\\\\\\\\\\"都柏林郡\\\\\\\\\\\\\"},\\\\\\\\\\\\\"geoEn\\\\\\\\\\\\\":{\\\\\\\\\\\\\"city\\\\\\\\\\\\\":\\\\\\\\\\\\\"Dublin\\\\\\\\\\\\\",\\\\\\\\\\\\\"country\\\\\\\\\\\\\":\\\\\\\\\\\\\"Ireland\\\\\\\\\\\\\",\\\\\\\\\\\\\"operator\\\\\\\\\\\\\":\\\\\\\\\\\\\"Eircom Limited\\\\\\\\\\\\\",\\\\\\\\\\\\\"province\\\\\\\\\\\\\":\\\\\\\\\\\\\"Dublin\\\\\\\\\\\\\"},\\\\\\\\\\\\\"hit\\\\\\\\\\\\\":true,\\\\\\\\\\\\\"info\\\\\\\\\\\\\":[],\\\\\\\\\\\\\"key\\\\\\\\\\\\\":\\\\\\\\\\\\\"95.45.50.93\\\\\\\\\\\\\",\\\\\\\\\\\\\"result\\\\\\\\\\\\\":\\\\\\\\\\\\\"Suspicious\\\\\\\\\\\\\",\\\\\\\\\\\\\"risk\\\\\\\\\\\\\":90,\\\\\\\\\\\\\"tags\\\\\\\\\\\\\":[\\\\\\\\\\\\\"Trojan\\\\\\\\\\\\\",\\\\\\\\\\\\\"Qakbot\\\\\\\\\\\\\"],\\\\\\\\\\\\\"threats\\\\\\\\\\\\\":[\\\\\\\\\\\\\"IDC\\\\\\\\\\\\\",\\\\\\\\\\\\\"CnC\\\\\\\\\\\\\"],\\\\\\\\\\\\\"type\\\\\\\\\\\\\":1}\\\\\"},{\\\\\"discoverTime\\\\\":\\\\\"2023-11-14 10:08:08\\\\\",\\\\\"updateTime\\\\\":\\\\\"2023-11-14 10:08:08\\\\\",\\\\\"tag\\\\\":\\\\\"远控木马,网络扫描,常规网络扫描\\\\\",\\\\\"source\\\\\":\\\\\"腾讯\\\\\",\\\\\"sourceOriginalData\\\\\":\\\\\"{\\\\\\\\\\\\\"compromise\\\\\\\\\\\\\":{\\\\\\\\\\\\\"data\\\\\\\\\\\\\":{\\\\\\\\\\\\\"ips\\\\\\\\\\\\\":{\\\\\\\\\\\\\"95.45.50.93\\\\\\\\\\\\\":{\\\\\\\\\\\\\"result\\\\\\\\\\\\\":\\\\\\\\\\\\\"suspicious\\\\\\\\\\\\\",\\\\\\\\\\\\\"groups\\\\\\\\\\\\\":[],\\\\\\\\\\\\\"tags\\\\\\\\\\\\\":[\\\\\\\\\\\\\"远控木马\\\\\\\\\\\\\"],\\\\\\\\\\\\\"threat_level\\\\\\\\\\\\\":4,\\\\\\\\\\\\\"threat_type\\\\\\\\\\\\\":[\\\\\\\\\\\\\"远控木马\\\\\\\\\\\\\"],\\\\\\\\\\\\\"ttps\\\\\\\\\\\\\":[]}},\\\\\\\\\\\\\"domains\\\\\\\\\\\\\":{}},\\\\\\\\\\\\\"return_code\\\\\\\\\\\\\":0,\\\\\\\\\\\\\"return_msg\\\\\\\\\\\\\":\\\\\\\\\\\\\"success\\\\\\\\\\\\\",\\\\\\\\\\\\\"ver\\\\\\\\\\\\\":\\\\\\\\\\\\\"2.0\\\\\\\\\\\\\"},\\\\\\\\\\\\\"ipIngress\\\\\\\\\\\\\":{\\\\\\\\\\\\\"groups\\\\\\\\\\\\\":[],\\\\\\\\\\\\\"result\\\\\\\\\\\\\":\\\\\\\\\\\\\"gray\\\\\\\\\\\\\",\\\\\\\\\\\\\"return_code\\\\\\\\\\\\\":0,\\\\\\\\\\\\\"return_msg\\\\\\\\\\\\\":\\\\\\\\\\\\\"success\\\\\\\\\\\\\",\\\\\\\\\\\\\"status\\\\\\\\\\\\\":\\\\\\\\\\\\\"\\\\\\\\\\\\\",\\\\\\\\\\\\\"tags\\\\\\\\\\\\\":[\\\\\\\\\\\\\"常规网络扫描\\\\\\\\\\\\\"],\\\\\\\\\\\\\"threat_level\\\\\\\\\\\\\":4,\\\\\\\\\\\\\"threat_type\\\\\\\\\\\\\":[\\\\\\\\\\\\\"网络扫描\\\\\\\\\\\\\"],\\\\\\\\\\\\\"ttps\\\\\\\\\\\\\":[],\\\\\\\\\\\\\"ver\\\\\\\\\\\\\":\\\\\\\\\\\\\"2.0\\\\\\\\\\\\\"},\\\\\\\\\\\\\"reputation\\\\\\\\\\\\\":{\\\\\\\\\\\\\"basic\\\\\\\\\\\\\":{\\\\\\\\\\\\\"carrier\\\\\\\\\\\\\":\\\\\\\\\\\\\"Eircom Limited\\\\\\\\\\\\\",\\\\\\\\\\\\\"asn\\\\\\\\\\\\\":\\\\\\\\\\\\\"5466\\\\\\\\\\\\\",\\\\\\\\\\\\\"isp\\\\\\\\\\\\\":\\\\\\\\\\\\\"Eircom Limited\\\\\\\\\\\\\",\\\\\\\\\\\\\"location\\\\\\\\\\\\\":{\\\\\\\\\\\\\"country\\\\\\\\\\\\\":\\\\\\\\\\\\\"爱尔兰\\\\\\\\\\\\\",\\\\\\\\\\\\\"province\\\\\\\\\\\\\":\\\\\\\\\\\\\"都柏林郡\\\\\\\\\\\\\",\\\\\\\\\\\\\"city\\\\\\\\\\\\\":\\\\\\\\\\\\\"都柏林\\\\\\\\\\\\\",\\\\\\\\\\\\\"lng\\\\\\\\\\\\\":\\\\\\\\\\\\\"-6.260246\\\\\\\\\\\\\",\\\\\\\\\\\\\"lat\\\\\\\\\\\\\":\\\\\\\\\\\\\"53.349764\\\\\\\\\\\\\",\\\\\\\\\\\\\"country_code\\\\\\\\\\\\\":\\\\\\\\\\\\\"\\\\\\\\\\\\\"}},\\\\\\\\\\\\\"confidence\\\\\\\\\\\\\":0,\\\\\\\\\\\\\"context\\\\\\\\\\\\\":{\\\\\\\\\\\\\"articles\\\\\\\\\\\\\":[],\\\\\\\\\\\\\"historical_domain\\\\\\\\\\\\\":[],\\\\\\\\\\\\\"black_md5_contain_ip\\\\\\\\\\\\\":[],\\\\\\\\\\\\\"black_md5_download_from_ip\\\\\\\\\\\\\":[],\\\\\\\\\\\\\"black_md5_visit_ip\\\\\\\\\\\\\":[],\\\\\\\\\\\\\"black_url_of_ip\\\\\\\\\\\\\":[]},\\\\\\\\\\\\\"first_seen\\\\\\\\\\\\\":\\\\\\\\\\\\\"2023-11-14 10:08:08\\\\\\\\\\\\\",\\\\\\\\\\\\\"groups\\\\\\\\\\\\\":[],\\\\\\\\\\\\\"intelligences\\\\\\\\\\\\\":[{\\\\\\\\\\\\\"Source\\\\\\\\\\\\\":\\\\\\\\\\\\\"Tencent Labs\\\\\\\\\\\\\",\\\\\\\\\\\\\"Stamp\\\\\\\\\\\\\":\\\\\\\\\\\\\"远控木马\\\\\\\\\\\\\",\\\\\\\\\\\\\"Time\\\\\\\\\\\\\":\\\\\\\\\\\\\"2023-11-14 10:08:08\\\\\\\\\\\\\"}],\\\\\\\\\\\\\"last_seen\\\\\\\\\\\\\":\\\\\\\\\\\\\"2023-11-14 10:08:08\\\\\\\\\\\\\",\\\\\\\\\\\\\"port\\\\\\\\\\\\\":\\\\\\\\\\\\\"\\\\\\\\\\\\\",\\\\\\\\\\\\\"profile\\\\\\\\\\\\\":[\\\\\\\\\\\\\"IDC-IP\\\\\\\\\\\\\"],\\\\\\\\\\\\\"result\\\\\\\\\\\\\":\\\\\\\\\\\\\"suspicious\\\\\\\\\\\\\",\\\\\\\\\\\\\"return_code\\\\\\\\\\\\\":0,\\\\\\\\\\\\\"return_msg\\\\\\\\\\\\\":\\\\\\\\\\\\\"success\\\\\\\\\\\\\",\\\\\\\\\\\\\"tags\\\\\\\\\\\\\":[\\\\\\\\\\\\\"远控木马\\\\\\\\\\\\\"],\\\\\\\\\\\\\"threat_class\\\\\\\\\\\\\":0,\\\\\\\\\\\\\"threat_level\\\\\\\\\\\\\":4,\\\\\\\\\\\\\"threat_type\\\\\\\\\\\\\":[\\\\\\\\\\\\\"远控木马\\\\\\\\\\\\\"],\\\\\\\\\\\\\"ttps\\\\\\\\\\\\\":[],\\\\\\\\\\\\\"url_type\\\\\\\\\\\\\":0,\\\\\\\\\\\\\"ver\\\\\\\\\\\\\":\\\\\\\\\\\\\"2.0\\\\\\\\\\\\\"}}\\\\\"}],\\\\\"ioc\\\\\":[]}},{\\\\\"164.92.160.135\\\\\":{\\\\\"baseInfo\\\\\":{\\\\\"ipLocation\\\\\":{\\\\\"continent\\\\\":\\\\\"欧洲\\\\\",\\\\\"owner\\\\\":\\\\\"DigitalOcean, LLC\\\\\",\\\\\"country\\\\\":\\\\\"德国\\\\\",\\\\\"adcode\\\\\":\\\\\"\\\\\",\\\\\"city\\\\\":\\\\\"纽伦堡\\\\\",\\\\\"timezone\\\\\":\\\\\"UTC+1\\\\\",\\\\\"isp\\\\\":\\\\\"DigitalOcean, LLC\\\\\",\\\\\"accuracy\\\\\":\\\\\"城市\\\\\",\\\\\"source\\\\\":\\\\\"数据挖掘\\\\\",\\\\\"asnumber\\\\\":\\\\\"14061\\\\\",\\\\\"areacode\\\\\":\\\\\"DE\\\\\",\\\\\"zipcode\\\\\":\\\\\"90429\\\\\",\\\\\"lngwgs\\\\\":\\\\\"11.064260\\\\\",\\\\\"province\\\\\":\\\\\"巴伐利亚邦\\\\\",\\\\\"district\\\\\":\\\\\"\\\\\",\\\\\"latwgs\\\\\":\\\\\"49.451525\\\\\",\\\\\"radius\\\\\":\\\\\"\\\\\"}},\\\\\"original\\\\\":[{\\\\\"discoverTime\\\\\":\\\\\"2024-05-09 22:34:19\\\\\",\\\\\"updateTime\\\\\":\\\\\"2024-05-22 11:05:29\\\\\",\\\\\"tag\\\\\":\\\\\"Tool,DoS,CVE-2018-19629,Telnet,SMTP,CVE-2017-6639,WebLogic T3,HTTP,SIP,Code Execution,RDP,Cisco Prime Data Center Network Manager,D-Link,FTP,Nmap,SSH,Info Disclosure,Hyland Perceptive Content Server\\\\\",\\\\\"source\\\\\":\\\\\"华为乾坤\\\\\",\\\\\"sourceOriginalData\\\\\":\\\\\"{\\\\\\\\\\\\\"confidence\\\\\\\\\\\\\":95,\\\\\\\\\\\\\"context\\\\\\\\\\\\\":{\\\\\\\\\\\\\"attackGroup\\\\\\\\\\\\\":[],\\\\\\\\\\\\\"histThreats\\\\\\\\\\\\\":[{\\\\\\\\\\\\\"count\\\\\\\\\\\\\":658,\\\\\\\\\\\\\"firstSeen\\\\\\\\\\\\\":\\\\\\\\\\\\\"2024-05-09 23:51:06\\\\\\\\\\\\\",\\\\\\\\\\\\\"isValid\\\\\\\\\\\\\":true,\\\\\\\\\\\\\"lastSeen\\\\\\\\\\\\\":\\\\\\\\\\\\\"2024-05-20 13:39:46\\\\\\\\\\\\\",\\\\\\\\\\\\\"sources\\\\\\\\\\\\\":[\\\\\\\\\\\\\"OSINT\\\\\\\\\\\\\",\\\\\\\\\\\\\"Internal\\\\\\\\\\\\\"],\\\\\\\\\\\\\"tags\\\\\\\\\\\\\":[\\\\\\\\\\\\\"Tool\\\\\\\\\\\\\",\\\\\\\\\\\\\"Nmap\\\\\\\\\\\\\"],\\\\\\\\\\\\\"threatType\\\\\\\\\\\\\":\\\\\\\\\\\\\"Attacker\\\\\\\\\\\\\"},{\\\\\\\\\\\\\"count\\\\\\\\\\\\\":13,\\\\\\\\\\\\\"firstSeen\\\\\\\\\\\\\":\\\\\\\\\\\\\"2024-05-11 09:57:17\\\\\\\\\\\\\",\\\\\\\\\\\\\"isValid\\\\\\\\\\\\\":true,\\\\\\\\\\\\\"lastSeen\\\\\\\\\\\\\":\\\\\\\\\\\\\"2024-05-22 11:05:29\\\\\\\\\\\\\",\\\\\\\\\\\\\"sources\\\\\\\\\\\\\":[\\\\\\\\\\\\\"HoneyPot\\\\\\\\\\\\\",\\\\\\\\\\\\\"OSINT\\\\\\\\\\\\\"],\\\\\\\\\\\\\"tags\\\\\\\\\\\\\":[\\\\\\\\\\\\\"HTTP\\\\\\\\\\\\\",\\\\\\\\\\\\\"FTP\\\\\\\\\\\\\",\\\\\\\\\\\\\"Telnet\\\\\\\\\\\\\",\\\\\\\\\\\\\"SMTP\\\\\\\\\\\\\"],\\\\\\\\\\\\\"threatType\\\\\\\\\\\\\":\\\\\\\\\\\\\"Bruteforcer\\\\\\\\\\\\\"},{\\\\\\\\\\\\\"count\\\\\\\\\\\\\":189,\\\\\\\\\\\\\"firstSeen\\\\\\\\\\\\\":\\\\\\\\\\\\\"2024-05-10 00:33:48\\\\\\\\\\\\\",\\\\\\\\\\\\\"isValid\\\\\\\\\\\\\":true,\\\\\\\\\\\\\"lastSeen\\\\\\\\\\\\\":\\\\\\\\\\\\\"2024-05-20 12:37:43\\\\\\\\\\\\\",\\\\\\\\\\\\\"sources\\\\\\\\\\\\\":[\\\\\\\\\\\\\"Internal\\\\\\\\\\\\\"],\\\\\\\\\\\\\"tags\\\\\\\\\\\\\":[\\\\\\\\\\\\\"DoS\\\\\\\\\\\\\",\\\\\\\\\\\\\"D-Link\\\\\\\\\\\\\",\\\\\\\\\\\\\"Code Execution\\\\\\\\\\\\\",\\\\\\\\\\\\\"CVE-2018-19629\\\\\\\\\\\\\",\\\\\\\\\\\\\"Cisco Prime Data Center Network Manager\\\\\\\\\\\\\",\\\\\\\\\\\\\"Hyland Perceptive Content Server\\\\\\\\\\\\\",\\\\\\\\\\\\\"CVE-2017-6639\\\\\\\\\\\\\"],\\\\\\\\\\\\\"threatType\\\\\\\\\\\\\":\\\\\\\\\\\\\"Exploit\\\\\\\\\\\\\"},{\\\\\\\\\\\\\"count\\\\\\\\\\\\\":169,\\\\\\\\\\\\\"firstSeen\\\\\\\\\\\\\":\\\\\\\\\\\\\"2024-05-09 22:34:19\\\\\\\\\\\\\",\\\\\\\\\\\\\"isValid\\\\\\\\\\\\\":true,\\\\\\\\\\\\\"lastSeen\\\\\\\\\\\\\":\\\\\\\\\\\\\"2024-05-20 13:26:49\\\\\\\\\\\\\",\\\\\\\\\\\\\"sources\\\\\\\\\\\\\":[\\\\\\\\\\\\\"HoneyPot\\\\\\\\\\\\\"],\\\\\\\\\\\\\"tags\\\\\\\\\\\\\":[\\\\\\\\\\\\\"HTTP\\\\\\\\\\\\\",\\\\\\\\\\\\\"WebLogic T3\\\\\\\\\\\\\"],\\\\\\\\\\\\\"threatType\\\\\\\\\\\\\":\\\\\\\\\\\\\"Scanner\\\\\\\\\\\\\"}],\\\\\\\\\\\\\"ref\\\\\\\\\\\\\":[]},\\\\\\\\\\\\\"curDomains\\\\\\\\\\\\\":[],\\\\\\\\\\\\\"genTime\\\\\\\\\\\\\":\\\\\\\\\\\\\"2024-05-30 01:21:03\\\\\\\\\\\\\",\\\\\\\\\\\\\"geoCn\\\\\\\\\\\\\":{\\\\\\\\\\\\\"city\\\\\\\\\\\\\":\\\\\\\\\\\\\"纽伦堡\\\\\\\\\\\\\",\\\\\\\\\\\\\"country\\\\\\\\\\\\\":\\\\\\\\\\\\\"德国\\\\\\\\\\\\\",\\\\\\\\\\\\\"operator\\\\\\\\\\\\\":\\\\\\\\\\\\\"DigitalOcean, LLC\\\\\\\\\\\\\",\\\\\\\\\\\\\"province\\\\\\\\\\\\\":\\\\\\\\\\\\\"巴伐利亚邦\\\\\\\\\\\\\"},\\\\\\\\\\\\\"geoEn\\\\\\\\\\\\\":{\\\\\\\\\\\\\"city\\\\\\\\\\\\\":\\\\\\\\\\\\\"Nuremberg\\\\\\\\\\\\\",\\\\\\\\\\\\\"country\\\\\\\\\\\\\":\\\\\\\\\\\\\"Germany\\\\\\\\\\\\\",\\\\\\\\\\\\\"operator\\\\\\\\\\\\\":\\\\\\\\\\\\\"DigitalOcean, LLC\\\\\\\\\\\\\",\\\\\\\\\\\\\"province\\\\\\\\\\\\\":\\\\\\\\\\\\\"Bayern\\\\\\\\\\\\\"},\\\\\\\\\\\\\"hit\\\\\\\\\\\\\":true,\\\\\\\\\\\\\"info\\\\\\\\\\\\\":[],\\\\\\\\\\\\\"key\\\\\\\\\\\\\":\\\\\\\\\\\\\"164.92.160.135\\\\\\\\\\\\\",\\\\\\\\\\\\\"result\\\\\\\\\\\\\":\\\\\\\\\\\\\"Malicious\\\\\\\\\\\\\",\\\\\\\\\\\\\"risk\\\\\\\\\\\\\":65,\\\\\\\\\\\\\"tags\\\\\\\\\\\\\":[\\\\\\\\\\\\\"Tool\\\\\\\\\\\\\",\\\\\\\\\\\\\"DoS\\\\\\\\\\\\\",\\\\\\\\\\\\\"CVE-2018-19629\\\\\\\\\\\\\",\\\\\\\\\\\\\"Telnet\\\\\\\\\\\\\",\\\\\\\\\\\\\"SMTP\\\\\\\\\\\\\",\\\\\\\\\\\\\"CVE-2017-6639\\\\\\\\\\\\\",\\\\\\\\\\\\\"WebLogic T3\\\\\\\\\\\\\",\\\\\\\\\\\\\"HTTP\\\\\\\\\\\\\",\\\\\\\\\\\\\"SIP\\\\\\\\\\\\\",\\\\\\\\\\\\\"Code Execution\\\\\\\\\\\\\",\\\\\\\\\\\\\"RDP\\\\\\\\\\\\\",\\\\\\\\\\\\\"Cisco Prime Data Center Network Manager\\\\\\\\\\\\\",\\\\\\\\\\\\\"D-Link\\\\\\\\\\\\\",\\\\\\\\\\\\\"FTP\\\\\\\\\\\\\",\\\\\\\\\\\\\"Nmap\\\\\\\\\\\\\",\\\\\\\\\\\\\"SSH\\\\\\\\\\\\\",\\\\\\\\\\\\\"Info Disclosure\\\\\\\\\\\\\",\\\\\\\\\\\\\"Hyland Perceptive Content Server\\\\\\\\\\\\\"],\\\\\\\\\\\\\"threats\\\\\\\\\\\\\":[\\\\\\\\\\\\\"Scanner\\\\\\\\\\\\\",\\\\\\\\\\\\\"Exploit\\\\\\\\\\\\\",\\\\\\\\\\\\\"IDC\\\\\\\\\\\\\",\\\\\\\\\\\\\"Attacker\\\\\\\\\\\\\",\\\\\\\\\\\\\"Bruteforcer\\\\\\\\\\\\\"],\\\\\\\\\\\\\"type\\\\\\\\\\\\\":1}\\\\\"}],\\\\\"ioc\\\\\":[]}},{\\\\\"15.197.130.221\\\\\":{\\\\\"baseInfo\\\\\":{\\\\\"ipLocation\\\\\":{\\\\\"continent\\\\\":\\\\\"北美洲\\\\\",\\\\\"owner\\\\\":\\\\\"亚马逊\\\\\",\\\\\"country\\\\\":\\\\\"美国\\\\\",\\\\\"adcode\\\\\":\\\\\"\\\\\",\\\\\"city\\\\\":\\\\\"\\\\\",\\\\\"timezone\\\\\":\\\\\"UTC-6\\\\\",\\\\\"isp\\\\\":\\\\\"亚马逊\\\\\",\\\\\"accuracy\\\\\":\\\\\"国家\\\\\",\\\\\"source\\\\\":\\\\\"数据挖掘\\\\\",\\\\\"asnumber\\\\\":\\\\\"16509\\\\\",\\\\\"areacode\\\\\":\\\\\"US\\\\\",\\\\\"zipcode\\\\\":\\\\\"\\\\\",\\\\\"lngwgs\\\\\":\\\\\"-101.407912\\\\\",\\\\\"province\\\\\":\\\\\"\\\\\",\\\\\"district\\\\\":\\\\\"\\\\\",\\\\\"latwgs\\\\\":\\\\\"39.765054\\\\\",\\\\\"radius\\\\\":\\\\\"\\\\\",\\\\\"networkType\\\\\":\\\\\"任播地址\\\\\"}},\\\\\"original\\\\\":[],\\\\\"ioc\\\\\":[]}}],\\\\\"global\\\\\":{\\\\\"content-length\\\\\":\\\\\"29\\\\\",\\\\\"gw-timestamp\\\\\":\\\\\"1717070299199\\\\\",\\\\\"x-forwarded-for\\\\\":\\\\\"172.22.102.61\\\\\",\\\\\"body\\\\\":{\\\\\"ipList\\\\\":[\\\\\"15.197.130.221\\\\\"]},\\\\\"url\\\\\":{},\\\\\"pragma\\\\\":\\\\\"no-cache\\\\\",\\\\\"accept\\\\\":\\\\\"text/html,application/json,application/xhtml+xml,application/xml;q=0.9,*/*;q=0.8\\\\\",\\\\\"x-real-ip\\\\\":\\\\\"172.22.102.61\\\\\",\\\\\"gw-client-id\\\\\":\\\\\"LLM-Agent\\\\\",\\\\\"toJson\\\\\":{},\\\\\"toMD5\\\\\":{},\\\\\"host\\\\\":\\\\\"172.22.102.61:8990\\\\\",\\\\\"gw-sign\\\\\":\\\\\"da6778680bdc3b5acd9f50c15c725744\\\\\",\\\\\"header\\\\\":{\\\\\"host\\\\\":\\\\\"172.22.102.61:8990\\\\\",\\\\\"x-real-ip\\\\\":\\\\\"172.22.102.61\\\\\",\\\\\"x-forwarded-for\\\\\":\\\\\"172.22.102.61\\\\\",\\\\\"connection\\\\\":\\\\\"close\\\\\",\\\\\"content-length\\\\\":\\\\\"29\\\\\",\\\\\"gw-client-id\\\\\":\\\\\"LLM-Agent\\\\\",\\\\\"gw-timestamp\\\\\":\\\\\"1717070299199\\\\\",\\\\\"accept\\\\\":\\\\\"text/html,application/json,application/xhtml+xml,application/xml;q=0.9,*/*;q=0.8\\\\\",\\\\\"user-agent\\\\\":\\\\\"Mozilla/5.0 (Windows NT 10.0; Win64; x64) AppleWebKit/537.36 (KHTML, like Gecko) Chrome/75.0.3770.142 Safari/537.36 Hutool\\\\\",\\\\\"gw-sign\\\\\":\\\\\"da6778680bdc3b5acd9f50c15c725744\\\\\",\\\\\"accept-encoding\\\\\":\\\\\"gzip, deflate\\\\\",\\\\\"content-type\\\\\":\\\\\"application/json;charset=UTF-8\\\\\",\\\\\"cache-control\\\\\":\\\\\"no-cache\\\\\",\\\\\"pragma\\\\\":\\\\\"no-cache\\\\\"},\\\\\"connection\\\\\":\\\\\"close\\\\\",\\\\\"content-type\\\\\":\\\\\"application/json;charset=UTF-8\\\\\",\\\\\"cache-control\\\\\":\\\\\"no-cache\\\\\",\\\\\"accept-encoding\\\\\":\\\\\"gzip, deflate\\\\\",\\\\\"ipList\\\\\":[\\\\\"15.197.130.221\\\\\"],\\\\\"user-agent\\\\\":\\\\\"Mozilla/5.0 (Windows NT 10.0; Win64; x64) AppleWebKit/537.36 (KHTML, like Gecko) Chrome/75.0.3770.142 Safari/537.36 Hutool\\\\\"}}}\",\"msg\":\"\"}', 'node_exe_cost': '2.587s', 'raw_output': '', 'extra': '', 'token_and_cost': {'input_tokens': '20 Tokens', 'input_cost': '$0.0', 'output_tokens': '3363 Tokens', 'output_cost': '$0.0', 'total_tokens': '3383 Tokens', 'total_cost': '$0.0'}}, {'node_id': 'LLMID', 'node_type': 'LLM', 'node_name': '', 'node_status': 'SUCCESS', 'error_info': '', 'input': '{\"ip_info\": \"{\\\\\"msg\\\\\":\\\\\"操作成功\\\\\",\\\\\"code\\\\\":200,\\\\\"data\\\\\":{\\\\\"msg\\\\\":\\\\\"查询成功\\\\\",\\\\\"code\\\\\":200,\\\\\"data\\\\\":[{\\\\\"15.197.130.221\\\\\":{\\\\\"baseInfo\\\\\":{\\\\\"ipLocation\\\\\":{\\\\\"continent\\\\\":\\\\\"北美洲\\\\\",\\\\\"owner\\\\\":\\\\\"亚马逊\\\\\",\\\\\"country\\\\\":\\\\\"美国\\\\\",\\\\\"adcode\\\\\":\\\\\"\\\\\",\\\\\"city\\\\\":\\\\\"\\\\\",\\\\\"timezone\\\\\":\\\\\"UTC-6\\\\\",\\\\\"isp\\\\\":\\\\\"亚马逊\\\\\",\\\\\"accuracy\\\\\":\\\\\"国家\\\\\",\\\\\"source\\\\\":\\\\\"数据挖掘\\\\\",\\\\\"asnumber\\\\\":\\\\\"16509\\\\\",\\\\\"areacode\\\\\":\\\\\"US\\\\\",\\\\\"zipcode\\\\\":\\\\\"\\\\\",\\\\\"lngwgs\\\\\":\\\\\"-101.407912\\\\\",\\\\\"province\\\\\":\\\\\"\\\\\",\\\\\"district\\\\\":\\\\\"\\\\\",\\\\\"latwgs\\\\\":\\\\\"39.765054\\\\\",\\\\\"radius\\\\\":\\\\\"\\\\\",\\\\\"networkType\\\\\":\\\\\"任播地址\\\\\"}},\\\\\"original\\\\\":[{\\\\\"discoverTime\\\\\":\\\\\"2024-01-28 12:30:30\\\\\",\\\\\"updateTime\\\\\":\\\\\"2024-04-02 14:45:43\\\\\",\\\\\"tag\\\\\":\\\\\"known attacker\\\\\",\\\\\"source\\\\\":\\\\\"信通院\\\\\",\\\\\"sourceOriginalData\\\\\":\\\\\"{\\\\\\\\\\\\\"status\\\\\\\\\\\\\":200,\\\\\\\\\\\\\"msg\\\\\\\\\\\\\":\\\\\\\\\\\\\"成功\\\\\\\\\\\\\",\\\\\\\\\\\\\"consumeTime\\\\\\\\\\\\\":\\\\\\\\\\\\\"1.1s\\\\\\\\\\\\\",\\\\\\\\\\\\\"data\\\\\\\\\\\\\":[{\\\\\\\\\\\\\"id\\\\\\\\\\\\\":\\\\\\\\\\\\\"349e7b1f06426bc4e37c582ba98262f9\\\\\\\\\\\\\",\\\\\\\\\\\\\"value\\\\\\\\\\\\\":\\\\\\\\\\\\\"15.197.130.221\\\\\\\\\\\\\",\\\\\\\\\\\\\"threatLevel\\\\\\\\\\\\\":2,\\\\\\\\\\\\\"groupId\\\\\\\\\\\\\":\\\\\\\\\\\\\"\\\\\\\\\\\\\",\\\\\\\\\\\\\"groupName\\\\\\\\\\\\\":\\\\\\\\\\\\\"\\\\\\\\\\\\\",\\\\\\\\\\\\\"useEnable\\\\\\\\\\\\\":1,\\\\\\\\\\\\\"expiryEnable\\\\\\\\\\\\\":1,\\\\\\\\\\\\\"expiryTime\\\\\\\\\\\\\":\\\\\\\\\\\\\"2026-01-28 12:30:30\\\\\\\\\\\\\",\\\\\\\\\\\\\"dataTag\\\\\\\\\\\\\":\\\\\\\\\\\\\"known attacker\\\\\\\\\\\\\",\\\\\\\\\\\\\"totalCount\\\\\\\\\\\\\":0,\\\\\\\\\\\\\"afterDayCount\\\\\\\\\\\\\":0,\\\\\\\\\\\\\"createTime\\\\\\\\\\\\\":\\\\\\\\\\\\\"2024-01-28 12:30:30\\\\\\\\\\\\\",\\\\\\\\\\\\\"foundTime\\\\\\\\\\\\\":\\\\\\\\\\\\\"2024-01-28 12:30:30\\\\\\\\\\\\\",\\\\\\\\\\\\\"type\\\\\\\\\\\\\":\\\\\\\\\\\\\"IP\\\\\\\\\\\\\",\\\\\\\\\\\\\"typeCode\\\\\\\\\\\\\":1,\\\\\\\\\\\\\"address\\\\\\\\\\\\\":\\\\\\\\\\\\\"\\\\\\\\\\\\\",\\\\\\\\\\\\\"source\\\\\\\\\\\\\":\\\\\\\\\\\\\"系统内置\\\\\\\\\\\\\",\\\\\\\\\\\\\"sourceCode\\\\\\\\\\\\\":0,\\\\\\\\\\\\\"updateTime\\\\\\\\\\\\\":\\\\\\\\\\\\\"2024-04-02 14:45:43\\\\\\\\\\\\\",\\\\\\\\\\\\\"riskTag\\\\\\\\\\\\\":\\\\\\\\\\\\\"known attacker\\\\\\\\\\\\\",\\\\\\\\\\\\\"md5_32\\\\\\\\\\\\\":\\\\\\\\\\\\\"349e7b1f06426bc4e37c582ba98262f9\\\\\\\\\\\\\",\\\\\\\\\\\\\"md5_16\\\\\\\\\\\\\":\\\\\\\\\\\\\"06426bc4e37c582b\\\\\\\\\\\\\"}],\\\\\\\\\\\\\"total\\\\\\\\\\\\\":1,\\\\\\\\\\\\\"keyTotal\\\\\\\\\\\\\":0,\\\\\\\\\\\\\"realTotal\\\\\\\\\\\\\":1}\\\\\"}],\\\\\"ioc\\\\\":[]}},{\\\\\"164.92.160.135\\\\\":{\\\\\"baseInfo\\\\\":{\\\\\"ipLocation\\\\\":{\\\\\"continent\\\\\":\\\\\"欧洲\\\\\",\\\\\"owner\\\\\":\\\\\"DigitalOcean, LLC\\\\\",\\\\\"country\\\\\":\\\\\"德国\\\\\",\\\\\"adcode\\\\\":\\\\\"\\\\\",\\\\\"city\\\\\":\\\\\"纽伦堡\\\\\",\\\\\"timezone\\\\\":\\\\\"UTC+1\\\\\",\\\\\"isp\\\\\":\\\\\"DigitalOcean, LLC\\\\\",\\\\\"accuracy\\\\\":\\\\\"城市\\\\\",\\\\\"source\\\\\":\\\\\"数据挖掘\\\\\",\\\\\"asnumber\\\\\":\\\\\"14061\\\\\",\\\\\"areacode\\\\\":\\\\\"DE\\\\\",\\\\\"zipcode\\\\\":\\\\\"90429\\\\\",\\\\\"lngwgs\\\\\":\\\\\"11.064260\\\\\",\\\\\"province\\\\\":\\\\\"巴伐利亚邦\\\\\",\\\\\"district\\\\\":\\\\\"\\\\\",\\\\\"latwgs\\\\\":\\\\\"49.451525\\\\\",\\\\\"radius\\\\\":\\\\\"\\\\\"}},\\\\\"original\\\\\":[{\\\\\"discoverTime\\\\\":\\\\\"2024-05-09 22:34:19\\\\\",\\\\\"updateTime\\\\\":\\\\\"2024-05-22 11:05:29\\\\\",\\\\\"tag\\\\\":\\\\\"Tool,DoS,CVE-2018-19629,Telnet,SMTP,CVE-2017-6639,WebLogic T3,HTTP,SIP,Code Execution,RDP,Cisco Prime Data Center Network Manager,D-Link,FTP,Nmap,SSH,Info Disclosure,Hyland Perceptive Content Server\\\\\",\\\\\"source\\\\\":\\\\\"华为乾坤\\\\\",\\\\\"sourceOriginalData\\\\\":\\\\\"{\\\\\\\\\\\\\"confidence\\\\\\\\\\\\\":95,\\\\\\\\\\\\\"context\\\\\\\\\\\\\":{\\\\\\\\\\\\\"attackGroup\\\\\\\\\\\\\":[],\\\\\\\\\\\\\"histThreats\\\\\\\\\\\\\":[{\\\\\\\\\\\\\"count\\\\\\\\\\\\\":658,\\\\\\\\\\\\\"firstSeen\\\\\\\\\\\\\":\\\\\\\\\\\\\"2024-05-09 23:51:06\\\\\\\\\\\\\",\\\\\\\\\\\\\"isValid\\\\\\\\\\\\\":true,\\\\\\\\\\\\\"lastSeen\\\\\\\\\\\\\":\\\\\\\\\\\\\"2024-05-20 13:39:46\\\\\\\\\\\\\",\\\\\\\\\\\\\"sources\\\\\\\\\\\\\":[\\\\\\\\\\\\\"OSINT\\\\\\\\\\\\\",\\\\\\\\\\\\\"Internal\\\\\\\\\\\\\"],\\\\\\\\\\\\\"tags\\\\\\\\\\\\\":[\\\\\\\\\\\\\"Tool\\\\\\\\\\\\\",\\\\\\\\\\\\\"Nmap\\\\\\\\\\\\\"],\\\\\\\\\\\\\"threatType\\\\\\\\\\\\\":\\\\\\\\\\\\\"Attacker\\\\\\\\\\\\\"},{\\\\\\\\\\\\\"count\\\\\\\\\\\\\":13,\\\\\\\\\\\\\"firstSeen\\\\\\\\\\\\\":\\\\\\\\\\\\\"2024-05-11 09:57:17\\\\\\\\\\\\\",\\\\\\\\\\\\\"isValid\\\\\\\\\\\\\":true,\\\\\\\\\\\\\"lastSeen\\\\\\\\\\\\\":\\\\\\\\\\\\\"2024-05-22 11:05:29\\\\\\\\\\\\\",\\\\\\\\\\\\\"sources\\\\\\\\\\\\\":[\\\\\\\\\\\\\"HoneyPot\\\\\\\\\\\\\",\\\\\\\\\\\\\"OSINT\\\\\\\\\\\\\"],\\\\\\\\\\\\\"tags\\\\\\\\\\\\\":[\\\\\\\\\\\\\"HTTP\\\\\\\\\\\\\",\\\\\\\\\\\\\"FTP\\\\\\\\\\\\\",\\\\\\\\\\\\\"Telnet\\\\\\\\\\\\\",\\\\\\\\\\\\\"SMTP\\\\\\\\\\\\\"],\\\\\\\\\\\\\"threatType\\\\\\\\\\\\\":\\\\\\\\\\\\\"Bruteforcer\\\\\\\\\\\\\"},{\\\\\\\\\\\\\"count\\\\\\\\\\\\\":189,\\\\\\\\\\\\\"firstSeen\\\\\\\\\\\\\":\\\\\\\\\\\\\"2024-05-10 00:33:48\\\\\\\\\\\\\",\\\\\\\\\\\\\"isValid\\\\\\\\\\\\\":true,\\\\\\\\\\\\\"lastSeen\\\\\\\\\\\\\":\\\\\\\\\\\\\"2024-05-20 12:37:43\\\\\\\\\\\\\",\\\\\\\\\\\\\"sources\\\\\\\\\\\\\":[\\\\\\\\\\\\\"Internal\\\\\\\\\\\\\"],\\\\\\\\\\\\\"tags\\\\\\\\\\\\\":[\\\\\\\\\\\\\"DoS\\\\\\\\\\\\\",\\\\\\\\\\\\\"D-Link\\\\\\\\\\\\\",\\\\\\\\\\\\\"Code Execution\\\\\\\\\\\\\",\\\\\\\\\\\\\"CVE-2018-19629\\\\\\\\\\\\\",\\\\\\\\\\\\\"Cisco Prime Data Center Network Manager\\\\\\\\\\\\\",\\\\\\\\\\\\\"Hyland Perceptive Content Server\\\\\\\\\\\\\",\\\\\\\\\\\\\"CVE-2017-6639\\\\\\\\\\\\\"],\\\\\\\\\\\\\"threatType\\\\\\\\\\\\\":\\\\\\\\\\\\\"Exploit\\\\\\\\\\\\\"},{\\\\\\\\\\\\\"count\\\\\\\\\\\\\":169,\\\\\\\\\\\\\"firstSeen\\\\\\\\\\\\\":\\\\\\\\\\\\\"2024-05-09 22:34:19\\\\\\\\\\\\\",\\\\\\\\\\\\\"isValid\\\\\\\\\\\\\":true,\\\\\\\\\\\\\"lastSeen\\\\\\\\\\\\\":\\\\\\\\\\\\\"2024-05-20 13:26:49\\\\\\\\\\\\\",\\\\\\\\\\\\\"sources\\\\\\\\\\\\\":[\\\\\\\\\\\\\"HoneyPot\\\\\\\\\\\\\"],\\\\\\\\\\\\\"tags\\\\\\\\\\\\\":[\\\\\\\\\\\\\"HTTP\\\\\\\\\\\\\",\\\\\\\\\\\\\"WebLogic T3\\\\\\\\\\\\\"],\\\\\\\\\\\\\"threatType\\\\\\\\\\\\\":\\\\\\\\\\\\\"Scanner\\\\\\\\\\\\\"}],\\\\\\\\\\\\\"ref\\\\\\\\\\\\\":[]},\\\\\\\\\\\\\"curDomains\\\\\\\\\\\\\":[],\\\\\\\\\\\\\"genTime\\\\\\\\\\\\\":\\\\\\\\\\\\\"2024-05-30 01:21:03\\\\\\\\\\\\\",\\\\\\\\\\\\\"geoCn\\\\\\\\\\\\\":{\\\\\\\\\\\\\"city\\\\\\\\\\\\\":\\\\\\\\\\\\\"纽伦堡\\\\\\\\\\\\\",\\\\\\\\\\\\\"country\\\\\\\\\\\\\":\\\\\\\\\\\\\"德国\\\\\\\\\\\\\",\\\\\\\\\\\\\"operator\\\\\\\\\\\\\":\\\\\\\\\\\\\"DigitalOcean, LLC\\\\\\\\\\\\\",\\\\\\\\\\\\\"province\\\\\\\\\\\\\":\\\\\\\\\\\\\"巴伐利亚邦\\\\\\\\\\\\\"},\\\\\\\\\\\\\"geoEn\\\\\\\\\\\\\":{\\\\\\\\\\\\\"city\\\\\\\\\\\\\":\\\\\\\\\\\\\"Nuremberg\\\\\\\\\\\\\",\\\\\\\\\\\\\"country\\\\\\\\\\\\\":\\\\\\\\\\\\\"Germany\\\\\\\\\\\\\",\\\\\\\\\\\\\"operator\\\\\\\\\\\\\":\\\\\\\\\\\\\"DigitalOcean, LLC\\\\\\\\\\\\\",\\\\\\\\\\\\\"province\\\\\\\\\\\\\":\\\\\\\\\\\\\"Bayern\\\\\\\\\\\\\"},\\\\\\\\\\\\\"hit\\\\\\\\\\\\\":true,\\\\\\\\\\\\\"info\\\\\\\\\\\\\":[],\\\\\\\\\\\\\"key\\\\\\\\\\\\\":\\\\\\\\\\\\\"164.92.160.135\\\\\\\\\\\\\",\\\\\\\\\\\\\"result\\\\\\\\\\\\\":\\\\\\\\\\\\\"Malicious\\\\\\\\\\\\\",\\\\\\\\\\\\\"risk\\\\\\\\\\\\\":65,\\\\\\\\\\\\\"tags\\\\\\\\\\\\\":[\\\\\\\\\\\\\"Tool\\\\\\\\\\\\\",\\\\\\\\\\\\\"DoS\\\\\\\\\\\\\",\\\\\\\\\\\\\"CVE-2018-19629\\\\\\\\\\\\\",\\\\\\\\\\\\\"Telnet\\\\\\\\\\\\\",\\\\\\\\\\\\\"SMTP\\\\\\\\\\\\\",\\\\\\\\\\\\\"CVE-2017-6639\\\\\\\\\\\\\",\\\\\\\\\\\\\"WebLogic T3\\\\\\\\\\\\\",\\\\\\\\\\\\\"HTTP\\\\\\\\\\\\\",\\\\\\\\\\\\\"SIP\\\\\\\\\\\\\",\\\\\\\\\\\\\"Code Execution\\\\\\\\\\\\\",\\\\\\\\\\\\\"RDP\\\\\\\\\\\\\",\\\\\\\\\\\\\"Cisco Prime Data Center Network Manager\\\\\\\\\\\\\",\\\\\\\\\\\\\"D-Link\\\\\\\\\\\\\",\\\\\\\\\\\\\"FTP\\\\\\\\\\\\\",\\\\\\\\\\\\\"Nmap\\\\\\\\\\\\\",\\\\\\\\\\\\\"SSH\\\\\\\\\\\\\",\\\\\\\\\\\\\"Info Disclosure\\\\\\\\\\\\\",\\\\\\\\\\\\\"Hyland Perceptive Content Server\\\\\\\\\\\\\"],\\\\\\\\\\\\\"threats\\\\\\\\\\\\\":[\\\\\\\\\\\\\"Scanner\\\\\\\\\\\\\",\\\\\\\\\\\\\"Exploit\\\\\\\\\\\\\",\\\\\\\\\\\\\"IDC\\\\\\\\\\\\\",\\\\\\\\\\\\\"Attacker\\\\\\\\\\\\\",\\\\\\\\\\\\\"Bruteforcer\\\\\\\\\\\\\"],\\\\\\\\\\\\\"type\\\\\\\\\\\\\":1}\\\\\"},{\\\\\"tag\\\\\":\\\\\"网络蜜罐,WebLogic漏洞利用,Nginx蜜罐攻击,致远OA蜜罐攻击,常规蜜罐攻击,漏洞利用\\\\\",\\\\\"source\\\\\":\\\\\"腾讯\\\\\",\\\\\"sourceOriginalData\\\\\":\\\\\"{\\\\\\\\\\\\\"compromise\\\\\\\\\\\\\":{\\\\\\\\\\\\\"data\\\\\\\\\\\\\":{\\\\\\\\\\\\\"ips\\\\\\\\\\\\\":{\\\\\\\\\\\\\"164.92.160.135\\\\\\\\\\\\\":{\\\\\\\\\\\\\"result\\\\\\\\\\\\\":\\\\\\\\\\\\\"\\\\\\\\\\\\\",\\\\\\\\\\\\\"groups\\\\\\\\\\\\\":[],\\\\\\\\\\\\\"tags\\\\\\\\\\\\\":[],\\\\\\\\\\\\\"threat_level\\\\\\\\\\\\\":0,\\\\\\\\\\\\\"threat_type\\\\\\\\\\\\\":[],\\\\\\\\\\\\\"ttps\\\\\\\\\\\\\":[]}},\\\\\\\\\\\\\"domains\\\\\\\\\\\\\":{}},\\\\\\\\\\\\\"return_code\\\\\\\\\\\\\":0,\\\\\\\\\\\\\"return_msg\\\\\\\\\\\\\":\\\\\\\\\\\\\"success\\\\\\\\\\\\\",\\\\\\\\\\\\\"ver\\\\\\\\\\\\\":\\\\\\\\\\\\\"2.0\\\\\\\\\\\\\"},\\\\\\\\\\\\\"ipIngress\\\\\\\\\\\\\":{\\\\\\\\\\\\\"groups\\\\\\\\\\\\\":[],\\\\\\\\\\\\\"result\\\\\\\\\\\\\":\\\\\\\\\\\\\"black\\\\\\\\\\\\\",\\\\\\\\\\\\\"return_code\\\\\\\\\\\\\":0,\\\\\\\\\\\\\"return_msg\\\\\\\\\\\\\":\\\\\\\\\\\\\"success\\\\\\\\\\\\\",\\\\\\\\\\\\\"status\\\\\\\\\\\\\":\\\\\\\\\\\\\"inactive\\\\\\\\\\\\\",\\\\\\\\\\\\\"tags\\\\\\\\\\\\\":[\\\\\\\\\\\\\"Nginx蜜罐攻击\\\\\\\\\\\\\",\\\\\\\\\\\\\"WebLogic漏洞利用\\\\\\\\\\\\\",\\\\\\\\\\\\\"常规蜜罐攻击\\\\\\\\\\\\\",\\\\\\\\\\\\\"致远OA蜜罐攻击\\\\\\\\\\\\\"],\\\\\\\\\\\\\"threat_level\\\\\\\\\\\\\":3,\\\\\\\\\\\\\"threat_type\\\\\\\\\\\\\":[\\\\\\\\\\\\\"漏洞利用\\\\\\\\\\\\\",\\\\\\\\\\\\\"网络蜜罐\\\\\\\\\\\\\"],\\\\\\\\\\\\\"ttps\\\\\\\\\\\\\":[],\\\\\\\\\\\\\"ver\\\\\\\\\\\\\":\\\\\\\\\\\\\"2.0\\\\\\\\\\\\\"}}\\\\\"}],\\\\\"ioc\\\\\":[]}},{\\\\\"95.45.50.93\\\\\":{\\\\\"baseInfo\\\\\":{\\\\\"ipLocation\\\\\":{\\\\\"continent\\\\\":\\\\\"欧洲\\\\\",\\\\\"owner\\\\\":\\\\\"Eircom Limited\\\\\",\\\\\"country\\\\\":\\\\\"爱尔兰\\\\\",\\\\\"adcode\\\\\":\\\\\"\\\\\",\\\\\"city\\\\\":\\\\\"都柏林\\\\\",\\\\\"timezone\\\\\":\\\\\"UTC+1\\\\\",\\\\\"isp\\\\\":\\\\\"Eircom Limited\\\\\",\\\\\"accuracy\\\\\":\\\\\"城市\\\\\",\\\\\"source\\\\\":\\\\\"数据挖掘\\\\\",\\\\\"asnumber\\\\\":\\\\\"5466\\\\\",\\\\\"areacode\\\\\":\\\\\"IE\\\\\",\\\\\"zipcode\\\\\":\\\\\"D01\\\\\",\\\\\"lngwgs\\\\\":\\\\\"-6.260246\\\\\",\\\\\"province\\\\\":\\\\\"都柏林郡\\\\\",\\\\\"district\\\\\":\\\\\"\\\\\",\\\\\"latwgs\\\\\":\\\\\"53.349764\\\\\",\\\\\"radius\\\\\":\\\\\"\\\\\"}},\\\\\"original\\\\\":[{\\\\\"discoverTime\\\\\":\\\\\"2023-05-25 21:23:41\\\\\",\\\\\"updateTime\\\\\":\\\\\"2023-08-23 12:36:41\\\\\",\\\\\"tag\\\\\":\\\\\"Trojan,Qakbot\\\\\",\\\\\"source\\\\\":\\\\\"华为乾坤\\\\\",\\\\\"sourceOriginalData\\\\\":\\\\\"{\\\\\\\\\\\\\"confidence\\\\\\\\\\\\\":52,\\\\\\\\\\\\\"context\\\\\\\\\\\\\":{\\\\\\\\\\\\\"attackGroup\\\\\\\\\\\\\":[],\\\\\\\\\\\\\"histThreats\\\\\\\\\\\\\":[{\\\\\\\\\\\\\"count\\\\\\\\\\\\\":2004,\\\\\\\\\\\\\"firstSeen\\\\\\\\\\\\\":\\\\\\\\\\\\\"2023-05-25 21:23:41\\\\\\\\\\\\\",\\\\\\\\\\\\\"isValid\\\\\\\\\\\\\":true,\\\\\\\\\\\\\"lastSeen\\\\\\\\\\\\\":\\\\\\\\\\\\\"2023-08-23 12:36:41\\\\\\\\\\\\\",\\\\\\\\\\\\\"sources\\\\\\\\\\\\\":[\\\\\\\\\\\\\"OSINT\\\\\\\\\\\\\"],\\\\\\\\\\\\\"tags\\\\\\\\\\\\\":[\\\\\\\\\\\\\"Trojan\\\\\\\\\\\\\",\\\\\\\\\\\\\"Qakbot\\\\\\\\\\\\\"],\\\\\\\\\\\\\"threatType\\\\\\\\\\\\\":\\\\\\\\\\\\\"CnC\\\\\\\\\\\\\"}],\\\\\\\\\\\\\"ref\\\\\\\\\\\\\":[]},\\\\\\\\\\\\\"curDomains\\\\\\\\\\\\\":[],\\\\\\\\\\\\\"genTime\\\\\\\\\\\\\":\\\\\\\\\\\\\"2024-05-30 01:21:03\\\\\\\\\\\\\",\\\\\\\\\\\\\"geoCn\\\\\\\\\\\\\":{\\\\\\\\\\\\\"city\\\\\\\\\\\\\":\\\\\\\\\\\\\"都柏林\\\\\\\\\\\\\",\\\\\\\\\\\\\"country\\\\\\\\\\\\\":\\\\\\\\\\\\\"爱尔兰\\\\\\\\\\\\\",\\\\\\\\\\\\\"operator\\\\\\\\\\\\\":\\\\\\\\\\\\\"Eircom Limited\\\\\\\\\\\\\",\\\\\\\\\\\\\"province\\\\\\\\\\\\\":\\\\\\\\\\\\\"都柏林郡\\\\\\\\\\\\\"},\\\\\\\\\\\\\"geoEn\\\\\\\\\\\\\":{\\\\\\\\\\\\\"city\\\\\\\\\\\\\":\\\\\\\\\\\\\"Dublin\\\\\\\\\\\\\",\\\\\\\\\\\\\"country\\\\\\\\\\\\\":\\\\\\\\\\\\\"Ireland\\\\\\\\\\\\\",\\\\\\\\\\\\\"operator\\\\\\\\\\\\\":\\\\\\\\\\\\\"Eircom Limited\\\\\\\\\\\\\",\\\\\\\\\\\\\"province\\\\\\\\\\\\\":\\\\\\\\\\\\\"Dublin\\\\\\\\\\\\\"},\\\\\\\\\\\\\"hit\\\\\\\\\\\\\":true,\\\\\\\\\\\\\"info\\\\\\\\\\\\\":[],\\\\\\\\\\\\\"key\\\\\\\\\\\\\":\\\\\\\\\\\\\"95.45.50.93\\\\\\\\\\\\\",\\\\\\\\\\\\\"result\\\\\\\\\\\\\":\\\\\\\\\\\\\"Suspicious\\\\\\\\\\\\\",\\\\\\\\\\\\\"risk\\\\\\\\\\\\\":90,\\\\\\\\\\\\\"tags\\\\\\\\\\\\\":[\\\\\\\\\\\\\"Trojan\\\\\\\\\\\\\",\\\\\\\\\\\\\"Qakbot\\\\\\\\\\\\\"],\\\\\\\\\\\\\"threats\\\\\\\\\\\\\":[\\\\\\\\\\\\\"IDC\\\\\\\\\\\\\",\\\\\\\\\\\\\"CnC\\\\\\\\\\\\\"],\\\\\\\\\\\\\"type\\\\\\\\\\\\\":1}\\\\\"},{\\\\\"discoverTime\\\\\":\\\\\"2023-11-14 10:08:08\\\\\",\\\\\"updateTime\\\\\":\\\\\"2023-11-14 10:08:08\\\\\",\\\\\"tag\\\\\":\\\\\"远控木马,网络扫描,常规网络扫描\\\\\",\\\\\"source\\\\\":\\\\\"腾讯\\\\\",\\\\\"sourceOriginalData\\\\\":\\\\\"{\\\\\\\\\\\\\"compromise\\\\\\\\\\\\\":{\\\\\\\\\\\\\"data\\\\\\\\\\\\\":{\\\\\\\\\\\\\"ips\\\\\\\\\\\\\":{\\\\\\\\\\\\\"95.45.50.93\\\\\\\\\\\\\":{\\\\\\\\\\\\\"result\\\\\\\\\\\\\":\\\\\\\\\\\\\"suspicious\\\\\\\\\\\\\",\\\\\\\\\\\\\"groups\\\\\\\\\\\\\":[],\\\\\\\\\\\\\"tags\\\\\\\\\\\\\":[\\\\\\\\\\\\\"远控木马\\\\\\\\\\\\\"],\\\\\\\\\\\\\"threat_level\\\\\\\\\\\\\":4,\\\\\\\\\\\\\"threat_type\\\\\\\\\\\\\":[\\\\\\\\\\\\\"远控木马\\\\\\\\\\\\\"],\\\\\\\\\\\\\"ttps\\\\\\\\\\\\\":[]}},\\\\\\\\\\\\\"domains\\\\\\\\\\\\\":{}},\\\\\\\\\\\\\"return_code\\\\\\\\\\\\\":0,\\\\\\\\\\\\\"return_msg\\\\\\\\\\\\\":\\\\\\\\\\\\\"success\\\\\\\\\\\\\",\\\\\\\\\\\\\"ver\\\\\\\\\\\\\":\\\\\\\\\\\\\"2.0\\\\\\\\\\\\\"},\\\\\\\\\\\\\"ipIngress\\\\\\\\\\\\\":{\\\\\\\\\\\\\"groups\\\\\\\\\\\\\":[],\\\\\\\\\\\\\"result\\\\\\\\\\\\\":\\\\\\\\\\\\\"gray\\\\\\\\\\\\\",\\\\\\\\\\\\\"return_code\\\\\\\\\\\\\":0,\\\\\\\\\\\\\"return_msg\\\\\\\\\\\\\":\\\\\\\\\\\\\"success\\\\\\\\\\\\\",\\\\\\\\\\\\\"status\\\\\\\\\\\\\":\\\\\\\\\\\\\"\\\\\\\\\\\\\",\\\\\\\\\\\\\"tags\\\\\\\\\\\\\":[\\\\\\\\\\\\\"常规网络扫描\\\\\\\\\\\\\"],\\\\\\\\\\\\\"threat_level\\\\\\\\\\\\\":4,\\\\\\\\\\\\\"threat_type\\\\\\\\\\\\\":[\\\\\\\\\\\\\"网络扫描\\\\\\\\\\\\\"],\\\\\\\\\\\\\"ttps\\\\\\\\\\\\\":[],\\\\\\\\\\\\\"ver\\\\\\\\\\\\\":\\\\\\\\\\\\\"2.0\\\\\\\\\\\\\"},\\\\\\\\\\\\\"reputation\\\\\\\\\\\\\":{\\\\\\\\\\\\\"basic\\\\\\\\\\\\\":{\\\\\\\\\\\\\"carrier\\\\\\\\\\\\\":\\\\\\\\\\\\\"Eircom Limited\\\\\\\\\\\\\",\\\\\\\\\\\\\"asn\\\\\\\\\\\\\":\\\\\\\\\\\\\"5466\\\\\\\\\\\\\",\\\\\\\\\\\\\"isp\\\\\\\\\\\\\":\\\\\\\\\\\\\"Eircom Limited\\\\\\\\\\\\\",\\\\\\\\\\\\\"location\\\\\\\\\\\\\":{\\\\\\\\\\\\\"country\\\\\\\\\\\\\":\\\\\\\\\\\\\"爱尔兰\\\\\\\\\\\\\",\\\\\\\\\\\\\"province\\\\\\\\\\\\\":\\\\\\\\\\\\\"都柏林郡\\\\\\\\\\\\\",\\\\\\\\\\\\\"city\\\\\\\\\\\\\":\\\\\\\\\\\\\"都柏林\\\\\\\\\\\\\",\\\\\\\\\\\\\"lng\\\\\\\\\\\\\":\\\\\\\\\\\\\"-6.260246\\\\\\\\\\\\\",\\\\\\\\\\\\\"lat\\\\\\\\\\\\\":\\\\\\\\\\\\\"53.349764\\\\\\\\\\\\\",\\\\\\\\\\\\\"country_code\\\\\\\\\\\\\":\\\\\\\\\\\\\"\\\\\\\\\\\\\"}},\\\\\\\\\\\\\"confidence\\\\\\\\\\\\\":0,\\\\\\\\\\\\\"context\\\\\\\\\\\\\":{\\\\\\\\\\\\\"articles\\\\\\\\\\\\\":[],\\\\\\\\\\\\\"historical_domain\\\\\\\\\\\\\":[],\\\\\\\\\\\\\"black_md5_contain_ip\\\\\\\\\\\\\":[],\\\\\\\\\\\\\"black_md5_download_from_ip\\\\\\\\\\\\\":[],\\\\\\\\\\\\\"black_md5_visit_ip\\\\\\\\\\\\\":[],\\\\\\\\\\\\\"black_url_of_ip\\\\\\\\\\\\\":[]},\\\\\\\\\\\\\"first_seen\\\\\\\\\\\\\":\\\\\\\\\\\\\"2023-11-14 10:08:08\\\\\\\\\\\\\",\\\\\\\\\\\\\"groups\\\\\\\\\\\\\":[],\\\\\\\\\\\\\"intelligences\\\\\\\\\\\\\":[{\\\\\\\\\\\\\"Source\\\\\\\\\\\\\":\\\\\\\\\\\\\"Tencent Labs\\\\\\\\\\\\\",\\\\\\\\\\\\\"Stamp\\\\\\\\\\\\\":\\\\\\\\\\\\\"远控木马\\\\\\\\\\\\\",\\\\\\\\\\\\\"Time\\\\\\\\\\\\\":\\\\\\\\\\\\\"2023-11-14 10:08:08\\\\\\\\\\\\\"}],\\\\\\\\\\\\\"last_seen\\\\\\\\\\\\\":\\\\\\\\\\\\\"2023-11-14 10:08:08\\\\\\\\\\\\\",\\\\\\\\\\\\\"port\\\\\\\\\\\\\":\\\\\\\\\\\\\"\\\\\\\\\\\\\",\\\\\\\\\\\\\"profile\\\\\\\\\\\\\":[\\\\\\\\\\\\\"IDC-IP\\\\\\\\\\\\\"],\\\\\\\\\\\\\"result\\\\\\\\\\\\\":\\\\\\\\\\\\\"suspicious\\\\\\\\\\\\\",\\\\\\\\\\\\\"return_code\\\\\\\\\\\\\":0,\\\\\\\\\\\\\"return_msg\\\\\\\\\\\\\":\\\\\\\\\\\\\"success\\\\\\\\\\\\\",\\\\\\\\\\\\\"tags\\\\\\\\\\\\\":[\\\\\\\\\\\\\"远控木马\\\\\\\\\\\\\"],\\\\\\\\\\\\\"threat_class\\\\\\\\\\\\\":0,\\\\\\\\\\\\\"threat_level\\\\\\\\\\\\\":4,\\\\\\\\\\\\\"threat_type\\\\\\\\\\\\\":[\\\\\\\\\\\\\"远控木马\\\\\\\\\\\\\"],\\\\\\\\\\\\\"ttps\\\\\\\\\\\\\":[],\\\\\\\\\\\\\"url_type\\\\\\\\\\\\\":0,\\\\\\\\\\\\\"ver\\\\\\\\\\\\\":\\\\\\\\\\\\\"2.0\\\\\\\\\\\\\"}}\\\\\"}],\\\\\"ioc\\\\\":[]}}],\\\\\"global\\\\\":{\\\\\"content-length\\\\\":\\\\\"29\\\\\",\\\\\"gw-timestamp\\\\\":\\\\\"1717070302545\\\\\",\\\\\"x-forwarded-for\\\\\":\\\\\"172.22.102.61\\\\\",\\\\\"body\\\\\":{\\\\\"ipList\\\\\":[\\\\\"15.197.130.221\\\\\"]},\\\\\"url\\\\\":{},\\\\\"pragma\\\\\":\\\\\"no-cache\\\\\",\\\\\"accept\\\\\":\\\\\"text/html,application/json,application/xhtml+xml,application/xml;q=0.9,*/*;q=0.8\\\\\",\\\\\"x-real-ip\\\\\":\\\\\"172.22.102.61\\\\\",\\\\\"gw-client-id\\\\\":\\\\\"LLM-Agent\\\\\",\\\\\"toJson\\\\\":{},\\\\\"toMD5\\\\\":{},\\\\\"host\\\\\":\\\\\"172.22.102.61:8990\\\\\",\\\\\"gw-sign\\\\\":\\\\\"4c3fb20359d043826626e5cb2c04dcff\\\\\",\\\\\"header\\\\\":{\\\\\"host\\\\\":\\\\\"172.22.102.61:8990\\\\\",\\\\\"x-real-ip\\\\\":\\\\\"172.22.102.61\\\\\",\\\\\"x-forwarded-for\\\\\":\\\\\"172.22.102.61\\\\\",\\\\\"connection\\\\\":\\\\\"close\\\\\",\\\\\"content-length\\\\\":\\\\\"29\\\\\",\\\\\"gw-client-id\\\\\":\\\\\"LLM-Agent\\\\\",\\\\\"gw-timestamp\\\\\":\\\\\"1717070302545\\\\\",\\\\\"accept\\\\\":\\\\\"text/html,application/json,application/xhtml+xml,application/xml;q=0.9,*/*;q=0.8\\\\\",\\\\\"user-agent\\\\\":\\\\\"Mozilla/5.0 (Windows NT 10.0; Win64; x64) AppleWebKit/537.36 (KHTML, like Gecko) Chrome/75.0.3770.142 Safari/537.36 Hutool\\\\\",\\\\\"gw-sign\\\\\":\\\\\"4c3fb20359d043826626e5cb2c04dcff\\\\\",\\\\\"accept-encoding\\\\\":\\\\\"gzip, deflate\\\\\",\\\\\"content-type\\\\\":\\\\\"application/json;charset=UTF-8\\\\\",\\\\\"cache-control\\\\\":\\\\\"no-cache\\\\\",\\\\\"pragma\\\\\":\\\\\"no-cache\\\\\"},\\\\\"connection\\\\\":\\\\\"close\\\\\",\\\\\"content-type\\\\\":\\\\\"application/json;charset=UTF-8\\\\\",\\\\\"cache-control\\\\\":\\\\\"no-cache\\\\\",\\\\\"accept-encoding\\\\\":\\\\\"gzip, deflate\\\\\",\\\\\"ipList\\\\\":[\\\\\"15.197.130.221\\\\\"],\\\\\"user-agent\\\\\":\\\\\"Mozilla/5.0 (Windows NT 10.0; Win64; x64) AppleWebKit/537.36 (KHTML, like Gecko) Chrome/75.0.3770.142 Safari/537.36 Hutool\\\\\"}}}\"}', 'output': '{\"llm_output\": \"这个JSON数据包含了三个IP地址的详细分析：\\\\n\\\\n1. **15.197.130.221**\\\\n   - 该IP位于北美洲，属于亚马逊（Amazon）所有，位于美国，具体城市和区域信息未提供。\\\\n   - 标签为\\\\\"known attacker\\\\\"，表示这是一个已知的攻击者，来自信通院的数据，威胁级别为2。\\\\n   - 该IP记录在系统内置的安全威胁数据库中，有效期至2026年1月28日。\\\\n\\\\n2. **164.92.160.135**\\\\n   - 位于欧洲，由DigitalOcean, LLC运营，位于德国纽伦堡，有多种威胁标签，如工具攻击、DoS、WebLogic漏洞利用等，可能涉及多类型恶意活动，风险较高。\\\\n   - 来自华为乾坤的数据，威胁类型包括扫描器、exploit等。\\\\n\\\\n3. **95.45.50.93**\\\\n   - 位于欧洲爱尔兰，由Eircom Limited提供服务，都柏林，有Trojan和Qakbot相关的威胁，被标记为可疑，腾讯检测到远控木马和网络扫描行为。\\\\n   \\\\n整体上，这些IP地址都被标记为有安全风险，可能是恶意活动的目标或来源。建议进行进一步的监控和安全措施，以保护系统安全。\"}', 'node_exe_cost': '59.742s', 'raw_output': '这个JSON数据包含了三个IP地址的详细分析：\\n\\n1. **15.197.130.221**\\n   - 该IP位于北美洲，属于亚马逊（Amazon）所有，位于美国，具体城市和区域信息未提供。\\n   - 标签为\"known attacker\"，表示这是一个已知的攻击者，来自信通院的数据，威胁级别为2。\\n   - 该IP记录在系统内置的安全威胁数据库中，有效期至2026年1月28日。\\n\\n2. **164.92.160.135**\\n   - 位于欧洲，由DigitalOcean, LLC运营，位于德国纽伦堡，有多种威胁标签，如工具攻击、DoS、WebLogic漏洞利用等，可能涉及多类型恶意活动，风险较高。\\n   - 来自华为乾坤的数据，威胁类型包括扫描器、exploit等。\\n\\n3. **95.45.50.93**\\n   - 位于欧洲爱尔兰，由Eircom Limited提供服务，都柏林，有Trojan和Qakbot相关的威胁，被标记为可疑，腾讯检测到远控木马和网络扫描行为。\\n   \\n整体上，这些IP地址都被标记为有安全风险，可能是恶意活动的目标或来源。建议进行进一步的监控和安全措施，以保护系统安全。', 'extra': '', 'token_and_cost': {'input_tokens': '4167 Tokens', 'input_cost': '$0.0', 'output_tokens': '318 Tokens', 'output_cost': '$0.0', 'total_tokens': '4485 Tokens', 'total_cost': '$0.0'}}, {'node_id': 'LLMID-2', 'node_type': 'LLM', 'node_name': '', 'node_status': 'SUCCESS', 'error_info': '', 'input': '{\"role\": \"领导\"}', 'output': '{\"plan\": \"在工作中，领导者push（推动、催促）有时是必要的，因为他们可能希望确保任务按时完成或者看到更高的工作效率。然而，如果push行为变得过度或影响到了你的工作满意度和个人压力，以下是一些方法可以帮助你适度地处理并摆脱过度的push：\\\\n\\\\n1. **明确沟通**：首先，找个合适的时机，以尊重和开放的态度与领导沟通。解释你的感受，例如你可能觉得过度的压力影响了工作质量或者个人的创新空间。表明你理解他们的期望，但需要找到一个平衡点。\\\\n\\\\n2. **设定界限**：设定个人的工作节奏和优先级。告诉他们你的工作时间，以及你最高效的工作时段，这样他们能更好地理解何时是最佳的沟通和推动时间。\\\\n\\\\n3. **时间管理**：提升自己的时间管理能力，提前规划和设定目标，这样可以减少领导的催促。完成任务清单并定期更新进度，让他们看到你的主动性和责任感。\\\\n\\\\n4. **寻求支持**：如果可能，寻求团队内的支持，让其他同事分担一些工作，或者寻求同事的反馈，看看他们是否也有类似的感受。\\\\n\\\\n5. **反馈机制**：了解公司的反馈流程，如果push行为违反了公司政策，可以向上级或人力资源部门反映。\\\\n\\\\n6. **保持专业**：即使在压力下，也要保持专业，不要让情绪影响工作。保持冷静，用事实和数据支持你的观点。\\\\n\\\\n7. **寻求辅导**：如果push行为是由于领导的管理风格，可能需要寻求职业辅导，学习如何与这样的领导有效沟通和合作。\\\\n\\\\n记住，良好的工作关系是双向的，你需要表达自己的需求，同时也要尊重领导的视角。\"}', 'node_exe_cost': '44.185s', 'raw_output': '在工作中，领导者push（推动、催促）有时是必要的，因为他们可能希望确保任务按时完成或者看到更高的工作效率。然而，如果push行为变得过度或影响到了你的工作满意度和个人压力，以下是一些方法可以帮助你适度地处理并摆脱过度的push：\\n\\n1. **明确沟通**：首先，找个合适的时机，以尊重和开放的态度与领导沟通。解释你的感受，例如你可能觉得过度的压力影响了工作质量或者个人的创新空间。表明你理解他们的期望，但需要找到一个平衡点。\\n\\n2. **设定界限**：设定个人的工作节奏和优先级。告诉他们你的工作时间，以及你最高效的工作时段，这样他们能更好地理解何时是最佳的沟通和推动时间。\\n\\n3. **时间管理**：提升自己的时间管理能力，提前规划和设定目标，这样可以减少领导的催促。完成任务清单并定期更新进度，让他们看到你的主动性和责任感。\\n\\n4. **寻求支持**：如果可能，寻求团队内的支持，让其他同事分担一些工作，或者寻求同事的反馈，看看他们是否也有类似的感受。\\n\\n5. **反馈机制**：了解公司的反馈流程，如果push行为违反了公司政策，可以向上级或人力资源部门反映。\\n\\n6. **保持专业**：即使在压力下，也要保持专业，不要让情绪影响工作。保持冷静，用事实和数据支持你的观点。\\n\\n7. **寻求辅导**：如果push行为是由于领导的管理风格，可能需要寻求职业辅导，学习如何与这样的领导有效沟通和合作。\\n\\n记住，良好的工作关系是双向的，你需要表达自己的需求，同时也要尊重领导的视角。', 'extra': '', 'token_and_cost': {'input_tokens': '6 Tokens', 'input_cost': '$0.0', 'output_tokens': '370 Tokens', 'output_cost': '$0.0', 'total_tokens': '376 Tokens', 'total_cost': '$0.0'}}, {'node_id': 'EndID', 'node_type': 'End', 'node_name': '', 'node_status': 'SUCCESS', 'error_info': '', 'input': '{\"ref_llm_output\": \"这个JSON数据包含了三个IP地址的详细分析：\\\\n\\\\n1. **15.197.130.221**\\\\n   - 该IP位于北美洲，属于亚马逊（Amazon）所有，位于美国，具体城市和区域信息未提供。\\\\n   - 标签为\\\\\"known attacker\\\\\"，表示这是一个已知的攻击者，来自信通院的数据，威胁级别为2。\\\\n   - 该IP记录在系统内置的安全威胁数据库中，有效期至2026年1月28日。\\\\n\\\\n2. **164.92.160.135**\\\\n   - 位于欧洲，由DigitalOcean, LLC运营，位于德国纽伦堡，有多种威胁标签，如工具攻击、DoS、WebLogic漏洞利用等，可能涉及多类型恶意活动，风险较高。\\\\n   - 来自华为乾坤的数据，威胁类型包括扫描器、exploit等。\\\\n\\\\n3. **95.45.50.93**\\\\n   - 位于欧洲爱尔兰，由Eircom Limited提供服务，都柏林，有Trojan和Qakbot相关的威胁，被标记为可疑，腾讯检测到远控木马和网络扫描行为。\\\\n   \\\\n整体上，这些IP地址都被标记为有安全风险，可能是恶意活动的目标或来源。建议进行进一步的监控和安全措施，以保护系统安全。\", \"摆脱push的方案\": \"在工作中，领导者push（推动、催促）有时是必要的，因为他们可能希望确保任务按时完成或者看到更高的工作效率。然而，如果push行为变得过度或影响到了你的工作满意度和个人压力，以下是一些方法可以帮助你适度地处理并摆脱过度的push：\\\\n\\\\n1. **明确沟通**：首先，找个合适的时机，以尊重和开放的态度与领导沟通。解释你的感受，例如你可能觉得过度的压力影响了工作质量或者个人的创新空间。表明你理解他们的期望，但需要找到一个平衡点。\\\\n\\\\n2. **设定界限**：设定个人的工作节奏和优先级。告诉他们你的工作时间，以及你最高效的工作时段，这样他们能更好地理解何时是最佳的沟通和推动时间。\\\\n\\\\n3. **时间管理**：提升自己的时间管理能力，提前规划和设定目标，这样可以减少领导的催促。完成任务清单并定期更新进度，让他们看到你的主动性和责任感。\\\\n\\\\n4. **寻求支持**：如果可能，寻求团队内的支持，让其他同事分担一些工作，或者寻求同事的反馈，看看他们是否也有类似的感受。\\\\n\\\\n5. **反馈机制**：了解公司的反馈流程，如果push行为违反了公司政策，可以向上级或人力资源部门反映。\\\\n\\\\n6. **保持专业**：即使在压力下，也要保持专业，不要让情绪影响工作。保持冷静，用事实和数据支持你的观点。\\\\n\\\\n7. **寻求辅导**：如果push行为是由于领导的管理风格，可能需要寻求职业辅导，学习如何与这样的领导有效沟通和合作。\\\\n\\\\n记住，良好的工作关系是双向的，你需要表达自己的需求，同时也要尊重领导的视角。\"}', 'output': '{\"ref_llm_output\": \"这个JSON数据包含了三个IP地址的详细分析：\\\\n\\\\n1. **15.197.130.221**\\\\n   - 该IP位于北美洲，属于亚马逊（Amazon）所有，位于美国，具体城市和区域信息未提供。\\\\n   - 标签为\\\\\"known attacker\\\\\"，表示这是一个已知的攻击者，来自信通院的数据，威胁级别为2。\\\\n   - 该IP记录在系统内置的安全威胁数据库中，有效期至2026年1月28日。\\\\n\\\\n2. **164.92.160.135**\\\\n   - 位于欧洲，由DigitalOcean, LLC运营，位于德国纽伦堡，有多种威胁标签，如工具攻击、DoS、WebLogic漏洞利用等，可能涉及多类型恶意活动，风险较高。\\\\n   - 来自华为乾坤的数据，威胁类型包括扫描器、exploit等。\\\\n\\\\n3. **95.45.50.93**\\\\n   - 位于欧洲爱尔兰，由Eircom Limited提供服务，都柏林，有Trojan和Qakbot相关的威胁，被标记为可疑，腾讯检测到远控木马和网络扫描行为。\\\\n   \\\\n整体上，这些IP地址都被标记为有安全风险，可能是恶意活动的目标或来源。建议进行进一步的监控和安全措施，以保护系统安全。\", \"摆脱push的方案\": \"在工作中，领导者push（推动、催促）有时是必要的，因为他们可能希望确保任务按时完成或者看到更高的工作效率。然而，如果push行为变得过度或影响到了你的工作满意度和个人压力，以下是一些方法可以帮助你适度地处理并摆脱过度的push：\\\\n\\\\n1. **明确沟通**：首先，找个合适的时机，以尊重和开放的态度与领导沟通。解释你的感受，例如你可能觉得过度的压力影响了工作质量或者个人的创新空间。表明你理解他们的期望，但需要找到一个平衡点。\\\\n\\\\n2. **设定界限**：设定个人的工作节奏和优先级。告诉他们你的工作时间，以及你最高效的工作时段，这样他们能更好地理解何时是最佳的沟通和推动时间。\\\\n\\\\n3. **时间管理**：提升自己的时间管理能力，提前规划和设定目标，这样可以减少领导的催促。完成任务清单并定期更新进度，让他们看到你的主动性和责任感。\\\\n\\\\n4. **寻求支持**：如果可能，寻求团队内的支持，让其他同事分担一些工作，或者寻求同事的反馈，看看他们是否也有类似的感受。\\\\n\\\\n5. **反馈机制**：了解公司的反馈流程，如果push行为违反了公司政策，可以向上级或人力资源部门反映。\\\\n\\\\n6. **保持专业**：即使在压力下，也要保持专业，不要让情绪影响工作。保持冷静，用事实和数据支持你的观点。\\\\n\\\\n7. **寻求辅导**：如果push行为是由于领导的管理风格，可能需要寻求职业辅导，学习如何与这样的领导有效沟通和合作。\\\\n\\\\n记住，良好的工作关系是双向的，你需要表达自己的需求，同时也要尊重领导的视角。\"}', 'node_exe_cost': '0.778s', 'raw_output': '', 'extra': '', 'token_and_cost': {'input_tokens': '692 Tokens', 'input_cost': '$0.0', 'output_tokens': '692 Tokens', 'output_cost': '$0.0', 'total_tokens': '1384 Tokens', 'total_cost': '$0.0'}}]}, 'status': None, 'task': {'id': '13443389120', 'href': 'api/v1/task/13443389120'}, 'session_id': 'NTAL4A:f3aaf159339ee083888f7dac535b999b4911b7c810d8e6937cadd43d88b91e8b', 'backend': 'anyio'}\n"
     ]
    }
   ],
   "source": [
    "import requests\n",
    "from typing import Optional\n",
    "\n",
    "BASE_API_URL = \"http://127.0.0.1:7860/api/v1/process\"\n",
    "FLOW_ID = \"b65a2d62-db47-4a4c-b4df-d85e81f4f2a6\"\n",
    "# You can tweak the flow by adding a tweaks dictionary\n",
    "# e.g {\"OpenAI-XXXXX\": {\"model_name\": \"gpt-4\"}}\n",
    "TWEAKS = {\n",
    "  \"WorkflowStart-eEGMY\": {},\n",
    "  \"WorkflowTool-3WRtH\": {},\n",
    "  \"WorkflowLLM-iFv4U\": {},\n",
    "  \"WorkflowTool-FM5Yd\": {},\n",
    "  \"WorkflowEnd-N9mnV\": {},\n",
    "  \"WorkflowLLM-6qrok\": {}\n",
    "}\n",
    "\n",
    "def run_flow(inputs: dict, flow_id: str, tweaks: Optional[dict] = None, api_key: Optional[str] = None) -> dict:\n",
    "    \"\"\"\n",
    "    Run a flow with a given message and optional tweaks.\n",
    "\n",
    "    :param message: The message to send to the flow\n",
    "    :param flow_id: The ID of the flow to run\n",
    "    :param tweaks: Optional tweaks to customize the flow\n",
    "    :return: The JSON response from the flow\n",
    "    \"\"\"\n",
    "    api_url = f\"{BASE_API_URL}/{flow_id}\"\n",
    "\n",
    "    payload = {\"inputs\": inputs}\n",
    "    headers = None\n",
    "    if tweaks:\n",
    "        payload[\"tweaks\"] = tweaks\n",
    "    if api_key:\n",
    "        headers = {\"x-api-key\": api_key}\n",
    "    response = requests.post(api_url, json=payload, headers=headers)\n",
    "    return response.json()\n",
    "\n",
    "# Setup any tweaks you want to apply to the flow\n",
    "inputs = {\"input\": \"message\"}\n",
    "api_key = \"sk-ral5pIAy5C5lhb9hJuZ1YSdt_3HwA5zfO8j2JxVJPMg\"\n",
    "print(run_flow(inputs, flow_id=FLOW_ID, tweaks=TWEAKS, api_key=api_key))"
   ]
  },
  {
   "cell_type": "code",
   "execution_count": null,
   "metadata": {},
   "outputs": [],
   "source": []
  }
 ],
 "metadata": {
  "kernelspec": {
   "display_name": "langflow",
   "language": "python",
   "name": "python3"
  },
  "language_info": {
   "codemirror_mode": {
    "name": "ipython",
    "version": 3
   },
   "file_extension": ".py",
   "mimetype": "text/x-python",
   "name": "python",
   "nbconvert_exporter": "python",
   "pygments_lexer": "ipython3",
   "version": "3.10.14"
  }
 },
 "nbformat": 4,
 "nbformat_minor": 2
}
